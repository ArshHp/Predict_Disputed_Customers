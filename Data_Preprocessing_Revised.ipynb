{
 "cells": [
  {
   "cell_type": "markdown",
   "metadata": {},
   "source": [
    "# Steps performed :\n",
    "\n",
    "1. Clean the given dataset : Handle missing values \n",
    "2. Identify duplicates by reconsidering selective features\n",
    "3. Identify Data Imbalance problem\n",
    "4. Look into the dataset for feature engineering and try to solve data imbalance issues by right feature selection. \n",
    "5. Derive new features for machine learning model \n",
    "6. Create a new dataset for further processing "
   ]
  },
  {
   "cell_type": "markdown",
   "metadata": {},
   "source": [
    "# Pre-requisite:\n",
    "    Ensure datafolder and required csv datafile is in place before running the code. "
   ]
  },
  {
   "cell_type": "code",
   "execution_count": 1,
   "metadata": {},
   "outputs": [],
   "source": [
    "#Modify the directory & File name based on your local paths & file name\n",
    "dataFolder = \"C:/Users/shaaruns.CORPDOM/Documents/BITS_Assignments/Module-7/Gr20_Cap4_Sourcecode/Grp20_Cohert3_Final_Submission\"\n",
    "datafile = \"Input_Dataset/BaseData_complain_Hist.csv\""
   ]
  },
  {
   "cell_type": "markdown",
   "metadata": {},
   "source": [
    "### Import Libraries"
   ]
  },
  {
   "cell_type": "code",
   "execution_count": 2,
   "metadata": {},
   "outputs": [
    {
     "name": "stdout",
     "output_type": "stream",
     "text": [
      "pandas  : 0.25.1\n",
      "numpy   : 1.19.4\n",
      "matplotlib : 3.1.1\n",
      "seaborn : 0.9.0\n"
     ]
    }
   ],
   "source": [
    "#import libraries\n",
    "import pandas as pd\n",
    "print('pandas  : {}'.format(pd.__version__)) \n",
    "import numpy as np\n",
    "print ('numpy   : {}'.format(np.__version__))\n",
    "import matplotlib.pyplot as plt\n",
    "import matplotlib\n",
    "print ('matplotlib : {}'.format(matplotlib.__version__))\n",
    "import seaborn as sns\n",
    "print ('seaborn : {}'.format(sns.__version__))\n"
   ]
  },
  {
   "cell_type": "code",
   "execution_count": 3,
   "metadata": {},
   "outputs": [],
   "source": [
    "#Read input dataset \n",
    "dataset_Raw = pd.read_csv(dataFolder+'/'+ datafile)"
   ]
  },
  {
   "cell_type": "code",
   "execution_count": 4,
   "metadata": {},
   "outputs": [
    {
     "data": {
      "text/html": [
       "<div>\n",
       "<style scoped>\n",
       "    .dataframe tbody tr th:only-of-type {\n",
       "        vertical-align: middle;\n",
       "    }\n",
       "\n",
       "    .dataframe tbody tr th {\n",
       "        vertical-align: top;\n",
       "    }\n",
       "\n",
       "    .dataframe thead th {\n",
       "        text-align: right;\n",
       "    }\n",
       "</style>\n",
       "<table border=\"1\" class=\"dataframe\">\n",
       "  <thead>\n",
       "    <tr style=\"text-align: right;\">\n",
       "      <th></th>\n",
       "      <th>Date received</th>\n",
       "      <th>Product</th>\n",
       "      <th>Sub-product</th>\n",
       "      <th>Issue</th>\n",
       "      <th>Sub-issue</th>\n",
       "      <th>Consumer complaint narrative</th>\n",
       "      <th>Company public response</th>\n",
       "      <th>Company</th>\n",
       "      <th>State</th>\n",
       "      <th>ZIP code</th>\n",
       "      <th>Tags</th>\n",
       "      <th>Consumer consent provided?</th>\n",
       "      <th>Submitted via</th>\n",
       "      <th>Date sent to company</th>\n",
       "      <th>Company response to consumer</th>\n",
       "      <th>Timely response?</th>\n",
       "      <th>Consumer disputed?</th>\n",
       "      <th>Complaint ID</th>\n",
       "    </tr>\n",
       "  </thead>\n",
       "  <tbody>\n",
       "    <tr>\n",
       "      <td>0</td>\n",
       "      <td>2015-04-26</td>\n",
       "      <td>Bank account or service</td>\n",
       "      <td>Other bank product/service</td>\n",
       "      <td>Deposits and withdrawals</td>\n",
       "      <td>NaN</td>\n",
       "      <td>RE : XXXX XXXX XXXX-PRIVILEGED AND CONFIDENTIA...</td>\n",
       "      <td>NaN</td>\n",
       "      <td>Wells Fargo &amp; Company</td>\n",
       "      <td>GA</td>\n",
       "      <td>319XX</td>\n",
       "      <td>NaN</td>\n",
       "      <td>Consent provided</td>\n",
       "      <td>Web</td>\n",
       "      <td>2015-04-26</td>\n",
       "      <td>Closed with explanation</td>\n",
       "      <td>Yes</td>\n",
       "      <td>Yes</td>\n",
       "      <td>1347613</td>\n",
       "    </tr>\n",
       "    <tr>\n",
       "      <td>1</td>\n",
       "      <td>2015-01-30</td>\n",
       "      <td>Debt collection</td>\n",
       "      <td>Medical</td>\n",
       "      <td>Disclosure verification of debt</td>\n",
       "      <td>Not given enough info to verify debt</td>\n",
       "      <td>NaN</td>\n",
       "      <td>NaN</td>\n",
       "      <td>HCFS Health Care Financial Services, Inc.</td>\n",
       "      <td>CA</td>\n",
       "      <td>90036</td>\n",
       "      <td>NaN</td>\n",
       "      <td>NaN</td>\n",
       "      <td>Web</td>\n",
       "      <td>2015-01-30</td>\n",
       "      <td>Closed with explanation</td>\n",
       "      <td>Yes</td>\n",
       "      <td>Yes</td>\n",
       "      <td>1218613</td>\n",
       "    </tr>\n",
       "    <tr>\n",
       "      <td>2</td>\n",
       "      <td>2014-01-10</td>\n",
       "      <td>Credit card</td>\n",
       "      <td>NaN</td>\n",
       "      <td>APR or interest rate</td>\n",
       "      <td>NaN</td>\n",
       "      <td>NaN</td>\n",
       "      <td>NaN</td>\n",
       "      <td>TD Bank US Holding Company</td>\n",
       "      <td>FL</td>\n",
       "      <td>33180</td>\n",
       "      <td>NaN</td>\n",
       "      <td>NaN</td>\n",
       "      <td>Web</td>\n",
       "      <td>2014-01-15</td>\n",
       "      <td>Closed with explanation</td>\n",
       "      <td>Yes</td>\n",
       "      <td>Yes</td>\n",
       "      <td>663281</td>\n",
       "    </tr>\n",
       "    <tr>\n",
       "      <td>3</td>\n",
       "      <td>2015-12-07</td>\n",
       "      <td>Credit card</td>\n",
       "      <td>NaN</td>\n",
       "      <td>Payoff process</td>\n",
       "      <td>NaN</td>\n",
       "      <td>NaN</td>\n",
       "      <td>NaN</td>\n",
       "      <td>Capital One</td>\n",
       "      <td>IL</td>\n",
       "      <td>60610</td>\n",
       "      <td>NaN</td>\n",
       "      <td>Consent not provided</td>\n",
       "      <td>Web</td>\n",
       "      <td>2015-12-07</td>\n",
       "      <td>Closed with explanation</td>\n",
       "      <td>Yes</td>\n",
       "      <td>Yes</td>\n",
       "      <td>1685130</td>\n",
       "    </tr>\n",
       "    <tr>\n",
       "      <td>4</td>\n",
       "      <td>2012-04-05</td>\n",
       "      <td>Bank account or service</td>\n",
       "      <td>Checking account</td>\n",
       "      <td>Deposits and withdrawals</td>\n",
       "      <td>NaN</td>\n",
       "      <td>NaN</td>\n",
       "      <td>NaN</td>\n",
       "      <td>Citizens Financial Group, Inc.</td>\n",
       "      <td>PA</td>\n",
       "      <td>18337</td>\n",
       "      <td>NaN</td>\n",
       "      <td>NaN</td>\n",
       "      <td>Web</td>\n",
       "      <td>2012-04-05</td>\n",
       "      <td>Closed with relief</td>\n",
       "      <td>Yes</td>\n",
       "      <td>Yes</td>\n",
       "      <td>44225</td>\n",
       "    </tr>\n",
       "  </tbody>\n",
       "</table>\n",
       "</div>"
      ],
      "text/plain": [
       "  Date received                  Product                 Sub-product  \\\n",
       "0    2015-04-26  Bank account or service  Other bank product/service   \n",
       "1    2015-01-30          Debt collection                     Medical   \n",
       "2    2014-01-10              Credit card                         NaN   \n",
       "3    2015-12-07              Credit card                         NaN   \n",
       "4    2012-04-05  Bank account or service            Checking account   \n",
       "\n",
       "                             Issue                             Sub-issue  \\\n",
       "0         Deposits and withdrawals                                   NaN   \n",
       "1  Disclosure verification of debt  Not given enough info to verify debt   \n",
       "2             APR or interest rate                                   NaN   \n",
       "3                   Payoff process                                   NaN   \n",
       "4         Deposits and withdrawals                                   NaN   \n",
       "\n",
       "                        Consumer complaint narrative Company public response  \\\n",
       "0  RE : XXXX XXXX XXXX-PRIVILEGED AND CONFIDENTIA...                     NaN   \n",
       "1                                                NaN                     NaN   \n",
       "2                                                NaN                     NaN   \n",
       "3                                                NaN                     NaN   \n",
       "4                                                NaN                     NaN   \n",
       "\n",
       "                                     Company State ZIP code Tags  \\\n",
       "0                      Wells Fargo & Company    GA    319XX  NaN   \n",
       "1  HCFS Health Care Financial Services, Inc.    CA    90036  NaN   \n",
       "2                 TD Bank US Holding Company    FL    33180  NaN   \n",
       "3                                Capital One    IL    60610  NaN   \n",
       "4             Citizens Financial Group, Inc.    PA    18337  NaN   \n",
       "\n",
       "  Consumer consent provided? Submitted via Date sent to company  \\\n",
       "0           Consent provided           Web           2015-04-26   \n",
       "1                        NaN           Web           2015-01-30   \n",
       "2                        NaN           Web           2014-01-15   \n",
       "3       Consent not provided           Web           2015-12-07   \n",
       "4                        NaN           Web           2012-04-05   \n",
       "\n",
       "  Company response to consumer Timely response? Consumer disputed?  \\\n",
       "0      Closed with explanation              Yes                Yes   \n",
       "1      Closed with explanation              Yes                Yes   \n",
       "2      Closed with explanation              Yes                Yes   \n",
       "3      Closed with explanation              Yes                Yes   \n",
       "4           Closed with relief              Yes                Yes   \n",
       "\n",
       "   Complaint ID  \n",
       "0       1347613  \n",
       "1       1218613  \n",
       "2        663281  \n",
       "3       1685130  \n",
       "4         44225  "
      ]
     },
     "execution_count": 4,
     "metadata": {},
     "output_type": "execute_result"
    }
   ],
   "source": [
    "# sample of dataset\n",
    "dataset_Raw.head()"
   ]
  },
  {
   "cell_type": "code",
   "execution_count": 5,
   "metadata": {},
   "outputs": [
    {
     "name": "stdout",
     "output_type": "stream",
     "text": [
      "<class 'pandas.core.frame.DataFrame'>\n",
      "RangeIndex: 274019 entries, 0 to 274018\n",
      "Data columns (total 18 columns):\n",
      "Date received                   274019 non-null object\n",
      "Product                         274019 non-null object\n",
      "Sub-product                     195350 non-null object\n",
      "Issue                           274019 non-null object\n",
      "Sub-issue                       105537 non-null object\n",
      "Consumer complaint narrative    43766 non-null object\n",
      "Company public response         51783 non-null object\n",
      "Company                         274019 non-null object\n",
      "State                           271827 non-null object\n",
      "ZIP code                        271820 non-null object\n",
      "Tags                            38506 non-null object\n",
      "Consumer consent provided?      78285 non-null object\n",
      "Submitted via                   274019 non-null object\n",
      "Date sent to company            274019 non-null object\n",
      "Company response to consumer    274019 non-null object\n",
      "Timely response?                274019 non-null object\n",
      "Consumer disputed?              274019 non-null object\n",
      "Complaint ID                    274019 non-null int64\n",
      "dtypes: int64(1), object(17)\n",
      "memory usage: 37.6+ MB\n"
     ]
    }
   ],
   "source": [
    "# dataset information\n",
    "dataset_Raw.info()"
   ]
  },
  {
   "cell_type": "markdown",
   "metadata": {},
   "source": [
    "Inference:\n",
    "\n",
    "There are 274019 records and 18 columns in the dataset\n",
    "\n",
    "Complaint ID is integer and other columns are object type\n",
    "\n",
    "Consumer Disputed? is a targe variable\n",
    "\n"
   ]
  },
  {
   "cell_type": "code",
   "execution_count": 6,
   "metadata": {},
   "outputs": [
    {
     "data": {
      "text/html": [
       "<div>\n",
       "<style scoped>\n",
       "    .dataframe tbody tr th:only-of-type {\n",
       "        vertical-align: middle;\n",
       "    }\n",
       "\n",
       "    .dataframe tbody tr th {\n",
       "        vertical-align: top;\n",
       "    }\n",
       "\n",
       "    .dataframe thead th {\n",
       "        text-align: right;\n",
       "    }\n",
       "</style>\n",
       "<table border=\"1\" class=\"dataframe\">\n",
       "  <thead>\n",
       "    <tr style=\"text-align: right;\">\n",
       "      <th></th>\n",
       "      <th>Complaint ID</th>\n",
       "    </tr>\n",
       "  </thead>\n",
       "  <tbody>\n",
       "    <tr>\n",
       "      <td>count</td>\n",
       "      <td>2.740190e+05</td>\n",
       "    </tr>\n",
       "    <tr>\n",
       "      <td>mean</td>\n",
       "      <td>1.045274e+06</td>\n",
       "    </tr>\n",
       "    <tr>\n",
       "      <td>std</td>\n",
       "      <td>5.963397e+05</td>\n",
       "    </tr>\n",
       "    <tr>\n",
       "      <td>min</td>\n",
       "      <td>5.000000e+00</td>\n",
       "    </tr>\n",
       "    <tr>\n",
       "      <td>25%</td>\n",
       "      <td>5.320385e+05</td>\n",
       "    </tr>\n",
       "    <tr>\n",
       "      <td>50%</td>\n",
       "      <td>1.066809e+06</td>\n",
       "    </tr>\n",
       "    <tr>\n",
       "      <td>75%</td>\n",
       "      <td>1.563406e+06</td>\n",
       "    </tr>\n",
       "    <tr>\n",
       "      <td>max</td>\n",
       "      <td>2.126221e+06</td>\n",
       "    </tr>\n",
       "  </tbody>\n",
       "</table>\n",
       "</div>"
      ],
      "text/plain": [
       "       Complaint ID\n",
       "count  2.740190e+05\n",
       "mean   1.045274e+06\n",
       "std    5.963397e+05\n",
       "min    5.000000e+00\n",
       "25%    5.320385e+05\n",
       "50%    1.066809e+06\n",
       "75%    1.563406e+06\n",
       "max    2.126221e+06"
      ]
     },
     "execution_count": 6,
     "metadata": {},
     "output_type": "execute_result"
    }
   ],
   "source": [
    "#describe the data but it is displaying only integer columns.\n",
    "dataset_Raw.describe()"
   ]
  },
  {
   "cell_type": "code",
   "execution_count": 7,
   "metadata": {},
   "outputs": [
    {
     "data": {
      "text/plain": [
       "Index(['Date received', 'Product', 'Sub-product', 'Issue', 'Sub-issue',\n",
       "       'Consumer complaint narrative', 'Company public response', 'Company',\n",
       "       'State', 'ZIP code', 'Tags', 'Consumer consent provided?',\n",
       "       'Submitted via', 'Date sent to company', 'Company response to consumer',\n",
       "       'Timely response?', 'Consumer disputed?', 'Complaint ID'],\n",
       "      dtype='object')"
      ]
     },
     "execution_count": 7,
     "metadata": {},
     "output_type": "execute_result"
    }
   ],
   "source": [
    "# columns available in the dataset\n",
    "dataset_Raw.columns"
   ]
  },
  {
   "cell_type": "code",
   "execution_count": 8,
   "metadata": {},
   "outputs": [
    {
     "data": {
      "text/plain": [
       "(274019, 18)"
      ]
     },
     "execution_count": 8,
     "metadata": {},
     "output_type": "execute_result"
    }
   ],
   "source": [
    "#shape of the data\n",
    "dataset_Raw.shape"
   ]
  },
  {
   "cell_type": "markdown",
   "metadata": {},
   "source": [
    "##### Funtion to identify missing values in column and the pecentage of missing"
   ]
  },
  {
   "cell_type": "code",
   "execution_count": 9,
   "metadata": {},
   "outputs": [],
   "source": [
    "#% of missing values in each column\n",
    "def find_missing_values_func(df):\n",
    "        mis_val = df.isnull().sum()\n",
    "        mis_val_percent = 100 * df.isnull().sum() / len(df)\n",
    "        mis_val_table = pd.concat([mis_val, mis_val_percent], axis=1)\n",
    "        mis_val_table_ren_columns = mis_val_table.rename(\n",
    "        columns = {0 : 'Missing Values', 1 : '% of Total Values'})\n",
    "        mis_val_table_ren_columns = mis_val_table_ren_columns[\n",
    "            mis_val_table_ren_columns.iloc[:,1] != 0].sort_values(\n",
    "        '% of Total Values', ascending=False).round(1)\n",
    "        print (\"Selected dataframe has \" + str(df.shape[1]) + \" columns.\\n\"      \n",
    "            \"There are \" + str(mis_val_table_ren_columns.shape[0]) +\n",
    "              \" columns that have missing values.\")\n",
    "        return mis_val_table_ren_columns"
   ]
  },
  {
   "cell_type": "code",
   "execution_count": 10,
   "metadata": {},
   "outputs": [
    {
     "name": "stdout",
     "output_type": "stream",
     "text": [
      "Selected dataframe has 18 columns.\n",
      "There are 8 columns that have missing values.\n",
      "                              Missing Values  % of Total Values\n",
      "Tags                                  235513               85.9\n",
      "Consumer complaint narrative          230253               84.0\n",
      "Company public response               222236               81.1\n",
      "Consumer consent provided?            195734               71.4\n",
      "Sub-issue                             168482               61.5\n",
      "Sub-product                            78669               28.7\n",
      "ZIP code                                2199                0.8\n",
      "State                                   2192                0.8\n"
     ]
    }
   ],
   "source": [
    "#Call the find_missing_values_func(df)\n",
    "columnsWiseMissingValue = find_missing_values_func(dataset_Raw) \n",
    "print(columnsWiseMissingValue)"
   ]
  },
  {
   "cell_type": "markdown",
   "metadata": {},
   "source": [
    "<b>Data Missingness:</b><br/>\n",
    "    \n",
    "Tags, Consumer complaint narrative, Company public response,Consumer consent provided?  and Sub-issue columns most of the data is missing. More than 60% of data is missing.Sub-product is missing around 28%."
   ]
  },
  {
   "cell_type": "markdown",
   "metadata": {},
   "source": [
    "<b>Issue:</b> Issue depends on both product and sub-product. Different products and sub-products have different issues.<br/>\n",
    "<b>Sub-Issue:</b> Sub-issue depends on product, sub-product and issue. Hence, it is likely that it will have more NaN values.<br/>\n",
    "<b>Customer complaint narrative:</b> We have large number of nan values in this column. The best possible explaination of this is that customer has not given or retracted his consent on making complaint public.<br/>\n",
    "\n",
    "Company public response  ---\n",
    "Consumer consent provided?--\n",
    "\n",
    "<b>Sub-product:</b> Every product doesn't have a subproduct. So we may have some NaN values in sub-product.<br/>"
   ]
  },
  {
   "cell_type": "markdown",
   "metadata": {},
   "source": [
    "# Handling Null Values by imputation"
   ]
  },
  {
   "cell_type": "code",
   "execution_count": 11,
   "metadata": {},
   "outputs": [],
   "source": [
    "#Filling text missing value by \"Missing\"\n",
    "missing_text_values = ['Tags', \n",
    "                       'Consumer complaint narrative', \n",
    "                       'Company public response',  \n",
    "                       'Consumer consent provided?' ,\n",
    "                       'Sub-issue', \n",
    "                       'Sub-product' ]\n",
    "\n",
    "#dataset_Raw = dataset_Raw[missing_text_values].fillna(value = \"Missing\",axis=1,inplace=False)\n",
    "# replacing na values in college with No college \n",
    "dataset_Raw[\"Tags\"].fillna(\"Missing\", inplace = True)\n",
    "dataset_Raw[\"Consumer complaint narrative\"].fillna(\"Missing\", inplace = True) \n",
    "dataset_Raw[\"Company public response\"].fillna(\"Missing\", inplace = True) \n",
    "dataset_Raw[\"Consumer consent provided?\"].fillna(\"Missing\", inplace = True) \n",
    "dataset_Raw[\"Sub-issue\"].fillna(\"Missing\", inplace = True) \n",
    "dataset_Raw[\"Sub-product\"].fillna(\"Missing\", inplace = True) \n"
   ]
  },
  {
   "cell_type": "code",
   "execution_count": 12,
   "metadata": {},
   "outputs": [
    {
     "data": {
      "text/plain": [
       "Index(['Date received', 'Product', 'Sub-product', 'Issue', 'Sub-issue',\n",
       "       'Consumer complaint narrative', 'Company public response', 'Company',\n",
       "       'State', 'ZIP code', 'Tags', 'Consumer consent provided?',\n",
       "       'Submitted via', 'Date sent to company', 'Company response to consumer',\n",
       "       'Timely response?', 'Consumer disputed?', 'Complaint ID'],\n",
       "      dtype='object')"
      ]
     },
     "execution_count": 12,
     "metadata": {},
     "output_type": "execute_result"
    }
   ],
   "source": [
    "dataset_Raw.columns"
   ]
  },
  {
   "cell_type": "code",
   "execution_count": 13,
   "metadata": {},
   "outputs": [],
   "source": [
    "# A logical imputation\n",
    "# Impute ZIP code & State with mode \n",
    "dataset_Raw['ZIP code']=dataset_Raw['ZIP code'].fillna(dataset_Raw['ZIP code'].mode()[0])\n",
    "dataset_Raw['State']=dataset_Raw['State'].fillna(dataset_Raw['State'].mode()[0])\n",
    "\n"
   ]
  },
  {
   "cell_type": "code",
   "execution_count": 14,
   "metadata": {},
   "outputs": [
    {
     "name": "stdout",
     "output_type": "stream",
     "text": [
      "Selected dataframe has 18 columns.\n",
      "There are 0 columns that have missing values.\n",
      "Empty DataFrame\n",
      "Columns: [Missing Values, % of Total Values]\n",
      "Index: []\n"
     ]
    }
   ],
   "source": [
    "#Call the find_missing_values_func(df)\n",
    "columnsWiseMissingValue = find_missing_values_func(dataset_Raw) \n",
    "print(columnsWiseMissingValue)"
   ]
  },
  {
   "cell_type": "code",
   "execution_count": 15,
   "metadata": {},
   "outputs": [
    {
     "data": {
      "text/html": [
       "<div>\n",
       "<style scoped>\n",
       "    .dataframe tbody tr th:only-of-type {\n",
       "        vertical-align: middle;\n",
       "    }\n",
       "\n",
       "    .dataframe tbody tr th {\n",
       "        vertical-align: top;\n",
       "    }\n",
       "\n",
       "    .dataframe thead th {\n",
       "        text-align: right;\n",
       "    }\n",
       "</style>\n",
       "<table border=\"1\" class=\"dataframe\">\n",
       "  <thead>\n",
       "    <tr style=\"text-align: right;\">\n",
       "      <th></th>\n",
       "      <th>Date received</th>\n",
       "      <th>Product</th>\n",
       "      <th>Sub-product</th>\n",
       "      <th>Issue</th>\n",
       "      <th>Sub-issue</th>\n",
       "      <th>Consumer complaint narrative</th>\n",
       "      <th>Company public response</th>\n",
       "      <th>Company</th>\n",
       "      <th>State</th>\n",
       "      <th>ZIP code</th>\n",
       "      <th>Tags</th>\n",
       "      <th>Consumer consent provided?</th>\n",
       "      <th>Submitted via</th>\n",
       "      <th>Date sent to company</th>\n",
       "      <th>Company response to consumer</th>\n",
       "      <th>Timely response?</th>\n",
       "      <th>Consumer disputed?</th>\n",
       "      <th>Complaint ID</th>\n",
       "    </tr>\n",
       "  </thead>\n",
       "  <tbody>\n",
       "    <tr>\n",
       "      <td>0</td>\n",
       "      <td>2015-04-26</td>\n",
       "      <td>Bank account or service</td>\n",
       "      <td>Other bank product/service</td>\n",
       "      <td>Deposits and withdrawals</td>\n",
       "      <td>Missing</td>\n",
       "      <td>RE : XXXX XXXX XXXX-PRIVILEGED AND CONFIDENTIA...</td>\n",
       "      <td>Missing</td>\n",
       "      <td>Wells Fargo &amp; Company</td>\n",
       "      <td>GA</td>\n",
       "      <td>319XX</td>\n",
       "      <td>Missing</td>\n",
       "      <td>Consent provided</td>\n",
       "      <td>Web</td>\n",
       "      <td>2015-04-26</td>\n",
       "      <td>Closed with explanation</td>\n",
       "      <td>Yes</td>\n",
       "      <td>Yes</td>\n",
       "      <td>1347613</td>\n",
       "    </tr>\n",
       "    <tr>\n",
       "      <td>1</td>\n",
       "      <td>2015-01-30</td>\n",
       "      <td>Debt collection</td>\n",
       "      <td>Medical</td>\n",
       "      <td>Disclosure verification of debt</td>\n",
       "      <td>Not given enough info to verify debt</td>\n",
       "      <td>Missing</td>\n",
       "      <td>Missing</td>\n",
       "      <td>HCFS Health Care Financial Services, Inc.</td>\n",
       "      <td>CA</td>\n",
       "      <td>90036</td>\n",
       "      <td>Missing</td>\n",
       "      <td>Missing</td>\n",
       "      <td>Web</td>\n",
       "      <td>2015-01-30</td>\n",
       "      <td>Closed with explanation</td>\n",
       "      <td>Yes</td>\n",
       "      <td>Yes</td>\n",
       "      <td>1218613</td>\n",
       "    </tr>\n",
       "    <tr>\n",
       "      <td>2</td>\n",
       "      <td>2014-01-10</td>\n",
       "      <td>Credit card</td>\n",
       "      <td>Missing</td>\n",
       "      <td>APR or interest rate</td>\n",
       "      <td>Missing</td>\n",
       "      <td>Missing</td>\n",
       "      <td>Missing</td>\n",
       "      <td>TD Bank US Holding Company</td>\n",
       "      <td>FL</td>\n",
       "      <td>33180</td>\n",
       "      <td>Missing</td>\n",
       "      <td>Missing</td>\n",
       "      <td>Web</td>\n",
       "      <td>2014-01-15</td>\n",
       "      <td>Closed with explanation</td>\n",
       "      <td>Yes</td>\n",
       "      <td>Yes</td>\n",
       "      <td>663281</td>\n",
       "    </tr>\n",
       "    <tr>\n",
       "      <td>3</td>\n",
       "      <td>2015-12-07</td>\n",
       "      <td>Credit card</td>\n",
       "      <td>Missing</td>\n",
       "      <td>Payoff process</td>\n",
       "      <td>Missing</td>\n",
       "      <td>Missing</td>\n",
       "      <td>Missing</td>\n",
       "      <td>Capital One</td>\n",
       "      <td>IL</td>\n",
       "      <td>60610</td>\n",
       "      <td>Missing</td>\n",
       "      <td>Consent not provided</td>\n",
       "      <td>Web</td>\n",
       "      <td>2015-12-07</td>\n",
       "      <td>Closed with explanation</td>\n",
       "      <td>Yes</td>\n",
       "      <td>Yes</td>\n",
       "      <td>1685130</td>\n",
       "    </tr>\n",
       "    <tr>\n",
       "      <td>4</td>\n",
       "      <td>2012-04-05</td>\n",
       "      <td>Bank account or service</td>\n",
       "      <td>Checking account</td>\n",
       "      <td>Deposits and withdrawals</td>\n",
       "      <td>Missing</td>\n",
       "      <td>Missing</td>\n",
       "      <td>Missing</td>\n",
       "      <td>Citizens Financial Group, Inc.</td>\n",
       "      <td>PA</td>\n",
       "      <td>18337</td>\n",
       "      <td>Missing</td>\n",
       "      <td>Missing</td>\n",
       "      <td>Web</td>\n",
       "      <td>2012-04-05</td>\n",
       "      <td>Closed with relief</td>\n",
       "      <td>Yes</td>\n",
       "      <td>Yes</td>\n",
       "      <td>44225</td>\n",
       "    </tr>\n",
       "  </tbody>\n",
       "</table>\n",
       "</div>"
      ],
      "text/plain": [
       "  Date received                  Product                 Sub-product  \\\n",
       "0    2015-04-26  Bank account or service  Other bank product/service   \n",
       "1    2015-01-30          Debt collection                     Medical   \n",
       "2    2014-01-10              Credit card                     Missing   \n",
       "3    2015-12-07              Credit card                     Missing   \n",
       "4    2012-04-05  Bank account or service            Checking account   \n",
       "\n",
       "                             Issue                             Sub-issue  \\\n",
       "0         Deposits and withdrawals                               Missing   \n",
       "1  Disclosure verification of debt  Not given enough info to verify debt   \n",
       "2             APR or interest rate                               Missing   \n",
       "3                   Payoff process                               Missing   \n",
       "4         Deposits and withdrawals                               Missing   \n",
       "\n",
       "                        Consumer complaint narrative Company public response  \\\n",
       "0  RE : XXXX XXXX XXXX-PRIVILEGED AND CONFIDENTIA...                 Missing   \n",
       "1                                            Missing                 Missing   \n",
       "2                                            Missing                 Missing   \n",
       "3                                            Missing                 Missing   \n",
       "4                                            Missing                 Missing   \n",
       "\n",
       "                                     Company State ZIP code     Tags  \\\n",
       "0                      Wells Fargo & Company    GA    319XX  Missing   \n",
       "1  HCFS Health Care Financial Services, Inc.    CA    90036  Missing   \n",
       "2                 TD Bank US Holding Company    FL    33180  Missing   \n",
       "3                                Capital One    IL    60610  Missing   \n",
       "4             Citizens Financial Group, Inc.    PA    18337  Missing   \n",
       "\n",
       "  Consumer consent provided? Submitted via Date sent to company  \\\n",
       "0           Consent provided           Web           2015-04-26   \n",
       "1                    Missing           Web           2015-01-30   \n",
       "2                    Missing           Web           2014-01-15   \n",
       "3       Consent not provided           Web           2015-12-07   \n",
       "4                    Missing           Web           2012-04-05   \n",
       "\n",
       "  Company response to consumer Timely response? Consumer disputed?  \\\n",
       "0      Closed with explanation              Yes                Yes   \n",
       "1      Closed with explanation              Yes                Yes   \n",
       "2      Closed with explanation              Yes                Yes   \n",
       "3      Closed with explanation              Yes                Yes   \n",
       "4           Closed with relief              Yes                Yes   \n",
       "\n",
       "   Complaint ID  \n",
       "0       1347613  \n",
       "1       1218613  \n",
       "2        663281  \n",
       "3       1685130  \n",
       "4         44225  "
      ]
     },
     "execution_count": 15,
     "metadata": {},
     "output_type": "execute_result"
    }
   ],
   "source": [
    "dataset_Raw.head()"
   ]
  },
  {
   "cell_type": "code",
   "execution_count": 16,
   "metadata": {},
   "outputs": [
    {
     "data": {
      "image/png": "[encoded data removed]",
      "text/plain": [
       "<Figure size 432x288 with 1 Axes>"
      ]
     },
     "metadata": {
      "needs_background": "light"
     },
     "output_type": "display_data"
    }
   ],
   "source": [
    "import seaborn as sns\n",
    "from sklearn.model_selection import train_test_split\n",
    "y = dataset_Raw['Consumer disputed?'].values\n",
    "p_ComplaintID = dataset_Raw['Complaint ID'].values\n",
    "# Split the dataframe 80:20 preserve the distribution of class - use stratify\n",
    "\n",
    "X_train, X_test, y_train, y_test , trainComplaintID , valComplaintID = train_test_split(dataset_Raw, y, p_ComplaintID , test_size = 0.3,random_state = 17 , stratify = dataset_Raw['Consumer disputed?'])\n",
    "ColsDrop = ['Consumer disputed?' , 'Complaint ID']\n",
    "x_train = dataset_Raw.drop(ColsDrop, axis = 1)\n",
    "sns.countplot(x=y_train, palette='seismic');"
   ]
  },
  {
   "cell_type": "markdown",
   "metadata": {},
   "source": [
    "# Type of Issues where maximum Sub-Issues & Sub-product fields are missing"
   ]
  },
  {
   "cell_type": "code",
   "execution_count": null,
   "metadata": {},
   "outputs": [],
   "source": []
  },
  {
   "cell_type": "code",
   "execution_count": 17,
   "metadata": {},
   "outputs": [
    {
     "name": "stdout",
     "output_type": "stream",
     "text": [
      "Numbers of Products : 12\n",
      "                    Product  Company\n",
      "0                  Mortgage    90450\n",
      "1           Debt collection    49350\n",
      "2          Credit reporting    45714\n",
      "3               Credit card    32955\n",
      "4   Bank account or service    30933\n",
      "5             Consumer Loan    10718\n",
      "6              Student loan     8630\n",
      "7           Money transfers     1866\n",
      "8               Payday loan     1843\n",
      "9              Prepaid card     1253\n",
      "10  Other financial service      302\n",
      "11         Virtual currency        5\n"
     ]
    }
   ],
   "source": [
    "#no.of issues count by product and company\n",
    "temp = dataset_Raw[['Product','Company']].groupby(['Product']).count()\n",
    "temp = temp.sort_values(by='Company',ascending=False)\n",
    "temp = temp.reset_index(drop = False)\n",
    "companies = temp['Company'].value_counts()\n",
    "print('Numbers of Products : {}'.format(len(companies)))\n",
    "print (temp)"
   ]
  },
  {
   "cell_type": "markdown",
   "metadata": {},
   "source": [
    "Lets consider Top 7 Product for further data analysis"
   ]
  },
  {
   "cell_type": "raw",
   "metadata": {},
   "source": [
    "Drop the records other than top7\n",
    "        Mortgage    90450\n",
    "1       Debt collection    49350\n",
    "2       Credit reporting    45714\n",
    "3       Credit card    32955\n",
    "4       Bank account or service    30933\n",
    "5       Consumer Loan    10718\n",
    "6       Student loan     8630"
   ]
  },
  {
   "cell_type": "code",
   "execution_count": 18,
   "metadata": {},
   "outputs": [],
   "source": [
    "#List of product values to drop\n",
    "drop_val = ['Money transfers','Payday loan','Prepaid card','Other financial service','Virtual currency']\n",
    "dataset_Raw = dataset_Raw[~dataset_Raw['Product'].isin(drop_val)]\n"
   ]
  },
  {
   "cell_type": "code",
   "execution_count": 19,
   "metadata": {},
   "outputs": [
    {
     "data": {
      "text/plain": [
       "Index(['Date received', 'Product', 'Sub-product', 'Issue', 'Sub-issue',\n",
       "       'Consumer complaint narrative', 'Company public response', 'Company',\n",
       "       'State', 'ZIP code', 'Tags', 'Consumer consent provided?',\n",
       "       'Submitted via', 'Date sent to company', 'Company response to consumer',\n",
       "       'Timely response?', 'Consumer disputed?', 'Complaint ID'],\n",
       "      dtype='object')"
      ]
     },
     "execution_count": 19,
     "metadata": {},
     "output_type": "execute_result"
    }
   ],
   "source": [
    "dataset_Raw.columns"
   ]
  },
  {
   "cell_type": "code",
   "execution_count": 20,
   "metadata": {},
   "outputs": [
    {
     "name": "stdout",
     "output_type": "stream",
     "text": [
      "Numbers of Products : 7\n",
      "                   Product  Company\n",
      "0                 Mortgage    90450\n",
      "1          Debt collection    49350\n",
      "2         Credit reporting    45714\n",
      "3              Credit card    32955\n",
      "4  Bank account or service    30933\n",
      "5            Consumer Loan    10718\n",
      "6             Student loan     8630\n"
     ]
    }
   ],
   "source": [
    "#no.of issues count by product and company\n",
    "temp = dataset_Raw[['Product','Company']].groupby(['Product']).count()\n",
    "temp = temp.sort_values(by='Company',ascending=False)\n",
    "temp = temp.reset_index(drop = False)\n",
    "companies = temp['Company'].value_counts()\n",
    "print('Numbers of Products : {}'.format(len(companies)))\n",
    "print (temp)"
   ]
  },
  {
   "cell_type": "code",
   "execution_count": 21,
   "metadata": {},
   "outputs": [
    {
     "data": {
      "text/plain": [
       "(268750, 18)"
      ]
     },
     "execution_count": 21,
     "metadata": {},
     "output_type": "execute_result"
    }
   ],
   "source": [
    "dataset_Raw.shape"
   ]
  },
  {
   "cell_type": "code",
   "execution_count": 22,
   "metadata": {},
   "outputs": [
    {
     "data": {
      "image/png": "[encoded data removed]",
      "text/plain": [
       "<Figure size 432x288 with 1 Axes>"
      ]
     },
     "metadata": {
      "needs_background": "light"
     },
     "output_type": "display_data"
    }
   ],
   "source": [
    "import seaborn as sns\n",
    "from sklearn.model_selection import train_test_split\n",
    "y = dataset_Raw['Consumer disputed?'].values\n",
    "p_ComplaintID = dataset_Raw['Complaint ID'].values\n",
    "# Split the dataframe 80:20 preserve the distribution of class - use stratify\n",
    "\n",
    "X_train, X_test, y_train, y_test , trainComplaintID , valComplaintID = train_test_split(dataset_Raw, y, p_ComplaintID , test_size = 0.3,random_state = 17 , stratify = dataset_Raw['Consumer disputed?'])\n",
    "ColsDrop = ['Consumer disputed?' , 'Complaint ID']\n",
    "x_train = dataset_Raw.drop(ColsDrop, axis = 1)\n",
    "sns.countplot(x=y_train, palette='seismic');"
   ]
  },
  {
   "cell_type": "markdown",
   "metadata": {},
   "source": [
    "Inference : Class Imbalance Problem, Lets see if we can solve using data cleanup"
   ]
  },
  {
   "cell_type": "markdown",
   "metadata": {},
   "source": [
    "# Check duplicate rows in case of any\n",
    "### Check duplicate Complaint ID and delete last and keep first    ( to be checked)"
   ]
  },
  {
   "cell_type": "code",
   "execution_count": 23,
   "metadata": {},
   "outputs": [
    {
     "data": {
      "text/plain": [
       "Index(['Date received', 'Product', 'Sub-product', 'Issue', 'Sub-issue',\n",
       "       'Consumer complaint narrative', 'Company public response', 'Company',\n",
       "       'State', 'ZIP code', 'Tags', 'Consumer consent provided?',\n",
       "       'Submitted via', 'Date sent to company', 'Company response to consumer',\n",
       "       'Timely response?', 'Consumer disputed?', 'Complaint ID'],\n",
       "      dtype='object')"
      ]
     },
     "execution_count": 23,
     "metadata": {},
     "output_type": "execute_result"
    }
   ],
   "source": [
    "dataset_Raw.columns"
   ]
  },
  {
   "cell_type": "code",
   "execution_count": 24,
   "metadata": {},
   "outputs": [
    {
     "name": "stdout",
     "output_type": "stream",
     "text": [
      "Duplicate Rows except first occurrence based on all columns are :\n",
      "                 Product     Sub-product  \\\n",
      "393             Mortgage  Other mortgage   \n",
      "815     Credit reporting         Missing   \n",
      "1690    Credit reporting         Missing   \n",
      "2060    Credit reporting         Missing   \n",
      "2661    Credit reporting         Missing   \n",
      "...                  ...             ...   \n",
      "273984  Credit reporting         Missing   \n",
      "273996  Credit reporting         Missing   \n",
      "274000  Credit reporting         Missing   \n",
      "274001          Mortgage  Other mortgage   \n",
      "274012  Credit reporting         Missing   \n",
      "\n",
      "                                           Issue                Company  \\\n",
      "393     Loan servicing, payments, escrow account  Wells Fargo & Company   \n",
      "815       Incorrect information on credit report               Experian   \n",
      "1690      Incorrect information on credit report               Experian   \n",
      "2060      Incorrect information on credit report                Equifax   \n",
      "2661      Incorrect information on credit report                Equifax   \n",
      "...                                          ...                    ...   \n",
      "273984    Incorrect information on credit report                Equifax   \n",
      "273996  Unable to get credit report/credit score               Experian   \n",
      "274000    Incorrect information on credit report               Experian   \n",
      "274001  Loan modification,collection,foreclosure        Bank of America   \n",
      "274012    Incorrect information on credit report               Experian   \n",
      "\n",
      "           Company response to consumer Consumer disputed?  \\\n",
      "393             Closed with explanation                Yes   \n",
      "815             Closed with explanation                Yes   \n",
      "1690    Closed with non-monetary relief                Yes   \n",
      "2060            Closed with explanation                Yes   \n",
      "2661            Closed with explanation                Yes   \n",
      "...                                 ...                ...   \n",
      "273984          Closed with explanation                 No   \n",
      "273996  Closed with non-monetary relief                 No   \n",
      "274000          Closed with explanation                 No   \n",
      "274001          Closed with explanation                 No   \n",
      "274012          Closed with explanation                 No   \n",
      "\n",
      "       Consumer complaint narrative  \\\n",
      "393                         Missing   \n",
      "815                         Missing   \n",
      "1690                        Missing   \n",
      "2060                        Missing   \n",
      "2661                        Missing   \n",
      "...                             ...   \n",
      "273984                      Missing   \n",
      "273996                      Missing   \n",
      "274000                      Missing   \n",
      "274001                      Missing   \n",
      "274012                      Missing   \n",
      "\n",
      "                                  Company public response Submitted via  \\\n",
      "393                                               Missing      Referral   \n",
      "815     Company has responded to the consumer and the ...           Web   \n",
      "1690                                              Missing           Web   \n",
      "2060                                              Missing           Web   \n",
      "2661                                              Missing           Web   \n",
      "...                                                   ...           ...   \n",
      "273984                                            Missing           Web   \n",
      "273996   Company chooses not to provide a public response           Web   \n",
      "274000  Company has responded to the consumer and the ...           Web   \n",
      "274001                                            Missing      Referral   \n",
      "274012                                            Missing           Web   \n",
      "\n",
      "       Date sent to company  \n",
      "393              2013-06-12  \n",
      "815              2016-06-20  \n",
      "1690             2014-08-26  \n",
      "2060             2014-02-12  \n",
      "2661             2014-02-27  \n",
      "...                     ...  \n",
      "273984           2016-06-27  \n",
      "273996           2015-05-26  \n",
      "274000           2016-04-23  \n",
      "274001           2014-02-06  \n",
      "274012           2014-02-27  \n",
      "\n",
      "[26637 rows x 10 columns]\n"
     ]
    }
   ],
   "source": [
    "selected_columns = dataset_Raw[[\"Product\",\"Sub-product\",\"Issue\",\"Company\",\"Company response to consumer\",\n",
    "                               \"Consumer disputed?\",\"Consumer complaint narrative\",\"Company public response\",\n",
    "                               \"Submitted via\",\"Date sent to company\"]] \n",
    "duplicateRowsDF = selected_columns[selected_columns.duplicated()]\n",
    "print(\"Duplicate Rows except first occurrence based on all columns are :\")\n",
    "print(duplicateRowsDF)\n",
    "\n",
    "#duplicateRowsDF = dataset_Raw[dataset_Raw.duplicated('Complaint ID')]\n",
    "#print(\"Duplicate Rows except first occurrence based on Complaint ID column are :\")\n",
    "#print(duplicateRowsDF)"
   ]
  },
  {
   "cell_type": "code",
   "execution_count": 25,
   "metadata": {},
   "outputs": [],
   "source": [
    "#Dropping duplicates based on below subset of columns\n",
    "dataset_Raw.drop_duplicates(subset=[\"Product\",\"Sub-product\",\"Issue\",\"Company\",\"Company response to consumer\",\n",
    "                               \"Consumer disputed?\",\"Consumer complaint narrative\",\"Company public response\",\n",
    "                               \"Submitted via\",\"Date sent to company\"], keep='last',inplace=True)"
   ]
  },
  {
   "cell_type": "code",
   "execution_count": 26,
   "metadata": {},
   "outputs": [
    {
     "data": {
      "text/plain": [
       "(242113, 18)"
      ]
     },
     "execution_count": 26,
     "metadata": {},
     "output_type": "execute_result"
    }
   ],
   "source": [
    "dataset_Raw.shape"
   ]
  },
  {
   "cell_type": "code",
   "execution_count": 27,
   "metadata": {},
   "outputs": [
    {
     "data": {
      "image/png": "[encoded data removed]",
      "text/plain": [
       "<Figure size 432x288 with 1 Axes>"
      ]
     },
     "metadata": {
      "needs_background": "light"
     },
     "output_type": "display_data"
    }
   ],
   "source": [
    "y = dataset_Raw['Consumer disputed?'].values\n",
    "p_ComplaintID = dataset_Raw['Complaint ID'].values\n",
    "# Split the dataframe 80:20 preserve the distribution of class - use stratify\n",
    "\n",
    "X_train, X_test, y_train, y_test , trainComplaintID , valComplaintID = train_test_split(dataset_Raw, y, p_ComplaintID , test_size = 0.3,random_state = 17 , stratify = dataset_Raw['Consumer disputed?'])\n",
    "ColsDrop = ['Consumer disputed?' , 'Complaint ID']\n",
    "x_train = dataset_Raw.drop(ColsDrop, axis = 1)\n",
    "sns.countplot(x=y_train, palette='seismic');"
   ]
  },
  {
   "cell_type": "code",
   "execution_count": 28,
   "metadata": {},
   "outputs": [
    {
     "name": "stdout",
     "output_type": "stream",
     "text": [
      "Date received : 1758\n",
      "Product : 7\n",
      "Sub-product : 30\n",
      "Issue : 76\n",
      "Sub-issue : 61\n",
      "Consumer complaint narrative : 41955\n",
      "Company public response : 11\n",
      "Company : 2792\n",
      "State : 62\n",
      "ZIP code : 21759\n",
      "Tags : 4\n",
      "Consumer consent provided? : 5\n",
      "Submitted via : 6\n",
      "Date sent to company : 1696\n",
      "Company response to consumer : 6\n",
      "Timely response? : 2\n",
      "Consumer disputed? : 2\n"
     ]
    }
   ],
   "source": [
    "for i in dataset_Raw.select_dtypes(['object']).columns:\n",
    "    print (i,\":\",dataset_Raw[i].nunique())"
   ]
  },
  {
   "cell_type": "markdown",
   "metadata": {},
   "source": [
    "# Lets see on sub-issues and sub-products for further data inisghts "
   ]
  },
  {
   "cell_type": "code",
   "execution_count": 29,
   "metadata": {},
   "outputs": [
    {
     "name": "stdout",
     "output_type": "stream",
     "text": [
      "<class 'pandas.core.frame.DataFrame'>\n",
      "Int64Index: 242113 entries, 0 to 274018\n",
      "Data columns (total 18 columns):\n",
      "Date received                   242113 non-null object\n",
      "Product                         242113 non-null object\n",
      "Sub-product                     242113 non-null object\n",
      "Issue                           242113 non-null object\n",
      "Sub-issue                       242113 non-null object\n",
      "Consumer complaint narrative    242113 non-null object\n",
      "Company public response         242113 non-null object\n",
      "Company                         242113 non-null object\n",
      "State                           242113 non-null object\n",
      "ZIP code                        242113 non-null object\n",
      "Tags                            242113 non-null object\n",
      "Consumer consent provided?      242113 non-null object\n",
      "Submitted via                   242113 non-null object\n",
      "Date sent to company            242113 non-null object\n",
      "Company response to consumer    242113 non-null object\n",
      "Timely response?                242113 non-null object\n",
      "Consumer disputed?              242113 non-null object\n",
      "Complaint ID                    242113 non-null int64\n",
      "dtypes: int64(1), object(17)\n",
      "memory usage: 35.1+ MB\n"
     ]
    }
   ],
   "source": [
    "dataset_Raw.info()"
   ]
  },
  {
   "cell_type": "markdown",
   "metadata": {},
   "source": [
    "Inference : Dates are not in Date Time Format"
   ]
  },
  {
   "cell_type": "code",
   "execution_count": 30,
   "metadata": {},
   "outputs": [],
   "source": [
    "dataset_Raw['Date received'] = pd.to_datetime(dataset_Raw['Date received'])\n",
    "dataset_Raw['Date sent to company'] = pd.to_datetime(dataset_Raw['Date sent to company'])"
   ]
  },
  {
   "cell_type": "code",
   "execution_count": 31,
   "metadata": {},
   "outputs": [
    {
     "name": "stdout",
     "output_type": "stream",
     "text": [
      "Unique Compliant Narrative exists\n"
     ]
    }
   ],
   "source": [
    "#Check for duplicate exact Consumer complaint narrative\n",
    "if (dataset_Raw['Consumer complaint narrative'].duplicated().all()):\n",
    "    print (\"Exact Compliant Narrative exists as duplicates, possibly spam \")\n",
    "else:\n",
    "    print (\"Unique Compliant Narrative exists\")"
   ]
  },
  {
   "cell_type": "code",
   "execution_count": 32,
   "metadata": {},
   "outputs": [
    {
     "data": {
      "text/html": [
       "<div>\n",
       "<style scoped>\n",
       "    .dataframe tbody tr th:only-of-type {\n",
       "        vertical-align: middle;\n",
       "    }\n",
       "\n",
       "    .dataframe tbody tr th {\n",
       "        vertical-align: top;\n",
       "    }\n",
       "\n",
       "    .dataframe thead th {\n",
       "        text-align: right;\n",
       "    }\n",
       "</style>\n",
       "<table border=\"1\" class=\"dataframe\">\n",
       "  <thead>\n",
       "    <tr style=\"text-align: right;\">\n",
       "      <th></th>\n",
       "      <th>Date received</th>\n",
       "      <th>Product</th>\n",
       "      <th>Sub-product</th>\n",
       "      <th>Issue</th>\n",
       "      <th>Sub-issue</th>\n",
       "      <th>Consumer complaint narrative</th>\n",
       "      <th>Company public response</th>\n",
       "      <th>Company</th>\n",
       "      <th>State</th>\n",
       "      <th>ZIP code</th>\n",
       "      <th>Tags</th>\n",
       "      <th>Consumer consent provided?</th>\n",
       "      <th>Submitted via</th>\n",
       "      <th>Date sent to company</th>\n",
       "      <th>Company response to consumer</th>\n",
       "      <th>Timely response?</th>\n",
       "      <th>Consumer disputed?</th>\n",
       "      <th>Complaint ID</th>\n",
       "    </tr>\n",
       "  </thead>\n",
       "  <tbody>\n",
       "    <tr>\n",
       "      <td>0</td>\n",
       "      <td>2015-04-26</td>\n",
       "      <td>Bank account or service</td>\n",
       "      <td>Other bank product/service</td>\n",
       "      <td>Deposits and withdrawals</td>\n",
       "      <td>Missing</td>\n",
       "      <td>RE : XXXX XXXX XXXX-PRIVILEGED AND CONFIDENTIA...</td>\n",
       "      <td>Missing</td>\n",
       "      <td>Wells Fargo &amp; Company</td>\n",
       "      <td>GA</td>\n",
       "      <td>319XX</td>\n",
       "      <td>Missing</td>\n",
       "      <td>Consent provided</td>\n",
       "      <td>Web</td>\n",
       "      <td>2015-04-26</td>\n",
       "      <td>Closed with explanation</td>\n",
       "      <td>Yes</td>\n",
       "      <td>Yes</td>\n",
       "      <td>1347613</td>\n",
       "    </tr>\n",
       "    <tr>\n",
       "      <td>1</td>\n",
       "      <td>2015-01-30</td>\n",
       "      <td>Debt collection</td>\n",
       "      <td>Medical</td>\n",
       "      <td>Disclosure verification of debt</td>\n",
       "      <td>Not given enough info to verify debt</td>\n",
       "      <td>Missing</td>\n",
       "      <td>Missing</td>\n",
       "      <td>HCFS Health Care Financial Services, Inc.</td>\n",
       "      <td>CA</td>\n",
       "      <td>90036</td>\n",
       "      <td>Missing</td>\n",
       "      <td>Missing</td>\n",
       "      <td>Web</td>\n",
       "      <td>2015-01-30</td>\n",
       "      <td>Closed with explanation</td>\n",
       "      <td>Yes</td>\n",
       "      <td>Yes</td>\n",
       "      <td>1218613</td>\n",
       "    </tr>\n",
       "    <tr>\n",
       "      <td>2</td>\n",
       "      <td>2014-01-10</td>\n",
       "      <td>Credit card</td>\n",
       "      <td>Missing</td>\n",
       "      <td>APR or interest rate</td>\n",
       "      <td>Missing</td>\n",
       "      <td>Missing</td>\n",
       "      <td>Missing</td>\n",
       "      <td>TD Bank US Holding Company</td>\n",
       "      <td>FL</td>\n",
       "      <td>33180</td>\n",
       "      <td>Missing</td>\n",
       "      <td>Missing</td>\n",
       "      <td>Web</td>\n",
       "      <td>2014-01-15</td>\n",
       "      <td>Closed with explanation</td>\n",
       "      <td>Yes</td>\n",
       "      <td>Yes</td>\n",
       "      <td>663281</td>\n",
       "    </tr>\n",
       "    <tr>\n",
       "      <td>3</td>\n",
       "      <td>2015-12-07</td>\n",
       "      <td>Credit card</td>\n",
       "      <td>Missing</td>\n",
       "      <td>Payoff process</td>\n",
       "      <td>Missing</td>\n",
       "      <td>Missing</td>\n",
       "      <td>Missing</td>\n",
       "      <td>Capital One</td>\n",
       "      <td>IL</td>\n",
       "      <td>60610</td>\n",
       "      <td>Missing</td>\n",
       "      <td>Consent not provided</td>\n",
       "      <td>Web</td>\n",
       "      <td>2015-12-07</td>\n",
       "      <td>Closed with explanation</td>\n",
       "      <td>Yes</td>\n",
       "      <td>Yes</td>\n",
       "      <td>1685130</td>\n",
       "    </tr>\n",
       "    <tr>\n",
       "      <td>4</td>\n",
       "      <td>2012-04-05</td>\n",
       "      <td>Bank account or service</td>\n",
       "      <td>Checking account</td>\n",
       "      <td>Deposits and withdrawals</td>\n",
       "      <td>Missing</td>\n",
       "      <td>Missing</td>\n",
       "      <td>Missing</td>\n",
       "      <td>Citizens Financial Group, Inc.</td>\n",
       "      <td>PA</td>\n",
       "      <td>18337</td>\n",
       "      <td>Missing</td>\n",
       "      <td>Missing</td>\n",
       "      <td>Web</td>\n",
       "      <td>2012-04-05</td>\n",
       "      <td>Closed with relief</td>\n",
       "      <td>Yes</td>\n",
       "      <td>Yes</td>\n",
       "      <td>44225</td>\n",
       "    </tr>\n",
       "  </tbody>\n",
       "</table>\n",
       "</div>"
      ],
      "text/plain": [
       "  Date received                  Product                 Sub-product  \\\n",
       "0    2015-04-26  Bank account or service  Other bank product/service   \n",
       "1    2015-01-30          Debt collection                     Medical   \n",
       "2    2014-01-10              Credit card                     Missing   \n",
       "3    2015-12-07              Credit card                     Missing   \n",
       "4    2012-04-05  Bank account or service            Checking account   \n",
       "\n",
       "                             Issue                             Sub-issue  \\\n",
       "0         Deposits and withdrawals                               Missing   \n",
       "1  Disclosure verification of debt  Not given enough info to verify debt   \n",
       "2             APR or interest rate                               Missing   \n",
       "3                   Payoff process                               Missing   \n",
       "4         Deposits and withdrawals                               Missing   \n",
       "\n",
       "                        Consumer complaint narrative Company public response  \\\n",
       "0  RE : XXXX XXXX XXXX-PRIVILEGED AND CONFIDENTIA...                 Missing   \n",
       "1                                            Missing                 Missing   \n",
       "2                                            Missing                 Missing   \n",
       "3                                            Missing                 Missing   \n",
       "4                                            Missing                 Missing   \n",
       "\n",
       "                                     Company State ZIP code     Tags  \\\n",
       "0                      Wells Fargo & Company    GA    319XX  Missing   \n",
       "1  HCFS Health Care Financial Services, Inc.    CA    90036  Missing   \n",
       "2                 TD Bank US Holding Company    FL    33180  Missing   \n",
       "3                                Capital One    IL    60610  Missing   \n",
       "4             Citizens Financial Group, Inc.    PA    18337  Missing   \n",
       "\n",
       "  Consumer consent provided? Submitted via Date sent to company  \\\n",
       "0           Consent provided           Web           2015-04-26   \n",
       "1                    Missing           Web           2015-01-30   \n",
       "2                    Missing           Web           2014-01-15   \n",
       "3       Consent not provided           Web           2015-12-07   \n",
       "4                    Missing           Web           2012-04-05   \n",
       "\n",
       "  Company response to consumer Timely response? Consumer disputed?  \\\n",
       "0      Closed with explanation              Yes                Yes   \n",
       "1      Closed with explanation              Yes                Yes   \n",
       "2      Closed with explanation              Yes                Yes   \n",
       "3      Closed with explanation              Yes                Yes   \n",
       "4           Closed with relief              Yes                Yes   \n",
       "\n",
       "   Complaint ID  \n",
       "0       1347613  \n",
       "1       1218613  \n",
       "2        663281  \n",
       "3       1685130  \n",
       "4         44225  "
      ]
     },
     "execution_count": 32,
     "metadata": {},
     "output_type": "execute_result"
    }
   ],
   "source": [
    "dataset_Raw.head()"
   ]
  },
  {
   "cell_type": "markdown",
   "metadata": {},
   "source": [
    "# Check the Consumerdisputed ratio with missing sub-products and sub-issues"
   ]
  },
  {
   "cell_type": "code",
   "execution_count": 33,
   "metadata": {},
   "outputs": [
    {
     "name": "stdout",
     "output_type": "stream",
     "text": [
      "Issue                                     Sub-issue         Consumer disputed?\n",
      "Loan modification,collection,foreclosure  Missing           No                    25824\n",
      "Loan servicing, payments, escrow account  Missing           No                    18846\n",
      "Loan modification,collection,foreclosure  Missing           Yes                   12582\n",
      "Cont'd attempts collect debt not owed     Debt is not mine  No                     9249\n",
      "Account opening, closing, or management   Missing           No                     9246\n",
      "                                                                                  ...  \n",
      "Charged bank acct wrong day or amt        Missing           Yes                       2\n",
      "Lender sold the property                  Missing           No                        1\n",
      "Received a loan I didn't apply for        Missing           No                        1\n",
      "Lender damaged or destroyed property      Missing           Yes                       1\n",
      "Lender sold the property                  Missing           Yes                       1\n",
      "Name: COUNTER, Length: 238, dtype: int64\n"
     ]
    }
   ],
   "source": [
    "#Groupby sub-Issues\n",
    "dataset_Raw['COUNTER'] =1     \n",
    "group_data = dataset_Raw.groupby(['Issue','Sub-issue','Consumer disputed?'])['COUNTER'].sum()\n",
    "group_data.sort_values(ascending=False,inplace=True)\n",
    "print (group_data)"
   ]
  },
  {
   "cell_type": "markdown",
   "metadata": {},
   "source": [
    "Inference: If Sub-Issue is missing, there is no correlation if Consumer disputed is Yes or No"
   ]
  },
  {
   "cell_type": "code",
   "execution_count": 34,
   "metadata": {},
   "outputs": [
    {
     "name": "stdout",
     "output_type": "stream",
     "text": [
      "Product                  Sub-product                         Consumer disputed?\n",
      "Credit card              Missing                             No                    23090\n",
      "Credit reporting         Missing                             No                    22805\n",
      "Mortgage                 Other mortgage                      No                    20190\n",
      "                         Conventional fixed mortgage         No                    16761\n",
      "Bank account or service  Checking account                    No                    15625\n",
      "                                                                                   ...  \n",
      "Mortgage                 Second mortgage                     Yes                      90\n",
      "Bank account or service  Cashing a check without an account  Yes                      65\n",
      "Consumer Loan            Title loan                          Yes                      49\n",
      "                         Pawn loan                           No                       15\n",
      "                                                             Yes                      13\n",
      "Name: COUNTER, Length: 64, dtype: int64\n"
     ]
    }
   ],
   "source": [
    "#Groupby sub-Issues\n",
    "dataset_Raw['COUNTER'] =1     \n",
    "group_data = dataset_Raw.groupby(['Product','Sub-product','Consumer disputed?'])['COUNTER'].sum()\n",
    "group_data.sort_values(ascending=False,inplace=True)\n",
    "print (group_data)"
   ]
  },
  {
   "cell_type": "markdown",
   "metadata": {},
   "source": [
    "Inference: There is no Sub-Product for Credit Card & Credit reporting, Need to check, Consumer disputed ration for top 7 selected products. "
   ]
  },
  {
   "cell_type": "code",
   "execution_count": 35,
   "metadata": {},
   "outputs": [
    {
     "name": "stderr",
     "output_type": "stream",
     "text": [
      "C:\\Users\\shaaruns.CORPDOM\\AppData\\Local\\Continuum\\anaconda3\\lib\\site-packages\\ipykernel_launcher.py:2: SettingWithCopyWarning: \n",
      "A value is trying to be set on a copy of a slice from a DataFrame.\n",
      "Try using .loc[row_indexer,col_indexer] = value instead\n",
      "\n",
      "See the caveats in the documentation: http://pandas.pydata.org/pandas-docs/stable/user_guide/indexing.html#returning-a-view-versus-a-copy\n",
      "  \n"
     ]
    },
    {
     "name": "stdout",
     "output_type": "stream",
     "text": [
      "Product                  Consumer disputed?\n",
      "Mortgage                 No                    54088\n",
      "Debt collection          No                    36133\n",
      "Mortgage                 Yes                   26300\n",
      "Credit card              No                    23090\n",
      "Credit reporting         No                    22805\n",
      "Bank account or service  No                    22071\n",
      "Debt collection          Yes                   12686\n",
      "Credit card              Yes                    9266\n",
      "Credit reporting         Yes                    8906\n",
      "Bank account or service  Yes                    8143\n",
      "Consumer Loan            No                     7330\n",
      "Student loan             No                     5693\n",
      "Consumer Loan            Yes                    3298\n",
      "Student loan             Yes                    2304\n",
      "Name: COUNTER, dtype: int64\n"
     ]
    }
   ],
   "source": [
    "df_creditcard = dataset_Raw[['Product','Consumer disputed?']]\n",
    "df_creditcard['COUNTER'] =1     \n",
    "group_data = df_creditcard.groupby(['Product','Consumer disputed?'])['COUNTER'].sum()\n",
    "group_data.sort_values(ascending=False,inplace=True)\n",
    "print (group_data)"
   ]
  },
  {
   "cell_type": "markdown",
   "metadata": {},
   "source": [
    "Inference: Mortgage & Debt collection has least number of disputed consumers"
   ]
  },
  {
   "cell_type": "code",
   "execution_count": 36,
   "metadata": {},
   "outputs": [
    {
     "data": {
      "image/png": "[encoded data removed]",
      "text/plain": [
       "<Figure size 432x288 with 1 Axes>"
      ]
     },
     "metadata": {
      "needs_background": "light"
     },
     "output_type": "display_data"
    }
   ],
   "source": [
    "y = dataset_Raw['Consumer disputed?'].values\n",
    "p_ComplaintID = dataset_Raw['Complaint ID'].values\n",
    "# Split the dataframe 80:20 preserve the distribution of class - use stratify\n",
    "\n",
    "X_train, X_test, y_train, y_test , trainComplaintID , valComplaintID = train_test_split(dataset_Raw, y, p_ComplaintID , test_size = 0.3,random_state = 17 , stratify = dataset_Raw['Consumer disputed?'])\n",
    "ColsDrop = ['Consumer disputed?' , 'Complaint ID']\n",
    "x_train = dataset_Raw.drop(ColsDrop, axis = 1)\n",
    "sns.countplot(x=y_train, palette='seismic');"
   ]
  },
  {
   "cell_type": "code",
   "execution_count": 37,
   "metadata": {},
   "outputs": [
    {
     "data": {
      "text/plain": [
       "Index(['Date received', 'Product', 'Sub-product', 'Issue', 'Sub-issue',\n",
       "       'Consumer complaint narrative', 'Company public response', 'Company',\n",
       "       'State', 'ZIP code', 'Tags', 'Consumer consent provided?',\n",
       "       'Submitted via', 'Date sent to company', 'Company response to consumer',\n",
       "       'Timely response?', 'Consumer disputed?', 'Complaint ID', 'COUNTER'],\n",
       "      dtype='object')"
      ]
     },
     "execution_count": 37,
     "metadata": {},
     "output_type": "execute_result"
    }
   ],
   "source": [
    "dataset_Raw.columns"
   ]
  },
  {
   "cell_type": "code",
   "execution_count": 38,
   "metadata": {},
   "outputs": [
    {
     "name": "stdout",
     "output_type": "stream",
     "text": [
      "Tags                           Consumer disputed?\n",
      "Missing                        No                    146607\n",
      "                               Yes                    60390\n",
      "Older American                 No                     14167\n",
      "Servicemember                  No                      8330\n",
      "Older American                 Yes                     6151\n",
      "Servicemember                  Yes                     3525\n",
      "Older American, Servicemember  No                      2106\n",
      "                               Yes                      837\n",
      "Name: COUNTER, dtype: int64\n"
     ]
    }
   ],
   "source": [
    "#Groupby Tags\n",
    "dataset_Raw['COUNTER'] =1     \n",
    "group_data = dataset_Raw.groupby(['Tags','Consumer disputed?'])['COUNTER'].sum()\n",
    "group_data.sort_values(ascending=False,inplace=True)\n",
    "print (group_data)"
   ]
  },
  {
   "cell_type": "markdown",
   "metadata": {},
   "source": [
    "Inference : Tags is almost missing in the dataset and no correlation like missed tags are mostly a disputed customer"
   ]
  },
  {
   "cell_type": "code",
   "execution_count": 39,
   "metadata": {},
   "outputs": [
    {
     "name": "stdout",
     "output_type": "stream",
     "text": [
      "Company                               Timely response?  Consumer disputed?\n",
      "Bank of America                       Yes               No                    14992\n",
      "Wells Fargo & Company                 Yes               No                    12093\n",
      "JPMorgan Chase & Co.                  Yes               No                    10584\n",
      "Citibank                              Yes               No                     8608\n",
      "Experian                              Yes               No                     7778\n",
      "                                                                              ...  \n",
      "Gross Polowy LLC                      Yes               No                        1\n",
      "Grimley Financial Corporation         Yes               No                        1\n",
      "                                      No                No                        1\n",
      "Greentree Mortgage Company, LP        Yes               No                        1\n",
      "1st 2nd Mortgage Company Of NJ, Inc.  Yes               No                        1\n",
      "Name: COUNTER, Length: 5533, dtype: int64\n"
     ]
    }
   ],
   "source": [
    "#Groupby Company \n",
    "dataset_Raw['COUNTER'] =1     \n",
    "group_data = dataset_Raw.groupby(['Company','Timely response?','Consumer disputed?'])['COUNTER'].sum()\n",
    "group_data.sort_values(ascending=False,inplace=True)\n",
    "print (group_data)"
   ]
  },
  {
   "cell_type": "markdown",
   "metadata": {},
   "source": [
    "Inference: Since top companies has more complaints, high number of consumer disputed or not disputed data is expected. "
   ]
  },
  {
   "cell_type": "code",
   "execution_count": 40,
   "metadata": {},
   "outputs": [
    {
     "name": "stdout",
     "output_type": "stream",
     "text": [
      "Company\n",
      "Bank of America                           22401\n",
      "Wells Fargo & Company                     18060\n",
      "JPMorgan Chase & Co.                      15422\n",
      "Citibank                                  12151\n",
      "Equifax                                   11002\n",
      "Experian                                  10150\n",
      "TransUnion Intermediate Holdings, Inc.     8833\n",
      "Ocwen                                      8659\n",
      "Capital One                                7470\n",
      "Nationstar Mortgage                        5938\n",
      "Name: COUNTER, dtype: int64\n"
     ]
    }
   ],
   "source": [
    "#Groupby Company\n",
    "dataset_Raw['COUNTER'] =1     \n",
    "group_data = dataset_Raw.groupby(['Company'])['COUNTER'].sum()\n",
    "group_data.sort_values(ascending=False,inplace=True)\n",
    "#get Top 10 companies only\n",
    "shortlisted_companies = group_data.head(10) \n",
    "print (shortlisted_companies)"
   ]
  },
  {
   "cell_type": "code",
   "execution_count": 41,
   "metadata": {},
   "outputs": [
    {
     "data": {
      "text/html": [
       "<div>\n",
       "<style scoped>\n",
       "    .dataframe tbody tr th:only-of-type {\n",
       "        vertical-align: middle;\n",
       "    }\n",
       "\n",
       "    .dataframe tbody tr th {\n",
       "        vertical-align: top;\n",
       "    }\n",
       "\n",
       "    .dataframe thead th {\n",
       "        text-align: right;\n",
       "    }\n",
       "</style>\n",
       "<table border=\"1\" class=\"dataframe\">\n",
       "  <thead>\n",
       "    <tr style=\"text-align: right;\">\n",
       "      <th></th>\n",
       "      <th>Date received</th>\n",
       "      <th>Product</th>\n",
       "      <th>Sub-product</th>\n",
       "      <th>Issue</th>\n",
       "      <th>Sub-issue</th>\n",
       "      <th>Consumer complaint narrative</th>\n",
       "      <th>Company public response</th>\n",
       "      <th>Company</th>\n",
       "      <th>State</th>\n",
       "      <th>ZIP code</th>\n",
       "      <th>Tags</th>\n",
       "      <th>Consumer consent provided?</th>\n",
       "      <th>Submitted via</th>\n",
       "      <th>Date sent to company</th>\n",
       "      <th>Company response to consumer</th>\n",
       "      <th>Timely response?</th>\n",
       "      <th>Consumer disputed?</th>\n",
       "      <th>Complaint ID</th>\n",
       "      <th>COUNTER</th>\n",
       "    </tr>\n",
       "  </thead>\n",
       "  <tbody>\n",
       "    <tr>\n",
       "      <td>0</td>\n",
       "      <td>2015-04-26</td>\n",
       "      <td>Bank account or service</td>\n",
       "      <td>Other bank product/service</td>\n",
       "      <td>Deposits and withdrawals</td>\n",
       "      <td>Missing</td>\n",
       "      <td>RE : XXXX XXXX XXXX-PRIVILEGED AND CONFIDENTIA...</td>\n",
       "      <td>Missing</td>\n",
       "      <td>Wells Fargo &amp; Company</td>\n",
       "      <td>GA</td>\n",
       "      <td>319XX</td>\n",
       "      <td>Missing</td>\n",
       "      <td>Consent provided</td>\n",
       "      <td>Web</td>\n",
       "      <td>2015-04-26</td>\n",
       "      <td>Closed with explanation</td>\n",
       "      <td>Yes</td>\n",
       "      <td>Yes</td>\n",
       "      <td>1347613</td>\n",
       "      <td>1</td>\n",
       "    </tr>\n",
       "    <tr>\n",
       "      <td>3</td>\n",
       "      <td>2015-12-07</td>\n",
       "      <td>Credit card</td>\n",
       "      <td>Missing</td>\n",
       "      <td>Payoff process</td>\n",
       "      <td>Missing</td>\n",
       "      <td>Missing</td>\n",
       "      <td>Missing</td>\n",
       "      <td>Capital One</td>\n",
       "      <td>IL</td>\n",
       "      <td>60610</td>\n",
       "      <td>Missing</td>\n",
       "      <td>Consent not provided</td>\n",
       "      <td>Web</td>\n",
       "      <td>2015-12-07</td>\n",
       "      <td>Closed with explanation</td>\n",
       "      <td>Yes</td>\n",
       "      <td>Yes</td>\n",
       "      <td>1685130</td>\n",
       "      <td>1</td>\n",
       "    </tr>\n",
       "    <tr>\n",
       "      <td>6</td>\n",
       "      <td>2012-01-06</td>\n",
       "      <td>Mortgage</td>\n",
       "      <td>Conventional fixed mortgage</td>\n",
       "      <td>Application, originator, mortgage broker</td>\n",
       "      <td>Missing</td>\n",
       "      <td>Missing</td>\n",
       "      <td>Missing</td>\n",
       "      <td>Bank of America</td>\n",
       "      <td>CA</td>\n",
       "      <td>90814</td>\n",
       "      <td>Older American</td>\n",
       "      <td>Missing</td>\n",
       "      <td>Web</td>\n",
       "      <td>2012-01-09</td>\n",
       "      <td>Closed without relief</td>\n",
       "      <td>Yes</td>\n",
       "      <td>Yes</td>\n",
       "      <td>10631</td>\n",
       "      <td>1</td>\n",
       "    </tr>\n",
       "    <tr>\n",
       "      <td>8</td>\n",
       "      <td>2015-08-04</td>\n",
       "      <td>Debt collection</td>\n",
       "      <td>Credit card</td>\n",
       "      <td>Communication tactics</td>\n",
       "      <td>Frequent or repeated calls</td>\n",
       "      <td>I believe I am late on a payment with Home Dep...</td>\n",
       "      <td>Company chooses not to provide a public response</td>\n",
       "      <td>Citibank</td>\n",
       "      <td>UT</td>\n",
       "      <td>840XX</td>\n",
       "      <td>Missing</td>\n",
       "      <td>Consent provided</td>\n",
       "      <td>Web</td>\n",
       "      <td>2015-08-04</td>\n",
       "      <td>Closed with non-monetary relief</td>\n",
       "      <td>Yes</td>\n",
       "      <td>Yes</td>\n",
       "      <td>1502087</td>\n",
       "      <td>1</td>\n",
       "    </tr>\n",
       "    <tr>\n",
       "      <td>13</td>\n",
       "      <td>2015-07-27</td>\n",
       "      <td>Mortgage</td>\n",
       "      <td>VA mortgage</td>\n",
       "      <td>Settlement process and costs</td>\n",
       "      <td>Missing</td>\n",
       "      <td>This is a new complaint. In the after math of ...</td>\n",
       "      <td>Company chooses not to provide a public response</td>\n",
       "      <td>Bank of America</td>\n",
       "      <td>FL</td>\n",
       "      <td>325XX</td>\n",
       "      <td>Missing</td>\n",
       "      <td>Consent provided</td>\n",
       "      <td>Web</td>\n",
       "      <td>2015-07-27</td>\n",
       "      <td>Closed with monetary relief</td>\n",
       "      <td>Yes</td>\n",
       "      <td>Yes</td>\n",
       "      <td>1489180</td>\n",
       "      <td>1</td>\n",
       "    </tr>\n",
       "  </tbody>\n",
       "</table>\n",
       "</div>"
      ],
      "text/plain": [
       "   Date received                  Product                  Sub-product  \\\n",
       "0     2015-04-26  Bank account or service   Other bank product/service   \n",
       "3     2015-12-07              Credit card                      Missing   \n",
       "6     2012-01-06                 Mortgage  Conventional fixed mortgage   \n",
       "8     2015-08-04          Debt collection                  Credit card   \n",
       "13    2015-07-27                 Mortgage                  VA mortgage   \n",
       "\n",
       "                                       Issue                   Sub-issue  \\\n",
       "0                   Deposits and withdrawals                     Missing   \n",
       "3                             Payoff process                     Missing   \n",
       "6   Application, originator, mortgage broker                     Missing   \n",
       "8                      Communication tactics  Frequent or repeated calls   \n",
       "13              Settlement process and costs                     Missing   \n",
       "\n",
       "                         Consumer complaint narrative  \\\n",
       "0   RE : XXXX XXXX XXXX-PRIVILEGED AND CONFIDENTIA...   \n",
       "3                                             Missing   \n",
       "6                                             Missing   \n",
       "8   I believe I am late on a payment with Home Dep...   \n",
       "13  This is a new complaint. In the after math of ...   \n",
       "\n",
       "                             Company public response                Company  \\\n",
       "0                                            Missing  Wells Fargo & Company   \n",
       "3                                            Missing            Capital One   \n",
       "6                                            Missing        Bank of America   \n",
       "8   Company chooses not to provide a public response               Citibank   \n",
       "13  Company chooses not to provide a public response        Bank of America   \n",
       "\n",
       "   State ZIP code            Tags Consumer consent provided? Submitted via  \\\n",
       "0     GA    319XX         Missing           Consent provided           Web   \n",
       "3     IL    60610         Missing       Consent not provided           Web   \n",
       "6     CA    90814  Older American                    Missing           Web   \n",
       "8     UT    840XX         Missing           Consent provided           Web   \n",
       "13    FL    325XX         Missing           Consent provided           Web   \n",
       "\n",
       "   Date sent to company     Company response to consumer Timely response?  \\\n",
       "0            2015-04-26          Closed with explanation              Yes   \n",
       "3            2015-12-07          Closed with explanation              Yes   \n",
       "6            2012-01-09            Closed without relief              Yes   \n",
       "8            2015-08-04  Closed with non-monetary relief              Yes   \n",
       "13           2015-07-27      Closed with monetary relief              Yes   \n",
       "\n",
       "   Consumer disputed?  Complaint ID  COUNTER  \n",
       "0                 Yes       1347613        1  \n",
       "3                 Yes       1685130        1  \n",
       "6                 Yes         10631        1  \n",
       "8                 Yes       1502087        1  \n",
       "13                Yes       1489180        1  "
      ]
     },
     "execution_count": 41,
     "metadata": {},
     "output_type": "execute_result"
    }
   ],
   "source": [
    "# selecting rows based on condition \n",
    "options = ['Bank of America', 'Wells Fargo & Company','JPMorgan Chase & Co.','Citibank','Equifax',\n",
    "          'Experian','TransUnion Intermediate Holdings, Inc.','Ocwen','Capital One','Nationstar Mortgage']\n",
    "df_shortlisted = dataset_Raw[dataset_Raw['Company'].isin(options)] \n",
    "df_shortlisted.head() "
   ]
  },
  {
   "cell_type": "code",
   "execution_count": 42,
   "metadata": {},
   "outputs": [
    {
     "data": {
      "image/png": "[encoded data removed]",
      "text/plain": [
       "<Figure size 432x288 with 1 Axes>"
      ]
     },
     "metadata": {
      "needs_background": "light"
     },
     "output_type": "display_data"
    }
   ],
   "source": [
    "y = df_shortlisted['Consumer disputed?'].values\n",
    "p_ComplaintID = df_shortlisted['Complaint ID'].values\n",
    "# Split the dataframe 80:20 preserve the distribution of class - use stratify\n",
    "\n",
    "X_train, X_test, y_train, y_test , trainComplaintID , valComplaintID = train_test_split(df_shortlisted, y, p_ComplaintID , test_size = 0.3,random_state = 17 , stratify = df_shortlisted['Consumer disputed?'])\n",
    "ColsDrop = ['Consumer disputed?' , 'Complaint ID']\n",
    "x_train = df_shortlisted.drop(ColsDrop, axis = 1)\n",
    "sns.countplot(x=y_train, palette='seismic');"
   ]
  },
  {
   "cell_type": "code",
   "execution_count": 43,
   "metadata": {},
   "outputs": [
    {
     "data": {
      "text/plain": [
       "(120086, 19)"
      ]
     },
     "execution_count": 43,
     "metadata": {},
     "output_type": "execute_result"
    }
   ],
   "source": [
    "df_shortlisted.shape"
   ]
  },
  {
   "cell_type": "code",
   "execution_count": 44,
   "metadata": {},
   "outputs": [
    {
     "name": "stdout",
     "output_type": "stream",
     "text": [
      "State\n",
      "CA    20675\n",
      "FL    11771\n",
      "NY     8898\n",
      "TX     8678\n",
      "GA     5432\n",
      "NJ     5101\n",
      "IL     4197\n",
      "MD     4042\n",
      "VA     3958\n",
      "PA     3808\n",
      "NC     3429\n",
      "OH     3069\n",
      "MI     2975\n",
      "AZ     2779\n",
      "WA     2561\n",
      "MA     2316\n",
      "CO     2105\n",
      "NV     1546\n",
      "TN     1492\n",
      "OR     1479\n",
      "Name: COUNTER, dtype: int64\n"
     ]
    },
    {
     "name": "stderr",
     "output_type": "stream",
     "text": [
      "C:\\Users\\shaaruns.CORPDOM\\AppData\\Local\\Continuum\\anaconda3\\lib\\site-packages\\ipykernel_launcher.py:2: SettingWithCopyWarning: \n",
      "A value is trying to be set on a copy of a slice from a DataFrame.\n",
      "Try using .loc[row_indexer,col_indexer] = value instead\n",
      "\n",
      "See the caveats in the documentation: http://pandas.pydata.org/pandas-docs/stable/user_guide/indexing.html#returning-a-view-versus-a-copy\n",
      "  \n"
     ]
    }
   ],
   "source": [
    "#Groupby State\n",
    "df_shortlisted['COUNTER'] =1     \n",
    "group_data = df_shortlisted.groupby(['State'])['COUNTER'].sum()\n",
    "group_data.sort_values(ascending=False,inplace=True)\n",
    "#get Top 20 States only\n",
    "shortlisted_states = group_data.head(20) \n",
    "print (shortlisted_states)\n"
   ]
  },
  {
   "cell_type": "code",
   "execution_count": 45,
   "metadata": {},
   "outputs": [
    {
     "data": {
      "text/html": [
       "<div>\n",
       "<style scoped>\n",
       "    .dataframe tbody tr th:only-of-type {\n",
       "        vertical-align: middle;\n",
       "    }\n",
       "\n",
       "    .dataframe tbody tr th {\n",
       "        vertical-align: top;\n",
       "    }\n",
       "\n",
       "    .dataframe thead th {\n",
       "        text-align: right;\n",
       "    }\n",
       "</style>\n",
       "<table border=\"1\" class=\"dataframe\">\n",
       "  <thead>\n",
       "    <tr style=\"text-align: right;\">\n",
       "      <th></th>\n",
       "      <th>Date received</th>\n",
       "      <th>Product</th>\n",
       "      <th>Sub-product</th>\n",
       "      <th>Issue</th>\n",
       "      <th>Sub-issue</th>\n",
       "      <th>Consumer complaint narrative</th>\n",
       "      <th>Company public response</th>\n",
       "      <th>Company</th>\n",
       "      <th>State</th>\n",
       "      <th>ZIP code</th>\n",
       "      <th>Tags</th>\n",
       "      <th>Consumer consent provided?</th>\n",
       "      <th>Submitted via</th>\n",
       "      <th>Date sent to company</th>\n",
       "      <th>Company response to consumer</th>\n",
       "      <th>Timely response?</th>\n",
       "      <th>Consumer disputed?</th>\n",
       "      <th>Complaint ID</th>\n",
       "      <th>COUNTER</th>\n",
       "    </tr>\n",
       "  </thead>\n",
       "  <tbody>\n",
       "    <tr>\n",
       "      <td>0</td>\n",
       "      <td>2015-04-26</td>\n",
       "      <td>Bank account or service</td>\n",
       "      <td>Other bank product/service</td>\n",
       "      <td>Deposits and withdrawals</td>\n",
       "      <td>Missing</td>\n",
       "      <td>RE : XXXX XXXX XXXX-PRIVILEGED AND CONFIDENTIA...</td>\n",
       "      <td>Missing</td>\n",
       "      <td>Wells Fargo &amp; Company</td>\n",
       "      <td>GA</td>\n",
       "      <td>319XX</td>\n",
       "      <td>Missing</td>\n",
       "      <td>Consent provided</td>\n",
       "      <td>Web</td>\n",
       "      <td>2015-04-26</td>\n",
       "      <td>Closed with explanation</td>\n",
       "      <td>Yes</td>\n",
       "      <td>Yes</td>\n",
       "      <td>1347613</td>\n",
       "      <td>1</td>\n",
       "    </tr>\n",
       "    <tr>\n",
       "      <td>3</td>\n",
       "      <td>2015-12-07</td>\n",
       "      <td>Credit card</td>\n",
       "      <td>Missing</td>\n",
       "      <td>Payoff process</td>\n",
       "      <td>Missing</td>\n",
       "      <td>Missing</td>\n",
       "      <td>Missing</td>\n",
       "      <td>Capital One</td>\n",
       "      <td>IL</td>\n",
       "      <td>60610</td>\n",
       "      <td>Missing</td>\n",
       "      <td>Consent not provided</td>\n",
       "      <td>Web</td>\n",
       "      <td>2015-12-07</td>\n",
       "      <td>Closed with explanation</td>\n",
       "      <td>Yes</td>\n",
       "      <td>Yes</td>\n",
       "      <td>1685130</td>\n",
       "      <td>1</td>\n",
       "    </tr>\n",
       "    <tr>\n",
       "      <td>6</td>\n",
       "      <td>2012-01-06</td>\n",
       "      <td>Mortgage</td>\n",
       "      <td>Conventional fixed mortgage</td>\n",
       "      <td>Application, originator, mortgage broker</td>\n",
       "      <td>Missing</td>\n",
       "      <td>Missing</td>\n",
       "      <td>Missing</td>\n",
       "      <td>Bank of America</td>\n",
       "      <td>CA</td>\n",
       "      <td>90814</td>\n",
       "      <td>Older American</td>\n",
       "      <td>Missing</td>\n",
       "      <td>Web</td>\n",
       "      <td>2012-01-09</td>\n",
       "      <td>Closed without relief</td>\n",
       "      <td>Yes</td>\n",
       "      <td>Yes</td>\n",
       "      <td>10631</td>\n",
       "      <td>1</td>\n",
       "    </tr>\n",
       "    <tr>\n",
       "      <td>13</td>\n",
       "      <td>2015-07-27</td>\n",
       "      <td>Mortgage</td>\n",
       "      <td>VA mortgage</td>\n",
       "      <td>Settlement process and costs</td>\n",
       "      <td>Missing</td>\n",
       "      <td>This is a new complaint. In the after math of ...</td>\n",
       "      <td>Company chooses not to provide a public response</td>\n",
       "      <td>Bank of America</td>\n",
       "      <td>FL</td>\n",
       "      <td>325XX</td>\n",
       "      <td>Missing</td>\n",
       "      <td>Consent provided</td>\n",
       "      <td>Web</td>\n",
       "      <td>2015-07-27</td>\n",
       "      <td>Closed with monetary relief</td>\n",
       "      <td>Yes</td>\n",
       "      <td>Yes</td>\n",
       "      <td>1489180</td>\n",
       "      <td>1</td>\n",
       "    </tr>\n",
       "    <tr>\n",
       "      <td>15</td>\n",
       "      <td>2014-04-06</td>\n",
       "      <td>Mortgage</td>\n",
       "      <td>Conventional adjustable mortgage (ARM)</td>\n",
       "      <td>Loan modification,collection,foreclosure</td>\n",
       "      <td>Missing</td>\n",
       "      <td>Missing</td>\n",
       "      <td>Missing</td>\n",
       "      <td>Nationstar Mortgage</td>\n",
       "      <td>CO</td>\n",
       "      <td>80226</td>\n",
       "      <td>Missing</td>\n",
       "      <td>Missing</td>\n",
       "      <td>Web</td>\n",
       "      <td>2014-04-06</td>\n",
       "      <td>Closed with explanation</td>\n",
       "      <td>Yes</td>\n",
       "      <td>Yes</td>\n",
       "      <td>795636</td>\n",
       "      <td>1</td>\n",
       "    </tr>\n",
       "  </tbody>\n",
       "</table>\n",
       "</div>"
      ],
      "text/plain": [
       "   Date received                  Product  \\\n",
       "0     2015-04-26  Bank account or service   \n",
       "3     2015-12-07              Credit card   \n",
       "6     2012-01-06                 Mortgage   \n",
       "13    2015-07-27                 Mortgage   \n",
       "15    2014-04-06                 Mortgage   \n",
       "\n",
       "                               Sub-product  \\\n",
       "0               Other bank product/service   \n",
       "3                                  Missing   \n",
       "6              Conventional fixed mortgage   \n",
       "13                             VA mortgage   \n",
       "15  Conventional adjustable mortgage (ARM)   \n",
       "\n",
       "                                       Issue Sub-issue  \\\n",
       "0                   Deposits and withdrawals   Missing   \n",
       "3                             Payoff process   Missing   \n",
       "6   Application, originator, mortgage broker   Missing   \n",
       "13              Settlement process and costs   Missing   \n",
       "15  Loan modification,collection,foreclosure   Missing   \n",
       "\n",
       "                         Consumer complaint narrative  \\\n",
       "0   RE : XXXX XXXX XXXX-PRIVILEGED AND CONFIDENTIA...   \n",
       "3                                             Missing   \n",
       "6                                             Missing   \n",
       "13  This is a new complaint. In the after math of ...   \n",
       "15                                            Missing   \n",
       "\n",
       "                             Company public response                Company  \\\n",
       "0                                            Missing  Wells Fargo & Company   \n",
       "3                                            Missing            Capital One   \n",
       "6                                            Missing        Bank of America   \n",
       "13  Company chooses not to provide a public response        Bank of America   \n",
       "15                                           Missing    Nationstar Mortgage   \n",
       "\n",
       "   State ZIP code            Tags Consumer consent provided? Submitted via  \\\n",
       "0     GA    319XX         Missing           Consent provided           Web   \n",
       "3     IL    60610         Missing       Consent not provided           Web   \n",
       "6     CA    90814  Older American                    Missing           Web   \n",
       "13    FL    325XX         Missing           Consent provided           Web   \n",
       "15    CO    80226         Missing                    Missing           Web   \n",
       "\n",
       "   Date sent to company Company response to consumer Timely response?  \\\n",
       "0            2015-04-26      Closed with explanation              Yes   \n",
       "3            2015-12-07      Closed with explanation              Yes   \n",
       "6            2012-01-09        Closed without relief              Yes   \n",
       "13           2015-07-27  Closed with monetary relief              Yes   \n",
       "15           2014-04-06      Closed with explanation              Yes   \n",
       "\n",
       "   Consumer disputed?  Complaint ID  COUNTER  \n",
       "0                 Yes       1347613        1  \n",
       "3                 Yes       1685130        1  \n",
       "6                 Yes         10631        1  \n",
       "13                Yes       1489180        1  \n",
       "15                Yes        795636        1  "
      ]
     },
     "execution_count": 45,
     "metadata": {},
     "output_type": "execute_result"
    }
   ],
   "source": [
    "# selecting rows based on condition \n",
    "options = ['CA','FL','NY','TX','GA',\n",
    "           'NJ','IL','MD','VA','PA',\n",
    "           'NC','OH','MI','AZ','WA',\n",
    "           'MA','CO','NV','TN','OR']\n",
    "df_shortlisted = df_shortlisted[df_shortlisted['State'].isin(options)] \n",
    "df_shortlisted.head() "
   ]
  },
  {
   "cell_type": "code",
   "execution_count": 46,
   "metadata": {},
   "outputs": [
    {
     "data": {
      "image/png": "[encoded data removed]",
      "text/plain": [
       "<Figure size 432x288 with 1 Axes>"
      ]
     },
     "metadata": {
      "needs_background": "light"
     },
     "output_type": "display_data"
    }
   ],
   "source": [
    "y = df_shortlisted['Consumer disputed?'].values\n",
    "p_ComplaintID = df_shortlisted['Complaint ID'].values\n",
    "# Split the dataframe 80:20 preserve the distribution of class - use stratify\n",
    "\n",
    "X_train, X_test, y_train, y_test , trainComplaintID , valComplaintID = train_test_split(df_shortlisted, y, p_ComplaintID , test_size = 0.2,random_state = 17 , stratify = df_shortlisted['Consumer disputed?'])\n",
    "ColsDrop = ['Consumer disputed?' , 'Complaint ID']\n",
    "x_train = df_shortlisted.drop(ColsDrop, axis = 1)\n",
    "sns.countplot(x=y_train, palette='seismic');"
   ]
  },
  {
   "cell_type": "code",
   "execution_count": 47,
   "metadata": {},
   "outputs": [
    {
     "data": {
      "text/plain": [
       "(100311, 19)"
      ]
     },
     "execution_count": 47,
     "metadata": {},
     "output_type": "execute_result"
    }
   ],
   "source": [
    "df_shortlisted.shape"
   ]
  },
  {
   "cell_type": "code",
   "execution_count": 48,
   "metadata": {},
   "outputs": [
    {
     "data": {
      "text/plain": [
       "Index(['Date received', 'Product', 'Sub-product', 'Issue', 'Sub-issue',\n",
       "       'Consumer complaint narrative', 'Company public response', 'Company',\n",
       "       'State', 'ZIP code', 'Tags', 'Consumer consent provided?',\n",
       "       'Submitted via', 'Date sent to company', 'Company response to consumer',\n",
       "       'Timely response?', 'Consumer disputed?', 'Complaint ID', 'COUNTER'],\n",
       "      dtype='object')"
      ]
     },
     "execution_count": 48,
     "metadata": {},
     "output_type": "execute_result"
    }
   ],
   "source": [
    "dataset_Raw.columns"
   ]
  },
  {
   "cell_type": "markdown",
   "metadata": {},
   "source": [
    "Inference: Timely response & Number of days held is not the only criteria for a disputed customer."
   ]
  },
  {
   "cell_type": "markdown",
   "metadata": {},
   "source": [
    "# Compute some derived columns from data files to get some numeric data\n",
    "\n",
    "### Extracting Date, Month and Year from Date Column¶"
   ]
  },
  {
   "cell_type": "markdown",
   "metadata": {},
   "source": [
    "# Find time in days to response by the company¶"
   ]
  },
  {
   "cell_type": "code",
   "execution_count": 49,
   "metadata": {},
   "outputs": [],
   "source": [
    "import datetime as dt\n",
    "df_shortlisted['Days held'] = df_shortlisted['Date sent to company'] - df_shortlisted['Date received']\n",
    "#### Using Date received \n",
    "df_shortlisted['Year_Received']  = pd.DatetimeIndex(df_shortlisted['Date received']).year\n",
    "df_shortlisted['Month_Received'] = pd.DatetimeIndex(df_shortlisted['Date received']).month\n",
    "df_shortlisted['Day_Received']   = pd.DatetimeIndex(df_shortlisted['Date received']).day\n",
    "\n",
    "#### Date sent to company \n",
    "df_shortlisted['Year_Sent']  = pd.DatetimeIndex(df_shortlisted['Date sent to company']).year\n",
    "df_shortlisted['Month_Sent'] = pd.DatetimeIndex(df_shortlisted['Date sent to company']).month\n",
    "df_shortlisted['Day_Sent']   = pd.DatetimeIndex(df_shortlisted['Date sent to company']).day\n",
    "\n",
    "#Fidn the weekday respective date/day\n",
    "df_shortlisted['weekday'] = df_shortlisted[['Date received']].apply(lambda x: dt.datetime.strftime(x['Date received'], '%A'), axis=1)\n"
   ]
  },
  {
   "cell_type": "code",
   "execution_count": 50,
   "metadata": {},
   "outputs": [],
   "source": [
    "#Object type of Days held is timedelta64[ns]. So convert it to integer\n",
    "df_shortlisted['Days held'] = df_shortlisted['Days held'].astype('timedelta64[D]').astype(int)"
   ]
  },
  {
   "cell_type": "code",
   "execution_count": 51,
   "metadata": {},
   "outputs": [],
   "source": [
    "week_train = []  # Define a null list \n",
    "for i in df_shortlisted['Day_Received']:\n",
    "    if i < 8:\n",
    "        week_train.append(1)\n",
    "    elif i >= 8 and i < 16:\n",
    "        week_train.append(2)\n",
    "    elif i >=16 and i < 22:\n",
    "        week_train.append(3)\n",
    "    else:\n",
    "        week_train.append(4)\n",
    "df_shortlisted['Week_Received'] = week_train"
   ]
  },
  {
   "cell_type": "code",
   "execution_count": 52,
   "metadata": {},
   "outputs": [
    {
     "name": "stdout",
     "output_type": "stream",
     "text": [
      "int32\n"
     ]
    }
   ],
   "source": [
    "#print  days held datatype\n",
    "print(df_shortlisted['Days held'].dtypes)"
   ]
  },
  {
   "cell_type": "code",
   "execution_count": 53,
   "metadata": {},
   "outputs": [
    {
     "data": {
      "text/plain": [
       "Date received                   datetime64[ns]\n",
       "Product                                 object\n",
       "Sub-product                             object\n",
       "Issue                                   object\n",
       "Sub-issue                               object\n",
       "Consumer complaint narrative            object\n",
       "Company public response                 object\n",
       "Company                                 object\n",
       "State                                   object\n",
       "ZIP code                                object\n",
       "Tags                                    object\n",
       "Consumer consent provided?              object\n",
       "Submitted via                           object\n",
       "Date sent to company            datetime64[ns]\n",
       "Company response to consumer            object\n",
       "Timely response?                        object\n",
       "Consumer disputed?                      object\n",
       "Complaint ID                             int64\n",
       "COUNTER                                  int64\n",
       "Days held                                int32\n",
       "Year_Received                            int64\n",
       "Month_Received                           int64\n",
       "Day_Received                             int64\n",
       "Year_Sent                                int64\n",
       "Month_Sent                               int64\n",
       "Day_Sent                                 int64\n",
       "weekday                                 object\n",
       "Week_Received                            int64\n",
       "dtype: object"
      ]
     },
     "execution_count": 53,
     "metadata": {},
     "output_type": "execute_result"
    }
   ],
   "source": [
    "df_shortlisted.dtypes"
   ]
  },
  {
   "cell_type": "code",
   "execution_count": 54,
   "metadata": {},
   "outputs": [
    {
     "data": {
      "text/plain": [
       "Index(['Date received', 'Product', 'Sub-product', 'Issue', 'Sub-issue',\n",
       "       'Consumer complaint narrative', 'Company public response', 'Company',\n",
       "       'State', 'ZIP code', 'Tags', 'Consumer consent provided?',\n",
       "       'Submitted via', 'Date sent to company', 'Company response to consumer',\n",
       "       'Timely response?', 'Consumer disputed?', 'Complaint ID', 'COUNTER',\n",
       "       'Days held', 'Year_Received', 'Month_Received', 'Day_Received',\n",
       "       'Year_Sent', 'Month_Sent', 'Day_Sent', 'weekday', 'Week_Received'],\n",
       "      dtype='object')"
      ]
     },
     "execution_count": 54,
     "metadata": {},
     "output_type": "execute_result"
    }
   ],
   "source": [
    "#List of columns after data/column transformation\n",
    "df_shortlisted.columns"
   ]
  },
  {
   "cell_type": "code",
   "execution_count": 55,
   "metadata": {},
   "outputs": [
    {
     "name": "stdout",
     "output_type": "stream",
     "text": [
      "Timely response?  Consumer disputed?\n",
      "Yes               No                    69099\n",
      "                  Yes                   30423\n",
      "No                No                      535\n",
      "                  Yes                     254\n",
      "Name: COUNTER, dtype: int64\n"
     ]
    }
   ],
   "source": [
    "#Groupby State\n",
    "df_shortlisted['COUNTER'] =1     \n",
    "group_data = df_shortlisted.groupby(['Timely response?','Consumer disputed?'])['COUNTER'].sum()\n",
    "group_data.sort_values(ascending=False,inplace=True)\n",
    "#get Top 20 States only\n",
    "shortlisted_states = group_data.head(20) \n",
    "print (shortlisted_states)"
   ]
  },
  {
   "cell_type": "code",
   "execution_count": 56,
   "metadata": {},
   "outputs": [
    {
     "name": "stdout",
     "output_type": "stream",
     "text": [
      "<class 'pandas.core.frame.DataFrame'>\n",
      "Int64Index: 100311 entries, 0 to 274018\n",
      "Data columns (total 28 columns):\n",
      "Date received                   100311 non-null datetime64[ns]\n",
      "Product                         100311 non-null object\n",
      "Sub-product                     100311 non-null object\n",
      "Issue                           100311 non-null object\n",
      "Sub-issue                       100311 non-null object\n",
      "Consumer complaint narrative    100311 non-null object\n",
      "Company public response         100311 non-null object\n",
      "Company                         100311 non-null object\n",
      "State                           100311 non-null object\n",
      "ZIP code                        100311 non-null object\n",
      "Tags                            100311 non-null object\n",
      "Consumer consent provided?      100311 non-null object\n",
      "Submitted via                   100311 non-null object\n",
      "Date sent to company            100311 non-null datetime64[ns]\n",
      "Company response to consumer    100311 non-null object\n",
      "Timely response?                100311 non-null object\n",
      "Consumer disputed?              100311 non-null object\n",
      "Complaint ID                    100311 non-null int64\n",
      "COUNTER                         100311 non-null int64\n",
      "Days held                       100311 non-null int32\n",
      "Year_Received                   100311 non-null int64\n",
      "Month_Received                  100311 non-null int64\n",
      "Day_Received                    100311 non-null int64\n",
      "Year_Sent                       100311 non-null int64\n",
      "Month_Sent                      100311 non-null int64\n",
      "Day_Sent                        100311 non-null int64\n",
      "weekday                         100311 non-null object\n",
      "Week_Received                   100311 non-null int64\n",
      "dtypes: datetime64[ns](2), int32(1), int64(9), object(16)\n",
      "memory usage: 21.8+ MB\n"
     ]
    }
   ],
   "source": [
    "df_shortlisted.info()"
   ]
  },
  {
   "cell_type": "markdown",
   "metadata": {},
   "source": [
    "# Save first phase of cleaned up file for future analysis"
   ]
  },
  {
   "cell_type": "code",
   "execution_count": 57,
   "metadata": {},
   "outputs": [],
   "source": [
    "df_shortlisted.drop('COUNTER',axis=1,inplace=True)"
   ]
  },
  {
   "cell_type": "code",
   "execution_count": 58,
   "metadata": {},
   "outputs": [
    {
     "data": {
      "text/plain": [
       "Index(['Date received', 'Product', 'Sub-product', 'Issue', 'Sub-issue',\n",
       "       'Consumer complaint narrative', 'Company public response', 'Company',\n",
       "       'State', 'ZIP code', 'Tags', 'Consumer consent provided?',\n",
       "       'Submitted via', 'Date sent to company', 'Company response to consumer',\n",
       "       'Timely response?', 'Consumer disputed?', 'Complaint ID', 'Days held',\n",
       "       'Year_Received', 'Month_Received', 'Day_Received', 'Year_Sent',\n",
       "       'Month_Sent', 'Day_Sent', 'weekday', 'Week_Received'],\n",
       "      dtype='object')"
      ]
     },
     "execution_count": 58,
     "metadata": {},
     "output_type": "execute_result"
    }
   ],
   "source": [
    "#List of columns after data/column transformation\n",
    "df_shortlisted.columns"
   ]
  },
  {
   "cell_type": "code",
   "execution_count": 59,
   "metadata": {},
   "outputs": [
    {
     "data": {
      "text/plain": [
       "(100311, 27)"
      ]
     },
     "execution_count": 59,
     "metadata": {},
     "output_type": "execute_result"
    }
   ],
   "source": [
    "df_shortlisted.shape"
   ]
  },
  {
   "cell_type": "code",
   "execution_count": null,
   "metadata": {},
   "outputs": [],
   "source": []
  },
  {
   "cell_type": "markdown",
   "metadata": {},
   "source": [
    "# Chi-Square Test \n",
    "\n",
    "The test is applied when you have two categorical variables from a single population. It is used to determine whether there is a significant association between the two variables."
   ]
  },
  {
   "cell_type": "code",
   "execution_count": 60,
   "metadata": {},
   "outputs": [],
   "source": [
    "from scipy.stats import chi2\n",
    "from scipy.stats import chi2_contingency"
   ]
  },
  {
   "cell_type": "code",
   "execution_count": 61,
   "metadata": {},
   "outputs": [],
   "source": [
    "def find_P_value_func(contigency_table,alpha):\n",
    "    #Observed Values\n",
    "    Observed_Values = contigency_table.values\n",
    "    val=chi2_contingency(contigency_table)\n",
    "    Expected_Values=val[3]\n",
    "    no_of_rows=len(contigency_table.iloc[0:2,0])\n",
    "    no_of_columns=len(contigency_table.iloc[0,0:2])\n",
    "    ddof=(no_of_rows-1)*(no_of_columns-1)\n",
    "    #print(\"Degree of Freedom:-\",ddof)\n",
    "    #alpha = 0.05\n",
    "    chi_square=sum([(o-e)**2./e for o,e in zip(Observed_Values,Expected_Values)])\n",
    "    chi_square_statistic=chi_square[0]+chi_square[1]\n",
    "    #print(\"chi-square statistic:-\",chi_square_statistic)\n",
    "    critical_value=chi2.ppf(q=1-alpha,df=ddof)\n",
    "    #print('critical_value:',critical_value)\n",
    "    p_value=1-chi2.cdf(x=chi_square_statistic,df=ddof)\n",
    "    return p_value,chi_square_statistic,critical_value"
   ]
  },
  {
   "cell_type": "code",
   "execution_count": 62,
   "metadata": {},
   "outputs": [
    {
     "name": "stdout",
     "output_type": "stream",
     "text": [
      "Chi-Square test for : Date received\n",
      "P Value for  Date received : 0.0\n",
      "chi_square_statistic Value for  Date received : 181.68387225064413\n",
      "critical_value for  Date received : 3.841458820694124\n",
      "Reject H0,There is a relationship between Date received and Consumer disputed variables\n",
      "\n",
      "\n",
      "Chi-Square test for : Product\n",
      "P Value for  Product : 0.9141239796633394\n",
      "chi_square_statistic Value for  Product : 0.01162909387821581\n",
      "critical_value for  Product : 3.841458820694124\n",
      "No relationship between Product and Consumer disputed variables\n",
      "\n",
      "\n",
      "Chi-Square test for : Sub-product\n",
      "P Value for  Sub-product : 0.3649513981235546\n",
      "chi_square_statistic Value for  Sub-product : 0.8207827821405373\n",
      "critical_value for  Sub-product : 3.841458820694124\n",
      "No relationship between Sub-product and Consumer disputed variables\n",
      "\n",
      "\n",
      "Chi-Square test for : Issue\n",
      "P Value for  Issue : 0.012134078513644564\n",
      "chi_square_statistic Value for  Issue : 6.291172066378198\n",
      "critical_value for  Issue : 3.841458820694124\n",
      "Reject H0,There is a relationship between Issue and Consumer disputed variables\n",
      "\n",
      "\n",
      "Chi-Square test for : Sub-issue\n",
      "P Value for  Sub-issue : 0.05998671294984104\n",
      "chi_square_statistic Value for  Sub-issue : 3.5377519160672275\n",
      "critical_value for  Sub-issue : 3.841458820694124\n",
      "No relationship between Sub-issue and Consumer disputed variables\n",
      "\n",
      "\n",
      "Chi-Square test for : Consumer complaint narrative\n",
      "P Value for  Consumer complaint narrative : 0.0\n",
      "chi_square_statistic Value for  Consumer complaint narrative : 15172.66962196496\n",
      "critical_value for  Consumer complaint narrative : 3.841458820694124\n",
      "Reject H0,There is a relationship between Consumer complaint narrative and Consumer disputed variables\n",
      "\n",
      "\n",
      "Chi-Square test for : Company public response\n",
      "P Value for  Company public response : 0.0729115311989349\n",
      "chi_square_statistic Value for  Company public response : 3.216226462644307\n",
      "critical_value for  Company public response : 3.841458820694124\n",
      "No relationship between Company public response and Consumer disputed variables\n",
      "\n",
      "\n",
      "Chi-Square test for : Company\n",
      "P Value for  Company : 0.8113899521400941\n",
      "chi_square_statistic Value for  Company : 0.056945845205668824\n",
      "critical_value for  Company : 3.841458820694124\n",
      "No relationship between Company and Consumer disputed variables\n",
      "\n",
      "\n",
      "Chi-Square test for : State\n",
      "P Value for  State : 0.8908537010754248\n",
      "chi_square_statistic Value for  State : 0.018830440072787114\n",
      "critical_value for  State : 3.841458820694124\n",
      "No relationship between State and Consumer disputed variables\n",
      "\n",
      "\n",
      "Chi-Square test for : ZIP code\n",
      "P Value for  ZIP code : 0.0\n",
      "chi_square_statistic Value for  ZIP code : 5422.897495269754\n",
      "critical_value for  ZIP code : 3.841458820694124\n",
      "Reject H0,There is a relationship between ZIP code and Consumer disputed variables\n",
      "\n",
      "\n",
      "Chi-Square test for : Tags\n",
      "P Value for  Tags : 0.9496692606322139\n",
      "chi_square_statistic Value for  Tags : 0.003984401965993777\n",
      "critical_value for  Tags : 3.841458820694124\n",
      "No relationship between Tags and Consumer disputed variables\n",
      "\n",
      "\n",
      "Chi-Square test for : Consumer consent provided?\n",
      "P Value for  Consumer consent provided? : 0.9589167738533427\n",
      "chi_square_statistic Value for  Consumer consent provided? : 0.002653585193163919\n",
      "critical_value for  Consumer consent provided? : 3.841458820694124\n",
      "No relationship between Consumer consent provided? and Consumer disputed variables\n",
      "\n",
      "\n",
      "Chi-Square test for : Submitted via\n",
      "P Value for  Submitted via : 0.8321873688933212\n",
      "chi_square_statistic Value for  Submitted via : 0.04490035067672866\n",
      "critical_value for  Submitted via : 3.841458820694124\n",
      "No relationship between Submitted via and Consumer disputed variables\n",
      "\n",
      "\n",
      "Chi-Square test for : Date sent to company\n",
      "P Value for  Date sent to company : 0.0\n",
      "chi_square_statistic Value for  Date sent to company : 221.4220101731352\n",
      "critical_value for  Date sent to company : 3.841458820694124\n",
      "Reject H0,There is a relationship between Date sent to company and Consumer disputed variables\n",
      "\n",
      "\n",
      "Chi-Square test for : Company response to consumer\n",
      "P Value for  Company response to consumer : 0.6526505758387602\n",
      "chi_square_statistic Value for  Company response to consumer : 0.2025747298342814\n",
      "critical_value for  Company response to consumer : 3.841458820694124\n",
      "No relationship between Company response to consumer and Consumer disputed variables\n",
      "\n",
      "\n",
      "Chi-Square test for : Timely response?\n",
      "P Value for  Timely response? : 0.9802628000887702\n",
      "chi_square_statistic Value for  Timely response? : 0.0006120396457988235\n",
      "critical_value for  Timely response? : 3.841458820694124\n",
      "No relationship between Timely response? and Consumer disputed variables\n",
      "\n",
      "\n",
      "Chi-Square test for : Consumer disputed?\n",
      "P Value for  Consumer disputed? : 0.15729920705028488\n",
      "chi_square_statistic Value for  Consumer disputed? : 2.0\n",
      "critical_value for  Consumer disputed? : 3.841458820694124\n",
      "No relationship between Consumer disputed? and Consumer disputed variables\n",
      "\n",
      "\n",
      "Chi-Square test for : Complaint ID\n",
      "P Value for  Complaint ID : 0.0\n",
      "chi_square_statistic Value for  Complaint ID : 100310.99999999633\n",
      "critical_value for  Complaint ID : 3.841458820694124\n",
      "Reject H0,There is a relationship between Complaint ID and Consumer disputed variables\n",
      "\n",
      "\n",
      "Chi-Square test for : Days held\n",
      "P Value for  Days held : 0.0\n",
      "chi_square_statistic Value for  Days held : 116.231609295901\n",
      "critical_value for  Days held : 3.841458820694124\n",
      "Reject H0,There is a relationship between Days held and Consumer disputed variables\n",
      "\n",
      "\n",
      "Chi-Square test for : Year_Received\n",
      "P Value for  Year_Received : 0.9550289769882644\n",
      "chi_square_statistic Value for  Year_Received : 0.003180135943711095\n",
      "critical_value for  Year_Received : 3.841458820694124\n",
      "No relationship between Year_Received and Consumer disputed variables\n",
      "\n",
      "\n",
      "Chi-Square test for : Month_Received\n",
      "P Value for  Month_Received : 0.8939481267895651\n",
      "chi_square_statistic Value for  Month_Received : 0.017771587300563555\n",
      "critical_value for  Month_Received : 3.841458820694124\n",
      "No relationship between Month_Received and Consumer disputed variables\n",
      "\n",
      "\n",
      "Chi-Square test for : Day_Received\n",
      "P Value for  Day_Received : 0.902058258983942\n",
      "chi_square_statistic Value for  Day_Received : 0.015144176002773718\n",
      "critical_value for  Day_Received : 3.841458820694124\n",
      "No relationship between Day_Received and Consumer disputed variables\n",
      "\n",
      "\n",
      "Chi-Square test for : Year_Sent\n",
      "P Value for  Year_Sent : 0.9566773737992049\n",
      "chi_square_statistic Value for  Year_Sent : 0.0029510498938661095\n",
      "critical_value for  Year_Sent : 3.841458820694124\n",
      "No relationship between Year_Sent and Consumer disputed variables\n",
      "\n",
      "\n",
      "Chi-Square test for : Month_Sent\n",
      "P Value for  Month_Sent : 0.888971759928278\n",
      "chi_square_statistic Value for  Month_Sent : 0.0194896726201251\n",
      "critical_value for  Month_Sent : 3.841458820694124\n",
      "No relationship between Month_Sent and Consumer disputed variables\n",
      "\n",
      "\n",
      "Chi-Square test for : Day_Sent\n",
      "P Value for  Day_Sent : 0.934181229398081\n",
      "chi_square_statistic Value for  Day_Sent : 0.006820344414699709\n",
      "critical_value for  Day_Sent : 3.841458820694124\n",
      "No relationship between Day_Sent and Consumer disputed variables\n",
      "\n",
      "\n",
      "Chi-Square test for : weekday\n",
      "P Value for  weekday : 0.9113492635049627\n",
      "chi_square_statistic Value for  weekday : 0.012395886154673876\n",
      "critical_value for  weekday : 3.841458820694124\n",
      "No relationship between weekday and Consumer disputed variables\n",
      "\n",
      "\n",
      "Chi-Square test for : Week_Received\n",
      "P Value for  Week_Received : 0.991163390804817\n",
      "chi_square_statistic Value for  Week_Received : 0.00012266168630526794\n",
      "critical_value for  Week_Received : 3.841458820694124\n",
      "No relationship between Week_Received and Consumer disputed variables\n",
      "\n",
      "\n"
     ]
    }
   ],
   "source": [
    "alpha = 0.05\n",
    "for (columnName, columnData) in df_shortlisted.iteritems():\n",
    "    contigency_tab= pd.crosstab(columnData.values,df_shortlisted['Consumer disputed?'],normalize='index') \n",
    "    p_val,chi_stat,crit_val = find_P_value_func(contigency_tab,alpha)\n",
    "    print (\"Chi-Square test for :\",columnName)\n",
    "    print (\"P Value for \",columnName,\":\" , p_val)\n",
    "    print (\"chi_square_statistic Value for \",columnName,\":\" , chi_stat)\n",
    "    print (\"critical_value for \",columnName,\":\" , crit_val)\n",
    "    if ( (chi_stat >= crit_val) and (p_val <= alpha)):\n",
    "        print(\"Reject H0,There is a relationship between\",columnName,\"and Consumer disputed variables\")\n",
    "    else:\n",
    "        print (\"No relationship between\",columnName,\"and Consumer disputed variables\")\n",
    "    print (\"\\n\")"
   ]
  },
  {
   "cell_type": "code",
   "execution_count": 63,
   "metadata": {},
   "outputs": [],
   "source": [
    "#features_to_drop = ['Sub-product', 'Sub-issue',\n",
    "   #    'Company public response', 'Company',\n",
    " #      'State', 'Tags', 'Consumer consent provided?',\n",
    "  #     'Submitted via', 'Company response to consumer',\n",
    " #      'Year_Received', 'Month_Received', 'Day_Received',\n",
    " #      'Year_Sent', 'Month_Sent', 'Day_Sent', 'weekday',\n",
    " #       'Consumer complaint narrative','Date received',\n",
    " #       'ZIP code','Date sent to company'\n",
    " #                  ]\n",
    "\n",
    "#df_train_postclean = df_shortlisted.drop(features_to_drop, axis = 1)"
   ]
  },
  {
   "cell_type": "code",
   "execution_count": 64,
   "metadata": {},
   "outputs": [],
   "source": [
    "#df_train_postclean.shape\n"
   ]
  },
  {
   "cell_type": "code",
   "execution_count": 65,
   "metadata": {},
   "outputs": [],
   "source": [
    "#df_train_postclean.columns"
   ]
  },
  {
   "cell_type": "markdown",
   "metadata": {},
   "source": [
    "# Note: Droping this feature combination as final results are not good. "
   ]
  },
  {
   "cell_type": "code",
   "execution_count": 66,
   "metadata": {},
   "outputs": [],
   "source": [
    "## Save first phase of cleaned up file\n",
    "\n",
    "#df_train_postclean.to_csv(dataFolder+\"/Output_CSV/Dataset_Step3_Pre_Processed.csv\",index=False)#File name change"
   ]
  },
  {
   "cell_type": "code",
   "execution_count": 67,
   "metadata": {},
   "outputs": [],
   "source": [
    "df_shortlisted.to_csv(dataFolder+\"/Output_CSV/Dataset_Step3_Processed.csv\",index=False)#Final CSV from this step"
   ]
  },
  {
   "cell_type": "code",
   "execution_count": 68,
   "metadata": {},
   "outputs": [
    {
     "data": {
      "text/plain": [
       "Index(['Date received', 'Product', 'Sub-product', 'Issue', 'Sub-issue',\n",
       "       'Consumer complaint narrative', 'Company public response', 'Company',\n",
       "       'State', 'ZIP code', 'Tags', 'Consumer consent provided?',\n",
       "       'Submitted via', 'Date sent to company', 'Company response to consumer',\n",
       "       'Timely response?', 'Consumer disputed?', 'Complaint ID', 'Days held',\n",
       "       'Year_Received', 'Month_Received', 'Day_Received', 'Year_Sent',\n",
       "       'Month_Sent', 'Day_Sent', 'weekday', 'Week_Received'],\n",
       "      dtype='object')"
      ]
     },
     "execution_count": 68,
     "metadata": {},
     "output_type": "execute_result"
    }
   ],
   "source": [
    "df_shortlisted.columns"
   ]
  },
  {
   "cell_type": "code",
   "execution_count": null,
   "metadata": {},
   "outputs": [],
   "source": []
  }
 ],
 "metadata": {
  "kernelspec": {
   "display_name": "Python 3",
   "language": "python",
   "name": "python3"
  },
  "language_info": {
   "codemirror_mode": {
    "name": "ipython",
    "version": 3
   },
   "file_extension": ".py",
   "mimetype": "text/x-python",
   "name": "python",
   "nbconvert_exporter": "python",
   "pygments_lexer": "ipython3",
   "version": "3.7.4"
  }
 },
 "nbformat": 4,
 "nbformat_minor": 2
}
