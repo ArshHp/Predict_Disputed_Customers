{
 "cells": [
  {
   "cell_type": "markdown",
   "metadata": {
    "id": "SPvO4HaoPSdT"
   },
   "source": [
    "# Steps to perform : \n",
    "1. Handing Data imbalance using ADASYN\n",
    "2. Feature Scaling\n",
    "3. Dimentionality reduction using PCA\n",
    "4. Machine Learning Models with evaluation report."
   ]
  },
  {
   "cell_type": "markdown",
   "metadata": {},
   "source": [
    "# Pre-requisite:\n",
    "    Ensure datafolder and required csv datafile is in place before running the code. If you are running this notebook into Jupyter notebook, ensure to mount the drive and file exists on the drive."
   ]
  },
  {
   "cell_type": "code",
   "execution_count": 1,
   "metadata": {},
   "outputs": [],
   "source": [
    "#Modify the directory & File name based on your local paths & file name\n",
    "dataFolder = \"C:/Users/shaaruns.CORPDOM/Documents/BITS_Assignments/Module-7/Gr20_Cap4_Sourcecode/Grp20_Cohert3_Final_Submission\"\n",
    "datafile = \"Output_CSV/Dataset_Step4_Processed_Data_Revised.csv\""
   ]
  },
  {
   "cell_type": "code",
   "execution_count": 2,
   "metadata": {
    "colab": {
     "base_uri": "https://localhost:8080/"
    },
    "id": "sicEQfXaPSdi",
    "outputId": "4a8a94e1-3c23-4eb9-b2dc-34c70ae05f30"
   },
   "outputs": [],
   "source": [
    "#from google.colab import drive\n",
    "#drive.mount('/content/drive', force_remount=True)"
   ]
  },
  {
   "cell_type": "code",
   "execution_count": 3,
   "metadata": {
    "colab": {
     "base_uri": "https://localhost:8080/"
    },
    "id": "IhM4O0nsPSdl",
    "outputId": "226e5cd8-3827-40ec-f549-8f19e74db645"
   },
   "outputs": [
    {
     "name": "stdout",
     "output_type": "stream",
     "text": [
      "pandas  : 0.25.1\n",
      "numpy   : 1.19.4\n"
     ]
    }
   ],
   "source": [
    "import pandas as pd\n",
    "print('pandas  : {}'.format(pd.__version__)) #Rationale \n",
    "import numpy as np\n",
    "print ('numpy   : {}'.format(np.__version__))\n",
    "from sklearn.preprocessing import StandardScaler\n",
    "from sklearn.decomposition import PCA\n",
    "from sklearn.model_selection import train_test_split, GridSearchCV\n",
    "from sklearn.linear_model import LogisticRegression\n",
    "from sklearn.tree import DecisionTreeClassifier\n",
    "from sklearn.ensemble import RandomForestClassifier, AdaBoostClassifier, GradientBoostingClassifier\n",
    "from sklearn.neighbors import KNeighborsClassifier\n",
    "from sklearn.svm import SVC\n",
    "from xgboost import XGBClassifier\n",
    "from sklearn.metrics import confusion_matrix, accuracy_score, precision_score, recall_score, f1_score\n",
    "import seaborn as sns\n"
   ]
  },
  {
   "cell_type": "code",
   "execution_count": 4,
   "metadata": {
    "colab": {
     "base_uri": "https://localhost:8080/",
     "height": 282
    },
    "id": "CKfMoTlSPSdp",
    "outputId": "80768bc4-4127-4381-b6af-017d886470f0"
   },
   "outputs": [
    {
     "data": {
      "text/html": [
       "<div>\n",
       "<style scoped>\n",
       "    .dataframe tbody tr th:only-of-type {\n",
       "        vertical-align: middle;\n",
       "    }\n",
       "\n",
       "    .dataframe tbody tr th {\n",
       "        vertical-align: top;\n",
       "    }\n",
       "\n",
       "    .dataframe thead th {\n",
       "        text-align: right;\n",
       "    }\n",
       "</style>\n",
       "<table border=\"1\" class=\"dataframe\">\n",
       "  <thead>\n",
       "    <tr style=\"text-align: right;\">\n",
       "      <th></th>\n",
       "      <th>Consumerdisputed</th>\n",
       "      <th>ComplaintID</th>\n",
       "      <th>Month_Received</th>\n",
       "      <th>Year_Sent</th>\n",
       "      <th>Month_Sent</th>\n",
       "      <th>Day_Sent</th>\n",
       "      <th>Week_Received</th>\n",
       "      <th>Product_Consumer Loan</th>\n",
       "      <th>Product_Credit card</th>\n",
       "      <th>Product_Credit reporting</th>\n",
       "      <th>...</th>\n",
       "      <th>Feature109</th>\n",
       "      <th>Feature110</th>\n",
       "      <th>Feature111</th>\n",
       "      <th>Feature112</th>\n",
       "      <th>Feature113</th>\n",
       "      <th>Feature114</th>\n",
       "      <th>Feature115</th>\n",
       "      <th>Feature116</th>\n",
       "      <th>Feature117</th>\n",
       "      <th>Feature118</th>\n",
       "    </tr>\n",
       "  </thead>\n",
       "  <tbody>\n",
       "    <tr>\n",
       "      <td>0</td>\n",
       "      <td>1</td>\n",
       "      <td>1347613</td>\n",
       "      <td>4</td>\n",
       "      <td>2015</td>\n",
       "      <td>4</td>\n",
       "      <td>26</td>\n",
       "      <td>4</td>\n",
       "      <td>0</td>\n",
       "      <td>0</td>\n",
       "      <td>0</td>\n",
       "      <td>...</td>\n",
       "      <td>0.0</td>\n",
       "      <td>0.0</td>\n",
       "      <td>0.0</td>\n",
       "      <td>0.0</td>\n",
       "      <td>0.0</td>\n",
       "      <td>0.0</td>\n",
       "      <td>0.0</td>\n",
       "      <td>0.0</td>\n",
       "      <td>0.707107</td>\n",
       "      <td>0.0</td>\n",
       "    </tr>\n",
       "    <tr>\n",
       "      <td>1</td>\n",
       "      <td>1</td>\n",
       "      <td>1685130</td>\n",
       "      <td>12</td>\n",
       "      <td>2015</td>\n",
       "      <td>12</td>\n",
       "      <td>7</td>\n",
       "      <td>1</td>\n",
       "      <td>0</td>\n",
       "      <td>1</td>\n",
       "      <td>0</td>\n",
       "      <td>...</td>\n",
       "      <td>0.0</td>\n",
       "      <td>0.0</td>\n",
       "      <td>0.0</td>\n",
       "      <td>0.0</td>\n",
       "      <td>0.0</td>\n",
       "      <td>0.0</td>\n",
       "      <td>0.0</td>\n",
       "      <td>0.0</td>\n",
       "      <td>0.000000</td>\n",
       "      <td>0.0</td>\n",
       "    </tr>\n",
       "    <tr>\n",
       "      <td>2</td>\n",
       "      <td>1</td>\n",
       "      <td>10631</td>\n",
       "      <td>1</td>\n",
       "      <td>2012</td>\n",
       "      <td>1</td>\n",
       "      <td>9</td>\n",
       "      <td>1</td>\n",
       "      <td>0</td>\n",
       "      <td>0</td>\n",
       "      <td>0</td>\n",
       "      <td>...</td>\n",
       "      <td>0.0</td>\n",
       "      <td>0.0</td>\n",
       "      <td>0.0</td>\n",
       "      <td>0.0</td>\n",
       "      <td>0.0</td>\n",
       "      <td>0.0</td>\n",
       "      <td>0.0</td>\n",
       "      <td>0.0</td>\n",
       "      <td>0.000000</td>\n",
       "      <td>0.0</td>\n",
       "    </tr>\n",
       "    <tr>\n",
       "      <td>3</td>\n",
       "      <td>1</td>\n",
       "      <td>1489180</td>\n",
       "      <td>7</td>\n",
       "      <td>2015</td>\n",
       "      <td>7</td>\n",
       "      <td>27</td>\n",
       "      <td>4</td>\n",
       "      <td>0</td>\n",
       "      <td>0</td>\n",
       "      <td>0</td>\n",
       "      <td>...</td>\n",
       "      <td>0.0</td>\n",
       "      <td>0.0</td>\n",
       "      <td>0.0</td>\n",
       "      <td>0.0</td>\n",
       "      <td>0.0</td>\n",
       "      <td>0.0</td>\n",
       "      <td>0.0</td>\n",
       "      <td>0.0</td>\n",
       "      <td>0.000000</td>\n",
       "      <td>0.0</td>\n",
       "    </tr>\n",
       "    <tr>\n",
       "      <td>4</td>\n",
       "      <td>1</td>\n",
       "      <td>795636</td>\n",
       "      <td>4</td>\n",
       "      <td>2014</td>\n",
       "      <td>4</td>\n",
       "      <td>6</td>\n",
       "      <td>1</td>\n",
       "      <td>0</td>\n",
       "      <td>0</td>\n",
       "      <td>0</td>\n",
       "      <td>...</td>\n",
       "      <td>0.0</td>\n",
       "      <td>0.0</td>\n",
       "      <td>0.0</td>\n",
       "      <td>0.0</td>\n",
       "      <td>0.0</td>\n",
       "      <td>0.0</td>\n",
       "      <td>0.0</td>\n",
       "      <td>0.0</td>\n",
       "      <td>0.000000</td>\n",
       "      <td>0.0</td>\n",
       "    </tr>\n",
       "  </tbody>\n",
       "</table>\n",
       "<p>5 rows × 142 columns</p>\n",
       "</div>"
      ],
      "text/plain": [
       "   Consumerdisputed  ComplaintID  Month_Received  Year_Sent  Month_Sent  \\\n",
       "0                 1      1347613               4       2015           4   \n",
       "1                 1      1685130              12       2015          12   \n",
       "2                 1        10631               1       2012           1   \n",
       "3                 1      1489180               7       2015           7   \n",
       "4                 1       795636               4       2014           4   \n",
       "\n",
       "   Day_Sent  Week_Received  Product_Consumer Loan  Product_Credit card  \\\n",
       "0        26              4                      0                    0   \n",
       "1         7              1                      0                    1   \n",
       "2         9              1                      0                    0   \n",
       "3        27              4                      0                    0   \n",
       "4         6              1                      0                    0   \n",
       "\n",
       "   Product_Credit reporting  ...  Feature109  Feature110  Feature111  \\\n",
       "0                         0  ...         0.0         0.0         0.0   \n",
       "1                         0  ...         0.0         0.0         0.0   \n",
       "2                         0  ...         0.0         0.0         0.0   \n",
       "3                         0  ...         0.0         0.0         0.0   \n",
       "4                         0  ...         0.0         0.0         0.0   \n",
       "\n",
       "   Feature112  Feature113  Feature114  Feature115  Feature116  Feature117  \\\n",
       "0         0.0         0.0         0.0         0.0         0.0    0.707107   \n",
       "1         0.0         0.0         0.0         0.0         0.0    0.000000   \n",
       "2         0.0         0.0         0.0         0.0         0.0    0.000000   \n",
       "3         0.0         0.0         0.0         0.0         0.0    0.000000   \n",
       "4         0.0         0.0         0.0         0.0         0.0    0.000000   \n",
       "\n",
       "   Feature118  \n",
       "0         0.0  \n",
       "1         0.0  \n",
       "2         0.0  \n",
       "3         0.0  \n",
       "4         0.0  \n",
       "\n",
       "[5 rows x 142 columns]"
      ]
     },
     "execution_count": 4,
     "metadata": {},
     "output_type": "execute_result"
    }
   ],
   "source": [
    "#Read the dataset from clean datafile\n",
    "\n",
    "df_train = pd.read_csv(dataFolder +'/' + datafile)\n",
    "df_train.head()\n",
    "#Read the dataset from GDrive\n",
    "#Inputfile = 'drive/My Drive/Colab_Notebooks/Input_Dataset_Without_TF-IDF.csv'\n",
    "#df_train = pd.read_csv(Inputfile)\n",
    "#df_train.head()\n",
    "\n"
   ]
  },
  {
   "cell_type": "markdown",
   "metadata": {
    "id": "H5OJ4YZ_PSdr"
   },
   "source": [
    "# Feature Scaling of train Data Sets except Target and Indent variable"
   ]
  },
  {
   "cell_type": "code",
   "execution_count": 5,
   "metadata": {
    "colab": {
     "base_uri": "https://localhost:8080/"
    },
    "id": "yBTj1NwzPSds",
    "outputId": "312424db-e85c-47e5-bebc-debcc209a865"
   },
   "outputs": [
    {
     "data": {
      "text/plain": [
       "(100311, 142)"
      ]
     },
     "execution_count": 5,
     "metadata": {},
     "output_type": "execute_result"
    }
   ],
   "source": [
    "df_train.shape"
   ]
  },
  {
   "cell_type": "code",
   "execution_count": 6,
   "metadata": {},
   "outputs": [
    {
     "data": {
      "text/plain": [
       "Index(['Consumerdisputed', 'ComplaintID', 'Month_Received', 'Year_Sent',\n",
       "       'Month_Sent', 'Day_Sent', 'Week_Received', 'Product_Consumer Loan',\n",
       "       'Product_Credit card', 'Product_Credit reporting',\n",
       "       ...\n",
       "       'Feature109', 'Feature110', 'Feature111', 'Feature112', 'Feature113',\n",
       "       'Feature114', 'Feature115', 'Feature116', 'Feature117', 'Feature118'],\n",
       "      dtype='object', length=142)"
      ]
     },
     "execution_count": 6,
     "metadata": {},
     "output_type": "execute_result"
    }
   ],
   "source": [
    "df_train.columns"
   ]
  },
  {
   "cell_type": "code",
   "execution_count": 7,
   "metadata": {},
   "outputs": [],
   "source": [
    "df_train.rename(columns = {'Complaint ID':'ComplaintID'}, inplace = True)"
   ]
  },
  {
   "cell_type": "code",
   "execution_count": 8,
   "metadata": {
    "id": "4jDQUpg2PSdt"
   },
   "outputs": [],
   "source": [
    "temp = df_train.copy()"
   ]
  },
  {
   "cell_type": "code",
   "execution_count": 9,
   "metadata": {
    "colab": {
     "base_uri": "https://localhost:8080/"
    },
    "id": "SaAM0FRUPSdv",
    "outputId": "549e743c-78fb-44df-bb43-7975353769e4"
   },
   "outputs": [
    {
     "name": "stdout",
     "output_type": "stream",
     "text": [
      "Index(['Month_Received', 'Year_Sent', 'Month_Sent', 'Day_Sent',\n",
      "       'Week_Received', 'Product_Consumer Loan', 'Product_Credit card',\n",
      "       'Product_Credit reporting', 'Product_Debt collection',\n",
      "       'Product_Mortgage',\n",
      "       ...\n",
      "       'Feature109', 'Feature110', 'Feature111', 'Feature112', 'Feature113',\n",
      "       'Feature114', 'Feature115', 'Feature116', 'Feature117', 'Feature118'],\n",
      "      dtype='object', length=140)\n"
     ]
    }
   ],
   "source": [
    "colsTobedropped = ['Consumerdisputed', \n",
    "                  'ComplaintID'\n",
    "                             ]\n",
    "temp  = temp.drop(colsTobedropped,axis = 1)\n",
    "print(temp.columns)"
   ]
  },
  {
   "cell_type": "code",
   "execution_count": 10,
   "metadata": {
    "colab": {
     "base_uri": "https://localhost:8080/"
    },
    "id": "5bUsz6LvPSdx",
    "outputId": "f7ce351b-a122-448a-ffac-bc4eb641a75c"
   },
   "outputs": [
    {
     "data": {
      "text/plain": [
       "(100311, 140)"
      ]
     },
     "execution_count": 10,
     "metadata": {},
     "output_type": "execute_result"
    }
   ],
   "source": [
    "temp.shape"
   ]
  },
  {
   "cell_type": "code",
   "execution_count": 11,
   "metadata": {
    "id": "kKdBRZzIPSdy"
   },
   "outputs": [],
   "source": [
    "scaledCols = temp.columns"
   ]
  },
  {
   "cell_type": "code",
   "execution_count": 12,
   "metadata": {
    "id": "B_bXZ-nEPSdz"
   },
   "outputs": [],
   "source": [
    "from sklearn.preprocessing import MinMaxScaler\n",
    "\n",
    "scaler = MinMaxScaler()\n",
    "df_train[scaledCols] = scaler.fit_transform(df_train[scaledCols])"
   ]
  },
  {
   "cell_type": "code",
   "execution_count": 13,
   "metadata": {
    "colab": {
     "base_uri": "https://localhost:8080/"
    },
    "id": "tHf3jY2sPSdz",
    "outputId": "e0556c78-9433-41d9-b46e-dc82a114f3f1"
   },
   "outputs": [
    {
     "data": {
      "text/plain": [
       "(100311, 142)"
      ]
     },
     "execution_count": 13,
     "metadata": {},
     "output_type": "execute_result"
    }
   ],
   "source": [
    "df_train.shape"
   ]
  },
  {
   "cell_type": "code",
   "execution_count": 14,
   "metadata": {
    "id": "g8aGiAs7PSd0"
   },
   "outputs": [],
   "source": [
    "#Final X training Data\n",
    "X = df_train.reindex(columns=scaledCols)\n",
    "\n",
    "#Target Y Variable Consumer disputed as 0 or 1\n",
    "y = df_train['Consumerdisputed'].values\n",
    "\n",
    "#Preserving ComplaintID for providing final output results, will not be used for training data\n",
    "p_ComplaintID = df_train['ComplaintID'].values"
   ]
  },
  {
   "cell_type": "code",
   "execution_count": 15,
   "metadata": {
    "id": "zea8dW3Usy2w"
   },
   "outputs": [],
   "source": [
    "# Split the dataframe 80:20 preserve the distribution of class - use stratify\n",
    "\n",
    "X_train, X_val, y_train, y_val , trainComplaintID , valComplaintID = train_test_split(df_train, y, p_ComplaintID , test_size = 0.3,random_state = 17 , stratify = df_train['Consumerdisputed'])\n"
   ]
  },
  {
   "cell_type": "code",
   "execution_count": 16,
   "metadata": {
    "colab": {
     "base_uri": "https://localhost:8080/"
    },
    "id": "hXeFi8LAsy2y",
    "outputId": "873a191a-3cba-463f-b661-5c0fa68eda97"
   },
   "outputs": [
    {
     "name": "stdout",
     "output_type": "stream",
     "text": [
      "y_train distribution of label '1': 21474 \n",
      "\n",
      "y_train distribution of label '0': 48743 \n",
      "\n",
      "y_val distribution of label '1': 9203 \n",
      "\n",
      "y_val distribution of label '0': 20891 \n",
      "\n"
     ]
    }
   ],
   "source": [
    "#checking y_train distribution\n",
    "print(\"y_train distribution of label '1': {} \\n\".format(sum(y_train == 1))) \n",
    "print(\"y_train distribution of label '0': {} \\n\".format(sum(y_train == 0)))\n",
    "\n",
    "\n",
    "#checking y_train distribution\n",
    "print(\"y_val distribution of label '1': {} \\n\".format(sum(y_val == 1))) \n",
    "print(\"y_val distribution of label '0': {} \\n\".format(sum(y_val == 0)))"
   ]
  },
  {
   "cell_type": "markdown",
   "metadata": {},
   "source": [
    "# Handling Data Imbalance \n",
    "\n",
    "Imbalance ratio (IR): The ratio of the number of instances in the majority class to the number of examples in the minority class.\n",
    "IR = (negative_class/positive_class)\n",
    "Where positive_class is the number of minority class samples and negative_class is the number of majority class samples."
   ]
  },
  {
   "cell_type": "code",
   "execution_count": 17,
   "metadata": {},
   "outputs": [
    {
     "data": {
      "image/png": "[encoded data removed]",
      "text/plain": [
       "<Figure size 432x288 with 1 Axes>"
      ]
     },
     "metadata": {
      "needs_background": "light"
     },
     "output_type": "display_data"
    }
   ],
   "source": [
    "sns.countplot(x=y_train, palette='seismic');"
   ]
  },
  {
   "cell_type": "code",
   "execution_count": 18,
   "metadata": {},
   "outputs": [
    {
     "name": "stdout",
     "output_type": "stream",
     "text": [
      "Consumers Not disputed: 69634\n",
      "Consumers disputed: 30677\n",
      "Class Imbalance Ratio: 0.44054628486084385\n"
     ]
    }
   ],
   "source": [
    "class_count_0, class_count_1 = df_train['Consumerdisputed'].value_counts()\n",
    "print (\"Consumers Not disputed:\",class_count_0)\n",
    "print (\"Consumers disputed:\",class_count_1)\n",
    "IR = class_count_1/class_count_0 #Minority CLass/Majority CLass\n",
    "print (\"Class Imbalance Ratio:\",IR)"
   ]
  },
  {
   "cell_type": "markdown",
   "metadata": {
    "id": "COJnSV7OPSd2"
   },
   "source": [
    "# Dimensional reduction and features selection"
   ]
  },
  {
   "cell_type": "code",
   "execution_count": 19,
   "metadata": {
    "id": "ZfTrQErgoJHl"
   },
   "outputs": [],
   "source": [
    "pca_columns = []\n",
    "for i in range(X.shape[1]):\n",
    "    pca_columns.append('PC' + str(i+1))\n",
    "    \n",
    "pca_model = PCA()\n",
    "pca_model.fit(X)\n",
    "X_pca_train = pd.DataFrame(pca_model.transform(X), columns = pca_columns)"
   ]
  },
  {
   "cell_type": "code",
   "execution_count": 20,
   "metadata": {
    "id": "u1IzpbOJpFed"
   },
   "outputs": [
    {
     "data": {
      "text/html": [
       "<div>\n",
       "<style scoped>\n",
       "    .dataframe tbody tr th:only-of-type {\n",
       "        vertical-align: middle;\n",
       "    }\n",
       "\n",
       "    .dataframe tbody tr th {\n",
       "        vertical-align: top;\n",
       "    }\n",
       "\n",
       "    .dataframe thead th {\n",
       "        text-align: right;\n",
       "    }\n",
       "</style>\n",
       "<table border=\"1\" class=\"dataframe\">\n",
       "  <thead>\n",
       "    <tr style=\"text-align: right;\">\n",
       "      <th></th>\n",
       "      <th>Variable</th>\n",
       "      <th>Importance</th>\n",
       "    </tr>\n",
       "  </thead>\n",
       "  <tbody>\n",
       "    <tr>\n",
       "      <td>0</td>\n",
       "      <td>PC1</td>\n",
       "      <td>Explained Info    0.0\n",
       "dtype: float64</td>\n",
       "    </tr>\n",
       "    <tr>\n",
       "      <td>1</td>\n",
       "      <td>PC2</td>\n",
       "      <td>Explained Info    0.204761\n",
       "dtype: float64</td>\n",
       "    </tr>\n",
       "    <tr>\n",
       "      <td>2</td>\n",
       "      <td>PC3</td>\n",
       "      <td>Explained Info    0.31747\n",
       "dtype: float64</td>\n",
       "    </tr>\n",
       "    <tr>\n",
       "      <td>3</td>\n",
       "      <td>PC4</td>\n",
       "      <td>Explained Info    0.401489\n",
       "dtype: float64</td>\n",
       "    </tr>\n",
       "    <tr>\n",
       "      <td>4</td>\n",
       "      <td>PC5</td>\n",
       "      <td>Explained Info    0.471021\n",
       "dtype: float64</td>\n",
       "    </tr>\n",
       "    <tr>\n",
       "      <td>5</td>\n",
       "      <td>PC6</td>\n",
       "      <td>Explained Info    0.527071\n",
       "dtype: float64</td>\n",
       "    </tr>\n",
       "    <tr>\n",
       "      <td>6</td>\n",
       "      <td>PC7</td>\n",
       "      <td>Explained Info    0.568048\n",
       "dtype: float64</td>\n",
       "    </tr>\n",
       "    <tr>\n",
       "      <td>7</td>\n",
       "      <td>PC8</td>\n",
       "      <td>Explained Info    0.608649\n",
       "dtype: float64</td>\n",
       "    </tr>\n",
       "    <tr>\n",
       "      <td>8</td>\n",
       "      <td>PC9</td>\n",
       "      <td>Explained Info    0.64717\n",
       "dtype: float64</td>\n",
       "    </tr>\n",
       "    <tr>\n",
       "      <td>9</td>\n",
       "      <td>PC10</td>\n",
       "      <td>Explained Info    0.678818\n",
       "dtype: float64</td>\n",
       "    </tr>\n",
       "    <tr>\n",
       "      <td>10</td>\n",
       "      <td>PC11</td>\n",
       "      <td>Explained Info    0.705585\n",
       "dtype: float64</td>\n",
       "    </tr>\n",
       "    <tr>\n",
       "      <td>11</td>\n",
       "      <td>PC12</td>\n",
       "      <td>Explained Info    0.730354\n",
       "dtype: float64</td>\n",
       "    </tr>\n",
       "    <tr>\n",
       "      <td>12</td>\n",
       "      <td>PC13</td>\n",
       "      <td>Explained Info    0.751203\n",
       "dtype: float64</td>\n",
       "    </tr>\n",
       "    <tr>\n",
       "      <td>13</td>\n",
       "      <td>PC14</td>\n",
       "      <td>Explained Info    0.768423\n",
       "dtype: float64</td>\n",
       "    </tr>\n",
       "    <tr>\n",
       "      <td>14</td>\n",
       "      <td>PC15</td>\n",
       "      <td>Explained Info    0.784061\n",
       "dtype: float64</td>\n",
       "    </tr>\n",
       "    <tr>\n",
       "      <td>15</td>\n",
       "      <td>PC16</td>\n",
       "      <td>Explained Info    0.798757\n",
       "dtype: float64</td>\n",
       "    </tr>\n",
       "    <tr>\n",
       "      <td>16</td>\n",
       "      <td>PC17</td>\n",
       "      <td>Explained Info    0.812996\n",
       "dtype: float64</td>\n",
       "    </tr>\n",
       "    <tr>\n",
       "      <td>17</td>\n",
       "      <td>PC18</td>\n",
       "      <td>Explained Info    0.826906\n",
       "dtype: float64</td>\n",
       "    </tr>\n",
       "    <tr>\n",
       "      <td>18</td>\n",
       "      <td>PC19</td>\n",
       "      <td>Explained Info    0.83956\n",
       "dtype: float64</td>\n",
       "    </tr>\n",
       "    <tr>\n",
       "      <td>19</td>\n",
       "      <td>PC20</td>\n",
       "      <td>Explained Info    0.85178\n",
       "dtype: float64</td>\n",
       "    </tr>\n",
       "    <tr>\n",
       "      <td>20</td>\n",
       "      <td>PC21</td>\n",
       "      <td>Explained Info    0.863682\n",
       "dtype: float64</td>\n",
       "    </tr>\n",
       "    <tr>\n",
       "      <td>21</td>\n",
       "      <td>PC22</td>\n",
       "      <td>Explained Info    0.873109\n",
       "dtype: float64</td>\n",
       "    </tr>\n",
       "    <tr>\n",
       "      <td>22</td>\n",
       "      <td>PC23</td>\n",
       "      <td>Explained Info    0.882266\n",
       "dtype: float64</td>\n",
       "    </tr>\n",
       "    <tr>\n",
       "      <td>23</td>\n",
       "      <td>PC24</td>\n",
       "      <td>Explained Info    0.890735\n",
       "dtype: float64</td>\n",
       "    </tr>\n",
       "    <tr>\n",
       "      <td>24</td>\n",
       "      <td>PC25</td>\n",
       "      <td>Explained Info    0.898251\n",
       "dtype: float64</td>\n",
       "    </tr>\n",
       "    <tr>\n",
       "      <td>25</td>\n",
       "      <td>PC26</td>\n",
       "      <td>Explained Info    0.905651\n",
       "dtype: float64</td>\n",
       "    </tr>\n",
       "    <tr>\n",
       "      <td>26</td>\n",
       "      <td>PC27</td>\n",
       "      <td>Explained Info    0.912708\n",
       "dtype: float64</td>\n",
       "    </tr>\n",
       "    <tr>\n",
       "      <td>27</td>\n",
       "      <td>PC28</td>\n",
       "      <td>Explained Info    0.919068\n",
       "dtype: float64</td>\n",
       "    </tr>\n",
       "    <tr>\n",
       "      <td>28</td>\n",
       "      <td>PC29</td>\n",
       "      <td>Explained Info    0.925133\n",
       "dtype: float64</td>\n",
       "    </tr>\n",
       "    <tr>\n",
       "      <td>29</td>\n",
       "      <td>PC30</td>\n",
       "      <td>Explained Info    0.930954\n",
       "dtype: float64</td>\n",
       "    </tr>\n",
       "    <tr>\n",
       "      <td>30</td>\n",
       "      <td>PC31</td>\n",
       "      <td>Explained Info    0.936296\n",
       "dtype: float64</td>\n",
       "    </tr>\n",
       "    <tr>\n",
       "      <td>31</td>\n",
       "      <td>PC32</td>\n",
       "      <td>Explained Info    0.94148\n",
       "dtype: float64</td>\n",
       "    </tr>\n",
       "    <tr>\n",
       "      <td>32</td>\n",
       "      <td>PC33</td>\n",
       "      <td>Explained Info    0.946274\n",
       "dtype: float64</td>\n",
       "    </tr>\n",
       "    <tr>\n",
       "      <td>33</td>\n",
       "      <td>PC34</td>\n",
       "      <td>Explained Info    0.950292\n",
       "dtype: float64</td>\n",
       "    </tr>\n",
       "    <tr>\n",
       "      <td>34</td>\n",
       "      <td>PC35</td>\n",
       "      <td>Explained Info    0.953505\n",
       "dtype: float64</td>\n",
       "    </tr>\n",
       "    <tr>\n",
       "      <td>35</td>\n",
       "      <td>PC36</td>\n",
       "      <td>Explained Info    0.956523\n",
       "dtype: float64</td>\n",
       "    </tr>\n",
       "    <tr>\n",
       "      <td>36</td>\n",
       "      <td>PC37</td>\n",
       "      <td>Explained Info    0.959364\n",
       "dtype: float64</td>\n",
       "    </tr>\n",
       "    <tr>\n",
       "      <td>37</td>\n",
       "      <td>PC38</td>\n",
       "      <td>Explained Info    0.96207\n",
       "dtype: float64</td>\n",
       "    </tr>\n",
       "    <tr>\n",
       "      <td>38</td>\n",
       "      <td>PC39</td>\n",
       "      <td>Explained Info    0.964676\n",
       "dtype: float64</td>\n",
       "    </tr>\n",
       "    <tr>\n",
       "      <td>39</td>\n",
       "      <td>PC40</td>\n",
       "      <td>Explained Info    0.967087\n",
       "dtype: float64</td>\n",
       "    </tr>\n",
       "    <tr>\n",
       "      <td>40</td>\n",
       "      <td>PC41</td>\n",
       "      <td>Explained Info    0.969312\n",
       "dtype: float64</td>\n",
       "    </tr>\n",
       "    <tr>\n",
       "      <td>41</td>\n",
       "      <td>PC42</td>\n",
       "      <td>Explained Info    0.971426\n",
       "dtype: float64</td>\n",
       "    </tr>\n",
       "    <tr>\n",
       "      <td>42</td>\n",
       "      <td>PC43</td>\n",
       "      <td>Explained Info    0.973427\n",
       "dtype: float64</td>\n",
       "    </tr>\n",
       "    <tr>\n",
       "      <td>43</td>\n",
       "      <td>PC44</td>\n",
       "      <td>Explained Info    0.975395\n",
       "dtype: float64</td>\n",
       "    </tr>\n",
       "    <tr>\n",
       "      <td>44</td>\n",
       "      <td>PC45</td>\n",
       "      <td>Explained Info    0.977254\n",
       "dtype: float64</td>\n",
       "    </tr>\n",
       "    <tr>\n",
       "      <td>45</td>\n",
       "      <td>PC46</td>\n",
       "      <td>Explained Info    0.978978\n",
       "dtype: float64</td>\n",
       "    </tr>\n",
       "    <tr>\n",
       "      <td>46</td>\n",
       "      <td>PC47</td>\n",
       "      <td>Explained Info    0.980608\n",
       "dtype: float64</td>\n",
       "    </tr>\n",
       "    <tr>\n",
       "      <td>47</td>\n",
       "      <td>PC48</td>\n",
       "      <td>Explained Info    0.982203\n",
       "dtype: float64</td>\n",
       "    </tr>\n",
       "    <tr>\n",
       "      <td>48</td>\n",
       "      <td>PC49</td>\n",
       "      <td>Explained Info    0.983671\n",
       "dtype: float64</td>\n",
       "    </tr>\n",
       "    <tr>\n",
       "      <td>49</td>\n",
       "      <td>PC50</td>\n",
       "      <td>Explained Info    0.985033\n",
       "dtype: float64</td>\n",
       "    </tr>\n",
       "    <tr>\n",
       "      <td>50</td>\n",
       "      <td>PC51</td>\n",
       "      <td>Explained Info    0.986186\n",
       "dtype: float64</td>\n",
       "    </tr>\n",
       "    <tr>\n",
       "      <td>51</td>\n",
       "      <td>PC52</td>\n",
       "      <td>Explained Info    0.987255\n",
       "dtype: float64</td>\n",
       "    </tr>\n",
       "    <tr>\n",
       "      <td>52</td>\n",
       "      <td>PC53</td>\n",
       "      <td>Explained Info    0.988248\n",
       "dtype: float64</td>\n",
       "    </tr>\n",
       "    <tr>\n",
       "      <td>53</td>\n",
       "      <td>PC54</td>\n",
       "      <td>Explained Info    0.989235\n",
       "dtype: float64</td>\n",
       "    </tr>\n",
       "    <tr>\n",
       "      <td>54</td>\n",
       "      <td>PC55</td>\n",
       "      <td>Explained Info    0.990211\n",
       "dtype: float64</td>\n",
       "    </tr>\n",
       "    <tr>\n",
       "      <td>55</td>\n",
       "      <td>PC56</td>\n",
       "      <td>Explained Info    0.99118\n",
       "dtype: float64</td>\n",
       "    </tr>\n",
       "    <tr>\n",
       "      <td>56</td>\n",
       "      <td>PC57</td>\n",
       "      <td>Explained Info    0.992082\n",
       "dtype: float64</td>\n",
       "    </tr>\n",
       "    <tr>\n",
       "      <td>57</td>\n",
       "      <td>PC58</td>\n",
       "      <td>Explained Info    0.99291\n",
       "dtype: float64</td>\n",
       "    </tr>\n",
       "    <tr>\n",
       "      <td>58</td>\n",
       "      <td>PC59</td>\n",
       "      <td>Explained Info    0.993644\n",
       "dtype: float64</td>\n",
       "    </tr>\n",
       "    <tr>\n",
       "      <td>59</td>\n",
       "      <td>PC60</td>\n",
       "      <td>Explained Info    0.994323\n",
       "dtype: float64</td>\n",
       "    </tr>\n",
       "  </tbody>\n",
       "</table>\n",
       "</div>"
      ],
      "text/plain": [
       "   Variable                                 Importance\n",
       "0       PC1       Explained Info    0.0\n",
       "dtype: float64\n",
       "1       PC2  Explained Info    0.204761\n",
       "dtype: float64\n",
       "2       PC3   Explained Info    0.31747\n",
       "dtype: float64\n",
       "3       PC4  Explained Info    0.401489\n",
       "dtype: float64\n",
       "4       PC5  Explained Info    0.471021\n",
       "dtype: float64\n",
       "5       PC6  Explained Info    0.527071\n",
       "dtype: float64\n",
       "6       PC7  Explained Info    0.568048\n",
       "dtype: float64\n",
       "7       PC8  Explained Info    0.608649\n",
       "dtype: float64\n",
       "8       PC9   Explained Info    0.64717\n",
       "dtype: float64\n",
       "9      PC10  Explained Info    0.678818\n",
       "dtype: float64\n",
       "10     PC11  Explained Info    0.705585\n",
       "dtype: float64\n",
       "11     PC12  Explained Info    0.730354\n",
       "dtype: float64\n",
       "12     PC13  Explained Info    0.751203\n",
       "dtype: float64\n",
       "13     PC14  Explained Info    0.768423\n",
       "dtype: float64\n",
       "14     PC15  Explained Info    0.784061\n",
       "dtype: float64\n",
       "15     PC16  Explained Info    0.798757\n",
       "dtype: float64\n",
       "16     PC17  Explained Info    0.812996\n",
       "dtype: float64\n",
       "17     PC18  Explained Info    0.826906\n",
       "dtype: float64\n",
       "18     PC19   Explained Info    0.83956\n",
       "dtype: float64\n",
       "19     PC20   Explained Info    0.85178\n",
       "dtype: float64\n",
       "20     PC21  Explained Info    0.863682\n",
       "dtype: float64\n",
       "21     PC22  Explained Info    0.873109\n",
       "dtype: float64\n",
       "22     PC23  Explained Info    0.882266\n",
       "dtype: float64\n",
       "23     PC24  Explained Info    0.890735\n",
       "dtype: float64\n",
       "24     PC25  Explained Info    0.898251\n",
       "dtype: float64\n",
       "25     PC26  Explained Info    0.905651\n",
       "dtype: float64\n",
       "26     PC27  Explained Info    0.912708\n",
       "dtype: float64\n",
       "27     PC28  Explained Info    0.919068\n",
       "dtype: float64\n",
       "28     PC29  Explained Info    0.925133\n",
       "dtype: float64\n",
       "29     PC30  Explained Info    0.930954\n",
       "dtype: float64\n",
       "30     PC31  Explained Info    0.936296\n",
       "dtype: float64\n",
       "31     PC32   Explained Info    0.94148\n",
       "dtype: float64\n",
       "32     PC33  Explained Info    0.946274\n",
       "dtype: float64\n",
       "33     PC34  Explained Info    0.950292\n",
       "dtype: float64\n",
       "34     PC35  Explained Info    0.953505\n",
       "dtype: float64\n",
       "35     PC36  Explained Info    0.956523\n",
       "dtype: float64\n",
       "36     PC37  Explained Info    0.959364\n",
       "dtype: float64\n",
       "37     PC38   Explained Info    0.96207\n",
       "dtype: float64\n",
       "38     PC39  Explained Info    0.964676\n",
       "dtype: float64\n",
       "39     PC40  Explained Info    0.967087\n",
       "dtype: float64\n",
       "40     PC41  Explained Info    0.969312\n",
       "dtype: float64\n",
       "41     PC42  Explained Info    0.971426\n",
       "dtype: float64\n",
       "42     PC43  Explained Info    0.973427\n",
       "dtype: float64\n",
       "43     PC44  Explained Info    0.975395\n",
       "dtype: float64\n",
       "44     PC45  Explained Info    0.977254\n",
       "dtype: float64\n",
       "45     PC46  Explained Info    0.978978\n",
       "dtype: float64\n",
       "46     PC47  Explained Info    0.980608\n",
       "dtype: float64\n",
       "47     PC48  Explained Info    0.982203\n",
       "dtype: float64\n",
       "48     PC49  Explained Info    0.983671\n",
       "dtype: float64\n",
       "49     PC50  Explained Info    0.985033\n",
       "dtype: float64\n",
       "50     PC51  Explained Info    0.986186\n",
       "dtype: float64\n",
       "51     PC52  Explained Info    0.987255\n",
       "dtype: float64\n",
       "52     PC53  Explained Info    0.988248\n",
       "dtype: float64\n",
       "53     PC54  Explained Info    0.989235\n",
       "dtype: float64\n",
       "54     PC55  Explained Info    0.990211\n",
       "dtype: float64\n",
       "55     PC56   Explained Info    0.99118\n",
       "dtype: float64\n",
       "56     PC57  Explained Info    0.992082\n",
       "dtype: float64\n",
       "57     PC58   Explained Info    0.99291\n",
       "dtype: float64\n",
       "58     PC59  Explained Info    0.993644\n",
       "dtype: float64\n",
       "59     PC60  Explained Info    0.994323\n",
       "dtype: float64"
      ]
     },
     "execution_count": 20,
     "metadata": {},
     "output_type": "execute_result"
    }
   ],
   "source": [
    "explained_info_train = pd.DataFrame(pca_model.explained_variance_ratio_, columns=['Explained Info']).sort_values(by = 'Explained Info', ascending = False)\n",
    "imp = []\n",
    "for i in range(explained_info_train.shape[0]):\n",
    "    imp.append(explained_info_train.head(i).sum())\n",
    "explained_info_train_sum = pd.DataFrame()\n",
    "explained_info_train_sum['Variable'] = pca_columns\n",
    "explained_info_train_sum['Importance'] = imp\n",
    "explained_info_train_sum.head(60)"
   ]
  },
  {
   "cell_type": "code",
   "execution_count": 21,
   "metadata": {},
   "outputs": [],
   "source": [
    "pca_columns = []\n",
    "for i in range(25):\n",
    "    pca_columns.append('PC' + str(i+1))\n",
    "pca_model = PCA(n_components = 25)\n",
    "pca_model.fit(X)\n",
    "df_pca_train = pd.DataFrame(pca_model.transform(X), columns = pca_columns)"
   ]
  },
  {
   "cell_type": "code",
   "execution_count": 22,
   "metadata": {},
   "outputs": [],
   "source": [
    "x_train, x_test, y_train, y_test , trainComplaintID , valComplaintID = train_test_split(df_pca_train, y, p_ComplaintID , test_size = 0.3,random_state = 17 , stratify = df_train['Consumerdisputed'])"
   ]
  },
  {
   "cell_type": "code",
   "execution_count": 23,
   "metadata": {},
   "outputs": [
    {
     "name": "stdout",
     "output_type": "stream",
     "text": [
      "y_train distribution of label '1': 21474 \n",
      "\n",
      "y_train distribution of label '0': 48743 \n",
      "\n",
      "y_val distribution of label '1': 9203 \n",
      "\n",
      "y_val distribution of label '0': 20891 \n",
      "\n"
     ]
    }
   ],
   "source": [
    "#checking y_train distribution\n",
    "print(\"y_train distribution of label '1': {} \\n\".format(sum(y_train == 1))) \n",
    "print(\"y_train distribution of label '0': {} \\n\".format(sum(y_train == 0)))\n",
    "\n",
    "\n",
    "#checking y_train distribution\n",
    "print(\"y_val distribution of label '1': {} \\n\".format(sum(y_val == 1))) \n",
    "print(\"y_val distribution of label '0': {} \\n\".format(sum(y_val == 0)))\n"
   ]
  },
  {
   "cell_type": "code",
   "execution_count": 24,
   "metadata": {},
   "outputs": [
    {
     "data": {
      "text/plain": [
       "142"
      ]
     },
     "execution_count": 24,
     "metadata": {},
     "output_type": "execute_result"
    }
   ],
   "source": [
    "totalFeature = X_train.columns\n",
    "len(totalFeature)"
   ]
  },
  {
   "cell_type": "markdown",
   "metadata": {},
   "source": [
    "# Methods to handle imbalance dataset\n",
    "\n",
    "1. Random under-sampling & over-sampling with imblearn: Generate new samples in the minority classes or Under-sample the majority class(es) by randomly picking samples with or without replacement.The most naive strategy is to generate new samples by randomly sampling with replacement of the currently available samples. The RandomOverSampler is the library for it. \n",
    "\n",
    "2. Under-sampling: Tomek links : Tomek links are pairs of very close instances but of opposite classes. Removing the instances of the majority class of each pair increases the space between the two classes, facilitating the classification process.\n",
    "\n",
    "3. Synthetic Minority Oversampling Technique (SMOTE): This technique generates synthetic data for the minority class.\n",
    "SMOTE (Synthetic Minority Oversampling Technique) works by randomly picking a point from the minority class and computing the k-nearest neighbors for this point. The synthetic points are added between the chosen point and its neighbors.\n",
    "\n",
    "4. NearMiss : NearMiss is an under-sampling technique. Instead of resampling the Minority class, using a distance, this will make the majority class equal to the minority class.\n",
    "\n",
    "5. Penalize Algorithms (Cost-Sensitive Training) : Penalized learning algorithms that increase the cost of classification mistakes on the minority class.A popular algorithm for this technique is Penalized-SVM.\n",
    "\n",
    "6. ADASYN : The adaptive synthetic sampling approach, or ADASYN algorithm,builds on the methodology of SMOTE, by shifting the importance of the classification boundary to those minority classes which are difficult. ADASYN uses a weighted distribution for different minority class examples according to their level of difficulty in learning, where more synthetic data is generated for minority class examples that are harder to learn.\n"
   ]
  },
  {
   "cell_type": "code",
   "execution_count": 25,
   "metadata": {},
   "outputs": [],
   "source": [
    "from imblearn.over_sampling import SMOTE, ADASYN "
   ]
  },
  {
   "cell_type": "code",
   "execution_count": 26,
   "metadata": {},
   "outputs": [
    {
     "name": "stdout",
     "output_type": "stream",
     "text": [
      "<class 'pandas.core.frame.DataFrame'>\n"
     ]
    },
    {
     "data": {
      "image/png": "[encoded data removed]",
      "text/plain": [
       "<Figure size 432x288 with 1 Axes>"
      ]
     },
     "metadata": {
      "needs_background": "light"
     },
     "output_type": "display_data"
    }
   ],
   "source": [
    "oversample = ADASYN()\n",
    "x_train_res, y_train_res = oversample.fit_resample(x_train, y_train)\n",
    "print (type(x_train_res))\n",
    "sns.countplot(x=y_train_res, palette='seismic');"
   ]
  },
  {
   "cell_type": "code",
   "execution_count": 27,
   "metadata": {},
   "outputs": [],
   "source": [
    "#Dataframe to csv\n",
    "#x_train_res.to_csv(dataFolder+\"/X_train_Balanaced_Dataset.csv\",index=False)\n",
    "#x_test.to_csv(dataFolder+\"/X_test_Dataset.csv\",index=False)\n",
    "\n",
    "#Numpy array to CSV\n",
    "#np.savetxt(dataFolder+\"/Y_train_Balanaced_Dataset.csv\", y_train_res, delimiter=\",\")\n",
    "#np.savetxt(dataFolder+\"/Y_test_Dataset.csv\", y_test, delimiter=\",\")"
   ]
  },
  {
   "cell_type": "code",
   "execution_count": 28,
   "metadata": {},
   "outputs": [],
   "source": [
    "#np.savetxt(dataFolder+\"/Y_train_Balanaced_Dataset.csv\", y_train_res, delimiter=\",\")\n",
    "#np.savetxt(dataFolder+\"/Y_test_Dataset.csv\", y_test, delimiter=\",\")"
   ]
  },
  {
   "cell_type": "code",
   "execution_count": 29,
   "metadata": {},
   "outputs": [
    {
     "name": "stdout",
     "output_type": "stream",
     "text": [
      "Consumers Not disputed: 48743\n",
      "Consumers disputed: 49767\n",
      "Class Imbalance Ratio: 1.0210081447592474\n"
     ]
    }
   ],
   "source": [
    "class_count_1=0\n",
    "class_count_0=0\n",
    "for class_type in y_train_res:\n",
    "    if (class_type == 1):\n",
    "        class_count_1 = class_count_1 + 1\n",
    "    else:\n",
    "        class_count_0 = class_count_0 + 1\n",
    "print (\"Consumers Not disputed:\",class_count_0)\n",
    "print (\"Consumers disputed:\",class_count_1)\n",
    "IR = class_count_1/class_count_0 #Minority CLass/Majority CLass\n",
    "print (\"Class Imbalance Ratio:\",IR)"
   ]
  },
  {
   "cell_type": "code",
   "execution_count": 30,
   "metadata": {},
   "outputs": [
    {
     "name": "stdout",
     "output_type": "stream",
     "text": [
      "Before Over Sampling\n",
      "y_train distribution of label '1': 21474 \n",
      "\n",
      "y_train distribution of label '0': 48743 \n",
      "\n",
      "----------------------------------\n",
      "After Over Sampling\n",
      "y_train_res distribution of label '1': 49767 \n",
      "\n",
      "y_train_res distribution of label '0': 48743 \n",
      "\n",
      "----------------------------------\n",
      "y_test distribution of label '1': 9203 \n",
      "\n",
      "y_test distribution of label '0': 20891 \n",
      "\n"
     ]
    }
   ],
   "source": [
    "#checking y_train distribution\n",
    "print(\"Before Over Sampling\")\n",
    "print(\"y_train distribution of label '1': {} \\n\".format(sum(y_train == 1))) \n",
    "print(\"y_train distribution of label '0': {} \\n\".format(sum(y_train == 0)))\n",
    "print(\"----------------------------------\")\n",
    "#checking y_train distribution\n",
    "print(\"After Over Sampling\")\n",
    "print(\"y_train_res distribution of label '1': {} \\n\".format(sum(y_train_res == 1))) \n",
    "print(\"y_train_res distribution of label '0': {} \\n\".format(sum(y_train_res == 0)))\n",
    "print(\"----------------------------------\")\n",
    "\n",
    "#checking y_test distribution\n",
    "print(\"y_test distribution of label '1': {} \\n\".format(sum(y_test == 1))) \n",
    "print(\"y_test distribution of label '0': {} \\n\".format(sum(y_test == 0)))"
   ]
  },
  {
   "cell_type": "code",
   "execution_count": 31,
   "metadata": {},
   "outputs": [],
   "source": [
    "#Import Random Forest Model\n",
    "from sklearn.ensemble import RandomForestClassifier\n",
    "from xgboost import XGBClassifier\n",
    "from sklearn.tree import DecisionTreeClassifier \n",
    "from sklearn import svm\n",
    "from sklearn.svm import LinearSVC\n",
    "from sklearn.model_selection import train_test_split, GridSearchCV\n",
    "from sklearn.metrics import precision_score, recall_score, f1_score, confusion_matrix, accuracy_score, classification_report\n",
    "from sklearn.metrics import roc_curve, auc\n",
    "from sklearn.metrics import roc_auc_score\n",
    "import matplotlib.pyplot as plt\n"
   ]
  },
  {
   "cell_type": "code",
   "execution_count": 32,
   "metadata": {},
   "outputs": [],
   "source": [
    "def plot_roc_curve(model, yTest, yPred):\n",
    "    fpr, tpr, thresholds = roc_curve(yTest, yPred)\n",
    "    roc_auc = auc(fpr, tpr)\n",
    "    lw = 2\n",
    "    #print('AUC area:', roc_auc)\n",
    "    Model_accuracy[model] = roc_auc_score(yTest,yPred)\n",
    "    print('AUC roc_auc_score:', roc_auc_score(yTest,yPred))\n",
    "    plt.plot([0,1],[0,1],'k--')\n",
    "    #plt.plot(fpr,tpr, label='ROC curve (area = %0.2f)' % roc_auc)\n",
    "    plt.plot(fpr, tpr, color='darkorange',\n",
    "         lw=lw, label='ROC curve (area = %0.2f)' % roc_auc)\n",
    "    plt.xlabel('fpr')\n",
    "    plt.ylabel('tpr')\n",
    "    plt.title(model)\n",
    "    plt.show()\n",
    "from sklearn.metrics import cohen_kappa_score\n",
    "def getModelReport(modelName, yTest, yPredict) :\n",
    "    accuracy = accuracy_score(yTest, yPredict)\n",
    "    precision = precision_score(yTest, yPredict)\n",
    "    recall = recall_score(yTest, yPredict)\n",
    "    f1 = f1_score(yTest, yPredict)\n",
    "    # Cohen's kappa\n",
    "    cohenKappa = cohen_kappa_score(y_test, yPredict)\n",
    "    conf_matrix = confusion_matrix(yTest, yPredict)\n",
    "    clf_report = classification_report(yTest, yPredict)\n",
    "\n",
    "    print('\\n\\n*************************************************************************************')\n",
    "    print('FOR {0}:'.format(modelName))\n",
    "    print('ACCURACY:', accuracy)\n",
    "    print('F1 SCORE:', f1)\n",
    "    print('CONFUSION MATRIX: ')\n",
    "    print(conf_matrix)\n",
    "    print('CLASSIFICATION REPORT: ')\n",
    "    print(clf_report)\n",
    "    #print('COHEN KAPPA SCORE: ')\n",
    "    #print (\"{0:.3f}\".format(cohenKappa))\n",
    "    print('****************************************************************************************')\n",
    "\n",
    "def classification_report_csv(algo_name,y_test, y_predicted):\n",
    "    report = classification_report(y_test, y_predicted, output_dict=True)\n",
    "    df = pd.DataFrame(report).transpose()\n",
    "    # Create a Pandas Excel writer using XlsxWriter as the engine.\n",
    "    writer = pd.ExcelWriter(\"Model_Output.xlsx\", engine='xlsxwriter')\n",
    "\n",
    "    # Convert the dataframe to an XlsxWriter Excel object.\n",
    "    df.to_excel(writer, sheet_name=algo_name)\n",
    "\n",
    "    # Close the Pandas Excel writer and output the Excel file.\n",
    "    writer.save()"
   ]
  },
  {
   "cell_type": "code",
   "execution_count": 33,
   "metadata": {},
   "outputs": [],
   "source": [
    "def predict_with_decisionTree(X_train, y_train, X_test):\n",
    "    \"\"\"\n",
    "    This method creates a model using Decision Tree classifier and predicts the output\n",
    "    X_train: The training data set\n",
    "    y_train: The label of training data set\n",
    "    X_test: The test data set\n",
    "    \"\"\"\n",
    "    \n",
    "    model = DecisionTreeClassifier()\n",
    "    model.fit(X_train, y_train.ravel())\n",
    "    dt_y_predict = model.predict(X_test)\n",
    "    return dt_y_predict\n",
    "\n",
    "def predict_with_SVM(X_train, y_train, X_test):\n",
    "    \"\"\"\n",
    "    This method creates a model using SVM classifier and predicts the output\n",
    "    X_train: The training data set\n",
    "    y_train: The label of training data set\n",
    "    X_test: The test data set\n",
    "    \"\"\"\n",
    "    #model = svm.SVC(gamma='scale', kernel ='rbf', degree = 3) \n",
    "    model = LinearSVC(random_state=0, tol=1e-5)\n",
    "    # RBF Kernel\n",
    "    # Train the model using the training sets\n",
    "    model.fit(X_train, y_train.ravel())\n",
    "    #Predict the response for test dataset\n",
    "    svm_y_pred = model.predict(X_test)\n",
    "    return svm_y_pred\n",
    "\n",
    "def predict_with_randomForest(X_train, y_train, X_test):\n",
    "    \"\"\"\n",
    "    This method creates a model using Random forest classifier and predicts the output\n",
    "    X_train: The training data set\n",
    "    y_train: The label of training data set\n",
    "    X_test: The test data set\n",
    "    \"\"\"\n",
    "    \n",
    "    model = RandomForestClassifier(n_estimators=100)\n",
    "    model.fit(X_train, y_train)\n",
    "    forest_y_predict = model.predict(X_test)\n",
    "    return forest_y_predict\n",
    "\n",
    "def predict_with_xGBoost(X_train, y_train, X_test):\n",
    "    \"\"\"\n",
    "    This method creates a model using XGBoost and predicts the output\n",
    "    X_train: The training data set\n",
    "    y_train: The label of training data set\n",
    "    X_test: The test data set  \n",
    "    \"\"\"\n",
    "    model = XGBClassifier(max_depth=2)\n",
    "    model.fit(X_train, y_train)\n",
    "    xgboost_y_predict = model.predict(X_test)\n",
    "    return xgboost_y_predict, model\n",
    "\n",
    "def write_predictions_to_csv(dataToWrite, file):\n",
    "    fullAttrList = dataToWrite.keys()\n",
    "    dfToWrite = pd.DataFrame( columns = fullAttrList)\n",
    "    for key,val in dataToWrite.items():\n",
    "        dfToWrite[key] = val\n",
    "    dfToWrite.to_csv(file, index=False)    "
   ]
  },
  {
   "cell_type": "code",
   "execution_count": 34,
   "metadata": {},
   "outputs": [],
   "source": [
    "SKLearn_Model_Data = {}\n",
    "Model_accuracy = {}"
   ]
  },
  {
   "cell_type": "code",
   "execution_count": 35,
   "metadata": {},
   "outputs": [],
   "source": [
    "def classification_report_csv(algo_name,y_test, y_predicted):\n",
    "    #df_header = header_line_csv(algo_name)\n",
    "    report = classification_report(y_test, y_predicted, output_dict=True,target_names=['Consumer Not Disputed', 'Consumer Disputed'])\n",
    "    df = pd.DataFrame(report).transpose()\n",
    "    df.insert(loc=0, column='Algorithm Name', value=algo_name)\n",
    "    return df"
   ]
  },
  {
   "cell_type": "code",
   "execution_count": 62,
   "metadata": {},
   "outputs": [
    {
     "name": "stdout",
     "output_type": "stream",
     "text": [
      "\n",
      "\n",
      "*************************************************************************************\n",
      "FOR Random Forest without ADASYN:\n",
      "ACCURACY: 0.6275004984382269\n",
      "F1 SCORE: 0.28498532976144914\n",
      "CONFUSION MATRIX: \n",
      "[[16650  4241]\n",
      " [ 6969  2234]]\n",
      "CLASSIFICATION REPORT: \n",
      "              precision    recall  f1-score   support\n",
      "\n",
      "           0       0.70      0.80      0.75     20891\n",
      "           1       0.35      0.24      0.28      9203\n",
      "\n",
      "    accuracy                           0.63     30094\n",
      "   macro avg       0.52      0.52      0.52     30094\n",
      "weighted avg       0.59      0.63      0.61     30094\n",
      "\n",
      "****************************************************************************************\n",
      "AUC roc_auc_score: 0.5198704255879749\n"
     ]
    },
    {
     "data": {
      "image/png": "[encoded data removed]",
      "text/plain": [
       "<Figure size 432x288 with 1 Axes>"
      ]
     },
     "metadata": {
      "needs_background": "light"
     },
     "output_type": "display_data"
    },
    {
     "name": "stdout",
     "output_type": "stream",
     "text": [
      "\n",
      "\n",
      "*************************************************************************************\n",
      "FOR Random Forest with ADASYN:\n",
      "ACCURACY: 0.5860968963913072\n",
      "F1 SCORE: 0.3461417322834646\n",
      "CONFUSION MATRIX: \n",
      "[[14341  6550]\n",
      " [ 5906  3297]]\n",
      "CLASSIFICATION REPORT: \n",
      "              precision    recall  f1-score   support\n",
      "\n",
      "           0       0.71      0.69      0.70     20891\n",
      "           1       0.33      0.36      0.35      9203\n",
      "\n",
      "    accuracy                           0.59     30094\n",
      "   macro avg       0.52      0.52      0.52     30094\n",
      "weighted avg       0.59      0.59      0.59     30094\n",
      "\n",
      "****************************************************************************************\n",
      "AUC roc_auc_score: 0.522360300321222\n"
     ]
    },
    {
     "data": {
      "image/png": "[encoded data removed]",
      "text/plain": [
       "<Figure size 432x288 with 1 Axes>"
      ]
     },
     "metadata": {
      "needs_background": "light"
     },
     "output_type": "display_data"
    }
   ],
   "source": [
    "df_final = pd.DataFrame()\n",
    "#Predict the model with random forest with pre-processed data without ADASYN\n",
    "forest_y_predict = predict_with_randomForest(x_train, y_train, x_test)\n",
    "forest_y_predict_smote = predict_with_randomForest(x_train_res, y_train_res, x_test)\n",
    "\n",
    "#Evaluate random forest without ADASYN\n",
    "getModelReport(\"Random Forest without ADASYN\", y_test, forest_y_predict)\n",
    "plot_roc_curve(\"Random Forest without ADASYN\",y_test, forest_y_predict)\n",
    "df1 = classification_report_csv(\"Random Forest without ADASYN\",y_test,forest_y_predict)\n",
    "df_final= pd.concat([df_final,df1])\n",
    "\n",
    "#Evaluate random forest with ADASYN\n",
    "getModelReport(\"Random Forest with ADASYN\", y_test, forest_y_predict_smote)\n",
    "plot_roc_curve(\"Random Forest with ADASYN\",y_test, forest_y_predict_smote)\n",
    "df2 = classification_report_csv(\"Random Forest with ADASYN\",y_test,forest_y_predict_smote)\n",
    "df_final= pd.concat([df_final,df2])"
   ]
  },
  {
   "cell_type": "code",
   "execution_count": 63,
   "metadata": {},
   "outputs": [
    {
     "name": "stdout",
     "output_type": "stream",
     "text": [
      "                                     Algorithm Name  precision    recall  \\\n",
      "Consumer Not Disputed  Random Forest without ADASYN   0.704941  0.796994   \n",
      "Consumer Disputed      Random Forest without ADASYN   0.345019  0.242747   \n",
      "accuracy               Random Forest without ADASYN   0.627500  0.627500   \n",
      "macro avg              Random Forest without ADASYN   0.524980  0.519870   \n",
      "weighted avg           Random Forest without ADASYN   0.594874  0.627500   \n",
      "\n",
      "                       f1-score     support  \n",
      "Consumer Not Disputed  0.748146  20891.0000  \n",
      "Consumer Disputed      0.284985   9203.0000  \n",
      "accuracy               0.627500      0.6275  \n",
      "macro avg              0.516566  30094.0000  \n",
      "weighted avg           0.606508  30094.0000  \n",
      "                                  Algorithm Name  precision    recall  \\\n",
      "Consumer Not Disputed  Random Forest with ADASYN   0.708302  0.686468   \n",
      "Consumer Disputed      Random Forest with ADASYN   0.334823  0.358253   \n",
      "accuracy               Random Forest with ADASYN   0.586097  0.586097   \n",
      "macro avg              Random Forest with ADASYN   0.521563  0.522360   \n",
      "weighted avg           Random Forest with ADASYN   0.594089  0.586097   \n",
      "\n",
      "                       f1-score       support  \n",
      "Consumer Not Disputed  0.697214  20891.000000  \n",
      "Consumer Disputed      0.346142   9203.000000  \n",
      "accuracy               0.586097      0.586097  \n",
      "macro avg              0.521678  30094.000000  \n",
      "weighted avg           0.589853  30094.000000  \n"
     ]
    }
   ],
   "source": [
    "print (df1)\n",
    "print (df2)"
   ]
  },
  {
   "cell_type": "code",
   "execution_count": 64,
   "metadata": {},
   "outputs": [
    {
     "name": "stdout",
     "output_type": "stream",
     "text": [
      "\n",
      "\n",
      "*************************************************************************************\n",
      "FOR XGBoost without ADASYN:\n",
      "ACCURACY: 0.6954542433707716\n",
      "F1 SCORE: 0.014833924540470816\n",
      "CONFUSION MATRIX: \n",
      "[[20860    31]\n",
      " [ 9134    69]]\n",
      "CLASSIFICATION REPORT: \n",
      "              precision    recall  f1-score   support\n",
      "\n",
      "           0       0.70      1.00      0.82     20891\n",
      "           1       0.69      0.01      0.01      9203\n",
      "\n",
      "    accuracy                           0.70     30094\n",
      "   macro avg       0.69      0.50      0.42     30094\n",
      "weighted avg       0.69      0.70      0.57     30094\n",
      "\n",
      "****************************************************************************************\n",
      "AUC roc_auc_score: 0.5030068312798688\n"
     ]
    },
    {
     "data": {
      "image/png": "[encoded data removed]",
      "text/plain": [
       "<Figure size 432x288 with 1 Axes>"
      ]
     },
     "metadata": {
      "needs_background": "light"
     },
     "output_type": "display_data"
    },
    {
     "name": "stdout",
     "output_type": "stream",
     "text": [
      "\n",
      "\n",
      "*************************************************************************************\n",
      "FOR XGBoost with ADASYN:\n",
      "ACCURACY: 0.523293679803283\n",
      "F1 SCORE: 0.4766525609222238\n",
      "CONFUSION MATRIX: \n",
      "[[ 9215 11676]\n",
      " [ 2670  6533]]\n",
      "CLASSIFICATION REPORT: \n",
      "              precision    recall  f1-score   support\n",
      "\n",
      "           0       0.78      0.44      0.56     20891\n",
      "           1       0.36      0.71      0.48      9203\n",
      "\n",
      "    accuracy                           0.52     30094\n",
      "   macro avg       0.57      0.58      0.52     30094\n",
      "weighted avg       0.65      0.52      0.54     30094\n",
      "\n",
      "****************************************************************************************\n",
      "AUC roc_auc_score: 0.5754881259075835\n"
     ]
    },
    {
     "data": {
      "image/png": "[encoded data removed]",
      "text/plain": [
       "<Figure size 432x288 with 1 Axes>"
      ]
     },
     "metadata": {
      "needs_background": "light"
     },
     "output_type": "display_data"
    }
   ],
   "source": [
    "xgboost_y_predict,model1_xgboost = predict_with_xGBoost(x_train, y_train, x_test)\n",
    "#print(X_train.shape)\n",
    "xgboost_y_predict_smote,model2_xgboost = predict_with_xGBoost(x_train_res, y_train_res, x_test)\n",
    "\n",
    "#Evaluate XGBoost without SMOTE\n",
    "getModelReport(\"XGBoost without ADASYN\", y_test, xgboost_y_predict)\n",
    "plot_roc_curve(\"XGBoost without ADASYN\",y_test, xgboost_y_predict)\n",
    "df3 = classification_report_csv(\"XGBoost without ADASYN\",y_test,xgboost_y_predict)\n",
    "df_final= pd.concat([df_final,df3])\n",
    "#Evaluate XGBoost with SMOTE\n",
    "getModelReport(\"XGBoost with ADASYN\", y_test, xgboost_y_predict_smote)\n",
    "plot_roc_curve(\"XGBoost with ADASYN\",y_test, xgboost_y_predict_smote)\n",
    "df4 = classification_report_csv(\"XGBoost with ADASYN\",y_test,xgboost_y_predict_smote)\n",
    "\n",
    "df_final= pd.concat([df_final,df4])"
   ]
  },
  {
   "cell_type": "code",
   "execution_count": 65,
   "metadata": {},
   "outputs": [
    {
     "data": {
      "text/html": [
       "<div>\n",
       "<style scoped>\n",
       "    .dataframe tbody tr th:only-of-type {\n",
       "        vertical-align: middle;\n",
       "    }\n",
       "\n",
       "    .dataframe tbody tr th {\n",
       "        vertical-align: top;\n",
       "    }\n",
       "\n",
       "    .dataframe thead th {\n",
       "        text-align: right;\n",
       "    }\n",
       "</style>\n",
       "<table border=\"1\" class=\"dataframe\">\n",
       "  <thead>\n",
       "    <tr style=\"text-align: right;\">\n",
       "      <th></th>\n",
       "      <th>Algorithm Name</th>\n",
       "      <th>precision</th>\n",
       "      <th>recall</th>\n",
       "      <th>f1-score</th>\n",
       "      <th>support</th>\n",
       "    </tr>\n",
       "  </thead>\n",
       "  <tbody>\n",
       "    <tr>\n",
       "      <td>Consumer Not Disputed</td>\n",
       "      <td>XGBoost with ADASYN</td>\n",
       "      <td>0.775347</td>\n",
       "      <td>0.441099</td>\n",
       "      <td>0.562302</td>\n",
       "      <td>20891.000000</td>\n",
       "    </tr>\n",
       "    <tr>\n",
       "      <td>Consumer Disputed</td>\n",
       "      <td>XGBoost with ADASYN</td>\n",
       "      <td>0.358779</td>\n",
       "      <td>0.709877</td>\n",
       "      <td>0.476653</td>\n",
       "      <td>9203.000000</td>\n",
       "    </tr>\n",
       "    <tr>\n",
       "      <td>accuracy</td>\n",
       "      <td>XGBoost with ADASYN</td>\n",
       "      <td>0.523294</td>\n",
       "      <td>0.523294</td>\n",
       "      <td>0.523294</td>\n",
       "      <td>0.523294</td>\n",
       "    </tr>\n",
       "    <tr>\n",
       "      <td>macro avg</td>\n",
       "      <td>XGBoost with ADASYN</td>\n",
       "      <td>0.567063</td>\n",
       "      <td>0.575488</td>\n",
       "      <td>0.519477</td>\n",
       "      <td>30094.000000</td>\n",
       "    </tr>\n",
       "    <tr>\n",
       "      <td>weighted avg</td>\n",
       "      <td>XGBoost with ADASYN</td>\n",
       "      <td>0.647957</td>\n",
       "      <td>0.523294</td>\n",
       "      <td>0.536109</td>\n",
       "      <td>30094.000000</td>\n",
       "    </tr>\n",
       "  </tbody>\n",
       "</table>\n",
       "</div>"
      ],
      "text/plain": [
       "                            Algorithm Name  precision    recall  f1-score  \\\n",
       "Consumer Not Disputed  XGBoost with ADASYN   0.775347  0.441099  0.562302   \n",
       "Consumer Disputed      XGBoost with ADASYN   0.358779  0.709877  0.476653   \n",
       "accuracy               XGBoost with ADASYN   0.523294  0.523294  0.523294   \n",
       "macro avg              XGBoost with ADASYN   0.567063  0.575488  0.519477   \n",
       "weighted avg           XGBoost with ADASYN   0.647957  0.523294  0.536109   \n",
       "\n",
       "                            support  \n",
       "Consumer Not Disputed  20891.000000  \n",
       "Consumer Disputed       9203.000000  \n",
       "accuracy                   0.523294  \n",
       "macro avg              30094.000000  \n",
       "weighted avg           30094.000000  "
      ]
     },
     "execution_count": 65,
     "metadata": {},
     "output_type": "execute_result"
    }
   ],
   "source": [
    "df4"
   ]
  },
  {
   "cell_type": "code",
   "execution_count": 67,
   "metadata": {},
   "outputs": [
    {
     "name": "stdout",
     "output_type": "stream",
     "text": [
      "[[17291  3600]\n",
      " [ 7219  1984]]\n",
      "              precision    recall  f1-score   support\n",
      "\n",
      "           0       0.71      0.83      0.76     20891\n",
      "           1       0.36      0.22      0.27      9203\n",
      "\n",
      "    accuracy                           0.64     30094\n",
      "   macro avg       0.53      0.52      0.52     30094\n",
      "weighted avg       0.60      0.64      0.61     30094\n",
      "\n",
      "0.640493121552469\n",
      "\n",
      "\n",
      "*************************************************************************************\n",
      "FOR KNN without ADASYN:\n",
      "ACCURACY: 0.640493121552469\n",
      "F1 SCORE: 0.26834381551362685\n",
      "CONFUSION MATRIX: \n",
      "[[17291  3600]\n",
      " [ 7219  1984]]\n",
      "CLASSIFICATION REPORT: \n",
      "              precision    recall  f1-score   support\n",
      "\n",
      "           0       0.71      0.83      0.76     20891\n",
      "           1       0.36      0.22      0.27      9203\n",
      "\n",
      "    accuracy                           0.64     30094\n",
      "   macro avg       0.53      0.52      0.52     30094\n",
      "weighted avg       0.60      0.64      0.61     30094\n",
      "\n",
      "****************************************************************************************\n",
      "AUC roc_auc_score: 0.5216294327834077\n"
     ]
    },
    {
     "data": {
      "image/png": "[encoded data removed]",
      "text/plain": [
       "<Figure size 432x288 with 1 Axes>"
      ]
     },
     "metadata": {
      "needs_background": "light"
     },
     "output_type": "display_data"
    },
    {
     "name": "stdout",
     "output_type": "stream",
     "text": [
      "With ADASYN\n",
      "[[11461  9430]\n",
      " [ 4622  4581]]\n",
      "              precision    recall  f1-score   support\n",
      "\n",
      "           0       0.71      0.55      0.62     20891\n",
      "           1       0.33      0.50      0.39      9203\n",
      "\n",
      "    accuracy                           0.53     30094\n",
      "   macro avg       0.52      0.52      0.51     30094\n",
      "weighted avg       0.59      0.53      0.55     30094\n",
      "\n",
      "0.533063069050309\n",
      "\n",
      "\n",
      "*************************************************************************************\n",
      "FOR KNN with ADASYN:\n",
      "ACCURACY: 0.533063069050309\n",
      "F1 SCORE: 0.39467562677694495\n",
      "CONFUSION MATRIX: \n",
      "[[11461  9430]\n",
      " [ 4622  4581]]\n",
      "CLASSIFICATION REPORT: \n",
      "              precision    recall  f1-score   support\n",
      "\n",
      "           0       0.71      0.55      0.62     20891\n",
      "           1       0.33      0.50      0.39      9203\n",
      "\n",
      "    accuracy                           0.53     30094\n",
      "   macro avg       0.52      0.52      0.51     30094\n",
      "weighted avg       0.59      0.53      0.55     30094\n",
      "\n",
      "****************************************************************************************\n",
      "AUC roc_auc_score: 0.5231909572727118\n"
     ]
    },
    {
     "data": {
      "image/png": "[encoded data removed]",
      "text/plain": [
       "<Figure size 432x288 with 1 Axes>"
      ]
     },
     "metadata": {
      "needs_background": "light"
     },
     "output_type": "display_data"
    }
   ],
   "source": [
    "KNN_model = KNeighborsClassifier(n_neighbors=5)\n",
    "KNeighborsClassifier(algorithm='auto', leaf_size=30, metric='minkowski',\n",
    "                     metric_params=None, n_jobs=None, n_neighbors=5, p=2,\n",
    "                     weights='uniform')\n",
    "KNN_model.fit(x_train, y_train)\n",
    "KNN_prediction = KNN_model.predict(x_test)\n",
    "print(confusion_matrix(y_test,KNN_prediction))\n",
    "print(classification_report(y_test,KNN_prediction))\n",
    "print(accuracy_score(y_test, KNN_prediction))\n",
    "#Evaluate KNN without ADASYN\n",
    "getModelReport(\"KNN without ADASYN\", y_test, KNN_prediction)\n",
    "plot_roc_curve(\"KNN without ADASYN\",y_test, KNN_prediction)\n",
    "df5 = classification_report_csv(\"KNN without ADASYN\",y_test,KNN_prediction)\n",
    "df_final= pd.concat([df_final,df5])\n",
    "\n",
    "print (\"With ADASYN\")\n",
    "KNN_model_Smote = KNeighborsClassifier(n_neighbors=5)\n",
    "KNN_model_Smote.fit(x_train_res, y_train_res)\n",
    "KNN_prediction_Smote = KNN_model_Smote.predict(x_test)\n",
    "print(confusion_matrix(y_test,KNN_prediction_Smote))\n",
    "print(classification_report(y_test,KNN_prediction_Smote))\n",
    "print(accuracy_score(y_test, KNN_prediction_Smote))\n",
    "#Evaluate XGBoost without ADASYN\n",
    "getModelReport(\"KNN with ADASYN\", y_test, KNN_prediction_Smote)\n",
    "plot_roc_curve(\"KNN with ADASYN\",y_test, KNN_prediction_Smote)\n",
    "df6 = classification_report_csv(\"KNN with ADASYN\",y_test,KNN_prediction_Smote)\n",
    "df_final= pd.concat([df_final,df6])\n"
   ]
  },
  {
   "cell_type": "code",
   "execution_count": 68,
   "metadata": {},
   "outputs": [
    {
     "name": "stdout",
     "output_type": "stream",
     "text": [
      "                           Algorithm Name  precision    recall  f1-score  \\\n",
      "Consumer Not Disputed  KNN without ADASYN   0.705467  0.827677  0.761701   \n",
      "Consumer Disputed      KNN without ADASYN   0.355301  0.215582  0.268344   \n",
      "accuracy               KNN without ADASYN   0.640493  0.640493  0.640493   \n",
      "macro avg              KNN without ADASYN   0.530384  0.521629  0.515023   \n",
      "weighted avg           KNN without ADASYN   0.598383  0.640493  0.610828   \n",
      "\n",
      "                            support  \n",
      "Consumer Not Disputed  20891.000000  \n",
      "Consumer Disputed       9203.000000  \n",
      "accuracy                   0.640493  \n",
      "macro avg              30094.000000  \n",
      "weighted avg           30094.000000  \n",
      "                        Algorithm Name  precision    recall  f1-score  \\\n",
      "Consumer Not Disputed  KNN with ADASYN   0.712616  0.548609  0.619949   \n",
      "Consumer Disputed      KNN with ADASYN   0.326957  0.497772  0.394676   \n",
      "accuracy               KNN with ADASYN   0.533063  0.533063  0.533063   \n",
      "macro avg              KNN with ADASYN   0.519787  0.523191  0.507312   \n",
      "weighted avg           KNN with ADASYN   0.594678  0.533063  0.551059   \n",
      "\n",
      "                            support  \n",
      "Consumer Not Disputed  20891.000000  \n",
      "Consumer Disputed       9203.000000  \n",
      "accuracy                   0.533063  \n",
      "macro avg              30094.000000  \n",
      "weighted avg           30094.000000  \n"
     ]
    }
   ],
   "source": [
    "print (df5)\n",
    "print (df6)"
   ]
  },
  {
   "cell_type": "code",
   "execution_count": 70,
   "metadata": {},
   "outputs": [],
   "source": [
    "# Create a Pandas Excel writer using XlsxWriter as the engine.\n",
    "writer = pd.ExcelWriter(\"Step#7_Model_Output.xlsx\", engine='xlsxwriter')\n",
    "\n",
    "# Convert the dataframe to an XlsxWriter Excel object.\n",
    "df_final.to_excel(writer, sheet_name=\"ML_models\")\n",
    "\n",
    "# Close the Pandas Excel writer and output the Excel file.\n",
    "writer.save()"
   ]
  },
  {
   "cell_type": "markdown",
   "metadata": {},
   "source": [
    "# Predicting probabilities - XGBoost "
   ]
  },
  {
   "cell_type": "code",
   "execution_count": 40,
   "metadata": {},
   "outputs": [
    {
     "data": {
      "text/html": [
       "<div>\n",
       "<style scoped>\n",
       "    .dataframe tbody tr th:only-of-type {\n",
       "        vertical-align: middle;\n",
       "    }\n",
       "\n",
       "    .dataframe tbody tr th {\n",
       "        vertical-align: top;\n",
       "    }\n",
       "\n",
       "    .dataframe thead th {\n",
       "        text-align: right;\n",
       "    }\n",
       "</style>\n",
       "<table border=\"1\" class=\"dataframe\">\n",
       "  <thead>\n",
       "    <tr style=\"text-align: right;\">\n",
       "      <th></th>\n",
       "      <th>PC1</th>\n",
       "      <th>PC2</th>\n",
       "      <th>PC3</th>\n",
       "      <th>PC4</th>\n",
       "      <th>PC5</th>\n",
       "      <th>PC6</th>\n",
       "      <th>PC7</th>\n",
       "      <th>PC8</th>\n",
       "      <th>PC9</th>\n",
       "      <th>PC10</th>\n",
       "      <th>...</th>\n",
       "      <th>PC18</th>\n",
       "      <th>PC19</th>\n",
       "      <th>PC20</th>\n",
       "      <th>PC21</th>\n",
       "      <th>PC22</th>\n",
       "      <th>PC23</th>\n",
       "      <th>PC24</th>\n",
       "      <th>PC25</th>\n",
       "      <th>class</th>\n",
       "      <th>ComplaintID</th>\n",
       "    </tr>\n",
       "  </thead>\n",
       "  <tbody>\n",
       "    <tr>\n",
       "      <td>36155</td>\n",
       "      <td>-0.415373</td>\n",
       "      <td>0.289411</td>\n",
       "      <td>0.578897</td>\n",
       "      <td>-0.694105</td>\n",
       "      <td>-0.310558</td>\n",
       "      <td>-0.239637</td>\n",
       "      <td>-0.250730</td>\n",
       "      <td>0.373738</td>\n",
       "      <td>-0.378467</td>\n",
       "      <td>-0.123512</td>\n",
       "      <td>...</td>\n",
       "      <td>-0.007635</td>\n",
       "      <td>0.036097</td>\n",
       "      <td>0.147090</td>\n",
       "      <td>0.006786</td>\n",
       "      <td>-0.173668</td>\n",
       "      <td>0.070655</td>\n",
       "      <td>0.003330</td>\n",
       "      <td>-0.017869</td>\n",
       "      <td>0</td>\n",
       "      <td>535735</td>\n",
       "    </tr>\n",
       "    <tr>\n",
       "      <td>57324</td>\n",
       "      <td>1.470994</td>\n",
       "      <td>-0.854097</td>\n",
       "      <td>-0.145305</td>\n",
       "      <td>-0.578250</td>\n",
       "      <td>-0.057688</td>\n",
       "      <td>-0.546163</td>\n",
       "      <td>0.421904</td>\n",
       "      <td>-0.410432</td>\n",
       "      <td>-0.082989</td>\n",
       "      <td>-0.073433</td>\n",
       "      <td>...</td>\n",
       "      <td>-0.036780</td>\n",
       "      <td>0.028931</td>\n",
       "      <td>0.069220</td>\n",
       "      <td>-0.002492</td>\n",
       "      <td>0.009982</td>\n",
       "      <td>-0.029472</td>\n",
       "      <td>0.051194</td>\n",
       "      <td>-0.106430</td>\n",
       "      <td>0</td>\n",
       "      <td>336747</td>\n",
       "    </tr>\n",
       "    <tr>\n",
       "      <td>58075</td>\n",
       "      <td>1.451123</td>\n",
       "      <td>-0.844778</td>\n",
       "      <td>-0.157374</td>\n",
       "      <td>-0.573530</td>\n",
       "      <td>-0.116051</td>\n",
       "      <td>0.762479</td>\n",
       "      <td>-0.123148</td>\n",
       "      <td>0.127478</td>\n",
       "      <td>-0.112673</td>\n",
       "      <td>-0.025982</td>\n",
       "      <td>...</td>\n",
       "      <td>0.003874</td>\n",
       "      <td>0.003505</td>\n",
       "      <td>0.020276</td>\n",
       "      <td>-0.009027</td>\n",
       "      <td>-0.010830</td>\n",
       "      <td>-0.005163</td>\n",
       "      <td>-0.010296</td>\n",
       "      <td>0.105549</td>\n",
       "      <td>0</td>\n",
       "      <td>964230</td>\n",
       "    </tr>\n",
       "    <tr>\n",
       "      <td>16019</td>\n",
       "      <td>1.453859</td>\n",
       "      <td>-0.852209</td>\n",
       "      <td>-0.154940</td>\n",
       "      <td>-0.587708</td>\n",
       "      <td>-0.154627</td>\n",
       "      <td>0.010611</td>\n",
       "      <td>0.179233</td>\n",
       "      <td>0.483559</td>\n",
       "      <td>-0.113047</td>\n",
       "      <td>-0.016550</td>\n",
       "      <td>...</td>\n",
       "      <td>0.006715</td>\n",
       "      <td>-0.002032</td>\n",
       "      <td>0.009930</td>\n",
       "      <td>-0.009403</td>\n",
       "      <td>-0.011650</td>\n",
       "      <td>-0.006055</td>\n",
       "      <td>-0.001155</td>\n",
       "      <td>0.048988</td>\n",
       "      <td>1</td>\n",
       "      <td>1076298</td>\n",
       "    </tr>\n",
       "    <tr>\n",
       "      <td>92487</td>\n",
       "      <td>1.545431</td>\n",
       "      <td>-0.776884</td>\n",
       "      <td>0.093807</td>\n",
       "      <td>0.223947</td>\n",
       "      <td>-0.235647</td>\n",
       "      <td>0.200464</td>\n",
       "      <td>0.059558</td>\n",
       "      <td>-0.763931</td>\n",
       "      <td>-0.091150</td>\n",
       "      <td>-0.140317</td>\n",
       "      <td>...</td>\n",
       "      <td>0.093926</td>\n",
       "      <td>-0.030868</td>\n",
       "      <td>-0.098633</td>\n",
       "      <td>-0.001700</td>\n",
       "      <td>-0.057896</td>\n",
       "      <td>0.020450</td>\n",
       "      <td>-0.010655</td>\n",
       "      <td>0.021527</td>\n",
       "      <td>0</td>\n",
       "      <td>1736592</td>\n",
       "    </tr>\n",
       "  </tbody>\n",
       "</table>\n",
       "<p>5 rows × 27 columns</p>\n",
       "</div>"
      ],
      "text/plain": [
       "            PC1       PC2       PC3       PC4       PC5       PC6       PC7  \\\n",
       "36155 -0.415373  0.289411  0.578897 -0.694105 -0.310558 -0.239637 -0.250730   \n",
       "57324  1.470994 -0.854097 -0.145305 -0.578250 -0.057688 -0.546163  0.421904   \n",
       "58075  1.451123 -0.844778 -0.157374 -0.573530 -0.116051  0.762479 -0.123148   \n",
       "16019  1.453859 -0.852209 -0.154940 -0.587708 -0.154627  0.010611  0.179233   \n",
       "92487  1.545431 -0.776884  0.093807  0.223947 -0.235647  0.200464  0.059558   \n",
       "\n",
       "            PC8       PC9      PC10  ...      PC18      PC19      PC20  \\\n",
       "36155  0.373738 -0.378467 -0.123512  ... -0.007635  0.036097  0.147090   \n",
       "57324 -0.410432 -0.082989 -0.073433  ... -0.036780  0.028931  0.069220   \n",
       "58075  0.127478 -0.112673 -0.025982  ...  0.003874  0.003505  0.020276   \n",
       "16019  0.483559 -0.113047 -0.016550  ...  0.006715 -0.002032  0.009930   \n",
       "92487 -0.763931 -0.091150 -0.140317  ...  0.093926 -0.030868 -0.098633   \n",
       "\n",
       "           PC21      PC22      PC23      PC24      PC25  class  ComplaintID  \n",
       "36155  0.006786 -0.173668  0.070655  0.003330 -0.017869      0       535735  \n",
       "57324 -0.002492  0.009982 -0.029472  0.051194 -0.106430      0       336747  \n",
       "58075 -0.009027 -0.010830 -0.005163 -0.010296  0.105549      0       964230  \n",
       "16019 -0.009403 -0.011650 -0.006055 -0.001155  0.048988      1      1076298  \n",
       "92487 -0.001700 -0.057896  0.020450 -0.010655  0.021527      0      1736592  \n",
       "\n",
       "[5 rows x 27 columns]"
      ]
     },
     "execution_count": 40,
     "metadata": {},
     "output_type": "execute_result"
    }
   ],
   "source": [
    "df_test = x_test.copy()\n",
    "df_test['class'] = y_test.tolist()\n",
    "df_test['ComplaintID']=valComplaintID.tolist()\n",
    "df_test.head()"
   ]
  },
  {
   "cell_type": "code",
   "execution_count": 41,
   "metadata": {},
   "outputs": [
    {
     "name": "stdout",
     "output_type": "stream",
     "text": [
      "[[0.4407652  0.5592348 ]\n",
      " [0.44832003 0.55167997]\n",
      " [0.43885577 0.56114423]\n",
      " ...\n",
      " [0.47945976 0.52054024]\n",
      " [0.4340849  0.5659151 ]\n",
      " [0.59738606 0.40261394]]\n"
     ]
    }
   ],
   "source": [
    "#predicting probabilities\n",
    "prob=model2_xgboost.predict_proba(x_test)\n",
    "print(prob)"
   ]
  },
  {
   "cell_type": "code",
   "execution_count": 42,
   "metadata": {},
   "outputs": [],
   "source": [
    "#Extracting the \"0\" and \"1\" probabilities to individual lists \n",
    "prob0=[]\n",
    "prob1=[]\n",
    "\n",
    "for i in range (0,len(prob)): \n",
    "    temp = prob[i]\n",
    "    temp1=temp[0]\n",
    "    temp2=temp[1]\n",
    "    prob0.append(temp1)\n",
    "    prob1.append(temp2)"
   ]
  },
  {
   "cell_type": "code",
   "execution_count": 43,
   "metadata": {},
   "outputs": [],
   "source": [
    "test_ComplainID=df_test.filter(items=[\"ComplaintID\"])"
   ]
  },
  {
   "cell_type": "code",
   "execution_count": 44,
   "metadata": {},
   "outputs": [],
   "source": [
    "test_ComplainID['Original_Class']=y_test\n",
    "test_ComplainID['Predicted_Class'] = xgboost_y_predict_smote\n",
    "test_ComplainID['UnDisputed_class_Probability'] = prob0\n",
    "test_ComplainID['Disputed_class_Prob'] = prob1"
   ]
  },
  {
   "cell_type": "code",
   "execution_count": 45,
   "metadata": {},
   "outputs": [
    {
     "data": {
      "text/html": [
       "<div>\n",
       "<style scoped>\n",
       "    .dataframe tbody tr th:only-of-type {\n",
       "        vertical-align: middle;\n",
       "    }\n",
       "\n",
       "    .dataframe tbody tr th {\n",
       "        vertical-align: top;\n",
       "    }\n",
       "\n",
       "    .dataframe thead th {\n",
       "        text-align: right;\n",
       "    }\n",
       "</style>\n",
       "<table border=\"1\" class=\"dataframe\">\n",
       "  <thead>\n",
       "    <tr style=\"text-align: right;\">\n",
       "      <th></th>\n",
       "      <th>ComplaintID</th>\n",
       "      <th>Original_Class</th>\n",
       "      <th>Predicted_Class</th>\n",
       "      <th>UnDisputed_class_Probability</th>\n",
       "      <th>Disputed_class_Prob</th>\n",
       "    </tr>\n",
       "  </thead>\n",
       "  <tbody>\n",
       "    <tr>\n",
       "      <td>36155</td>\n",
       "      <td>535735</td>\n",
       "      <td>0</td>\n",
       "      <td>1</td>\n",
       "      <td>0.440765</td>\n",
       "      <td>0.559235</td>\n",
       "    </tr>\n",
       "    <tr>\n",
       "      <td>57324</td>\n",
       "      <td>336747</td>\n",
       "      <td>0</td>\n",
       "      <td>1</td>\n",
       "      <td>0.448320</td>\n",
       "      <td>0.551680</td>\n",
       "    </tr>\n",
       "    <tr>\n",
       "      <td>58075</td>\n",
       "      <td>964230</td>\n",
       "      <td>0</td>\n",
       "      <td>1</td>\n",
       "      <td>0.438856</td>\n",
       "      <td>0.561144</td>\n",
       "    </tr>\n",
       "    <tr>\n",
       "      <td>16019</td>\n",
       "      <td>1076298</td>\n",
       "      <td>1</td>\n",
       "      <td>1</td>\n",
       "      <td>0.467481</td>\n",
       "      <td>0.532519</td>\n",
       "    </tr>\n",
       "    <tr>\n",
       "      <td>92487</td>\n",
       "      <td>1736592</td>\n",
       "      <td>0</td>\n",
       "      <td>0</td>\n",
       "      <td>0.651571</td>\n",
       "      <td>0.348429</td>\n",
       "    </tr>\n",
       "    <tr>\n",
       "      <td>21296</td>\n",
       "      <td>126116</td>\n",
       "      <td>1</td>\n",
       "      <td>1</td>\n",
       "      <td>0.369612</td>\n",
       "      <td>0.630388</td>\n",
       "    </tr>\n",
       "    <tr>\n",
       "      <td>69914</td>\n",
       "      <td>561194</td>\n",
       "      <td>0</td>\n",
       "      <td>0</td>\n",
       "      <td>0.508644</td>\n",
       "      <td>0.491356</td>\n",
       "    </tr>\n",
       "    <tr>\n",
       "      <td>54529</td>\n",
       "      <td>1329077</td>\n",
       "      <td>0</td>\n",
       "      <td>1</td>\n",
       "      <td>0.425668</td>\n",
       "      <td>0.574332</td>\n",
       "    </tr>\n",
       "    <tr>\n",
       "      <td>38568</td>\n",
       "      <td>1396988</td>\n",
       "      <td>0</td>\n",
       "      <td>0</td>\n",
       "      <td>0.575070</td>\n",
       "      <td>0.424930</td>\n",
       "    </tr>\n",
       "    <tr>\n",
       "      <td>69984</td>\n",
       "      <td>1801229</td>\n",
       "      <td>0</td>\n",
       "      <td>0</td>\n",
       "      <td>0.537910</td>\n",
       "      <td>0.462090</td>\n",
       "    </tr>\n",
       "  </tbody>\n",
       "</table>\n",
       "</div>"
      ],
      "text/plain": [
       "       ComplaintID  Original_Class  Predicted_Class  \\\n",
       "36155       535735               0                1   \n",
       "57324       336747               0                1   \n",
       "58075       964230               0                1   \n",
       "16019      1076298               1                1   \n",
       "92487      1736592               0                0   \n",
       "21296       126116               1                1   \n",
       "69914       561194               0                0   \n",
       "54529      1329077               0                1   \n",
       "38568      1396988               0                0   \n",
       "69984      1801229               0                0   \n",
       "\n",
       "       UnDisputed_class_Probability  Disputed_class_Prob  \n",
       "36155                      0.440765             0.559235  \n",
       "57324                      0.448320             0.551680  \n",
       "58075                      0.438856             0.561144  \n",
       "16019                      0.467481             0.532519  \n",
       "92487                      0.651571             0.348429  \n",
       "21296                      0.369612             0.630388  \n",
       "69914                      0.508644             0.491356  \n",
       "54529                      0.425668             0.574332  \n",
       "38568                      0.575070             0.424930  \n",
       "69984                      0.537910             0.462090  "
      ]
     },
     "execution_count": 45,
     "metadata": {},
     "output_type": "execute_result"
    }
   ],
   "source": [
    "test_ComplainID.head(10)"
   ]
  },
  {
   "cell_type": "code",
   "execution_count": 46,
   "metadata": {},
   "outputs": [],
   "source": [
    "#Saving the final results as excel file back \n",
    "test_ComplainID.to_excel(dataFolder + \"/Test_Probabilities/CustomerComplaint_XGBoost.xlsx\") "
   ]
  },
  {
   "cell_type": "markdown",
   "metadata": {},
   "source": [
    "# Saving the model as a pickel, retrieving the model and testing the model¶"
   ]
  },
  {
   "cell_type": "code",
   "execution_count": 47,
   "metadata": {},
   "outputs": [],
   "source": [
    "import pickle #Importing pickel libraries to save the model for future useimport pickle #Importing pickel libraries to save the model for future use"
   ]
  },
  {
   "cell_type": "code",
   "execution_count": 48,
   "metadata": {},
   "outputs": [],
   "source": [
    "# now to save the model as serialized object pickle\n",
    "\n",
    "with open('XGBoost_Model_pickle', 'wb') as model:\n",
    "    pickle.dump(model2_xgboost,model)"
   ]
  },
  {
   "cell_type": "code",
   "execution_count": 49,
   "metadata": {},
   "outputs": [],
   "source": [
    "#Testing the saved model\n",
    "#now we will load the saved model\n",
    "with open('XGBoost_Model_pickle', 'rb') as file:\n",
    "    loaded_model = pickle.load(file)"
   ]
  },
  {
   "cell_type": "code",
   "execution_count": 50,
   "metadata": {},
   "outputs": [
    {
     "data": {
      "text/plain": [
       "(30094, 25)"
      ]
     },
     "execution_count": 50,
     "metadata": {},
     "output_type": "execute_result"
    }
   ],
   "source": [
    "x_test.shape #Should be equal to number of PCA components considered excluding ComplaintTD & Targetclass"
   ]
  },
  {
   "cell_type": "code",
   "execution_count": 51,
   "metadata": {},
   "outputs": [],
   "source": [
    "y1_predict_test = loaded_model.predict(x_test)"
   ]
  },
  {
   "cell_type": "code",
   "execution_count": 52,
   "metadata": {},
   "outputs": [
    {
     "name": "stdout",
     "output_type": "stream",
     "text": [
      "[1 1 1 ... 1 1 0]\n"
     ]
    }
   ],
   "source": [
    "print(y1_predict_test)"
   ]
  }
 ],
 "metadata": {
  "accelerator": "GPU",
  "colab": {
   "name": "Grp20_Customer_complain_Step_6_Pre_Processing_AutoEncoder.ipynb",
   "provenance": []
  },
  "kernelspec": {
   "display_name": "Python 3",
   "language": "python",
   "name": "python3"
  },
  "language_info": {
   "codemirror_mode": {
    "name": "ipython",
    "version": 3
   },
   "file_extension": ".py",
   "mimetype": "text/x-python",
   "name": "python",
   "nbconvert_exporter": "python",
   "pygments_lexer": "ipython3",
   "version": "3.7.4"
  }
 },
 "nbformat": 4,
 "nbformat_minor": 1
}
