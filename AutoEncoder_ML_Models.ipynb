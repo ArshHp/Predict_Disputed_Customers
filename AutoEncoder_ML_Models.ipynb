{
 "cells": [
  {
   "cell_type": "markdown",
   "metadata": {
    "id": "SPvO4HaoPSdT"
   },
   "source": [
    "# Steps Performed : \n",
    "\n",
    "1. Feature Scaling\n",
    "2. Dimensionality reduction using AutoEncoders\n",
    "3. Machine Learning Models with evaluation report"
   ]
  },
  {
   "cell_type": "markdown",
   "metadata": {
    "id": "TcB4tziib893"
   },
   "source": [
    "# Pre-requisite:\n",
    "    Ensure datafolder and required csv datafile is in place before running the code.\n",
    "    If you are running this notebook into Jupyter notebook, ensure to mount the drive and file exists on the drive"
   ]
  },
  {
   "cell_type": "code",
   "execution_count": 2,
   "metadata": {
    "id": "6B8I8rSAqVF4"
   },
   "outputs": [],
   "source": [
    "#Modify the directory & File name based on your local paths & file name\n",
    "dataFolder = \"C:/Users/shaaruns.CORPDOM/Documents/BITS_Assignments/Module-7/Gr20_Cap4_Sourcecode/Grp20_Cohert3_Final_Submission\"\n",
    "datafile = \"Output_CSV/Dataset_Step4_Processed_Data.csv\""
   ]
  },
  {
   "cell_type": "code",
   "execution_count": 3,
   "metadata": {
    "colab": {
     "base_uri": "https://localhost:8080/"
    },
    "id": "sicEQfXaPSdi",
    "outputId": "04acb71c-709f-4290-9642-69f2883ef71d"
   },
   "outputs": [
    {
     "name": "stdout",
     "output_type": "stream",
     "text": [
      "Mounted at /content/drive\n"
     ]
    }
   ],
   "source": [
    "from google.colab import drive\n",
    "drive.mount('/content/drive', force_remount=True)"
   ]
  },
  {
   "cell_type": "code",
   "execution_count": 4,
   "metadata": {
    "colab": {
     "base_uri": "https://localhost:8080/"
    },
    "id": "IhM4O0nsPSdl",
    "outputId": "39698c3a-ff1d-4d64-ff55-34b8774c21d4"
   },
   "outputs": [
    {
     "name": "stdout",
     "output_type": "stream",
     "text": [
      "pandas  : 1.1.5\n",
      "numpy   : 1.19.5\n"
     ]
    }
   ],
   "source": [
    "#The reason for giving version details is to provide information about libraries where the code has been tested. \n",
    "import pandas as pd\n",
    "print('pandas  : {}'.format(pd.__version__))  \n",
    "import numpy as np\n",
    "print ('numpy   : {}'.format(np.__version__))\n",
    "\n",
    "#Scaling Libraries\n",
    "from sklearn.preprocessing import StandardScaler\n",
    "\n",
    "#Feature Reduction libraries\n",
    "from sklearn.decomposition import PCA\n",
    "\n",
    "#Split the dataset into test & train\n",
    "from sklearn.model_selection import train_test_split, GridSearchCV\n",
    "\n",
    "#Machine Learning Models\n",
    "from sklearn.linear_model import LogisticRegression\n",
    "from sklearn.tree import DecisionTreeClassifier\n",
    "from sklearn.ensemble import RandomForestClassifier, AdaBoostClassifier, GradientBoostingClassifier\n",
    "from sklearn.neighbors import KNeighborsClassifier\n",
    "from sklearn.svm import SVC\n",
    "from xgboost import XGBClassifier\n",
    "from sklearn.ensemble import RandomForestClassifier\n",
    "from xgboost import XGBClassifier\n",
    "from sklearn.tree import DecisionTreeClassifier \n",
    "from sklearn import svm\n",
    "from sklearn.svm import LinearSVC\n",
    "\n",
    "#Model Evaluation Libraries\n",
    "from sklearn.model_selection import train_test_split, GridSearchCV\n",
    "from sklearn.metrics import precision_score, recall_score, f1_score, confusion_matrix, accuracy_score, classification_report\n",
    "from sklearn.metrics import roc_curve, auc\n",
    "from sklearn.metrics import roc_auc_score\n",
    "\n",
    "#Data Visualization\n",
    "import matplotlib.pyplot as plt\n",
    "\n",
    "\n",
    "# Multilayer Perceptron\n",
    "from keras.utils import plot_model\n",
    "from keras.models import Model\n",
    "from keras.layers import Input\n",
    "from keras.layers import Dense\n",
    "from keras.layers import BatchNormalization\n",
    "from keras.layers import LeakyReLU\n",
    "from tensorflow.keras.utils import plot_model\n",
    "from matplotlib import pyplot\n",
    "from tensorflow.keras.models import load_model\n"
   ]
  },
  {
   "cell_type": "code",
   "execution_count": 5,
   "metadata": {
    "colab": {
     "base_uri": "https://localhost:8080/",
     "height": 263
    },
    "id": "CKfMoTlSPSdp",
    "outputId": "63dc04f5-4fe4-46f3-d681-5862cebca1ad"
   },
   "outputs": [
    {
     "data": {
      "text/html": [
       "<div>\n",
       "<style scoped>\n",
       "    .dataframe tbody tr th:only-of-type {\n",
       "        vertical-align: middle;\n",
       "    }\n",
       "\n",
       "    .dataframe tbody tr th {\n",
       "        vertical-align: top;\n",
       "    }\n",
       "\n",
       "    .dataframe thead th {\n",
       "        text-align: right;\n",
       "    }\n",
       "</style>\n",
       "<table border=\"1\" class=\"dataframe\">\n",
       "  <thead>\n",
       "    <tr style=\"text-align: right;\">\n",
       "      <th></th>\n",
       "      <th>Consumerdisputed</th>\n",
       "      <th>ComplaintID</th>\n",
       "      <th>Month_Received</th>\n",
       "      <th>Year_Sent</th>\n",
       "      <th>Month_Sent</th>\n",
       "      <th>Day_Sent</th>\n",
       "      <th>Week_Received</th>\n",
       "      <th>Product_Consumer Loan</th>\n",
       "      <th>Product_Credit card</th>\n",
       "      <th>Product_Credit reporting</th>\n",
       "      <th>Product_Debt collection</th>\n",
       "      <th>Product_Mortgage</th>\n",
       "      <th>Product_Student loan</th>\n",
       "      <th>Submittedvia_Fax</th>\n",
       "      <th>Submittedvia_Phone</th>\n",
       "      <th>Submittedvia_Postal mail</th>\n",
       "      <th>Submittedvia_Referral</th>\n",
       "      <th>Submittedvia_Web</th>\n",
       "      <th>Companyresponsetoconsumer_Closed with explanation</th>\n",
       "      <th>Companyresponsetoconsumer_Closed with monetary relief</th>\n",
       "      <th>Companyresponsetoconsumer_Closed with non-monetary relief</th>\n",
       "      <th>Companyresponsetoconsumer_Closed with relief</th>\n",
       "      <th>Companyresponsetoconsumer_Closed without relief</th>\n",
       "      <th>Timelyresponse_Yes</th>\n",
       "      <th>Feature1</th>\n",
       "      <th>Feature2</th>\n",
       "      <th>Feature3</th>\n",
       "      <th>Feature4</th>\n",
       "      <th>Feature5</th>\n",
       "      <th>Feature6</th>\n",
       "      <th>Feature7</th>\n",
       "      <th>Feature8</th>\n",
       "      <th>Feature9</th>\n",
       "      <th>Feature10</th>\n",
       "      <th>Feature11</th>\n",
       "      <th>Feature12</th>\n",
       "      <th>Feature13</th>\n",
       "      <th>Feature14</th>\n",
       "      <th>Feature15</th>\n",
       "      <th>Feature16</th>\n",
       "      <th>...</th>\n",
       "      <th>Feature79</th>\n",
       "      <th>Feature80</th>\n",
       "      <th>Feature81</th>\n",
       "      <th>Feature82</th>\n",
       "      <th>Feature83</th>\n",
       "      <th>Feature84</th>\n",
       "      <th>Feature85</th>\n",
       "      <th>Feature86</th>\n",
       "      <th>Feature87</th>\n",
       "      <th>Feature88</th>\n",
       "      <th>Feature89</th>\n",
       "      <th>Feature90</th>\n",
       "      <th>Feature91</th>\n",
       "      <th>Feature92</th>\n",
       "      <th>Feature93</th>\n",
       "      <th>Feature94</th>\n",
       "      <th>Feature95</th>\n",
       "      <th>Feature96</th>\n",
       "      <th>Feature97</th>\n",
       "      <th>Feature98</th>\n",
       "      <th>Feature99</th>\n",
       "      <th>Feature100</th>\n",
       "      <th>Feature101</th>\n",
       "      <th>Feature102</th>\n",
       "      <th>Feature103</th>\n",
       "      <th>Feature104</th>\n",
       "      <th>Feature105</th>\n",
       "      <th>Feature106</th>\n",
       "      <th>Feature107</th>\n",
       "      <th>Feature108</th>\n",
       "      <th>Feature109</th>\n",
       "      <th>Feature110</th>\n",
       "      <th>Feature111</th>\n",
       "      <th>Feature112</th>\n",
       "      <th>Feature113</th>\n",
       "      <th>Feature114</th>\n",
       "      <th>Feature115</th>\n",
       "      <th>Feature116</th>\n",
       "      <th>Feature117</th>\n",
       "      <th>Feature118</th>\n",
       "    </tr>\n",
       "  </thead>\n",
       "  <tbody>\n",
       "    <tr>\n",
       "      <th>0</th>\n",
       "      <td>1</td>\n",
       "      <td>1347613</td>\n",
       "      <td>4</td>\n",
       "      <td>2015</td>\n",
       "      <td>4</td>\n",
       "      <td>26</td>\n",
       "      <td>4</td>\n",
       "      <td>0</td>\n",
       "      <td>0</td>\n",
       "      <td>0</td>\n",
       "      <td>0</td>\n",
       "      <td>0</td>\n",
       "      <td>0</td>\n",
       "      <td>0</td>\n",
       "      <td>0</td>\n",
       "      <td>0</td>\n",
       "      <td>0</td>\n",
       "      <td>1</td>\n",
       "      <td>1</td>\n",
       "      <td>0</td>\n",
       "      <td>0</td>\n",
       "      <td>0</td>\n",
       "      <td>0</td>\n",
       "      <td>1</td>\n",
       "      <td>0.0</td>\n",
       "      <td>0.0</td>\n",
       "      <td>0.0</td>\n",
       "      <td>0.0</td>\n",
       "      <td>0.000000</td>\n",
       "      <td>0.0</td>\n",
       "      <td>0.0</td>\n",
       "      <td>0.0</td>\n",
       "      <td>0.0</td>\n",
       "      <td>0.0</td>\n",
       "      <td>0.0</td>\n",
       "      <td>0.0</td>\n",
       "      <td>0.000000</td>\n",
       "      <td>0.0</td>\n",
       "      <td>0.0</td>\n",
       "      <td>0.0</td>\n",
       "      <td>...</td>\n",
       "      <td>0.0</td>\n",
       "      <td>0.0</td>\n",
       "      <td>0.0</td>\n",
       "      <td>0.0</td>\n",
       "      <td>0.000000</td>\n",
       "      <td>0.0</td>\n",
       "      <td>0.0</td>\n",
       "      <td>0.0</td>\n",
       "      <td>0.0</td>\n",
       "      <td>0.000000</td>\n",
       "      <td>0.0</td>\n",
       "      <td>0.0</td>\n",
       "      <td>0.0</td>\n",
       "      <td>0.0</td>\n",
       "      <td>0.0</td>\n",
       "      <td>0.0</td>\n",
       "      <td>0.0</td>\n",
       "      <td>0.0</td>\n",
       "      <td>0.0</td>\n",
       "      <td>0.0</td>\n",
       "      <td>0.0</td>\n",
       "      <td>0.0</td>\n",
       "      <td>0.000000</td>\n",
       "      <td>0.0</td>\n",
       "      <td>0.0</td>\n",
       "      <td>0.0</td>\n",
       "      <td>0.0</td>\n",
       "      <td>0.0</td>\n",
       "      <td>0.0</td>\n",
       "      <td>0.0</td>\n",
       "      <td>0.0</td>\n",
       "      <td>0.0</td>\n",
       "      <td>0.0</td>\n",
       "      <td>0.0</td>\n",
       "      <td>0.0</td>\n",
       "      <td>0.0</td>\n",
       "      <td>0.0</td>\n",
       "      <td>0.0</td>\n",
       "      <td>0.707107</td>\n",
       "      <td>0.0</td>\n",
       "    </tr>\n",
       "    <tr>\n",
       "      <th>1</th>\n",
       "      <td>1</td>\n",
       "      <td>1685130</td>\n",
       "      <td>12</td>\n",
       "      <td>2015</td>\n",
       "      <td>12</td>\n",
       "      <td>7</td>\n",
       "      <td>1</td>\n",
       "      <td>0</td>\n",
       "      <td>1</td>\n",
       "      <td>0</td>\n",
       "      <td>0</td>\n",
       "      <td>0</td>\n",
       "      <td>0</td>\n",
       "      <td>0</td>\n",
       "      <td>0</td>\n",
       "      <td>0</td>\n",
       "      <td>0</td>\n",
       "      <td>1</td>\n",
       "      <td>1</td>\n",
       "      <td>0</td>\n",
       "      <td>0</td>\n",
       "      <td>0</td>\n",
       "      <td>0</td>\n",
       "      <td>1</td>\n",
       "      <td>0.0</td>\n",
       "      <td>0.0</td>\n",
       "      <td>0.0</td>\n",
       "      <td>0.0</td>\n",
       "      <td>0.000000</td>\n",
       "      <td>0.0</td>\n",
       "      <td>0.0</td>\n",
       "      <td>0.0</td>\n",
       "      <td>0.0</td>\n",
       "      <td>0.0</td>\n",
       "      <td>0.0</td>\n",
       "      <td>0.0</td>\n",
       "      <td>0.000000</td>\n",
       "      <td>0.0</td>\n",
       "      <td>0.0</td>\n",
       "      <td>0.0</td>\n",
       "      <td>...</td>\n",
       "      <td>0.0</td>\n",
       "      <td>0.0</td>\n",
       "      <td>0.0</td>\n",
       "      <td>0.0</td>\n",
       "      <td>0.799826</td>\n",
       "      <td>0.0</td>\n",
       "      <td>0.0</td>\n",
       "      <td>0.0</td>\n",
       "      <td>0.0</td>\n",
       "      <td>0.600232</td>\n",
       "      <td>0.0</td>\n",
       "      <td>0.0</td>\n",
       "      <td>0.0</td>\n",
       "      <td>0.0</td>\n",
       "      <td>0.0</td>\n",
       "      <td>0.0</td>\n",
       "      <td>0.0</td>\n",
       "      <td>0.0</td>\n",
       "      <td>0.0</td>\n",
       "      <td>0.0</td>\n",
       "      <td>0.0</td>\n",
       "      <td>0.0</td>\n",
       "      <td>0.000000</td>\n",
       "      <td>0.0</td>\n",
       "      <td>0.0</td>\n",
       "      <td>0.0</td>\n",
       "      <td>0.0</td>\n",
       "      <td>0.0</td>\n",
       "      <td>0.0</td>\n",
       "      <td>0.0</td>\n",
       "      <td>0.0</td>\n",
       "      <td>0.0</td>\n",
       "      <td>0.0</td>\n",
       "      <td>0.0</td>\n",
       "      <td>0.0</td>\n",
       "      <td>0.0</td>\n",
       "      <td>0.0</td>\n",
       "      <td>0.0</td>\n",
       "      <td>0.000000</td>\n",
       "      <td>0.0</td>\n",
       "    </tr>\n",
       "    <tr>\n",
       "      <th>2</th>\n",
       "      <td>1</td>\n",
       "      <td>10631</td>\n",
       "      <td>1</td>\n",
       "      <td>2012</td>\n",
       "      <td>1</td>\n",
       "      <td>9</td>\n",
       "      <td>1</td>\n",
       "      <td>0</td>\n",
       "      <td>0</td>\n",
       "      <td>0</td>\n",
       "      <td>0</td>\n",
       "      <td>1</td>\n",
       "      <td>0</td>\n",
       "      <td>0</td>\n",
       "      <td>0</td>\n",
       "      <td>0</td>\n",
       "      <td>0</td>\n",
       "      <td>1</td>\n",
       "      <td>0</td>\n",
       "      <td>0</td>\n",
       "      <td>0</td>\n",
       "      <td>0</td>\n",
       "      <td>1</td>\n",
       "      <td>1</td>\n",
       "      <td>0.0</td>\n",
       "      <td>0.0</td>\n",
       "      <td>0.0</td>\n",
       "      <td>0.0</td>\n",
       "      <td>0.497837</td>\n",
       "      <td>0.0</td>\n",
       "      <td>0.0</td>\n",
       "      <td>0.0</td>\n",
       "      <td>0.0</td>\n",
       "      <td>0.0</td>\n",
       "      <td>0.0</td>\n",
       "      <td>0.0</td>\n",
       "      <td>0.500719</td>\n",
       "      <td>0.0</td>\n",
       "      <td>0.0</td>\n",
       "      <td>0.0</td>\n",
       "      <td>...</td>\n",
       "      <td>0.0</td>\n",
       "      <td>0.0</td>\n",
       "      <td>0.0</td>\n",
       "      <td>0.0</td>\n",
       "      <td>0.000000</td>\n",
       "      <td>0.0</td>\n",
       "      <td>0.0</td>\n",
       "      <td>0.0</td>\n",
       "      <td>0.0</td>\n",
       "      <td>0.000000</td>\n",
       "      <td>0.0</td>\n",
       "      <td>0.0</td>\n",
       "      <td>0.0</td>\n",
       "      <td>0.0</td>\n",
       "      <td>0.0</td>\n",
       "      <td>0.0</td>\n",
       "      <td>0.0</td>\n",
       "      <td>0.0</td>\n",
       "      <td>0.0</td>\n",
       "      <td>0.0</td>\n",
       "      <td>0.0</td>\n",
       "      <td>0.0</td>\n",
       "      <td>0.000000</td>\n",
       "      <td>0.0</td>\n",
       "      <td>0.0</td>\n",
       "      <td>0.0</td>\n",
       "      <td>0.0</td>\n",
       "      <td>0.0</td>\n",
       "      <td>0.0</td>\n",
       "      <td>0.0</td>\n",
       "      <td>0.0</td>\n",
       "      <td>0.0</td>\n",
       "      <td>0.0</td>\n",
       "      <td>0.0</td>\n",
       "      <td>0.0</td>\n",
       "      <td>0.0</td>\n",
       "      <td>0.0</td>\n",
       "      <td>0.0</td>\n",
       "      <td>0.000000</td>\n",
       "      <td>0.0</td>\n",
       "    </tr>\n",
       "    <tr>\n",
       "      <th>3</th>\n",
       "      <td>1</td>\n",
       "      <td>1489180</td>\n",
       "      <td>7</td>\n",
       "      <td>2015</td>\n",
       "      <td>7</td>\n",
       "      <td>27</td>\n",
       "      <td>4</td>\n",
       "      <td>0</td>\n",
       "      <td>0</td>\n",
       "      <td>0</td>\n",
       "      <td>0</td>\n",
       "      <td>1</td>\n",
       "      <td>0</td>\n",
       "      <td>0</td>\n",
       "      <td>0</td>\n",
       "      <td>0</td>\n",
       "      <td>0</td>\n",
       "      <td>1</td>\n",
       "      <td>0</td>\n",
       "      <td>1</td>\n",
       "      <td>0</td>\n",
       "      <td>0</td>\n",
       "      <td>0</td>\n",
       "      <td>1</td>\n",
       "      <td>0.0</td>\n",
       "      <td>0.0</td>\n",
       "      <td>0.0</td>\n",
       "      <td>0.0</td>\n",
       "      <td>0.000000</td>\n",
       "      <td>0.0</td>\n",
       "      <td>0.0</td>\n",
       "      <td>0.0</td>\n",
       "      <td>0.0</td>\n",
       "      <td>0.0</td>\n",
       "      <td>0.0</td>\n",
       "      <td>0.0</td>\n",
       "      <td>0.000000</td>\n",
       "      <td>0.0</td>\n",
       "      <td>0.0</td>\n",
       "      <td>0.0</td>\n",
       "      <td>...</td>\n",
       "      <td>0.0</td>\n",
       "      <td>0.0</td>\n",
       "      <td>0.0</td>\n",
       "      <td>0.0</td>\n",
       "      <td>0.000000</td>\n",
       "      <td>0.0</td>\n",
       "      <td>0.0</td>\n",
       "      <td>0.0</td>\n",
       "      <td>0.0</td>\n",
       "      <td>0.556499</td>\n",
       "      <td>0.0</td>\n",
       "      <td>0.0</td>\n",
       "      <td>0.0</td>\n",
       "      <td>0.0</td>\n",
       "      <td>0.0</td>\n",
       "      <td>0.0</td>\n",
       "      <td>0.0</td>\n",
       "      <td>0.0</td>\n",
       "      <td>0.0</td>\n",
       "      <td>0.0</td>\n",
       "      <td>0.0</td>\n",
       "      <td>0.0</td>\n",
       "      <td>0.587498</td>\n",
       "      <td>0.0</td>\n",
       "      <td>0.0</td>\n",
       "      <td>0.0</td>\n",
       "      <td>0.0</td>\n",
       "      <td>0.0</td>\n",
       "      <td>0.0</td>\n",
       "      <td>0.0</td>\n",
       "      <td>0.0</td>\n",
       "      <td>0.0</td>\n",
       "      <td>0.0</td>\n",
       "      <td>0.0</td>\n",
       "      <td>0.0</td>\n",
       "      <td>0.0</td>\n",
       "      <td>0.0</td>\n",
       "      <td>0.0</td>\n",
       "      <td>0.000000</td>\n",
       "      <td>0.0</td>\n",
       "    </tr>\n",
       "    <tr>\n",
       "      <th>4</th>\n",
       "      <td>1</td>\n",
       "      <td>795636</td>\n",
       "      <td>4</td>\n",
       "      <td>2014</td>\n",
       "      <td>4</td>\n",
       "      <td>6</td>\n",
       "      <td>1</td>\n",
       "      <td>0</td>\n",
       "      <td>0</td>\n",
       "      <td>0</td>\n",
       "      <td>0</td>\n",
       "      <td>1</td>\n",
       "      <td>0</td>\n",
       "      <td>0</td>\n",
       "      <td>0</td>\n",
       "      <td>0</td>\n",
       "      <td>0</td>\n",
       "      <td>1</td>\n",
       "      <td>1</td>\n",
       "      <td>0</td>\n",
       "      <td>0</td>\n",
       "      <td>0</td>\n",
       "      <td>0</td>\n",
       "      <td>1</td>\n",
       "      <td>0.0</td>\n",
       "      <td>0.0</td>\n",
       "      <td>0.0</td>\n",
       "      <td>0.0</td>\n",
       "      <td>0.000000</td>\n",
       "      <td>0.0</td>\n",
       "      <td>0.0</td>\n",
       "      <td>0.0</td>\n",
       "      <td>0.0</td>\n",
       "      <td>0.0</td>\n",
       "      <td>0.0</td>\n",
       "      <td>0.0</td>\n",
       "      <td>0.000000</td>\n",
       "      <td>0.0</td>\n",
       "      <td>0.0</td>\n",
       "      <td>0.0</td>\n",
       "      <td>...</td>\n",
       "      <td>0.0</td>\n",
       "      <td>0.0</td>\n",
       "      <td>0.0</td>\n",
       "      <td>0.0</td>\n",
       "      <td>0.000000</td>\n",
       "      <td>0.0</td>\n",
       "      <td>0.0</td>\n",
       "      <td>0.0</td>\n",
       "      <td>0.0</td>\n",
       "      <td>0.000000</td>\n",
       "      <td>0.0</td>\n",
       "      <td>0.0</td>\n",
       "      <td>0.0</td>\n",
       "      <td>0.0</td>\n",
       "      <td>0.0</td>\n",
       "      <td>0.0</td>\n",
       "      <td>0.0</td>\n",
       "      <td>0.0</td>\n",
       "      <td>0.0</td>\n",
       "      <td>0.0</td>\n",
       "      <td>0.0</td>\n",
       "      <td>0.0</td>\n",
       "      <td>0.000000</td>\n",
       "      <td>0.0</td>\n",
       "      <td>0.0</td>\n",
       "      <td>0.0</td>\n",
       "      <td>0.0</td>\n",
       "      <td>0.0</td>\n",
       "      <td>0.0</td>\n",
       "      <td>0.0</td>\n",
       "      <td>0.0</td>\n",
       "      <td>0.0</td>\n",
       "      <td>0.0</td>\n",
       "      <td>0.0</td>\n",
       "      <td>0.0</td>\n",
       "      <td>0.0</td>\n",
       "      <td>0.0</td>\n",
       "      <td>0.0</td>\n",
       "      <td>0.000000</td>\n",
       "      <td>0.0</td>\n",
       "    </tr>\n",
       "  </tbody>\n",
       "</table>\n",
       "<p>5 rows × 142 columns</p>\n",
       "</div>"
      ],
      "text/plain": [
       "   Consumerdisputed  ComplaintID  ...  Feature117  Feature118\n",
       "0                 1      1347613  ...    0.707107         0.0\n",
       "1                 1      1685130  ...    0.000000         0.0\n",
       "2                 1        10631  ...    0.000000         0.0\n",
       "3                 1      1489180  ...    0.000000         0.0\n",
       "4                 1       795636  ...    0.000000         0.0\n",
       "\n",
       "[5 rows x 142 columns]"
      ]
     },
     "execution_count": 5,
     "metadata": {
      "tags": []
     },
     "output_type": "execute_result"
    }
   ],
   "source": [
    "#Read the dataset from clean datafile\n",
    "\n",
    "#df_train = pd.read_csv(dataFolder+'/'+ datafile)\n",
    "#df_train.head()\n",
    "\n",
    "#Read the dataset from GDrive\n",
    "Inputfile = 'drive/My Drive/Capstone_Files/Dataset_Step4_Processed_Data_Revised.csv'\n",
    "df_train = pd.read_csv(Inputfile)\n",
    "df_train.head()\n",
    "\n"
   ]
  },
  {
   "cell_type": "markdown",
   "metadata": {
    "id": "H5OJ4YZ_PSdr"
   },
   "source": [
    "# Feature Scaling of train Data Sets except Target and Indent variable"
   ]
  },
  {
   "cell_type": "code",
   "execution_count": 6,
   "metadata": {
    "colab": {
     "base_uri": "https://localhost:8080/"
    },
    "id": "yBTj1NwzPSds",
    "outputId": "2610652f-43a4-4171-e34e-e0077055ce32"
   },
   "outputs": [
    {
     "data": {
      "text/plain": [
       "(100311, 142)"
      ]
     },
     "execution_count": 6,
     "metadata": {
      "tags": []
     },
     "output_type": "execute_result"
    }
   ],
   "source": [
    "df_train.shape"
   ]
  },
  {
   "cell_type": "code",
   "execution_count": 7,
   "metadata": {
    "id": "NfDAlAhryBr4"
   },
   "outputs": [],
   "source": [
    "df_train.rename(columns = {'Complaint ID':'ComplaintID'}, inplace = True)"
   ]
  },
  {
   "cell_type": "code",
   "execution_count": 8,
   "metadata": {
    "id": "4jDQUpg2PSdt"
   },
   "outputs": [],
   "source": [
    "temp = df_train.copy()"
   ]
  },
  {
   "cell_type": "code",
   "execution_count": 9,
   "metadata": {
    "colab": {
     "base_uri": "https://localhost:8080/"
    },
    "id": "SaAM0FRUPSdv",
    "outputId": "b0375ba4-f2fa-4530-fe11-624c0cef2139"
   },
   "outputs": [
    {
     "name": "stdout",
     "output_type": "stream",
     "text": [
      "Index(['Month_Received', 'Year_Sent', 'Month_Sent', 'Day_Sent',\n",
      "       'Week_Received', 'Product_Consumer Loan', 'Product_Credit card',\n",
      "       'Product_Credit reporting', 'Product_Debt collection',\n",
      "       'Product_Mortgage',\n",
      "       ...\n",
      "       'Feature109', 'Feature110', 'Feature111', 'Feature112', 'Feature113',\n",
      "       'Feature114', 'Feature115', 'Feature116', 'Feature117', 'Feature118'],\n",
      "      dtype='object', length=140)\n"
     ]
    }
   ],
   "source": [
    "colsTobedropped = ['Consumerdisputed', \n",
    "                  'ComplaintID'\n",
    "                   ]\n",
    "\n",
    "#Dropping Target Featyer & Unique Complaint ID for scaling operation\n",
    "\n",
    "temp  = temp.drop(colsTobedropped,axis = 1)\n",
    "print(temp.columns)"
   ]
  },
  {
   "cell_type": "code",
   "execution_count": 10,
   "metadata": {
    "colab": {
     "base_uri": "https://localhost:8080/"
    },
    "id": "5bUsz6LvPSdx",
    "outputId": "a86c9c37-edea-403b-cb07-0f580bf68d2a"
   },
   "outputs": [
    {
     "data": {
      "text/plain": [
       "(100311, 140)"
      ]
     },
     "execution_count": 10,
     "metadata": {
      "tags": []
     },
     "output_type": "execute_result"
    }
   ],
   "source": [
    "temp.shape"
   ]
  },
  {
   "cell_type": "code",
   "execution_count": 11,
   "metadata": {
    "id": "kKdBRZzIPSdy"
   },
   "outputs": [],
   "source": [
    "scaledCols = temp.columns"
   ]
  },
  {
   "cell_type": "code",
   "execution_count": 12,
   "metadata": {
    "id": "B_bXZ-nEPSdz"
   },
   "outputs": [],
   "source": [
    "from sklearn.preprocessing import MinMaxScaler\n",
    "\n",
    "scaler = MinMaxScaler()\n",
    "df_train[scaledCols] = scaler.fit_transform(df_train[scaledCols])"
   ]
  },
  {
   "cell_type": "code",
   "execution_count": 13,
   "metadata": {
    "colab": {
     "base_uri": "https://localhost:8080/"
    },
    "id": "tHf3jY2sPSdz",
    "outputId": "5f88a523-4716-48bd-9ad9-d58d2a6db651"
   },
   "outputs": [
    {
     "data": {
      "text/plain": [
       "(100311, 142)"
      ]
     },
     "execution_count": 13,
     "metadata": {
      "tags": []
     },
     "output_type": "execute_result"
    }
   ],
   "source": [
    "df_train.shape"
   ]
  },
  {
   "cell_type": "code",
   "execution_count": 14,
   "metadata": {
    "id": "g8aGiAs7PSd0"
   },
   "outputs": [],
   "source": [
    "#Final X training Data\n",
    "X = df_train.reindex(columns=scaledCols)\n",
    "\n",
    "#Target Y Variable Consumer disputed as 0 or 1\n",
    "y = df_train['Consumerdisputed'].values\n",
    "\n",
    "#Preserving ComplaintID for providing final output results, will not be used for training data\n",
    "p_ComplaintID = df_train['ComplaintID'].values"
   ]
  },
  {
   "cell_type": "code",
   "execution_count": 15,
   "metadata": {
    "id": "zea8dW3Usy2w"
   },
   "outputs": [],
   "source": [
    "# Split the dataframe 80:20 preserve the distribution of class - use stratify\n",
    "\n",
    "X_train, X_test, y_train, y_test , trainComplaintID , valComplaintID = train_test_split(X, y, p_ComplaintID , test_size = 0.2,random_state = 17 , stratify = df_train['Consumerdisputed'])\n"
   ]
  },
  {
   "cell_type": "code",
   "execution_count": 16,
   "metadata": {
    "colab": {
     "base_uri": "https://localhost:8080/"
    },
    "id": "hXeFi8LAsy2y",
    "outputId": "0d1badb4-c8b2-478b-cf16-7ff08289ba4a"
   },
   "outputs": [
    {
     "name": "stdout",
     "output_type": "stream",
     "text": [
      "y_train distribution of label '1': 24541 \n",
      "\n",
      "y_train distribution of label '0': 55707 \n",
      "\n",
      "y_val distribution of label '1': 6136 \n",
      "\n",
      "y_val distribution of label '0': 13927 \n",
      "\n"
     ]
    }
   ],
   "source": [
    "#checking y_train distribution\n",
    "print(\"y_train distribution of label '1': {} \\n\".format(sum(y_train == 1))) \n",
    "print(\"y_train distribution of label '0': {} \\n\".format(sum(y_train == 0)))\n",
    "\n",
    "\n",
    "#checking y_train distribution\n",
    "print(\"y_val distribution of label '1': {} \\n\".format(sum(y_test == 1))) \n",
    "print(\"y_val distribution of label '0': {} \\n\".format(sum(y_test == 0)))"
   ]
  },
  {
   "cell_type": "markdown",
   "metadata": {
    "id": "COJnSV7OPSd2"
   },
   "source": [
    "# Dimensional reduction and features selection"
   ]
  },
  {
   "cell_type": "markdown",
   "metadata": {
    "id": "DPLcdpcJPSeB"
   },
   "source": [
    "# Using AutoEncoder\n",
    "\n",
    "An autoencoder is composed of an encoder and a decoder sub-models. The encoder compresses the input and the decoder attempts to recreate the input from the compressed version provided by the encoder. After training, the encoder model is saved and the decoder is discarded.\n",
    "The encoder can then be used as a data preparation technique to perform feature extraction on raw data that can be used to train a different machine learning model."
   ]
  },
  {
   "cell_type": "code",
   "execution_count": 17,
   "metadata": {
    "colab": {
     "base_uri": "https://localhost:8080/"
    },
    "id": "3OeBWYzSW2Rx",
    "outputId": "c7fc6082-bfb3-4d09-edbd-bd79afcac24c"
   },
   "outputs": [
    {
     "data": {
      "text/plain": [
       "140"
      ]
     },
     "execution_count": 17,
     "metadata": {
      "tags": []
     },
     "output_type": "execute_result"
    }
   ],
   "source": [
    "totalFeature = X_train.columns\n",
    "len(totalFeature)"
   ]
  },
  {
   "cell_type": "markdown",
   "metadata": {
    "id": "gMQVhE-kYyYf"
   },
   "source": [
    "# Autoencoder for reconstructing the input data for a classification dataset with 50% compression in the bottleneck layer/"
   ]
  },
  {
   "cell_type": "code",
   "execution_count": 18,
   "metadata": {
    "id": "vAT0fBT0PSeD"
   },
   "outputs": [],
   "source": [
    "n_inputs = len(totalFeature)\n",
    "# define encoder\n",
    "visible = Input(shape=(n_inputs,))\n",
    "\n",
    "#We will use batch normalization and leaky ReLU activation.\n",
    "#The encoder to have two hidden layers, \n",
    "#The first with two times the number of inputs \n",
    "#The second with the same number of inputs \n",
    "#The bottleneck layer with the half the number of inputs as the dataset.\n",
    "\n",
    "# encoder level 1\n",
    "e = Dense(n_inputs*2)(visible)\n",
    "\n",
    "#Batch normalization (also known as batch norm) is a method used to make artificial neural networks faster \n",
    "#and more stable through normalization of the input layer by re-centering and re-scaling.\n",
    "e = BatchNormalization()(e)\n",
    "\n",
    "#In the context of artificial neural networks, \n",
    "#the rectifier is an activation function defined as the positive part of its argument:\n",
    "#f(x)=max(0,x) where x is the input to a neuron. \n",
    "e = LeakyReLU()(e)\n",
    "\n",
    "\n",
    "# encoder level 2\n",
    "e = Dense(n_inputs)(e)\n",
    "e = BatchNormalization()(e)\n",
    "e = LeakyReLU()(e)\n",
    "\n",
    "\n",
    "# bottleneck\n",
    "#The bottleneck layer with the half the number of inputs as the dataset.\n",
    "n_bottleneck = round(float(n_inputs) / 2.0) #Half of the input \n",
    "bottleneck = Dense(n_bottleneck)(e)"
   ]
  },
  {
   "cell_type": "code",
   "execution_count": 19,
   "metadata": {
    "id": "BFSs9lPMW0t-"
   },
   "outputs": [],
   "source": [
    "#The decoder will be defined with a similar structure, although in reverse.\n",
    "# define decoder, level 1\n",
    "\n",
    "d = Dense(n_inputs)(bottleneck)\n",
    "d = BatchNormalization()(d)\n",
    "d = LeakyReLU()(d)\n",
    "\n",
    "# decoder level 2\n",
    "d = Dense(n_inputs*2)(d)\n",
    "d = BatchNormalization()(d)\n",
    "d = LeakyReLU()(d)\n",
    "\n",
    "# output layer\n",
    "output = Dense(n_inputs, activation='softmax')(d)\n",
    "\n",
    "# define autoencoder model\n",
    "model = Model(inputs=visible, outputs=output)"
   ]
  },
  {
   "cell_type": "code",
   "execution_count": 20,
   "metadata": {
    "id": "AKU5-PT2XxAD"
   },
   "outputs": [],
   "source": [
    "# compile autoencoder model\n",
    "\n",
    "#The model will be fit using the efficient Adam version of stochastic gradient descent and \n",
    "#minimizes the mean squared error, given that reconstruction is a type of multi-output regression problem.\n",
    "model.compile(loss='categorical_crossentropy', optimizer='adam', metrics=['accuracy'])\n"
   ]
  },
  {
   "cell_type": "code",
   "execution_count": 21,
   "metadata": {
    "colab": {
     "base_uri": "https://localhost:8080/",
     "height": 1000
    },
    "id": "OLG7cwYnX2hY",
    "outputId": "f0a197c9-dc63-4702-9cfd-e60a41b955ad"
   },
   "outputs": [
    {
     "data": {
      "image/png": "[encoded data removed]",
      "text/plain": [
       "<IPython.core.display.Image object>"
      ]
     },
     "execution_count": 21,
     "metadata": {
      "tags": []
     },
     "output_type": "execute_result"
    }
   ],
   "source": [
    "# plot the autoencoder\n",
    "plot_model(model, 'autoencoder_compress.png', show_shapes=True)"
   ]
  },
  {
   "cell_type": "code",
   "execution_count": 22,
   "metadata": {
    "colab": {
     "base_uri": "https://localhost:8080/"
    },
    "id": "lT-Ba_ObX_yD",
    "outputId": "90fd10f8-84a2-4dce-85f6-3cfa7624e42a"
   },
   "outputs": [
    {
     "name": "stdout",
     "output_type": "stream",
     "text": [
      "Epoch 1/200\n",
      "5016/5016 - 33s - loss: 6384.6040 - accuracy: 0.0910 - val_loss: 17973.0020 - val_accuracy: 0.0508\n",
      "Epoch 2/200\n",
      "5016/5016 - 29s - loss: 35236.1758 - accuracy: 0.0633 - val_loss: 48903.8359 - val_accuracy: 0.0825\n",
      "Epoch 3/200\n",
      "5016/5016 - 28s - loss: 80456.4844 - accuracy: 0.0575 - val_loss: 102042.5312 - val_accuracy: 0.0812\n",
      "Epoch 4/200\n",
      "5016/5016 - 28s - loss: 142416.9531 - accuracy: 0.0556 - val_loss: 175530.4219 - val_accuracy: 0.0662\n",
      "Epoch 5/200\n",
      "5016/5016 - 28s - loss: 223360.9062 - accuracy: 0.0533 - val_loss: 253367.4531 - val_accuracy: 0.0648\n",
      "Epoch 6/200\n",
      "5016/5016 - 28s - loss: 322183.3750 - accuracy: 0.0583 - val_loss: 376559.4375 - val_accuracy: 0.0937\n",
      "Epoch 7/200\n",
      "5016/5016 - 28s - loss: 442843.0312 - accuracy: 0.0606 - val_loss: 528265.5625 - val_accuracy: 0.0796\n",
      "Epoch 8/200\n",
      "5016/5016 - 28s - loss: 577293.5000 - accuracy: 0.0647 - val_loss: 604398.4375 - val_accuracy: 0.1082\n",
      "Epoch 9/200\n",
      "5016/5016 - 28s - loss: 726742.9375 - accuracy: 0.0669 - val_loss: 755400.0625 - val_accuracy: 0.0855\n",
      "Epoch 10/200\n",
      "5016/5016 - 28s - loss: 894255.6875 - accuracy: 0.0689 - val_loss: 958297.3125 - val_accuracy: 0.0922\n",
      "Epoch 11/200\n",
      "5016/5016 - 28s - loss: 1073170.5000 - accuracy: 0.0712 - val_loss: 1087432.2500 - val_accuracy: 0.2131\n",
      "Epoch 12/200\n",
      "5016/5016 - 28s - loss: 1264960.0000 - accuracy: 0.0746 - val_loss: 1285850.8750 - val_accuracy: 0.1448\n",
      "Epoch 13/200\n",
      "5016/5016 - 28s - loss: 1464153.3750 - accuracy: 0.0753 - val_loss: 1576295.6250 - val_accuracy: 0.0783\n",
      "Epoch 14/200\n",
      "5016/5016 - 28s - loss: 1679981.1250 - accuracy: 0.0714 - val_loss: 1704971.0000 - val_accuracy: 0.1369\n",
      "Epoch 15/200\n",
      "5016/5016 - 28s - loss: 1902764.7500 - accuracy: 0.0669 - val_loss: 1979466.0000 - val_accuracy: 0.0384\n",
      "Epoch 16/200\n",
      "5016/5016 - 28s - loss: 2142717.5000 - accuracy: 0.0632 - val_loss: 2188704.7500 - val_accuracy: 0.0629\n",
      "Epoch 17/200\n",
      "5016/5016 - 28s - loss: 2399582.2500 - accuracy: 0.0660 - val_loss: 2485931.7500 - val_accuracy: 0.0362\n",
      "Epoch 18/200\n",
      "5016/5016 - 28s - loss: 2630749.5000 - accuracy: 0.0609 - val_loss: 2616682.2500 - val_accuracy: 0.0740\n",
      "Epoch 19/200\n",
      "5016/5016 - 28s - loss: 2917086.0000 - accuracy: 0.0625 - val_loss: 3013590.5000 - val_accuracy: 0.0940\n",
      "Epoch 20/200\n",
      "5016/5016 - 28s - loss: 3213514.5000 - accuracy: 0.0612 - val_loss: 3326316.5000 - val_accuracy: 0.0688\n",
      "Epoch 21/200\n",
      "5016/5016 - 28s - loss: 3476359.7500 - accuracy: 0.0634 - val_loss: 3663631.2500 - val_accuracy: 0.0598\n",
      "Epoch 22/200\n",
      "5016/5016 - 28s - loss: 3792201.0000 - accuracy: 0.0578 - val_loss: 3607541.5000 - val_accuracy: 0.0823\n",
      "Epoch 23/200\n",
      "5016/5016 - 28s - loss: 4100685.2500 - accuracy: 0.0592 - val_loss: 4132536.7500 - val_accuracy: 0.0462\n",
      "Epoch 24/200\n",
      "5016/5016 - 28s - loss: 4395572.5000 - accuracy: 0.0559 - val_loss: 4323732.5000 - val_accuracy: 0.0562\n",
      "Epoch 25/200\n",
      "5016/5016 - 28s - loss: 4789931.0000 - accuracy: 0.0579 - val_loss: 4470666.5000 - val_accuracy: 0.0654\n",
      "Epoch 26/200\n",
      "5016/5016 - 28s - loss: 5109450.0000 - accuracy: 0.0588 - val_loss: 5088196.0000 - val_accuracy: 0.0395\n",
      "Epoch 27/200\n",
      "5016/5016 - 28s - loss: 5456243.0000 - accuracy: 0.0593 - val_loss: 5575535.5000 - val_accuracy: 0.0716\n",
      "Epoch 28/200\n",
      "5016/5016 - 28s - loss: 5844794.5000 - accuracy: 0.0634 - val_loss: 5625138.5000 - val_accuracy: 0.0523\n",
      "Epoch 29/200\n",
      "5016/5016 - 28s - loss: 6263099.5000 - accuracy: 0.0671 - val_loss: 5883409.0000 - val_accuracy: 0.0592\n",
      "Epoch 30/200\n",
      "5016/5016 - 28s - loss: 6594559.0000 - accuracy: 0.0729 - val_loss: 6250325.0000 - val_accuracy: 0.1303\n",
      "Epoch 31/200\n",
      "5016/5016 - 28s - loss: 7054592.5000 - accuracy: 0.0767 - val_loss: 6950747.0000 - val_accuracy: 0.0857\n",
      "Epoch 32/200\n",
      "5016/5016 - 28s - loss: 7449388.0000 - accuracy: 0.0752 - val_loss: 7284930.0000 - val_accuracy: 0.0504\n",
      "Epoch 33/200\n",
      "5016/5016 - 28s - loss: 7846260.0000 - accuracy: 0.0777 - val_loss: 7455659.0000 - val_accuracy: 0.1810\n",
      "Epoch 34/200\n",
      "5016/5016 - 28s - loss: 8331166.0000 - accuracy: 0.0791 - val_loss: 7754238.5000 - val_accuracy: 0.0752\n",
      "Epoch 35/200\n",
      "5016/5016 - 28s - loss: 8779070.0000 - accuracy: 0.0777 - val_loss: 8829792.0000 - val_accuracy: 0.0880\n",
      "Epoch 36/200\n",
      "5016/5016 - 28s - loss: 9275308.0000 - accuracy: 0.0753 - val_loss: 9036594.0000 - val_accuracy: 0.0532\n",
      "Epoch 37/200\n",
      "5016/5016 - 28s - loss: 9706107.0000 - accuracy: 0.0757 - val_loss: 9478174.0000 - val_accuracy: 0.0660\n",
      "Epoch 38/200\n",
      "5016/5016 - 28s - loss: 10297557.0000 - accuracy: 0.0743 - val_loss: 10375012.0000 - val_accuracy: 0.0829\n",
      "Epoch 39/200\n",
      "5016/5016 - 28s - loss: 10742942.0000 - accuracy: 0.0747 - val_loss: 10545868.0000 - val_accuracy: 0.0490\n",
      "Epoch 40/200\n",
      "5016/5016 - 27s - loss: 11260089.0000 - accuracy: 0.0728 - val_loss: 10843110.0000 - val_accuracy: 0.0844\n",
      "Epoch 41/200\n",
      "5016/5016 - 28s - loss: 11886355.0000 - accuracy: 0.0719 - val_loss: 11514001.0000 - val_accuracy: 0.0525\n",
      "Epoch 42/200\n",
      "5016/5016 - 28s - loss: 12454110.0000 - accuracy: 0.0697 - val_loss: 11598868.0000 - val_accuracy: 0.0574\n",
      "Epoch 43/200\n",
      "5016/5016 - 28s - loss: 13098421.0000 - accuracy: 0.0703 - val_loss: 12957036.0000 - val_accuracy: 0.0531\n",
      "Epoch 44/200\n",
      "5016/5016 - 28s - loss: 13584135.0000 - accuracy: 0.0702 - val_loss: 13381873.0000 - val_accuracy: 0.0848\n",
      "Epoch 45/200\n",
      "5016/5016 - 28s - loss: 14171993.0000 - accuracy: 0.0703 - val_loss: 12945718.0000 - val_accuracy: 0.0649\n",
      "Epoch 46/200\n",
      "5016/5016 - 28s - loss: 14796238.0000 - accuracy: 0.0701 - val_loss: 14609091.0000 - val_accuracy: 0.0560\n",
      "Epoch 47/200\n",
      "5016/5016 - 28s - loss: 15424769.0000 - accuracy: 0.0685 - val_loss: 14408558.0000 - val_accuracy: 0.0740\n",
      "Epoch 48/200\n",
      "5016/5016 - 28s - loss: 16128486.0000 - accuracy: 0.0694 - val_loss: 15749098.0000 - val_accuracy: 0.0375\n",
      "Epoch 49/200\n",
      "5016/5016 - 28s - loss: 16670940.0000 - accuracy: 0.0674 - val_loss: 16155106.0000 - val_accuracy: 0.0694\n",
      "Epoch 50/200\n",
      "5016/5016 - 28s - loss: 17426434.0000 - accuracy: 0.0679 - val_loss: 16212464.0000 - val_accuracy: 0.0704\n",
      "Epoch 51/200\n",
      "5016/5016 - 28s - loss: 17966106.0000 - accuracy: 0.0697 - val_loss: 17672544.0000 - val_accuracy: 0.0965\n",
      "Epoch 52/200\n",
      "5016/5016 - 28s - loss: 18689008.0000 - accuracy: 0.0684 - val_loss: 17528860.0000 - val_accuracy: 0.0657\n",
      "Epoch 53/200\n",
      "5016/5016 - 28s - loss: 19425436.0000 - accuracy: 0.0673 - val_loss: 18692418.0000 - val_accuracy: 0.0629\n",
      "Epoch 54/200\n",
      "5016/5016 - 28s - loss: 20278210.0000 - accuracy: 0.0673 - val_loss: 19500558.0000 - val_accuracy: 0.0953\n",
      "Epoch 55/200\n",
      "5016/5016 - 28s - loss: 20961208.0000 - accuracy: 0.0687 - val_loss: 21720624.0000 - val_accuracy: 0.1681\n",
      "Epoch 56/200\n",
      "5016/5016 - 28s - loss: 21697676.0000 - accuracy: 0.0649 - val_loss: 20299512.0000 - val_accuracy: 0.1124\n",
      "Epoch 57/200\n",
      "5016/5016 - 28s - loss: 22360354.0000 - accuracy: 0.0622 - val_loss: 20966616.0000 - val_accuracy: 0.0965\n",
      "Epoch 58/200\n",
      "5016/5016 - 28s - loss: 22912872.0000 - accuracy: 0.0594 - val_loss: 23140278.0000 - val_accuracy: 0.0598\n",
      "Epoch 59/200\n",
      "5016/5016 - 28s - loss: 23988124.0000 - accuracy: 0.0596 - val_loss: 24280408.0000 - val_accuracy: 0.0560\n",
      "Epoch 60/200\n",
      "5016/5016 - 28s - loss: 24747932.0000 - accuracy: 0.0587 - val_loss: 23713094.0000 - val_accuracy: 0.0509\n",
      "Epoch 61/200\n",
      "5016/5016 - 28s - loss: 25478514.0000 - accuracy: 0.0590 - val_loss: 25905670.0000 - val_accuracy: 0.0282\n",
      "Epoch 62/200\n",
      "5016/5016 - 28s - loss: 26511730.0000 - accuracy: 0.0578 - val_loss: 25801416.0000 - val_accuracy: 0.0263\n",
      "Epoch 63/200\n",
      "5016/5016 - 28s - loss: 27124146.0000 - accuracy: 0.0595 - val_loss: 25719172.0000 - val_accuracy: 0.0430\n",
      "Epoch 64/200\n",
      "5016/5016 - 28s - loss: 28128000.0000 - accuracy: 0.0588 - val_loss: 26559020.0000 - val_accuracy: 0.0429\n",
      "Epoch 65/200\n",
      "5016/5016 - 28s - loss: 28882256.0000 - accuracy: 0.0592 - val_loss: 25226496.0000 - val_accuracy: 0.0564\n",
      "Epoch 66/200\n",
      "5016/5016 - 28s - loss: 29818658.0000 - accuracy: 0.0573 - val_loss: 28329328.0000 - val_accuracy: 0.0404\n",
      "Epoch 67/200\n",
      "5016/5016 - 28s - loss: 30827498.0000 - accuracy: 0.0593 - val_loss: 30135532.0000 - val_accuracy: 0.0527\n",
      "Epoch 68/200\n",
      "5016/5016 - 28s - loss: 31857620.0000 - accuracy: 0.0578 - val_loss: 30541736.0000 - val_accuracy: 0.0394\n",
      "Epoch 69/200\n",
      "5016/5016 - 28s - loss: 32413516.0000 - accuracy: 0.0597 - val_loss: 31557820.0000 - val_accuracy: 0.0999\n",
      "Epoch 70/200\n",
      "5016/5016 - 28s - loss: 33426108.0000 - accuracy: 0.0578 - val_loss: 31829212.0000 - val_accuracy: 0.0648\n",
      "Epoch 71/200\n",
      "5016/5016 - 28s - loss: 34802556.0000 - accuracy: 0.0587 - val_loss: 33075934.0000 - val_accuracy: 0.0471\n",
      "Epoch 72/200\n",
      "5016/5016 - 28s - loss: 35249632.0000 - accuracy: 0.0622 - val_loss: 33212278.0000 - val_accuracy: 0.0457\n",
      "Epoch 73/200\n",
      "5016/5016 - 28s - loss: 36242416.0000 - accuracy: 0.0569 - val_loss: 35834696.0000 - val_accuracy: 0.1404\n",
      "Epoch 74/200\n",
      "5016/5016 - 28s - loss: 37500304.0000 - accuracy: 0.0568 - val_loss: 35850200.0000 - val_accuracy: 0.1101\n",
      "Epoch 75/200\n",
      "5016/5016 - 28s - loss: 38377080.0000 - accuracy: 0.0588 - val_loss: 37151156.0000 - val_accuracy: 0.0558\n",
      "Epoch 76/200\n",
      "5016/5016 - 28s - loss: 39736808.0000 - accuracy: 0.0566 - val_loss: 38575840.0000 - val_accuracy: 0.0593\n",
      "Epoch 77/200\n",
      "5016/5016 - 28s - loss: 41038624.0000 - accuracy: 0.0572 - val_loss: 41137616.0000 - val_accuracy: 0.0564\n",
      "Epoch 78/200\n",
      "5016/5016 - 28s - loss: 41645264.0000 - accuracy: 0.0584 - val_loss: 39539636.0000 - val_accuracy: 0.0310\n",
      "Epoch 79/200\n",
      "5016/5016 - 28s - loss: 42577584.0000 - accuracy: 0.0573 - val_loss: 40294904.0000 - val_accuracy: 0.1107\n",
      "Epoch 80/200\n",
      "5016/5016 - 28s - loss: 43181812.0000 - accuracy: 0.0572 - val_loss: 40215872.0000 - val_accuracy: 0.0497\n",
      "Epoch 81/200\n",
      "5016/5016 - 28s - loss: 45326724.0000 - accuracy: 0.0586 - val_loss: 43243988.0000 - val_accuracy: 0.0573\n",
      "Epoch 82/200\n",
      "5016/5016 - 28s - loss: 46170744.0000 - accuracy: 0.0582 - val_loss: 43568876.0000 - val_accuracy: 0.0274\n",
      "Epoch 83/200\n",
      "5016/5016 - 28s - loss: 47246500.0000 - accuracy: 0.0585 - val_loss: 45693244.0000 - val_accuracy: 0.0666\n",
      "Epoch 84/200\n",
      "5016/5016 - 28s - loss: 48311184.0000 - accuracy: 0.0578 - val_loss: 48839988.0000 - val_accuracy: 0.0577\n",
      "Epoch 85/200\n",
      "5016/5016 - 28s - loss: 48923736.0000 - accuracy: 0.0584 - val_loss: 46106080.0000 - val_accuracy: 0.0423\n",
      "Epoch 86/200\n",
      "5016/5016 - 28s - loss: 51417704.0000 - accuracy: 0.0585 - val_loss: 51013972.0000 - val_accuracy: 0.0651\n",
      "Epoch 87/200\n",
      "5016/5016 - 28s - loss: 52338904.0000 - accuracy: 0.0593 - val_loss: 51671660.0000 - val_accuracy: 0.0429\n",
      "Epoch 88/200\n",
      "5016/5016 - 28s - loss: 52795080.0000 - accuracy: 0.0583 - val_loss: 51838052.0000 - val_accuracy: 0.1239\n",
      "Epoch 89/200\n",
      "5016/5016 - 28s - loss: 54846680.0000 - accuracy: 0.0573 - val_loss: 54304896.0000 - val_accuracy: 0.0394\n",
      "Epoch 90/200\n",
      "5016/5016 - 28s - loss: 55588900.0000 - accuracy: 0.0579 - val_loss: 55167788.0000 - val_accuracy: 0.0528\n",
      "Epoch 91/200\n",
      "5016/5016 - 28s - loss: 57011160.0000 - accuracy: 0.0584 - val_loss: 52296160.0000 - val_accuracy: 0.0368\n",
      "Epoch 92/200\n",
      "5016/5016 - 28s - loss: 58296092.0000 - accuracy: 0.0572 - val_loss: 57165384.0000 - val_accuracy: 0.0783\n",
      "Epoch 93/200\n",
      "5016/5016 - 28s - loss: 59652220.0000 - accuracy: 0.0576 - val_loss: 57178504.0000 - val_accuracy: 0.0449\n",
      "Epoch 94/200\n",
      "5016/5016 - 28s - loss: 60670192.0000 - accuracy: 0.0577 - val_loss: 56940440.0000 - val_accuracy: 0.0766\n",
      "Epoch 95/200\n",
      "5016/5016 - 28s - loss: 62161584.0000 - accuracy: 0.0577 - val_loss: 60471744.0000 - val_accuracy: 0.0376\n",
      "Epoch 96/200\n",
      "5016/5016 - 28s - loss: 63483440.0000 - accuracy: 0.0593 - val_loss: 64089548.0000 - val_accuracy: 0.0951\n",
      "Epoch 97/200\n",
      "5016/5016 - 28s - loss: 65550672.0000 - accuracy: 0.0585 - val_loss: 59957932.0000 - val_accuracy: 0.0850\n",
      "Epoch 98/200\n",
      "5016/5016 - 28s - loss: 66764340.0000 - accuracy: 0.0590 - val_loss: 67569720.0000 - val_accuracy: 0.0991\n",
      "Epoch 99/200\n",
      "5016/5016 - 28s - loss: 68531000.0000 - accuracy: 0.0581 - val_loss: 70932576.0000 - val_accuracy: 0.0473\n",
      "Epoch 100/200\n",
      "5016/5016 - 28s - loss: 70343568.0000 - accuracy: 0.0567 - val_loss: 67665264.0000 - val_accuracy: 0.0974\n",
      "Epoch 101/200\n",
      "5016/5016 - 28s - loss: 71648320.0000 - accuracy: 0.0585 - val_loss: 70054496.0000 - val_accuracy: 0.0453\n",
      "Epoch 102/200\n",
      "5016/5016 - 28s - loss: 73210928.0000 - accuracy: 0.0584 - val_loss: 75113816.0000 - val_accuracy: 0.0535\n",
      "Epoch 103/200\n",
      "5016/5016 - 28s - loss: 73588440.0000 - accuracy: 0.0590 - val_loss: 70106792.0000 - val_accuracy: 0.0582\n",
      "Epoch 104/200\n",
      "5016/5016 - 28s - loss: 75469848.0000 - accuracy: 0.0577 - val_loss: 77067896.0000 - val_accuracy: 0.0440\n",
      "Epoch 105/200\n",
      "5016/5016 - 28s - loss: 76621832.0000 - accuracy: 0.0587 - val_loss: 69783424.0000 - val_accuracy: 0.0888\n",
      "Epoch 106/200\n",
      "5016/5016 - 28s - loss: 78903848.0000 - accuracy: 0.0588 - val_loss: 75785144.0000 - val_accuracy: 0.0893\n",
      "Epoch 107/200\n",
      "5016/5016 - 28s - loss: 80153056.0000 - accuracy: 0.0581 - val_loss: 74805376.0000 - val_accuracy: 0.0828\n",
      "Epoch 108/200\n",
      "5016/5016 - 28s - loss: 81631040.0000 - accuracy: 0.0575 - val_loss: 80182280.0000 - val_accuracy: 0.0969\n",
      "Epoch 109/200\n",
      "5016/5016 - 28s - loss: 82892512.0000 - accuracy: 0.0586 - val_loss: 77949920.0000 - val_accuracy: 0.0612\n",
      "Epoch 110/200\n",
      "5016/5016 - 28s - loss: 84576176.0000 - accuracy: 0.0592 - val_loss: 80692080.0000 - val_accuracy: 0.0364\n",
      "Epoch 111/200\n",
      "5016/5016 - 28s - loss: 86421584.0000 - accuracy: 0.0585 - val_loss: 79209208.0000 - val_accuracy: 0.0264\n",
      "Epoch 112/200\n",
      "5016/5016 - 28s - loss: 87910512.0000 - accuracy: 0.0600 - val_loss: 88195712.0000 - val_accuracy: 0.0467\n",
      "Epoch 113/200\n",
      "5016/5016 - 28s - loss: 89944168.0000 - accuracy: 0.0587 - val_loss: 89526800.0000 - val_accuracy: 0.0531\n",
      "Epoch 114/200\n",
      "5016/5016 - 28s - loss: 92822008.0000 - accuracy: 0.0572 - val_loss: 82462760.0000 - val_accuracy: 0.0872\n",
      "Epoch 115/200\n",
      "5016/5016 - 28s - loss: 92779336.0000 - accuracy: 0.0599 - val_loss: 89048768.0000 - val_accuracy: 0.0401\n",
      "Epoch 116/200\n",
      "5016/5016 - 28s - loss: 95422624.0000 - accuracy: 0.0572 - val_loss: 94296352.0000 - val_accuracy: 0.0772\n",
      "Epoch 117/200\n",
      "5016/5016 - 28s - loss: 96358248.0000 - accuracy: 0.0593 - val_loss: 91905048.0000 - val_accuracy: 0.1197\n",
      "Epoch 118/200\n",
      "5016/5016 - 28s - loss: 98399392.0000 - accuracy: 0.0606 - val_loss: 93260616.0000 - val_accuracy: 0.0426\n",
      "Epoch 119/200\n",
      "5016/5016 - 28s - loss: 99086624.0000 - accuracy: 0.0599 - val_loss: 100597312.0000 - val_accuracy: 0.0684\n",
      "Epoch 120/200\n",
      "5016/5016 - 28s - loss: 101264016.0000 - accuracy: 0.0591 - val_loss: 101263808.0000 - val_accuracy: 0.0354\n",
      "Epoch 121/200\n",
      "5016/5016 - 28s - loss: 102391096.0000 - accuracy: 0.0595 - val_loss: 96116680.0000 - val_accuracy: 0.0722\n",
      "Epoch 122/200\n",
      "5016/5016 - 28s - loss: 104478912.0000 - accuracy: 0.0579 - val_loss: 99098288.0000 - val_accuracy: 0.0723\n",
      "Epoch 123/200\n",
      "5016/5016 - 28s - loss: 104331152.0000 - accuracy: 0.0596 - val_loss: 109408816.0000 - val_accuracy: 0.1089\n",
      "Epoch 124/200\n",
      "5016/5016 - 28s - loss: 108745640.0000 - accuracy: 0.0589 - val_loss: 109229432.0000 - val_accuracy: 0.0552\n",
      "Epoch 125/200\n",
      "5016/5016 - 28s - loss: 111654152.0000 - accuracy: 0.0596 - val_loss: 110625072.0000 - val_accuracy: 0.0408\n",
      "Epoch 126/200\n",
      "5016/5016 - 28s - loss: 110840432.0000 - accuracy: 0.0609 - val_loss: 113117648.0000 - val_accuracy: 0.0471\n",
      "Epoch 127/200\n",
      "5016/5016 - 28s - loss: 113837008.0000 - accuracy: 0.0592 - val_loss: 110450584.0000 - val_accuracy: 0.0757\n",
      "Epoch 128/200\n",
      "5016/5016 - 28s - loss: 116015880.0000 - accuracy: 0.0582 - val_loss: 113620968.0000 - val_accuracy: 0.0428\n",
      "Epoch 129/200\n",
      "5016/5016 - 28s - loss: 117151424.0000 - accuracy: 0.0592 - val_loss: 111632280.0000 - val_accuracy: 0.0440\n",
      "Epoch 130/200\n",
      "5016/5016 - 28s - loss: 117658056.0000 - accuracy: 0.0589 - val_loss: 113811912.0000 - val_accuracy: 0.0617\n",
      "Epoch 131/200\n",
      "5016/5016 - 28s - loss: 120383592.0000 - accuracy: 0.0595 - val_loss: 116232568.0000 - val_accuracy: 0.0342\n",
      "Epoch 132/200\n",
      "5016/5016 - 28s - loss: 122380152.0000 - accuracy: 0.0593 - val_loss: 113353152.0000 - val_accuracy: 0.0531\n",
      "Epoch 133/200\n",
      "5016/5016 - 28s - loss: 124660608.0000 - accuracy: 0.0597 - val_loss: 117914016.0000 - val_accuracy: 0.0462\n",
      "Epoch 134/200\n",
      "5016/5016 - 28s - loss: 126407480.0000 - accuracy: 0.0599 - val_loss: 126349880.0000 - val_accuracy: 0.0276\n",
      "Epoch 135/200\n",
      "5016/5016 - 28s - loss: 129382752.0000 - accuracy: 0.0608 - val_loss: 123841736.0000 - val_accuracy: 0.0630\n",
      "Epoch 136/200\n",
      "5016/5016 - 28s - loss: 131906608.0000 - accuracy: 0.0587 - val_loss: 127999808.0000 - val_accuracy: 0.0922\n",
      "Epoch 137/200\n",
      "5016/5016 - 28s - loss: 134194328.0000 - accuracy: 0.0605 - val_loss: 132669360.0000 - val_accuracy: 0.0734\n",
      "Epoch 138/200\n",
      "5016/5016 - 28s - loss: 135688880.0000 - accuracy: 0.0609 - val_loss: 126603792.0000 - val_accuracy: 0.0628\n",
      "Epoch 139/200\n",
      "5016/5016 - 28s - loss: 137516064.0000 - accuracy: 0.0599 - val_loss: 132891104.0000 - val_accuracy: 0.0678\n",
      "Epoch 140/200\n",
      "5016/5016 - 28s - loss: 139015936.0000 - accuracy: 0.0622 - val_loss: 131364496.0000 - val_accuracy: 0.0733\n",
      "Epoch 141/200\n",
      "5016/5016 - 28s - loss: 140797312.0000 - accuracy: 0.0616 - val_loss: 133872312.0000 - val_accuracy: 0.0508\n",
      "Epoch 142/200\n",
      "5016/5016 - 28s - loss: 142790624.0000 - accuracy: 0.0628 - val_loss: 143077696.0000 - val_accuracy: 0.0698\n",
      "Epoch 143/200\n",
      "5016/5016 - 28s - loss: 146871440.0000 - accuracy: 0.0624 - val_loss: 140696144.0000 - val_accuracy: 0.0649\n",
      "Epoch 144/200\n",
      "5016/5016 - 28s - loss: 148139744.0000 - accuracy: 0.0616 - val_loss: 147912896.0000 - val_accuracy: 0.1213\n",
      "Epoch 145/200\n",
      "5016/5016 - 28s - loss: 149282640.0000 - accuracy: 0.0599 - val_loss: 146013168.0000 - val_accuracy: 0.0436\n",
      "Epoch 146/200\n",
      "5016/5016 - 28s - loss: 151321904.0000 - accuracy: 0.0612 - val_loss: 152364512.0000 - val_accuracy: 0.0495\n",
      "Epoch 147/200\n",
      "5016/5016 - 28s - loss: 152390592.0000 - accuracy: 0.0627 - val_loss: 153655248.0000 - val_accuracy: 0.1411\n",
      "Epoch 148/200\n",
      "5016/5016 - 28s - loss: 154837456.0000 - accuracy: 0.0624 - val_loss: 159536016.0000 - val_accuracy: 0.0542\n",
      "Epoch 149/200\n",
      "5016/5016 - 27s - loss: 155959984.0000 - accuracy: 0.0617 - val_loss: 149478544.0000 - val_accuracy: 0.0543\n",
      "Epoch 150/200\n",
      "5016/5016 - 28s - loss: 158188976.0000 - accuracy: 0.0623 - val_loss: 160100416.0000 - val_accuracy: 0.0884\n",
      "Epoch 151/200\n",
      "5016/5016 - 28s - loss: 161362416.0000 - accuracy: 0.0621 - val_loss: 144913264.0000 - val_accuracy: 0.0461\n",
      "Epoch 152/200\n",
      "5016/5016 - 28s - loss: 165582368.0000 - accuracy: 0.0613 - val_loss: 157037264.0000 - val_accuracy: 0.2037\n",
      "Epoch 153/200\n",
      "5016/5016 - 28s - loss: 168202960.0000 - accuracy: 0.0645 - val_loss: 166130576.0000 - val_accuracy: 0.2103\n",
      "Epoch 154/200\n",
      "5016/5016 - 28s - loss: 170559520.0000 - accuracy: 0.0637 - val_loss: 164162992.0000 - val_accuracy: 0.0343\n",
      "Epoch 155/200\n",
      "5016/5016 - 28s - loss: 172748224.0000 - accuracy: 0.0630 - val_loss: 160965072.0000 - val_accuracy: 0.0741\n",
      "Epoch 156/200\n",
      "5016/5016 - 28s - loss: 172258576.0000 - accuracy: 0.0628 - val_loss: 165696864.0000 - val_accuracy: 0.0294\n",
      "Epoch 157/200\n",
      "5016/5016 - 28s - loss: 177310304.0000 - accuracy: 0.0632 - val_loss: 179382976.0000 - val_accuracy: 0.0483\n",
      "Epoch 158/200\n",
      "5016/5016 - 28s - loss: 178671248.0000 - accuracy: 0.0626 - val_loss: 172155136.0000 - val_accuracy: 0.0206\n",
      "Epoch 159/200\n",
      "5016/5016 - 28s - loss: 180522480.0000 - accuracy: 0.0640 - val_loss: 170662480.0000 - val_accuracy: 0.1358\n",
      "Epoch 160/200\n",
      "5016/5016 - 28s - loss: 184695088.0000 - accuracy: 0.0615 - val_loss: 176747632.0000 - val_accuracy: 0.0942\n",
      "Epoch 161/200\n",
      "5016/5016 - 28s - loss: 188851536.0000 - accuracy: 0.0634 - val_loss: 186318432.0000 - val_accuracy: 0.0467\n",
      "Epoch 162/200\n",
      "5016/5016 - 28s - loss: 189316672.0000 - accuracy: 0.0644 - val_loss: 193330704.0000 - val_accuracy: 0.0390\n",
      "Epoch 163/200\n",
      "5016/5016 - 28s - loss: 193050768.0000 - accuracy: 0.0648 - val_loss: 188480144.0000 - val_accuracy: 0.1574\n",
      "Epoch 164/200\n",
      "5016/5016 - 28s - loss: 191157888.0000 - accuracy: 0.0659 - val_loss: 185652672.0000 - val_accuracy: 0.0481\n",
      "Epoch 165/200\n",
      "5016/5016 - 28s - loss: 194093168.0000 - accuracy: 0.0658 - val_loss: 193387392.0000 - val_accuracy: 0.0460\n",
      "Epoch 166/200\n",
      "5016/5016 - 28s - loss: 197934592.0000 - accuracy: 0.0640 - val_loss: 190834400.0000 - val_accuracy: 0.1744\n",
      "Epoch 167/200\n",
      "5016/5016 - 28s - loss: 197145360.0000 - accuracy: 0.0647 - val_loss: 191908368.0000 - val_accuracy: 0.0437\n",
      "Epoch 168/200\n",
      "5016/5016 - 28s - loss: 200788288.0000 - accuracy: 0.0659 - val_loss: 199827296.0000 - val_accuracy: 0.0530\n",
      "Epoch 169/200\n",
      "5016/5016 - 28s - loss: 205579408.0000 - accuracy: 0.0657 - val_loss: 208958768.0000 - val_accuracy: 0.0423\n",
      "Epoch 170/200\n",
      "5016/5016 - 28s - loss: 206122944.0000 - accuracy: 0.0680 - val_loss: 199842272.0000 - val_accuracy: 0.0919\n",
      "Epoch 171/200\n",
      "5016/5016 - 28s - loss: 209027696.0000 - accuracy: 0.0669 - val_loss: 200020080.0000 - val_accuracy: 0.0452\n",
      "Epoch 172/200\n",
      "5016/5016 - 28s - loss: 214128912.0000 - accuracy: 0.0657 - val_loss: 200537296.0000 - val_accuracy: 0.0258\n",
      "Epoch 173/200\n",
      "5016/5016 - 28s - loss: 212093568.0000 - accuracy: 0.0673 - val_loss: 212168304.0000 - val_accuracy: 0.1691\n",
      "Epoch 174/200\n",
      "5016/5016 - 28s - loss: 217561520.0000 - accuracy: 0.0661 - val_loss: 205612592.0000 - val_accuracy: 0.0459\n",
      "Epoch 175/200\n",
      "5016/5016 - 28s - loss: 219357760.0000 - accuracy: 0.0663 - val_loss: 224753920.0000 - val_accuracy: 0.0959\n",
      "Epoch 176/200\n",
      "5016/5016 - 28s - loss: 225180464.0000 - accuracy: 0.0658 - val_loss: 213324944.0000 - val_accuracy: 0.0698\n",
      "Epoch 177/200\n",
      "5016/5016 - 28s - loss: 227177872.0000 - accuracy: 0.0659 - val_loss: 226489600.0000 - val_accuracy: 0.1848\n",
      "Epoch 178/200\n",
      "5016/5016 - 28s - loss: 228741424.0000 - accuracy: 0.0656 - val_loss: 218753008.0000 - val_accuracy: 0.1654\n",
      "Epoch 179/200\n",
      "5016/5016 - 28s - loss: 233326656.0000 - accuracy: 0.0662 - val_loss: 220549040.0000 - val_accuracy: 0.0909\n",
      "Epoch 180/200\n",
      "5016/5016 - 28s - loss: 235723568.0000 - accuracy: 0.0654 - val_loss: 217000592.0000 - val_accuracy: 0.0347\n",
      "Epoch 181/200\n",
      "5016/5016 - 28s - loss: 235245552.0000 - accuracy: 0.0670 - val_loss: 236034496.0000 - val_accuracy: 0.0935\n",
      "Epoch 182/200\n",
      "5016/5016 - 28s - loss: 239091264.0000 - accuracy: 0.0651 - val_loss: 237945216.0000 - val_accuracy: 0.0694\n",
      "Epoch 183/200\n",
      "5016/5016 - 28s - loss: 242346896.0000 - accuracy: 0.0650 - val_loss: 226537728.0000 - val_accuracy: 0.0452\n",
      "Epoch 184/200\n",
      "5016/5016 - 28s - loss: 242606944.0000 - accuracy: 0.0646 - val_loss: 241002752.0000 - val_accuracy: 0.1565\n",
      "Epoch 185/200\n",
      "5016/5016 - 28s - loss: 246746944.0000 - accuracy: 0.0642 - val_loss: 236386160.0000 - val_accuracy: 0.1514\n",
      "Epoch 186/200\n",
      "5016/5016 - 28s - loss: 247950624.0000 - accuracy: 0.0655 - val_loss: 257058672.0000 - val_accuracy: 0.0509\n",
      "Epoch 187/200\n",
      "5016/5016 - 28s - loss: 251411440.0000 - accuracy: 0.0669 - val_loss: 253338688.0000 - val_accuracy: 0.1079\n",
      "Epoch 188/200\n",
      "5016/5016 - 28s - loss: 253251984.0000 - accuracy: 0.0670 - val_loss: 260044048.0000 - val_accuracy: 0.1169\n",
      "Epoch 189/200\n",
      "5016/5016 - 28s - loss: 255038064.0000 - accuracy: 0.0674 - val_loss: 255816768.0000 - val_accuracy: 0.0816\n",
      "Epoch 190/200\n",
      "5016/5016 - 28s - loss: 260637152.0000 - accuracy: 0.0660 - val_loss: 258660848.0000 - val_accuracy: 0.0575\n",
      "Epoch 191/200\n",
      "5016/5016 - 28s - loss: 260919440.0000 - accuracy: 0.0649 - val_loss: 257912096.0000 - val_accuracy: 0.0680\n",
      "Epoch 192/200\n",
      "5016/5016 - 28s - loss: 267151760.0000 - accuracy: 0.0652 - val_loss: 278212192.0000 - val_accuracy: 0.0500\n",
      "Epoch 193/200\n",
      "5016/5016 - 28s - loss: 269805248.0000 - accuracy: 0.0663 - val_loss: 268807264.0000 - val_accuracy: 0.1570\n",
      "Epoch 194/200\n",
      "5016/5016 - 28s - loss: 275032672.0000 - accuracy: 0.0654 - val_loss: 264755568.0000 - val_accuracy: 0.0434\n",
      "Epoch 195/200\n",
      "5016/5016 - 28s - loss: 275650400.0000 - accuracy: 0.0637 - val_loss: 273072416.0000 - val_accuracy: 0.0340\n",
      "Epoch 196/200\n",
      "5016/5016 - 28s - loss: 275664032.0000 - accuracy: 0.0630 - val_loss: 272764832.0000 - val_accuracy: 0.0863\n",
      "Epoch 197/200\n",
      "5016/5016 - 28s - loss: 279445408.0000 - accuracy: 0.0654 - val_loss: 276525280.0000 - val_accuracy: 0.0242\n",
      "Epoch 198/200\n",
      "5016/5016 - 28s - loss: 279902432.0000 - accuracy: 0.0648 - val_loss: 265326576.0000 - val_accuracy: 0.1527\n",
      "Epoch 199/200\n",
      "5016/5016 - 28s - loss: 282537760.0000 - accuracy: 0.0636 - val_loss: 295359744.0000 - val_accuracy: 0.0435\n",
      "Epoch 200/200\n",
      "5016/5016 - 28s - loss: 288107648.0000 - accuracy: 0.0636 - val_loss: 298581632.0000 - val_accuracy: 0.0592\n"
     ]
    }
   ],
   "source": [
    "...\n",
    "# fit the autoencoder model to reconstruct input\n",
    "history = model.fit(X_train, X_train, epochs=200, batch_size=16, verbose=2, validation_data=(X_test,X_test))"
   ]
  },
  {
   "cell_type": "code",
   "execution_count": 23,
   "metadata": {
    "colab": {
     "base_uri": "https://localhost:8080/",
     "height": 276
    },
    "id": "8HJmJNENZags",
    "outputId": "b9232aee-ff79-4f6c-998d-eed081695002"
   },
   "outputs": [
    {
     "data": {
      "image/png": "[encoded data removed]",
      "text/plain": [
       "<Figure size 432x288 with 1 Axes>"
      ]
     },
     "metadata": {
      "needs_background": "light",
      "tags": []
     },
     "output_type": "display_data"
    }
   ],
   "source": [
    "#After training, we can plot the learning curves for the train and test sets to confirm the model learned the \n",
    "#reconstruction problem well\n",
    "\n",
    "pyplot.plot(history.history['loss'], label='train')\n",
    "pyplot.plot(history.history['val_loss'], label='test')\n",
    "pyplot.legend()\n",
    "pyplot.show()"
   ]
  },
  {
   "cell_type": "code",
   "execution_count": 24,
   "metadata": {
    "id": "LEm4VYwKZ0LH"
   },
   "outputs": [],
   "source": [
    "# define an encoder model (without the decoder)\n",
    "encoder = Model(inputs=visible, outputs=bottleneck)\n",
    "plot_model(encoder, 'encoder_no_compress.png', show_shapes=True)\n",
    "\n",
    "# save the encoder to file\n",
    "encoder.save('encoder_Step6.h5')"
   ]
  },
  {
   "cell_type": "markdown",
   "metadata": {
    "id": "-3Yyh7AZdI8N"
   },
   "source": [
    "# Encoder as Data Preparation for Predictive Model"
   ]
  },
  {
   "cell_type": "code",
   "execution_count": 25,
   "metadata": {
    "colab": {
     "base_uri": "https://localhost:8080/"
    },
    "id": "KuBaCX5vdK5X",
    "outputId": "8b1ea986-196e-49d2-f5f4-33624eaf5916"
   },
   "outputs": [
    {
     "name": "stdout",
     "output_type": "stream",
     "text": [
      "WARNING:tensorflow:No training configuration found in the save file, so the model was *not* compiled. Compile it manually.\n"
     ]
    }
   ],
   "source": [
    "# load the model from file\n",
    "encoder = load_model('encoder_Step6.h5')"
   ]
  },
  {
   "cell_type": "code",
   "execution_count": 26,
   "metadata": {
    "id": "t6c5Mm1sdeG6"
   },
   "outputs": [],
   "source": [
    "# encode the train data\n",
    "X_train_encode = encoder.predict(X_train)\n",
    "# encode the test data\n",
    "X_test_encode = encoder.predict(X_test)\n"
   ]
  },
  {
   "cell_type": "code",
   "execution_count": 27,
   "metadata": {
    "id": "aCBMg2nqFt4N"
   },
   "outputs": [],
   "source": [
    "SKLearn_Model_Data = {}\n",
    "Model_accuracy = {}"
   ]
  },
  {
   "cell_type": "code",
   "execution_count": 28,
   "metadata": {
    "id": "fbBq-bojCM52"
   },
   "outputs": [],
   "source": [
    "#Funtion to plot ROC curve\n",
    "def plot_roc_curve(model, yTest, yPred):\n",
    "    fpr, tpr, thresholds = roc_curve(yTest, yPred)\n",
    "    roc_auc = auc(fpr, tpr)\n",
    "    lw = 2\n",
    "    Model_accuracy[model] = roc_auc_score(yTest,yPred)\n",
    "    print('AUC roc_auc_score:', roc_auc_score(yTest,yPred))\n",
    "    plt.plot([0,1],[0,1],'k--')\n",
    "    #plt.plot(fpr,tpr, label='ROC curve (area = %0.2f)' % roc_auc)\n",
    "    \n",
    "    #Plot tthe ROC Curve with FPR & TPR as X & Y axis\n",
    "    plt.plot(fpr, tpr, color='darkorange',\n",
    "         lw=lw, label='ROC curve (area = %0.2f)' % roc_auc)\n",
    "    plt.xlabel('fpr') #False Postive Rate\n",
    "    plt.ylabel('tpr') #True Positive Rate \n",
    "    plt.title(model)\n",
    "    plt.show()\n",
    "\n",
    "#Funtion to create the Model Evaluation Report\n",
    "def getModelReport(modelName, yTest, yPredict) :\n",
    "    #Accuracy can be a misleading metric for imbalanced data sets\n",
    "    accuracy = accuracy_score(yTest, yPredict) \n",
    "    \n",
    "    #fraction of retrieved documents that are relevant to the query\n",
    "    precision = precision_score(yTest, yPredict)\n",
    "    \n",
    "    #fraction of the relevant documents that are successfully retrieved.\n",
    "    recall = recall_score(yTest, yPredict)\n",
    "    \n",
    "    #A measure that combines precision and recall is the harmonic mean of precision and recall, \n",
    "    #the traditional F-measure or balanced F-score\n",
    "    \n",
    "    f1 = f1_score(yTest, yPredict)\n",
    "    \n",
    "    # Confusion Matrix , a specific table layout that allows visualization of the performance of an algorithm\n",
    "    conf_matrix = confusion_matrix(yTest, yPredict)\n",
    "    clf_report = classification_report(yTest, yPredict)\n",
    "\n",
    "    print('\\n\\n*************************************************************************************')\n",
    "    print('FOR {0}:'.format(modelName))\n",
    "    print('TEST ACCURACY:', accuracy)\n",
    "    print('F1 SCORE:', f1)\n",
    "    print('CONFUSION MATRIX: ')\n",
    "    print(conf_matrix)\n",
    "    print('CLASSIFICATION REPORT: ')\n",
    "    print(clf_report)\n",
    "    print('****************************************************************************************')\n"
   ]
  },
  {
   "cell_type": "code",
   "execution_count": 29,
   "metadata": {
    "id": "4nMzXbbyG4o-"
   },
   "outputs": [],
   "source": [
    "def predict_with_decisionTree(X_train, y_train, X_test):\n",
    "    \"\"\"\n",
    "    This method creates a model using Decision Tree classifier and predicts the output\n",
    "    X_train: The training data set\n",
    "    y_train: The label of training data set\n",
    "    X_test: The test data set\n",
    "    \"\"\"\n",
    "    \n",
    "    model = DecisionTreeClassifier()\n",
    "    model.fit(X_train, y_train.ravel())\n",
    "    decisionTree_y_predict_train = model.predict(X_train)\n",
    "    train_acc = accuracy_score(y_train, decisionTree_y_predict_train)\n",
    "    print (\"Decision Tree: TRAIN ACCURACY: \",train_acc )\n",
    "    forest_y_predict = model.predict(X_test)\n",
    "\n",
    "    dt_y_predict = model.predict(X_test)\n",
    "    return dt_y_predict\n",
    "\n",
    "def predict_with_SVM(X_train, y_train, X_test):\n",
    "    \"\"\"\n",
    "    This method creates a model using SVM classifier and predicts the output\n",
    "    X_train: The training data set\n",
    "    y_train: The label of training data set\n",
    "    X_test: The test data set\n",
    "    \"\"\"\n",
    "    #model = svm.SVC(gamma='scale', kernel ='rbf', degree = 3) \n",
    "    model = LinearSVC(random_state=0, tol=1e-5)\n",
    "    # RBF Kernel\n",
    "    # Train the model using the training sets\n",
    "    model.fit(X_train, y_train.ravel())\n",
    "\n",
    "    svm_y_predict_train = model.predict(X_train)\n",
    "    train_acc = accuracy_score(y_train, svm_y_predict_train)\n",
    "    print (\"SVM: TRAIN ACCURACY: \",train_acc )\n",
    "\n",
    "    #Predict the response for test dataset\n",
    "    svm_y_pred = model.predict(X_test)\n",
    "    return svm_y_pred\n",
    "\n",
    "def predict_with_randomForest(X_train, y_train, X_test):\n",
    "    \"\"\"\n",
    "    This method creates a model using Random forest classifier and predicts the output\n",
    "    X_train: The training data set\n",
    "    y_train: The label of training data set\n",
    "    X_test: The test data set\n",
    "    \"\"\"\n",
    "    \n",
    "    model = RandomForestClassifier(n_estimators=100)\n",
    "    model.fit(X_train, y_train)\n",
    "    forest_y_predict_train = model.predict(X_train)\n",
    "    train_acc = accuracy_score(y_train, forest_y_predict_train)\n",
    "    print (\"Random Forest: TRAIN ACCURACY: \",train_acc )\n",
    "    forest_y_predict = model.predict(X_test)\n",
    "    return forest_y_predict\n",
    "\n",
    "def predict_with_xGBoost(X_train, y_train, X_test):\n",
    "    \"\"\"\n",
    "    This method creates a model using XGBoost and predicts the output\n",
    "    X_train: The training data set\n",
    "    y_train: The label of training data set\n",
    "    X_test: The test data set  \n",
    "    \"\"\"\n",
    "    model = XGBClassifier(max_depth=2)\n",
    "    model.fit(X_train, y_train)\n",
    "    xGBoost_y_predict_train = model.predict(X_train)\n",
    "    train_acc = accuracy_score(y_train, xGBoost_y_predict_train)\n",
    "    print (\"xGBoost TRAIN ACCURACY: \",train_acc )\n",
    "    xgboost_y_predict = model.predict(X_test)\n",
    "    return xgboost_y_predict    \n",
    "\n",
    "def write_predictions_to_csv(dataToWrite, file):\n",
    "    fullAttrList = dataToWrite.keys()\n",
    "    dfToWrite = pd.DataFrame( columns = fullAttrList)\n",
    "    for key,val in dataToWrite.items():\n",
    "        dfToWrite[key] = val\n",
    "    dfToWrite.to_csv(file, index=False)"
   ]
  },
  {
   "cell_type": "code",
   "execution_count": 30,
   "metadata": {
    "colab": {
     "base_uri": "https://localhost:8080/"
    },
    "id": "vCGksOezHDsS",
    "outputId": "b59f6ef2-14f1-4c0b-c9a8-b60d9dea16ce"
   },
   "outputs": [
    {
     "name": "stdout",
     "output_type": "stream",
     "text": [
      "Random Forest: TRAIN ACCURACY:  0.8779034991526269\n"
     ]
    }
   ],
   "source": [
    "\n",
    "#Predict the model with random forest with pre-processed data \n",
    "forest_y_predict = predict_with_randomForest(X_train_encode, y_train, X_test_encode)\n",
    "\n"
   ]
  },
  {
   "cell_type": "code",
   "execution_count": 31,
   "metadata": {
    "colab": {
     "base_uri": "https://localhost:8080/",
     "height": 662
    },
    "id": "-8AhiGascHQu",
    "outputId": "ec270466-5e10-4c20-a9f2-400b8e80105d"
   },
   "outputs": [
    {
     "name": "stdout",
     "output_type": "stream",
     "text": [
      "\n",
      "\n",
      "*************************************************************************************\n",
      "FOR Random Forest :\n",
      "TEST ACCURACY: 0.6292179634152419\n",
      "F1 SCORE: 0.24896516910651184\n",
      "CONFUSION MATRIX: \n",
      "[[11391  2536]\n",
      " [ 4903  1233]]\n",
      "CLASSIFICATION REPORT: \n",
      "              precision    recall  f1-score   support\n",
      "\n",
      "           0       0.70      0.82      0.75     13927\n",
      "           1       0.33      0.20      0.25      6136\n",
      "\n",
      "    accuracy                           0.63     20063\n",
      "   macro avg       0.51      0.51      0.50     20063\n",
      "weighted avg       0.59      0.63      0.60     20063\n",
      "\n",
      "****************************************************************************************\n",
      "AUC roc_auc_score: 0.5094264512883298\n"
     ]
    },
    {
     "data": {
      "image/png": "[encoded data removed]",
      "text/plain": [
       "<Figure size 432x288 with 1 Axes>"
      ]
     },
     "metadata": {
      "needs_background": "light",
      "tags": []
     },
     "output_type": "display_data"
    }
   ],
   "source": [
    "#Evaluate random forest \n",
    "getModelReport(\"Random Forest \", y_test, forest_y_predict)\n",
    "plot_roc_curve(\"Random Forest \",y_test, forest_y_predict)\n"
   ]
  },
  {
   "cell_type": "code",
   "execution_count": 32,
   "metadata": {
    "colab": {
     "base_uri": "https://localhost:8080/"
    },
    "id": "etoDEuhCHGe4",
    "outputId": "5916d0a9-8c30-4f05-8344-8e2eda0b7032"
   },
   "outputs": [
    {
     "name": "stdout",
     "output_type": "stream",
     "text": [
      "xGBoost TRAIN ACCURACY:  0.694185524872894\n"
     ]
    }
   ],
   "source": [
    "#Predict the model with xGBoost with pre-processed data \n",
    "xgboost_y_predict = predict_with_xGBoost(X_train_encode, y_train, X_test_encode)\n",
    "\n",
    "\n",
    "\n"
   ]
  },
  {
   "cell_type": "code",
   "execution_count": 33,
   "metadata": {
    "colab": {
     "base_uri": "https://localhost:8080/",
     "height": 752
    },
    "id": "-79xw8fwcKKn",
    "outputId": "76c7a911-83c1-4797-dceb-c1aa2c312c38"
   },
   "outputs": [
    {
     "name": "stdout",
     "output_type": "stream",
     "text": [
      "\n",
      "\n",
      "*************************************************************************************\n",
      "FOR XGBoost :\n",
      "TEST ACCURACY: 0.694163385336191\n",
      "F1 SCORE: 0.0\n",
      "CONFUSION MATRIX: \n",
      "[[13927     0]\n",
      " [ 6136     0]]\n",
      "CLASSIFICATION REPORT: \n",
      "              precision    recall  f1-score   support\n",
      "\n",
      "           0       0.69      1.00      0.82     13927\n",
      "           1       0.00      0.00      0.00      6136\n",
      "\n",
      "    accuracy                           0.69     20063\n",
      "   macro avg       0.35      0.50      0.41     20063\n",
      "weighted avg       0.48      0.69      0.57     20063\n",
      "\n",
      "****************************************************************************************\n",
      "AUC roc_auc_score: 0.5\n"
     ]
    },
    {
     "name": "stderr",
     "output_type": "stream",
     "text": [
      "/usr/local/lib/python3.7/dist-packages/sklearn/metrics/_classification.py:1272: UndefinedMetricWarning: Precision is ill-defined and being set to 0.0 due to no predicted samples. Use `zero_division` parameter to control this behavior.\n",
      "  _warn_prf(average, modifier, msg_start, len(result))\n",
      "/usr/local/lib/python3.7/dist-packages/sklearn/metrics/_classification.py:1272: UndefinedMetricWarning: Precision and F-score are ill-defined and being set to 0.0 in labels with no predicted samples. Use `zero_division` parameter to control this behavior.\n",
      "  _warn_prf(average, modifier, msg_start, len(result))\n"
     ]
    },
    {
     "data": {
      "image/png": "[encoded data removed]",
      "text/plain": [
       "<Figure size 432x288 with 1 Axes>"
      ]
     },
     "metadata": {
      "needs_background": "light",
      "tags": []
     },
     "output_type": "display_data"
    }
   ],
   "source": [
    "#Evaluate xGBoost \n",
    "getModelReport(\"XGBoost \", y_test, xgboost_y_predict)\n",
    "plot_roc_curve(\"XGBoost \",y_test, xgboost_y_predict)"
   ]
  },
  {
   "cell_type": "code",
   "execution_count": 34,
   "metadata": {
    "colab": {
     "base_uri": "https://localhost:8080/"
    },
    "id": "hh9QcqlpHJDw",
    "outputId": "7c520549-1ca2-4bdf-f48d-683a4e9edbc1"
   },
   "outputs": [
    {
     "name": "stdout",
     "output_type": "stream",
     "text": [
      "Decision Tree: TRAIN ACCURACY:  0.8779284218921344\n"
     ]
    }
   ],
   "source": [
    "#Predict the model with decision tree with pre-processed data without SMOTE\n",
    "dt_y_predict = predict_with_decisionTree(X_train_encode, y_train, X_test_encode)\n",
    "\n",
    "\n",
    "\n",
    "\n"
   ]
  },
  {
   "cell_type": "code",
   "execution_count": 35,
   "metadata": {
    "colab": {
     "base_uri": "https://localhost:8080/",
     "height": 662
    },
    "id": "jfnyPGXmcMmi",
    "outputId": "0ab0b4de-cfad-4a53-beea-0f574adb7357"
   },
   "outputs": [
    {
     "name": "stdout",
     "output_type": "stream",
     "text": [
      "\n",
      "\n",
      "*************************************************************************************\n",
      "FOR Decison Tree :\n",
      "TEST ACCURACY: 0.6038478791805811\n",
      "F1 SCORE: 0.2781108083560399\n",
      "CONFUSION MATRIX: \n",
      "[[10584  3343]\n",
      " [ 4605  1531]]\n",
      "CLASSIFICATION REPORT: \n",
      "              precision    recall  f1-score   support\n",
      "\n",
      "           0       0.70      0.76      0.73     13927\n",
      "           1       0.31      0.25      0.28      6136\n",
      "\n",
      "    accuracy                           0.60     20063\n",
      "   macro avg       0.51      0.50      0.50     20063\n",
      "weighted avg       0.58      0.60      0.59     20063\n",
      "\n",
      "****************************************************************************************\n",
      "AUC roc_auc_score: 0.5047368722962132\n"
     ]
    },
    {
     "data": {
      "image/png": "[encoded data removed]",
      "text/plain": [
       "<Figure size 432x288 with 1 Axes>"
      ]
     },
     "metadata": {
      "needs_background": "light",
      "tags": []
     },
     "output_type": "display_data"
    }
   ],
   "source": [
    "#Evaluate decision tree without SMOTE\n",
    "getModelReport(\"Decison Tree \", y_test, dt_y_predict)\n",
    "plot_roc_curve(\"Decison Tree \",y_test, dt_y_predict)"
   ]
  },
  {
   "cell_type": "code",
   "execution_count": 36,
   "metadata": {
    "colab": {
     "base_uri": "https://localhost:8080/"
    },
    "id": "LjzSYRWjHLth",
    "outputId": "efed181a-2432-4856-a3d2-c037d2718550"
   },
   "outputs": [
    {
     "name": "stdout",
     "output_type": "stream",
     "text": [
      "SVM: TRAIN ACCURACY:  0.6157038181636926\n"
     ]
    },
    {
     "name": "stderr",
     "output_type": "stream",
     "text": [
      "/usr/local/lib/python3.7/dist-packages/sklearn/svm/_base.py:947: ConvergenceWarning: Liblinear failed to converge, increase the number of iterations.\n",
      "  \"the number of iterations.\", ConvergenceWarning)\n"
     ]
    }
   ],
   "source": [
    "#Predict the model with SVM with pre-processed data without SMOTE\n",
    "svm_y_predict = predict_with_SVM(X_train_encode, y_train, X_test_encode)\n",
    "\n",
    "\n",
    "\n"
   ]
  },
  {
   "cell_type": "code",
   "execution_count": 37,
   "metadata": {
    "colab": {
     "base_uri": "https://localhost:8080/",
     "height": 662
    },
    "id": "f_ZDZzxdcOKp",
    "outputId": "458a2cc7-b598-41ec-e334-cc5be4265b9f"
   },
   "outputs": [
    {
     "name": "stdout",
     "output_type": "stream",
     "text": [
      "\n",
      "\n",
      "*************************************************************************************\n",
      "FOR SVM :\n",
      "TEST ACCURACY: 0.6150127099636146\n",
      "F1 SCORE: 0.20990180032733222\n",
      "CONFUSION MATRIX: \n",
      "[[11313  2614]\n",
      " [ 5110  1026]]\n",
      "CLASSIFICATION REPORT: \n",
      "              precision    recall  f1-score   support\n",
      "\n",
      "           0       0.69      0.81      0.75     13927\n",
      "           1       0.28      0.17      0.21      6136\n",
      "\n",
      "    accuracy                           0.62     20063\n",
      "   macro avg       0.49      0.49      0.48     20063\n",
      "weighted avg       0.56      0.62      0.58     20063\n",
      "\n",
      "****************************************************************************************\n",
      "AUC roc_auc_score: 0.4897584691231771\n"
     ]
    },
    {
     "data": {
      "image/png": "[encoded data removed]",
      "text/plain": [
       "<Figure size 432x288 with 1 Axes>"
      ]
     },
     "metadata": {
      "needs_background": "light",
      "tags": []
     },
     "output_type": "display_data"
    }
   ],
   "source": [
    "#Evaluate SVM \n",
    "getModelReport(\"SVM \", y_test, svm_y_predict)\n",
    "plot_roc_curve(\"SVM \",y_test, svm_y_predict)"
   ]
  },
  {
   "cell_type": "code",
   "execution_count": 38,
   "metadata": {
    "colab": {
     "base_uri": "https://localhost:8080/",
     "height": 680
    },
    "id": "M_qEXPgJHO-n",
    "outputId": "66b6897a-1f3d-416c-e9da-ce8c173103cd"
   },
   "outputs": [
    {
     "name": "stdout",
     "output_type": "stream",
     "text": [
      "KNN TRAIN ACCURACY:  0.7427724055428173\n",
      "\n",
      "\n",
      "*************************************************************************************\n",
      "FOR KNeighbors :\n",
      "TEST ACCURACY: 0.6324577580621044\n",
      "F1 SCORE: 0.25993576876756325\n",
      "CONFUSION MATRIX: \n",
      "[[11394  2533]\n",
      " [ 4841  1295]]\n",
      "CLASSIFICATION REPORT: \n",
      "              precision    recall  f1-score   support\n",
      "\n",
      "           0       0.70      0.82      0.76     13927\n",
      "           1       0.34      0.21      0.26      6136\n",
      "\n",
      "    accuracy                           0.63     20063\n",
      "   macro avg       0.52      0.51      0.51     20063\n",
      "weighted avg       0.59      0.63      0.60     20063\n",
      "\n",
      "****************************************************************************************\n",
      "AUC roc_auc_score: 0.5145863069858863\n"
     ]
    },
    {
     "data": {
      "image/png": "[encoded data removed]",
      "text/plain": [
       "<Figure size 432x288 with 1 Axes>"
      ]
     },
     "metadata": {
      "needs_background": "light",
      "tags": []
     },
     "output_type": "display_data"
    }
   ],
   "source": [
    "# KNN model requires you to specify n_neighbors,\n",
    "# the number of points the classifier will look at to determine what class a new point belongs to\n",
    "KNN_model = KNeighborsClassifier(n_neighbors=5)\n",
    "KNeighborsClassifier(algorithm='auto', leaf_size=30, metric='minkowski',\n",
    "                     metric_params=None, n_jobs=None, n_neighbors=5, p=2,\n",
    "                     weights='uniform')\n",
    "KNN_model.fit(X_train_encode, y_train)\n",
    "\n",
    "knn_y_predict_train = KNN_model.predict(X_train_encode)\n",
    "train_acc = accuracy_score(y_train, knn_y_predict_train)\n",
    "print (\"KNN TRAIN ACCURACY: \",train_acc )\n",
    "\n",
    "#Test Accuracy\n",
    "KNN_prediction = KNN_model.predict(X_test_encode)\n",
    "getModelReport(\"KNeighbors \", y_test, KNN_prediction)\n",
    "plot_roc_curve(\"KNeighbors \",y_test, KNN_prediction)\n",
    "\n"
   ]
  },
  {
   "cell_type": "code",
   "execution_count": 39,
   "metadata": {
    "colab": {
     "base_uri": "https://localhost:8080/",
     "height": 1000
    },
    "id": "Hx4eyd_GFgXh",
    "outputId": "b440d8a8-ecdf-4fe5-b167-188ab27d4d5d"
   },
   "outputs": [
    {
     "name": "stderr",
     "output_type": "stream",
     "text": [
      "/usr/local/lib/python3.7/dist-packages/sklearn/linear_model/_logistic.py:940: ConvergenceWarning: lbfgs failed to converge (status=1):\n",
      "STOP: TOTAL NO. of ITERATIONS REACHED LIMIT.\n",
      "\n",
      "Increase the number of iterations (max_iter) or scale the data as shown in:\n",
      "    https://scikit-learn.org/stable/modules/preprocessing.html\n",
      "Please also refer to the documentation for alternative solver options:\n",
      "    https://scikit-learn.org/stable/modules/linear_model.html#logistic-regression\n",
      "  extra_warning_msg=_LOGISTIC_SOLVER_CONVERGENCE_MSG)\n"
     ]
    },
    {
     "name": "stdout",
     "output_type": "stream",
     "text": [
      "\n",
      "\n",
      "*************************************************************************************\n",
      "FOR LogisticRegression(C=1.0, class_weight=None, dual=False, fit_intercept=True,\n",
      "                   intercept_scaling=1, l1_ratio=None, max_iter=100,\n",
      "                   multi_class='auto', n_jobs=None, penalty='l2',\n",
      "                   random_state=None, solver='lbfgs', tol=0.0001, verbose=0,\n",
      "                   warm_start=False):\n",
      "TEST ACCURACY: 0.694163385336191\n",
      "F1 SCORE: 0.00032583903551645487\n",
      "CONFUSION MATRIX: \n",
      "[[13926     1]\n",
      " [ 6135     1]]\n",
      "CLASSIFICATION REPORT: \n",
      "              precision    recall  f1-score   support\n",
      "\n",
      "           0       0.69      1.00      0.82     13927\n",
      "           1       0.50      0.00      0.00      6136\n",
      "\n",
      "    accuracy                           0.69     20063\n",
      "   macro avg       0.60      0.50      0.41     20063\n",
      "weighted avg       0.63      0.69      0.57     20063\n",
      "\n",
      "****************************************************************************************\n",
      "AUC roc_auc_score: 0.5000455848239783\n"
     ]
    },
    {
     "data": {
      "image/png": "[encoded data removed]",
      "text/plain": [
       "<Figure size 432x288 with 1 Axes>"
      ]
     },
     "metadata": {
      "tags": []
     },
     "output_type": "display_data"
    },
    {
     "name": "stdout",
     "output_type": "stream",
     "text": [
      "\n",
      "\n",
      "*************************************************************************************\n",
      "FOR AdaBoostClassifier(algorithm='SAMME.R', base_estimator=None, learning_rate=1.0,\n",
      "                   n_estimators=50, random_state=None):\n",
      "TEST ACCURACY: 0.6941135423416239\n",
      "F1 SCORE: 0.0009767214715936839\n",
      "CONFUSION MATRIX: \n",
      "[[13923     4]\n",
      " [ 6133     3]]\n",
      "CLASSIFICATION REPORT: \n",
      "              precision    recall  f1-score   support\n",
      "\n",
      "           0       0.69      1.00      0.82     13927\n",
      "           1       0.43      0.00      0.00      6136\n",
      "\n",
      "    accuracy                           0.69     20063\n",
      "   macro avg       0.56      0.50      0.41     20063\n",
      "weighted avg       0.61      0.69      0.57     20063\n",
      "\n",
      "****************************************************************************************\n",
      "AUC roc_auc_score: 0.5001008529856136\n"
     ]
    },
    {
     "data": {
      "image/png": "[encoded data removed]",
      "text/plain": [
       "<Figure size 432x288 with 1 Axes>"
      ]
     },
     "metadata": {
      "tags": []
     },
     "output_type": "display_data"
    },
    {
     "name": "stdout",
     "output_type": "stream",
     "text": [
      "\n",
      "\n",
      "*************************************************************************************\n",
      "FOR GradientBoostingClassifier(ccp_alpha=0.0, criterion='friedman_mse', init=None,\n",
      "                           learning_rate=0.1, loss='deviance', max_depth=3,\n",
      "                           max_features=None, max_leaf_nodes=None,\n",
      "                           min_impurity_decrease=0.0, min_impurity_split=None,\n",
      "                           min_samples_leaf=1, min_samples_split=2,\n",
      "                           min_weight_fraction_leaf=0.0, n_estimators=100,\n",
      "                           n_iter_no_change=None, presort='deprecated',\n",
      "                           random_state=None, subsample=1.0, tol=0.0001,\n",
      "                           validation_fraction=0.1, verbose=0,\n",
      "                           warm_start=False):\n",
      "TEST ACCURACY: 0.694163385336191\n",
      "F1 SCORE: 0.00032583903551645487\n",
      "CONFUSION MATRIX: \n",
      "[[13926     1]\n",
      " [ 6135     1]]\n",
      "CLASSIFICATION REPORT: \n",
      "              precision    recall  f1-score   support\n",
      "\n",
      "           0       0.69      1.00      0.82     13927\n",
      "           1       0.50      0.00      0.00      6136\n",
      "\n",
      "    accuracy                           0.69     20063\n",
      "   macro avg       0.60      0.50      0.41     20063\n",
      "weighted avg       0.63      0.69      0.57     20063\n",
      "\n",
      "****************************************************************************************\n",
      "AUC roc_auc_score: 0.5000455848239783\n"
     ]
    },
    {
     "data": {
      "image/png": "[encoded data removed]",
      "text/plain": [
       "<Figure size 432x288 with 1 Axes>"
      ]
     },
     "metadata": {
      "needs_background": "light",
      "tags": []
     },
     "output_type": "display_data"
    },
    {
     "data": {
      "text/html": [
       "<div>\n",
       "<style scoped>\n",
       "    .dataframe tbody tr th:only-of-type {\n",
       "        vertical-align: middle;\n",
       "    }\n",
       "\n",
       "    .dataframe tbody tr th {\n",
       "        vertical-align: top;\n",
       "    }\n",
       "\n",
       "    .dataframe thead th {\n",
       "        text-align: right;\n",
       "    }\n",
       "</style>\n",
       "<table border=\"1\" class=\"dataframe\">\n",
       "  <thead>\n",
       "    <tr style=\"text-align: right;\">\n",
       "      <th></th>\n",
       "      <th>Modelling Algorithm</th>\n",
       "      <th>Train Accuracy</th>\n",
       "      <th>Validation Accuracy</th>\n",
       "      <th>Difference</th>\n",
       "    </tr>\n",
       "  </thead>\n",
       "  <tbody>\n",
       "    <tr>\n",
       "      <th>0</th>\n",
       "      <td>LogisticRegression</td>\n",
       "      <td>0.694260</td>\n",
       "      <td>0.694163</td>\n",
       "      <td>0.013958</td>\n",
       "    </tr>\n",
       "    <tr>\n",
       "      <th>2</th>\n",
       "      <td>GradientBoostingClassifier</td>\n",
       "      <td>0.694360</td>\n",
       "      <td>0.694163</td>\n",
       "      <td>0.028314</td>\n",
       "    </tr>\n",
       "    <tr>\n",
       "      <th>1</th>\n",
       "      <td>AdaBoostClassifier</td>\n",
       "      <td>0.694186</td>\n",
       "      <td>0.694114</td>\n",
       "      <td>0.010369</td>\n",
       "    </tr>\n",
       "  </tbody>\n",
       "</table>\n",
       "</div>"
      ],
      "text/plain": [
       "          Modelling Algorithm  Train Accuracy  Validation Accuracy  Difference\n",
       "0          LogisticRegression        0.694260             0.694163    0.013958\n",
       "2  GradientBoostingClassifier        0.694360             0.694163    0.028314\n",
       "1          AdaBoostClassifier        0.694186             0.694114    0.010369"
      ]
     },
     "execution_count": 39,
     "metadata": {
      "tags": []
     },
     "output_type": "execute_result"
    }
   ],
   "source": [
    "models = [LogisticRegression(), AdaBoostClassifier(), GradientBoostingClassifier()]\n",
    "model_names = ['LogisticRegression', 'AdaBoostClassifier', 'GradientBoostingClassifier']\n",
    "accuracy_train = []\n",
    "accuracy_val = []\n",
    "for model in models:\n",
    "    mod = model\n",
    "    mod.fit(X_train_encode, y_train)\n",
    "    y_pred_train = mod.predict(X_train_encode)\n",
    "    y_pred_test = mod.predict(X_test_encode)\n",
    "    accuracy_train.append(accuracy_score(y_train, y_pred_train))\n",
    "    accuracy_val.append(accuracy_score(y_test, y_pred_test))\n",
    "    getModelReport(mod, y_test, y_pred_test)\n",
    "    plot_roc_curve(mod,y_test, y_pred_test)\n",
    "data = {'Modelling Algorithm' : model_names, 'Train Accuracy' : accuracy_train, 'Validation Accuracy' : accuracy_val}\n",
    "data = pd.DataFrame(data)\n",
    "data['Difference'] = ((np.abs(data['Train Accuracy'] - data['Validation Accuracy'])) * 100)/(data['Train Accuracy'])\n",
    "data.sort_values(by = 'Validation Accuracy', ascending = False)"
   ]
  },
  {
   "cell_type": "code",
   "execution_count": 39,
   "metadata": {
    "id": "NZNYk-SwbzXL"
   },
   "outputs": [],
   "source": []
  }
 ],
 "metadata": {
  "accelerator": "GPU",
  "colab": {
   "collapsed_sections": [
    "COJnSV7OPSd2",
    "DPLcdpcJPSeB",
    "gMQVhE-kYyYf"
   ],
   "name": "Grp20_Step_6_AutoEncoder_ML_Models_Capstone_4.ipynb",
   "provenance": []
  },
  "kernelspec": {
   "display_name": "Python 3",
   "language": "python",
   "name": "python3"
  },
  "language_info": {
   "codemirror_mode": {
    "name": "ipython",
    "version": 3
   },
   "file_extension": ".py",
   "mimetype": "text/x-python",
   "name": "python",
   "nbconvert_exporter": "python",
   "pygments_lexer": "ipython3",
   "version": "3.7.4"
  }
 },
 "nbformat": 4,
 "nbformat_minor": 1
}
