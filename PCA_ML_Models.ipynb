{
 "cells": [
  {
   "cell_type": "markdown",
   "metadata": {
    "id": "SPvO4HaoPSdT"
   },
   "source": [
    "# Steps Performed : \n",
    "\n",
    "1. Feature Scaling \n",
    "2. Dimensionality reduction using PCA\n",
    "3. Machine Learning Models with evaluation report"
   ]
  },
  {
   "cell_type": "markdown",
   "metadata": {},
   "source": [
    "# Pre-requisite:\n",
    "    Ensure datafolder and required csv datafile is in place before running the code. \n",
    "    If you are runnig this notebook into Jupyter notebook, ensure to mount the drive and file exists on the drive"
   ]
  },
  {
   "cell_type": "code",
   "execution_count": 1,
   "metadata": {},
   "outputs": [],
   "source": [
    "#Modify the directory & File name based on your local paths & file name\n",
    "dataFolder = \"C:/Users/shaaruns.CORPDOM/Documents/BITS_Assignments/Module-7/Gr20_Cap4_Sourcecode/Grp20_Cohert3_Final_Submission\"\n",
    "datafile = \"Output_CSV/Dataset_Step4_Processed_Data_Revised.csv\""
   ]
  },
  {
   "cell_type": "code",
   "execution_count": 2,
   "metadata": {
    "colab": {
     "base_uri": "https://localhost:8080/"
    },
    "id": "sicEQfXaPSdi",
    "outputId": "008c90cb-97f3-4930-d561-765340582792"
   },
   "outputs": [],
   "source": [
    "#from google.colab import drive\n",
    "#drive.mount('/content/drive', force_remount=True)"
   ]
  },
  {
   "cell_type": "code",
   "execution_count": 3,
   "metadata": {
    "colab": {
     "base_uri": "https://localhost:8080/"
    },
    "id": "IhM4O0nsPSdl",
    "outputId": "e46a4f3a-44cd-431d-9be5-5ec14cb10a2e"
   },
   "outputs": [
    {
     "name": "stdout",
     "output_type": "stream",
     "text": [
      "pandas  : 0.25.1\n",
      "numpy   : 1.19.4\n"
     ]
    }
   ],
   "source": [
    "import pandas as pd\n",
    "print('pandas  : {}'.format(pd.__version__)) #Rationale \n",
    "import numpy as np\n",
    "print ('numpy   : {}'.format(np.__version__))\n",
    "from sklearn.preprocessing import StandardScaler\n",
    "from sklearn.decomposition import PCA\n",
    "from sklearn.model_selection import train_test_split, GridSearchCV\n",
    "from sklearn.linear_model import LogisticRegression\n",
    "from sklearn.tree import DecisionTreeClassifier\n",
    "from sklearn.ensemble import RandomForestClassifier, AdaBoostClassifier, GradientBoostingClassifier\n",
    "from sklearn.neighbors import KNeighborsClassifier\n",
    "from sklearn.svm import SVC\n",
    "from xgboost import XGBClassifier\n",
    "from sklearn.metrics import confusion_matrix, accuracy_score, precision_score, recall_score, f1_score\n"
   ]
  },
  {
   "cell_type": "code",
   "execution_count": 4,
   "metadata": {
    "colab": {
     "base_uri": "https://localhost:8080/",
     "height": 263
    },
    "id": "CKfMoTlSPSdp",
    "outputId": "7f39c398-9ab5-48a9-f80b-99271981a771"
   },
   "outputs": [
    {
     "data": {
      "text/html": [
       "<div>\n",
       "<style scoped>\n",
       "    .dataframe tbody tr th:only-of-type {\n",
       "        vertical-align: middle;\n",
       "    }\n",
       "\n",
       "    .dataframe tbody tr th {\n",
       "        vertical-align: top;\n",
       "    }\n",
       "\n",
       "    .dataframe thead th {\n",
       "        text-align: right;\n",
       "    }\n",
       "</style>\n",
       "<table border=\"1\" class=\"dataframe\">\n",
       "  <thead>\n",
       "    <tr style=\"text-align: right;\">\n",
       "      <th></th>\n",
       "      <th>Consumerdisputed</th>\n",
       "      <th>ComplaintID</th>\n",
       "      <th>Month_Received</th>\n",
       "      <th>Year_Sent</th>\n",
       "      <th>Month_Sent</th>\n",
       "      <th>Day_Sent</th>\n",
       "      <th>Week_Received</th>\n",
       "      <th>Product_Consumer Loan</th>\n",
       "      <th>Product_Credit card</th>\n",
       "      <th>Product_Credit reporting</th>\n",
       "      <th>...</th>\n",
       "      <th>Feature109</th>\n",
       "      <th>Feature110</th>\n",
       "      <th>Feature111</th>\n",
       "      <th>Feature112</th>\n",
       "      <th>Feature113</th>\n",
       "      <th>Feature114</th>\n",
       "      <th>Feature115</th>\n",
       "      <th>Feature116</th>\n",
       "      <th>Feature117</th>\n",
       "      <th>Feature118</th>\n",
       "    </tr>\n",
       "  </thead>\n",
       "  <tbody>\n",
       "    <tr>\n",
       "      <td>0</td>\n",
       "      <td>1</td>\n",
       "      <td>1347613</td>\n",
       "      <td>4</td>\n",
       "      <td>2015</td>\n",
       "      <td>4</td>\n",
       "      <td>26</td>\n",
       "      <td>4</td>\n",
       "      <td>0</td>\n",
       "      <td>0</td>\n",
       "      <td>0</td>\n",
       "      <td>...</td>\n",
       "      <td>0.0</td>\n",
       "      <td>0.0</td>\n",
       "      <td>0.0</td>\n",
       "      <td>0.0</td>\n",
       "      <td>0.0</td>\n",
       "      <td>0.0</td>\n",
       "      <td>0.0</td>\n",
       "      <td>0.0</td>\n",
       "      <td>0.707107</td>\n",
       "      <td>0.0</td>\n",
       "    </tr>\n",
       "    <tr>\n",
       "      <td>1</td>\n",
       "      <td>1</td>\n",
       "      <td>1685130</td>\n",
       "      <td>12</td>\n",
       "      <td>2015</td>\n",
       "      <td>12</td>\n",
       "      <td>7</td>\n",
       "      <td>1</td>\n",
       "      <td>0</td>\n",
       "      <td>1</td>\n",
       "      <td>0</td>\n",
       "      <td>...</td>\n",
       "      <td>0.0</td>\n",
       "      <td>0.0</td>\n",
       "      <td>0.0</td>\n",
       "      <td>0.0</td>\n",
       "      <td>0.0</td>\n",
       "      <td>0.0</td>\n",
       "      <td>0.0</td>\n",
       "      <td>0.0</td>\n",
       "      <td>0.000000</td>\n",
       "      <td>0.0</td>\n",
       "    </tr>\n",
       "    <tr>\n",
       "      <td>2</td>\n",
       "      <td>1</td>\n",
       "      <td>10631</td>\n",
       "      <td>1</td>\n",
       "      <td>2012</td>\n",
       "      <td>1</td>\n",
       "      <td>9</td>\n",
       "      <td>1</td>\n",
       "      <td>0</td>\n",
       "      <td>0</td>\n",
       "      <td>0</td>\n",
       "      <td>...</td>\n",
       "      <td>0.0</td>\n",
       "      <td>0.0</td>\n",
       "      <td>0.0</td>\n",
       "      <td>0.0</td>\n",
       "      <td>0.0</td>\n",
       "      <td>0.0</td>\n",
       "      <td>0.0</td>\n",
       "      <td>0.0</td>\n",
       "      <td>0.000000</td>\n",
       "      <td>0.0</td>\n",
       "    </tr>\n",
       "    <tr>\n",
       "      <td>3</td>\n",
       "      <td>1</td>\n",
       "      <td>1489180</td>\n",
       "      <td>7</td>\n",
       "      <td>2015</td>\n",
       "      <td>7</td>\n",
       "      <td>27</td>\n",
       "      <td>4</td>\n",
       "      <td>0</td>\n",
       "      <td>0</td>\n",
       "      <td>0</td>\n",
       "      <td>...</td>\n",
       "      <td>0.0</td>\n",
       "      <td>0.0</td>\n",
       "      <td>0.0</td>\n",
       "      <td>0.0</td>\n",
       "      <td>0.0</td>\n",
       "      <td>0.0</td>\n",
       "      <td>0.0</td>\n",
       "      <td>0.0</td>\n",
       "      <td>0.000000</td>\n",
       "      <td>0.0</td>\n",
       "    </tr>\n",
       "    <tr>\n",
       "      <td>4</td>\n",
       "      <td>1</td>\n",
       "      <td>795636</td>\n",
       "      <td>4</td>\n",
       "      <td>2014</td>\n",
       "      <td>4</td>\n",
       "      <td>6</td>\n",
       "      <td>1</td>\n",
       "      <td>0</td>\n",
       "      <td>0</td>\n",
       "      <td>0</td>\n",
       "      <td>...</td>\n",
       "      <td>0.0</td>\n",
       "      <td>0.0</td>\n",
       "      <td>0.0</td>\n",
       "      <td>0.0</td>\n",
       "      <td>0.0</td>\n",
       "      <td>0.0</td>\n",
       "      <td>0.0</td>\n",
       "      <td>0.0</td>\n",
       "      <td>0.000000</td>\n",
       "      <td>0.0</td>\n",
       "    </tr>\n",
       "  </tbody>\n",
       "</table>\n",
       "<p>5 rows × 142 columns</p>\n",
       "</div>"
      ],
      "text/plain": [
       "   Consumerdisputed  ComplaintID  Month_Received  Year_Sent  Month_Sent  \\\n",
       "0                 1      1347613               4       2015           4   \n",
       "1                 1      1685130              12       2015          12   \n",
       "2                 1        10631               1       2012           1   \n",
       "3                 1      1489180               7       2015           7   \n",
       "4                 1       795636               4       2014           4   \n",
       "\n",
       "   Day_Sent  Week_Received  Product_Consumer Loan  Product_Credit card  \\\n",
       "0        26              4                      0                    0   \n",
       "1         7              1                      0                    1   \n",
       "2         9              1                      0                    0   \n",
       "3        27              4                      0                    0   \n",
       "4         6              1                      0                    0   \n",
       "\n",
       "   Product_Credit reporting  ...  Feature109  Feature110  Feature111  \\\n",
       "0                         0  ...         0.0         0.0         0.0   \n",
       "1                         0  ...         0.0         0.0         0.0   \n",
       "2                         0  ...         0.0         0.0         0.0   \n",
       "3                         0  ...         0.0         0.0         0.0   \n",
       "4                         0  ...         0.0         0.0         0.0   \n",
       "\n",
       "   Feature112  Feature113  Feature114  Feature115  Feature116  Feature117  \\\n",
       "0         0.0         0.0         0.0         0.0         0.0    0.707107   \n",
       "1         0.0         0.0         0.0         0.0         0.0    0.000000   \n",
       "2         0.0         0.0         0.0         0.0         0.0    0.000000   \n",
       "3         0.0         0.0         0.0         0.0         0.0    0.000000   \n",
       "4         0.0         0.0         0.0         0.0         0.0    0.000000   \n",
       "\n",
       "   Feature118  \n",
       "0         0.0  \n",
       "1         0.0  \n",
       "2         0.0  \n",
       "3         0.0  \n",
       "4         0.0  \n",
       "\n",
       "[5 rows x 142 columns]"
      ]
     },
     "execution_count": 4,
     "metadata": {},
     "output_type": "execute_result"
    }
   ],
   "source": [
    "#Read the dataset from clean datafile\n",
    "\n",
    "df_train = pd.read_csv(dataFolder+'/'+ datafile)\n",
    "df_train.head()\n",
    "\n",
    "#Read the dataset from GDrive\n",
    "#Inputfile = 'drive/My Drive/Capstone_Files/Dataset_wrangling_Part_4_Post_Review.csv'\n",
    "#df_train = pd.read_csv(Inputfile)\n",
    "#df_train.head()\n",
    "\n"
   ]
  },
  {
   "cell_type": "code",
   "execution_count": 5,
   "metadata": {
    "id": "kZLfF1qFwLeu"
   },
   "outputs": [],
   "source": [
    "df_train.rename(columns = {'Complaint ID':'ComplaintID'}, inplace = True)"
   ]
  },
  {
   "cell_type": "markdown",
   "metadata": {
    "id": "H5OJ4YZ_PSdr"
   },
   "source": [
    "# Feature Scaling of train Data Sets except Target and Indent variable"
   ]
  },
  {
   "cell_type": "code",
   "execution_count": 6,
   "metadata": {
    "colab": {
     "base_uri": "https://localhost:8080/"
    },
    "id": "yBTj1NwzPSds",
    "outputId": "98d07dd0-7898-465b-bf67-bd7740e9b8c1"
   },
   "outputs": [
    {
     "data": {
      "text/plain": [
       "(100311, 142)"
      ]
     },
     "execution_count": 6,
     "metadata": {},
     "output_type": "execute_result"
    }
   ],
   "source": [
    "df_train.shape"
   ]
  },
  {
   "cell_type": "code",
   "execution_count": 7,
   "metadata": {
    "id": "4jDQUpg2PSdt"
   },
   "outputs": [],
   "source": [
    "temp = df_train.copy()"
   ]
  },
  {
   "cell_type": "code",
   "execution_count": 8,
   "metadata": {
    "colab": {
     "base_uri": "https://localhost:8080/"
    },
    "id": "SaAM0FRUPSdv",
    "outputId": "eecb169d-fed6-4e7a-e6b2-4a1d7855e05a"
   },
   "outputs": [
    {
     "name": "stdout",
     "output_type": "stream",
     "text": [
      "Index(['Month_Received', 'Year_Sent', 'Month_Sent', 'Day_Sent',\n",
      "       'Week_Received', 'Product_Consumer Loan', 'Product_Credit card',\n",
      "       'Product_Credit reporting', 'Product_Debt collection',\n",
      "       'Product_Mortgage',\n",
      "       ...\n",
      "       'Feature109', 'Feature110', 'Feature111', 'Feature112', 'Feature113',\n",
      "       'Feature114', 'Feature115', 'Feature116', 'Feature117', 'Feature118'],\n",
      "      dtype='object', length=140)\n"
     ]
    }
   ],
   "source": [
    "colsTobedropped = ['Consumerdisputed', \n",
    "                  'ComplaintID'\n",
    "                   ]\n",
    "\n",
    "\n",
    "\n",
    "temp  = temp.drop(colsTobedropped,axis = 1)\n",
    "print(temp.columns)"
   ]
  },
  {
   "cell_type": "code",
   "execution_count": 9,
   "metadata": {
    "colab": {
     "base_uri": "https://localhost:8080/"
    },
    "id": "5bUsz6LvPSdx",
    "outputId": "2f5935b2-f683-4e70-891c-01855df4e6cc"
   },
   "outputs": [
    {
     "data": {
      "text/plain": [
       "(100311, 140)"
      ]
     },
     "execution_count": 9,
     "metadata": {},
     "output_type": "execute_result"
    }
   ],
   "source": [
    "temp.shape"
   ]
  },
  {
   "cell_type": "code",
   "execution_count": 10,
   "metadata": {
    "id": "kKdBRZzIPSdy"
   },
   "outputs": [],
   "source": [
    "scaledCols = temp.columns"
   ]
  },
  {
   "cell_type": "code",
   "execution_count": 11,
   "metadata": {
    "id": "B_bXZ-nEPSdz"
   },
   "outputs": [],
   "source": [
    "from sklearn.preprocessing import MinMaxScaler\n",
    "\n",
    "scaler = MinMaxScaler()\n",
    "df_train[scaledCols] = scaler.fit_transform(df_train[scaledCols])"
   ]
  },
  {
   "cell_type": "code",
   "execution_count": 12,
   "metadata": {
    "colab": {
     "base_uri": "https://localhost:8080/"
    },
    "id": "tHf3jY2sPSdz",
    "outputId": "9621341f-491e-4a91-9e1f-a9210dba4684"
   },
   "outputs": [
    {
     "data": {
      "text/plain": [
       "(100311, 142)"
      ]
     },
     "execution_count": 12,
     "metadata": {},
     "output_type": "execute_result"
    }
   ],
   "source": [
    "df_train.shape"
   ]
  },
  {
   "cell_type": "code",
   "execution_count": 13,
   "metadata": {
    "id": "g8aGiAs7PSd0"
   },
   "outputs": [],
   "source": [
    "#Final X training Data\n",
    "X = df_train.reindex(columns=scaledCols)\n",
    "\n",
    "#Target Y Variable Consumer disputed as 0 or 1\n",
    "y = df_train['Consumerdisputed'].values\n",
    "\n",
    "#Preserving ComplaintID for providing final output results, will not be used for training data\n",
    "p_ComplaintID = df_train['ComplaintID'].values"
   ]
  },
  {
   "cell_type": "markdown",
   "metadata": {
    "id": "COJnSV7OPSd2"
   },
   "source": [
    "# Dimensional reduction and features selection"
   ]
  },
  {
   "cell_type": "markdown",
   "metadata": {
    "id": "Mo-DGNA0PSd3"
   },
   "source": [
    "# Using PCA"
   ]
  },
  {
   "cell_type": "code",
   "execution_count": 14,
   "metadata": {
    "id": "ouIo6dAZPSd3"
   },
   "outputs": [],
   "source": [
    "pca_columns = []\n",
    "for i in range(X.shape[1]):\n",
    "    pca_columns.append('PC' + str(i+1))\n",
    "    \n",
    "pca_model = PCA()\n",
    "pca_model.fit(X)\n",
    "X_pca_train = pd.DataFrame(pca_model.transform(X), columns = pca_columns)\n"
   ]
  },
  {
   "cell_type": "code",
   "execution_count": 15,
   "metadata": {
    "colab": {
     "base_uri": "https://localhost:8080/",
     "height": 1000
    },
    "id": "B4R-3yupPSd4",
    "outputId": "4da86b30-c5ff-49b0-e5f4-04d741e18293"
   },
   "outputs": [
    {
     "data": {
      "text/html": [
       "<div>\n",
       "<style scoped>\n",
       "    .dataframe tbody tr th:only-of-type {\n",
       "        vertical-align: middle;\n",
       "    }\n",
       "\n",
       "    .dataframe tbody tr th {\n",
       "        vertical-align: top;\n",
       "    }\n",
       "\n",
       "    .dataframe thead th {\n",
       "        text-align: right;\n",
       "    }\n",
       "</style>\n",
       "<table border=\"1\" class=\"dataframe\">\n",
       "  <thead>\n",
       "    <tr style=\"text-align: right;\">\n",
       "      <th></th>\n",
       "      <th>Variable</th>\n",
       "      <th>Importance</th>\n",
       "    </tr>\n",
       "  </thead>\n",
       "  <tbody>\n",
       "    <tr>\n",
       "      <td>0</td>\n",
       "      <td>PC1</td>\n",
       "      <td>Explained Info    0.0\n",
       "dtype: float64</td>\n",
       "    </tr>\n",
       "    <tr>\n",
       "      <td>1</td>\n",
       "      <td>PC2</td>\n",
       "      <td>Explained Info    0.204761\n",
       "dtype: float64</td>\n",
       "    </tr>\n",
       "    <tr>\n",
       "      <td>2</td>\n",
       "      <td>PC3</td>\n",
       "      <td>Explained Info    0.31747\n",
       "dtype: float64</td>\n",
       "    </tr>\n",
       "    <tr>\n",
       "      <td>3</td>\n",
       "      <td>PC4</td>\n",
       "      <td>Explained Info    0.401489\n",
       "dtype: float64</td>\n",
       "    </tr>\n",
       "    <tr>\n",
       "      <td>4</td>\n",
       "      <td>PC5</td>\n",
       "      <td>Explained Info    0.471021\n",
       "dtype: float64</td>\n",
       "    </tr>\n",
       "    <tr>\n",
       "      <td>5</td>\n",
       "      <td>PC6</td>\n",
       "      <td>Explained Info    0.527071\n",
       "dtype: float64</td>\n",
       "    </tr>\n",
       "    <tr>\n",
       "      <td>6</td>\n",
       "      <td>PC7</td>\n",
       "      <td>Explained Info    0.568048\n",
       "dtype: float64</td>\n",
       "    </tr>\n",
       "    <tr>\n",
       "      <td>7</td>\n",
       "      <td>PC8</td>\n",
       "      <td>Explained Info    0.608649\n",
       "dtype: float64</td>\n",
       "    </tr>\n",
       "    <tr>\n",
       "      <td>8</td>\n",
       "      <td>PC9</td>\n",
       "      <td>Explained Info    0.64717\n",
       "dtype: float64</td>\n",
       "    </tr>\n",
       "    <tr>\n",
       "      <td>9</td>\n",
       "      <td>PC10</td>\n",
       "      <td>Explained Info    0.678818\n",
       "dtype: float64</td>\n",
       "    </tr>\n",
       "    <tr>\n",
       "      <td>10</td>\n",
       "      <td>PC11</td>\n",
       "      <td>Explained Info    0.705585\n",
       "dtype: float64</td>\n",
       "    </tr>\n",
       "    <tr>\n",
       "      <td>11</td>\n",
       "      <td>PC12</td>\n",
       "      <td>Explained Info    0.730354\n",
       "dtype: float64</td>\n",
       "    </tr>\n",
       "    <tr>\n",
       "      <td>12</td>\n",
       "      <td>PC13</td>\n",
       "      <td>Explained Info    0.751203\n",
       "dtype: float64</td>\n",
       "    </tr>\n",
       "    <tr>\n",
       "      <td>13</td>\n",
       "      <td>PC14</td>\n",
       "      <td>Explained Info    0.768423\n",
       "dtype: float64</td>\n",
       "    </tr>\n",
       "    <tr>\n",
       "      <td>14</td>\n",
       "      <td>PC15</td>\n",
       "      <td>Explained Info    0.784061\n",
       "dtype: float64</td>\n",
       "    </tr>\n",
       "    <tr>\n",
       "      <td>15</td>\n",
       "      <td>PC16</td>\n",
       "      <td>Explained Info    0.798757\n",
       "dtype: float64</td>\n",
       "    </tr>\n",
       "    <tr>\n",
       "      <td>16</td>\n",
       "      <td>PC17</td>\n",
       "      <td>Explained Info    0.812996\n",
       "dtype: float64</td>\n",
       "    </tr>\n",
       "    <tr>\n",
       "      <td>17</td>\n",
       "      <td>PC18</td>\n",
       "      <td>Explained Info    0.826906\n",
       "dtype: float64</td>\n",
       "    </tr>\n",
       "    <tr>\n",
       "      <td>18</td>\n",
       "      <td>PC19</td>\n",
       "      <td>Explained Info    0.83956\n",
       "dtype: float64</td>\n",
       "    </tr>\n",
       "    <tr>\n",
       "      <td>19</td>\n",
       "      <td>PC20</td>\n",
       "      <td>Explained Info    0.85178\n",
       "dtype: float64</td>\n",
       "    </tr>\n",
       "    <tr>\n",
       "      <td>20</td>\n",
       "      <td>PC21</td>\n",
       "      <td>Explained Info    0.863682\n",
       "dtype: float64</td>\n",
       "    </tr>\n",
       "    <tr>\n",
       "      <td>21</td>\n",
       "      <td>PC22</td>\n",
       "      <td>Explained Info    0.873109\n",
       "dtype: float64</td>\n",
       "    </tr>\n",
       "    <tr>\n",
       "      <td>22</td>\n",
       "      <td>PC23</td>\n",
       "      <td>Explained Info    0.882266\n",
       "dtype: float64</td>\n",
       "    </tr>\n",
       "    <tr>\n",
       "      <td>23</td>\n",
       "      <td>PC24</td>\n",
       "      <td>Explained Info    0.890735\n",
       "dtype: float64</td>\n",
       "    </tr>\n",
       "    <tr>\n",
       "      <td>24</td>\n",
       "      <td>PC25</td>\n",
       "      <td>Explained Info    0.898251\n",
       "dtype: float64</td>\n",
       "    </tr>\n",
       "    <tr>\n",
       "      <td>25</td>\n",
       "      <td>PC26</td>\n",
       "      <td>Explained Info    0.905651\n",
       "dtype: float64</td>\n",
       "    </tr>\n",
       "    <tr>\n",
       "      <td>26</td>\n",
       "      <td>PC27</td>\n",
       "      <td>Explained Info    0.912708\n",
       "dtype: float64</td>\n",
       "    </tr>\n",
       "    <tr>\n",
       "      <td>27</td>\n",
       "      <td>PC28</td>\n",
       "      <td>Explained Info    0.919068\n",
       "dtype: float64</td>\n",
       "    </tr>\n",
       "    <tr>\n",
       "      <td>28</td>\n",
       "      <td>PC29</td>\n",
       "      <td>Explained Info    0.925133\n",
       "dtype: float64</td>\n",
       "    </tr>\n",
       "    <tr>\n",
       "      <td>29</td>\n",
       "      <td>PC30</td>\n",
       "      <td>Explained Info    0.930954\n",
       "dtype: float64</td>\n",
       "    </tr>\n",
       "    <tr>\n",
       "      <td>30</td>\n",
       "      <td>PC31</td>\n",
       "      <td>Explained Info    0.936296\n",
       "dtype: float64</td>\n",
       "    </tr>\n",
       "    <tr>\n",
       "      <td>31</td>\n",
       "      <td>PC32</td>\n",
       "      <td>Explained Info    0.94148\n",
       "dtype: float64</td>\n",
       "    </tr>\n",
       "    <tr>\n",
       "      <td>32</td>\n",
       "      <td>PC33</td>\n",
       "      <td>Explained Info    0.946274\n",
       "dtype: float64</td>\n",
       "    </tr>\n",
       "    <tr>\n",
       "      <td>33</td>\n",
       "      <td>PC34</td>\n",
       "      <td>Explained Info    0.950292\n",
       "dtype: float64</td>\n",
       "    </tr>\n",
       "    <tr>\n",
       "      <td>34</td>\n",
       "      <td>PC35</td>\n",
       "      <td>Explained Info    0.953505\n",
       "dtype: float64</td>\n",
       "    </tr>\n",
       "    <tr>\n",
       "      <td>35</td>\n",
       "      <td>PC36</td>\n",
       "      <td>Explained Info    0.956523\n",
       "dtype: float64</td>\n",
       "    </tr>\n",
       "    <tr>\n",
       "      <td>36</td>\n",
       "      <td>PC37</td>\n",
       "      <td>Explained Info    0.959364\n",
       "dtype: float64</td>\n",
       "    </tr>\n",
       "    <tr>\n",
       "      <td>37</td>\n",
       "      <td>PC38</td>\n",
       "      <td>Explained Info    0.96207\n",
       "dtype: float64</td>\n",
       "    </tr>\n",
       "    <tr>\n",
       "      <td>38</td>\n",
       "      <td>PC39</td>\n",
       "      <td>Explained Info    0.964676\n",
       "dtype: float64</td>\n",
       "    </tr>\n",
       "    <tr>\n",
       "      <td>39</td>\n",
       "      <td>PC40</td>\n",
       "      <td>Explained Info    0.967087\n",
       "dtype: float64</td>\n",
       "    </tr>\n",
       "    <tr>\n",
       "      <td>40</td>\n",
       "      <td>PC41</td>\n",
       "      <td>Explained Info    0.969312\n",
       "dtype: float64</td>\n",
       "    </tr>\n",
       "    <tr>\n",
       "      <td>41</td>\n",
       "      <td>PC42</td>\n",
       "      <td>Explained Info    0.971426\n",
       "dtype: float64</td>\n",
       "    </tr>\n",
       "    <tr>\n",
       "      <td>42</td>\n",
       "      <td>PC43</td>\n",
       "      <td>Explained Info    0.973427\n",
       "dtype: float64</td>\n",
       "    </tr>\n",
       "    <tr>\n",
       "      <td>43</td>\n",
       "      <td>PC44</td>\n",
       "      <td>Explained Info    0.975395\n",
       "dtype: float64</td>\n",
       "    </tr>\n",
       "    <tr>\n",
       "      <td>44</td>\n",
       "      <td>PC45</td>\n",
       "      <td>Explained Info    0.977254\n",
       "dtype: float64</td>\n",
       "    </tr>\n",
       "    <tr>\n",
       "      <td>45</td>\n",
       "      <td>PC46</td>\n",
       "      <td>Explained Info    0.978978\n",
       "dtype: float64</td>\n",
       "    </tr>\n",
       "    <tr>\n",
       "      <td>46</td>\n",
       "      <td>PC47</td>\n",
       "      <td>Explained Info    0.980608\n",
       "dtype: float64</td>\n",
       "    </tr>\n",
       "    <tr>\n",
       "      <td>47</td>\n",
       "      <td>PC48</td>\n",
       "      <td>Explained Info    0.982203\n",
       "dtype: float64</td>\n",
       "    </tr>\n",
       "    <tr>\n",
       "      <td>48</td>\n",
       "      <td>PC49</td>\n",
       "      <td>Explained Info    0.983671\n",
       "dtype: float64</td>\n",
       "    </tr>\n",
       "    <tr>\n",
       "      <td>49</td>\n",
       "      <td>PC50</td>\n",
       "      <td>Explained Info    0.985033\n",
       "dtype: float64</td>\n",
       "    </tr>\n",
       "    <tr>\n",
       "      <td>50</td>\n",
       "      <td>PC51</td>\n",
       "      <td>Explained Info    0.986186\n",
       "dtype: float64</td>\n",
       "    </tr>\n",
       "    <tr>\n",
       "      <td>51</td>\n",
       "      <td>PC52</td>\n",
       "      <td>Explained Info    0.987255\n",
       "dtype: float64</td>\n",
       "    </tr>\n",
       "    <tr>\n",
       "      <td>52</td>\n",
       "      <td>PC53</td>\n",
       "      <td>Explained Info    0.988248\n",
       "dtype: float64</td>\n",
       "    </tr>\n",
       "    <tr>\n",
       "      <td>53</td>\n",
       "      <td>PC54</td>\n",
       "      <td>Explained Info    0.989235\n",
       "dtype: float64</td>\n",
       "    </tr>\n",
       "    <tr>\n",
       "      <td>54</td>\n",
       "      <td>PC55</td>\n",
       "      <td>Explained Info    0.990211\n",
       "dtype: float64</td>\n",
       "    </tr>\n",
       "    <tr>\n",
       "      <td>55</td>\n",
       "      <td>PC56</td>\n",
       "      <td>Explained Info    0.99118\n",
       "dtype: float64</td>\n",
       "    </tr>\n",
       "    <tr>\n",
       "      <td>56</td>\n",
       "      <td>PC57</td>\n",
       "      <td>Explained Info    0.992082\n",
       "dtype: float64</td>\n",
       "    </tr>\n",
       "    <tr>\n",
       "      <td>57</td>\n",
       "      <td>PC58</td>\n",
       "      <td>Explained Info    0.99291\n",
       "dtype: float64</td>\n",
       "    </tr>\n",
       "    <tr>\n",
       "      <td>58</td>\n",
       "      <td>PC59</td>\n",
       "      <td>Explained Info    0.993644\n",
       "dtype: float64</td>\n",
       "    </tr>\n",
       "    <tr>\n",
       "      <td>59</td>\n",
       "      <td>PC60</td>\n",
       "      <td>Explained Info    0.994323\n",
       "dtype: float64</td>\n",
       "    </tr>\n",
       "  </tbody>\n",
       "</table>\n",
       "</div>"
      ],
      "text/plain": [
       "   Variable                                 Importance\n",
       "0       PC1       Explained Info    0.0\n",
       "dtype: float64\n",
       "1       PC2  Explained Info    0.204761\n",
       "dtype: float64\n",
       "2       PC3   Explained Info    0.31747\n",
       "dtype: float64\n",
       "3       PC4  Explained Info    0.401489\n",
       "dtype: float64\n",
       "4       PC5  Explained Info    0.471021\n",
       "dtype: float64\n",
       "5       PC6  Explained Info    0.527071\n",
       "dtype: float64\n",
       "6       PC7  Explained Info    0.568048\n",
       "dtype: float64\n",
       "7       PC8  Explained Info    0.608649\n",
       "dtype: float64\n",
       "8       PC9   Explained Info    0.64717\n",
       "dtype: float64\n",
       "9      PC10  Explained Info    0.678818\n",
       "dtype: float64\n",
       "10     PC11  Explained Info    0.705585\n",
       "dtype: float64\n",
       "11     PC12  Explained Info    0.730354\n",
       "dtype: float64\n",
       "12     PC13  Explained Info    0.751203\n",
       "dtype: float64\n",
       "13     PC14  Explained Info    0.768423\n",
       "dtype: float64\n",
       "14     PC15  Explained Info    0.784061\n",
       "dtype: float64\n",
       "15     PC16  Explained Info    0.798757\n",
       "dtype: float64\n",
       "16     PC17  Explained Info    0.812996\n",
       "dtype: float64\n",
       "17     PC18  Explained Info    0.826906\n",
       "dtype: float64\n",
       "18     PC19   Explained Info    0.83956\n",
       "dtype: float64\n",
       "19     PC20   Explained Info    0.85178\n",
       "dtype: float64\n",
       "20     PC21  Explained Info    0.863682\n",
       "dtype: float64\n",
       "21     PC22  Explained Info    0.873109\n",
       "dtype: float64\n",
       "22     PC23  Explained Info    0.882266\n",
       "dtype: float64\n",
       "23     PC24  Explained Info    0.890735\n",
       "dtype: float64\n",
       "24     PC25  Explained Info    0.898251\n",
       "dtype: float64\n",
       "25     PC26  Explained Info    0.905651\n",
       "dtype: float64\n",
       "26     PC27  Explained Info    0.912708\n",
       "dtype: float64\n",
       "27     PC28  Explained Info    0.919068\n",
       "dtype: float64\n",
       "28     PC29  Explained Info    0.925133\n",
       "dtype: float64\n",
       "29     PC30  Explained Info    0.930954\n",
       "dtype: float64\n",
       "30     PC31  Explained Info    0.936296\n",
       "dtype: float64\n",
       "31     PC32   Explained Info    0.94148\n",
       "dtype: float64\n",
       "32     PC33  Explained Info    0.946274\n",
       "dtype: float64\n",
       "33     PC34  Explained Info    0.950292\n",
       "dtype: float64\n",
       "34     PC35  Explained Info    0.953505\n",
       "dtype: float64\n",
       "35     PC36  Explained Info    0.956523\n",
       "dtype: float64\n",
       "36     PC37  Explained Info    0.959364\n",
       "dtype: float64\n",
       "37     PC38   Explained Info    0.96207\n",
       "dtype: float64\n",
       "38     PC39  Explained Info    0.964676\n",
       "dtype: float64\n",
       "39     PC40  Explained Info    0.967087\n",
       "dtype: float64\n",
       "40     PC41  Explained Info    0.969312\n",
       "dtype: float64\n",
       "41     PC42  Explained Info    0.971426\n",
       "dtype: float64\n",
       "42     PC43  Explained Info    0.973427\n",
       "dtype: float64\n",
       "43     PC44  Explained Info    0.975395\n",
       "dtype: float64\n",
       "44     PC45  Explained Info    0.977254\n",
       "dtype: float64\n",
       "45     PC46  Explained Info    0.978978\n",
       "dtype: float64\n",
       "46     PC47  Explained Info    0.980608\n",
       "dtype: float64\n",
       "47     PC48  Explained Info    0.982203\n",
       "dtype: float64\n",
       "48     PC49  Explained Info    0.983671\n",
       "dtype: float64\n",
       "49     PC50  Explained Info    0.985033\n",
       "dtype: float64\n",
       "50     PC51  Explained Info    0.986186\n",
       "dtype: float64\n",
       "51     PC52  Explained Info    0.987255\n",
       "dtype: float64\n",
       "52     PC53  Explained Info    0.988248\n",
       "dtype: float64\n",
       "53     PC54  Explained Info    0.989235\n",
       "dtype: float64\n",
       "54     PC55  Explained Info    0.990211\n",
       "dtype: float64\n",
       "55     PC56   Explained Info    0.99118\n",
       "dtype: float64\n",
       "56     PC57  Explained Info    0.992082\n",
       "dtype: float64\n",
       "57     PC58   Explained Info    0.99291\n",
       "dtype: float64\n",
       "58     PC59  Explained Info    0.993644\n",
       "dtype: float64\n",
       "59     PC60  Explained Info    0.994323\n",
       "dtype: float64"
      ]
     },
     "execution_count": 15,
     "metadata": {},
     "output_type": "execute_result"
    }
   ],
   "source": [
    "explained_info_train = pd.DataFrame(pca_model.explained_variance_ratio_, columns=['Explained Info']).sort_values(by = 'Explained Info', ascending = False)\n",
    "imp = []\n",
    "for i in range(explained_info_train.shape[0]):\n",
    "    imp.append(explained_info_train.head(i).sum())\n",
    "explained_info_train_sum = pd.DataFrame()\n",
    "explained_info_train_sum['Variable'] = pca_columns\n",
    "explained_info_train_sum['Importance'] = imp\n",
    "explained_info_train_sum.head(60)"
   ]
  },
  {
   "cell_type": "markdown",
   "metadata": {
    "id": "7Aznai_ZPSd6"
   },
   "source": [
    "# Retaining 18 principal components to retain 90% data variance"
   ]
  },
  {
   "cell_type": "code",
   "execution_count": 16,
   "metadata": {
    "id": "BUwxZbWPPSd6"
   },
   "outputs": [],
   "source": [
    "pca_columns = []\n",
    "for i in range(25):\n",
    "    pca_columns.append('PC' + str(i+1))\n",
    "pca_model = PCA(n_components = 25)\n",
    "pca_model.fit(X)\n",
    "df_pca_train = pd.DataFrame(pca_model.transform(X), columns = pca_columns)"
   ]
  },
  {
   "cell_type": "code",
   "execution_count": 17,
   "metadata": {
    "colab": {
     "base_uri": "https://localhost:8080/",
     "height": 197
    },
    "id": "aTRWQ1xgPSd7",
    "outputId": "6e2f59c6-3ddb-4dac-befa-48ceb0f0c24c"
   },
   "outputs": [
    {
     "data": {
      "text/html": [
       "<div>\n",
       "<style scoped>\n",
       "    .dataframe tbody tr th:only-of-type {\n",
       "        vertical-align: middle;\n",
       "    }\n",
       "\n",
       "    .dataframe tbody tr th {\n",
       "        vertical-align: top;\n",
       "    }\n",
       "\n",
       "    .dataframe thead th {\n",
       "        text-align: right;\n",
       "    }\n",
       "</style>\n",
       "<table border=\"1\" class=\"dataframe\">\n",
       "  <thead>\n",
       "    <tr style=\"text-align: right;\">\n",
       "      <th></th>\n",
       "      <th>PC1</th>\n",
       "      <th>PC2</th>\n",
       "      <th>PC3</th>\n",
       "      <th>PC4</th>\n",
       "      <th>PC5</th>\n",
       "      <th>PC6</th>\n",
       "      <th>PC7</th>\n",
       "      <th>PC8</th>\n",
       "      <th>PC9</th>\n",
       "      <th>PC10</th>\n",
       "      <th>...</th>\n",
       "      <th>PC16</th>\n",
       "      <th>PC17</th>\n",
       "      <th>PC18</th>\n",
       "      <th>PC19</th>\n",
       "      <th>PC20</th>\n",
       "      <th>PC21</th>\n",
       "      <th>PC22</th>\n",
       "      <th>PC23</th>\n",
       "      <th>PC24</th>\n",
       "      <th>PC25</th>\n",
       "    </tr>\n",
       "  </thead>\n",
       "  <tbody>\n",
       "    <tr>\n",
       "      <td>0</td>\n",
       "      <td>-0.395199</td>\n",
       "      <td>0.204979</td>\n",
       "      <td>0.348880</td>\n",
       "      <td>-0.534124</td>\n",
       "      <td>-0.400318</td>\n",
       "      <td>-0.603641</td>\n",
       "      <td>0.152747</td>\n",
       "      <td>-0.255859</td>\n",
       "      <td>0.222265</td>\n",
       "      <td>0.291854</td>\n",
       "      <td>...</td>\n",
       "      <td>-0.511882</td>\n",
       "      <td>-0.706588</td>\n",
       "      <td>-0.034723</td>\n",
       "      <td>0.032472</td>\n",
       "      <td>0.213880</td>\n",
       "      <td>-0.163613</td>\n",
       "      <td>0.006538</td>\n",
       "      <td>-0.093970</td>\n",
       "      <td>-0.039530</td>\n",
       "      <td>-0.010609</td>\n",
       "    </tr>\n",
       "    <tr>\n",
       "      <td>1</td>\n",
       "      <td>-0.450109</td>\n",
       "      <td>0.300232</td>\n",
       "      <td>0.570239</td>\n",
       "      <td>-0.731279</td>\n",
       "      <td>-0.371584</td>\n",
       "      <td>0.503156</td>\n",
       "      <td>-0.586397</td>\n",
       "      <td>0.568686</td>\n",
       "      <td>-0.363829</td>\n",
       "      <td>-0.102479</td>\n",
       "      <td>...</td>\n",
       "      <td>-0.023017</td>\n",
       "      <td>0.044513</td>\n",
       "      <td>0.475766</td>\n",
       "      <td>-0.155911</td>\n",
       "      <td>-0.071593</td>\n",
       "      <td>-0.069824</td>\n",
       "      <td>-0.235035</td>\n",
       "      <td>0.151858</td>\n",
       "      <td>-0.074929</td>\n",
       "      <td>-0.029439</td>\n",
       "    </tr>\n",
       "    <tr>\n",
       "      <td>2</td>\n",
       "      <td>0.050268</td>\n",
       "      <td>0.258965</td>\n",
       "      <td>0.237108</td>\n",
       "      <td>-0.552120</td>\n",
       "      <td>0.721765</td>\n",
       "      <td>0.282272</td>\n",
       "      <td>-0.619973</td>\n",
       "      <td>-0.643885</td>\n",
       "      <td>1.836436</td>\n",
       "      <td>-0.939509</td>\n",
       "      <td>...</td>\n",
       "      <td>-0.112445</td>\n",
       "      <td>0.074300</td>\n",
       "      <td>-0.494546</td>\n",
       "      <td>0.196671</td>\n",
       "      <td>0.031203</td>\n",
       "      <td>0.006907</td>\n",
       "      <td>0.098852</td>\n",
       "      <td>-0.045058</td>\n",
       "      <td>-0.048895</td>\n",
       "      <td>0.012688</td>\n",
       "    </tr>\n",
       "    <tr>\n",
       "      <td>3</td>\n",
       "      <td>-0.045776</td>\n",
       "      <td>0.248927</td>\n",
       "      <td>0.260345</td>\n",
       "      <td>-0.566060</td>\n",
       "      <td>0.656803</td>\n",
       "      <td>-0.620803</td>\n",
       "      <td>0.042442</td>\n",
       "      <td>0.187712</td>\n",
       "      <td>0.520281</td>\n",
       "      <td>-0.220983</td>\n",
       "      <td>...</td>\n",
       "      <td>-0.083403</td>\n",
       "      <td>0.145307</td>\n",
       "      <td>1.404238</td>\n",
       "      <td>-0.634033</td>\n",
       "      <td>-0.921333</td>\n",
       "      <td>-0.187751</td>\n",
       "      <td>-0.024251</td>\n",
       "      <td>0.150833</td>\n",
       "      <td>-0.103045</td>\n",
       "      <td>-0.092548</td>\n",
       "    </tr>\n",
       "    <tr>\n",
       "      <td>4</td>\n",
       "      <td>1.451888</td>\n",
       "      <td>-0.846634</td>\n",
       "      <td>-0.160931</td>\n",
       "      <td>-0.571713</td>\n",
       "      <td>-0.074824</td>\n",
       "      <td>0.620269</td>\n",
       "      <td>-0.052431</td>\n",
       "      <td>-0.357547</td>\n",
       "      <td>-0.100975</td>\n",
       "      <td>-0.046934</td>\n",
       "      <td>...</td>\n",
       "      <td>-0.005213</td>\n",
       "      <td>-0.052919</td>\n",
       "      <td>-0.004768</td>\n",
       "      <td>0.011288</td>\n",
       "      <td>0.040054</td>\n",
       "      <td>-0.005465</td>\n",
       "      <td>-0.007769</td>\n",
       "      <td>-0.011862</td>\n",
       "      <td>0.025234</td>\n",
       "      <td>-0.040595</td>\n",
       "    </tr>\n",
       "  </tbody>\n",
       "</table>\n",
       "<p>5 rows × 25 columns</p>\n",
       "</div>"
      ],
      "text/plain": [
       "        PC1       PC2       PC3       PC4       PC5       PC6       PC7  \\\n",
       "0 -0.395199  0.204979  0.348880 -0.534124 -0.400318 -0.603641  0.152747   \n",
       "1 -0.450109  0.300232  0.570239 -0.731279 -0.371584  0.503156 -0.586397   \n",
       "2  0.050268  0.258965  0.237108 -0.552120  0.721765  0.282272 -0.619973   \n",
       "3 -0.045776  0.248927  0.260345 -0.566060  0.656803 -0.620803  0.042442   \n",
       "4  1.451888 -0.846634 -0.160931 -0.571713 -0.074824  0.620269 -0.052431   \n",
       "\n",
       "        PC8       PC9      PC10  ...      PC16      PC17      PC18      PC19  \\\n",
       "0 -0.255859  0.222265  0.291854  ... -0.511882 -0.706588 -0.034723  0.032472   \n",
       "1  0.568686 -0.363829 -0.102479  ... -0.023017  0.044513  0.475766 -0.155911   \n",
       "2 -0.643885  1.836436 -0.939509  ... -0.112445  0.074300 -0.494546  0.196671   \n",
       "3  0.187712  0.520281 -0.220983  ... -0.083403  0.145307  1.404238 -0.634033   \n",
       "4 -0.357547 -0.100975 -0.046934  ... -0.005213 -0.052919 -0.004768  0.011288   \n",
       "\n",
       "       PC20      PC21      PC22      PC23      PC24      PC25  \n",
       "0  0.213880 -0.163613  0.006538 -0.093970 -0.039530 -0.010609  \n",
       "1 -0.071593 -0.069824 -0.235035  0.151858 -0.074929 -0.029439  \n",
       "2  0.031203  0.006907  0.098852 -0.045058 -0.048895  0.012688  \n",
       "3 -0.921333 -0.187751 -0.024251  0.150833 -0.103045 -0.092548  \n",
       "4  0.040054 -0.005465 -0.007769 -0.011862  0.025234 -0.040595  \n",
       "\n",
       "[5 rows x 25 columns]"
      ]
     },
     "execution_count": 17,
     "metadata": {},
     "output_type": "execute_result"
    }
   ],
   "source": [
    "df_pca_train.head()"
   ]
  },
  {
   "cell_type": "code",
   "execution_count": 18,
   "metadata": {
    "id": "UKMZb1W_PSd7"
   },
   "outputs": [],
   "source": [
    "# Split the dataframe 80:20 preserve the distribution of class - use stratify\n",
    "\n",
    "X_train, X_val, y_train, y_val , trainComplaintID , valComplaintID = train_test_split(df_pca_train, y, p_ComplaintID , test_size = 0.3,random_state = 17 , stratify = df_train['Consumerdisputed'])\n"
   ]
  },
  {
   "cell_type": "code",
   "execution_count": 19,
   "metadata": {
    "colab": {
     "base_uri": "https://localhost:8080/"
    },
    "id": "J9KAJC86PSd8",
    "outputId": "2e5e0b0d-84f3-41a0-a90b-0fb2be29463e"
   },
   "outputs": [
    {
     "data": {
      "text/plain": [
       "array([ 535735,  336747,  964230, ..., 1038166,  582650, 1048379],\n",
       "      dtype=int64)"
      ]
     },
     "execution_count": 19,
     "metadata": {},
     "output_type": "execute_result"
    }
   ],
   "source": [
    "valComplaintID"
   ]
  },
  {
   "cell_type": "code",
   "execution_count": 20,
   "metadata": {
    "colab": {
     "base_uri": "https://localhost:8080/"
    },
    "id": "sc1p6q0_PSd9",
    "outputId": "982f43c9-20b0-4dd6-ac6f-2ee60d1ad04c"
   },
   "outputs": [
    {
     "data": {
      "text/plain": [
       "((70217, 25), (70217,), (70217,))"
      ]
     },
     "execution_count": 20,
     "metadata": {},
     "output_type": "execute_result"
    }
   ],
   "source": [
    "X_train.shape, y_train.shape, trainComplaintID.shape "
   ]
  },
  {
   "cell_type": "code",
   "execution_count": 21,
   "metadata": {
    "colab": {
     "base_uri": "https://localhost:8080/"
    },
    "id": "EqtDyNQaPSd-",
    "outputId": "f1a23875-c78a-43c0-db10-e1bd76713562"
   },
   "outputs": [
    {
     "data": {
      "text/plain": [
       "((30094, 25), (30094,), (30094,))"
      ]
     },
     "execution_count": 21,
     "metadata": {},
     "output_type": "execute_result"
    }
   ],
   "source": [
    " X_val.shape, y_val.shape,  valComplaintID.shape"
   ]
  },
  {
   "cell_type": "code",
   "execution_count": 22,
   "metadata": {
    "colab": {
     "base_uri": "https://localhost:8080/"
    },
    "id": "xDWVAQoNPSd_",
    "outputId": "4a360d20-5e72-44a7-ab9a-b5ab840f482f"
   },
   "outputs": [
    {
     "name": "stdout",
     "output_type": "stream",
     "text": [
      "y_train distribution of label '1': 21474 \n",
      "\n",
      "y_train distribution of label '0': 48743 \n",
      "\n",
      "y_val distribution of label '1': 9203 \n",
      "\n",
      "y_val distribution of label '0': 20891 \n",
      "\n"
     ]
    }
   ],
   "source": [
    "#checking y_train distribution\n",
    "print(\"y_train distribution of label '1': {} \\n\".format(sum(y_train == 1))) \n",
    "print(\"y_train distribution of label '0': {} \\n\".format(sum(y_train == 0)))\n",
    "\n",
    "\n",
    "#checking y_train distribution\n",
    "print(\"y_val distribution of label '1': {} \\n\".format(sum(y_val == 1))) \n",
    "print(\"y_val distribution of label '0': {} \\n\".format(sum(y_val == 0)))\n"
   ]
  },
  {
   "cell_type": "code",
   "execution_count": 23,
   "metadata": {
    "colab": {
     "base_uri": "https://localhost:8080/"
    },
    "id": "3OeBWYzSW2Rx",
    "outputId": "e56eb754-7866-40e1-9a42-c97c53d731e4"
   },
   "outputs": [
    {
     "data": {
      "text/plain": [
       "25"
      ]
     },
     "execution_count": 23,
     "metadata": {},
     "output_type": "execute_result"
    }
   ],
   "source": [
    "totalFeature = X_train.columns\n",
    "len(totalFeature)"
   ]
  },
  {
   "cell_type": "code",
   "execution_count": 24,
   "metadata": {
    "id": "-kqBoXLKFUqF"
   },
   "outputs": [],
   "source": [
    "from sklearn.ensemble import RandomForestClassifier\n",
    "from xgboost import XGBClassifier\n",
    "from sklearn.tree import DecisionTreeClassifier \n",
    "from sklearn import svm\n",
    "from sklearn.svm import LinearSVC\n",
    "from sklearn.model_selection import train_test_split, GridSearchCV\n",
    "from sklearn.metrics import precision_score, recall_score, f1_score, confusion_matrix, accuracy_score, classification_report\n",
    "from sklearn.metrics import roc_curve, auc\n",
    "from sklearn.metrics import roc_auc_score\n",
    "import matplotlib.pyplot as plt"
   ]
  },
  {
   "cell_type": "code",
   "execution_count": 25,
   "metadata": {
    "id": "nE44FDiRFVaB"
   },
   "outputs": [],
   "source": [
    "def plot_roc_curve(model, yTest, yPred):\n",
    "    fpr, tpr, thresholds = roc_curve(yTest, yPred)\n",
    "    roc_auc = auc(fpr, tpr)\n",
    "    lw = 2\n",
    "    #print('AUC area:', roc_auc)\n",
    "    Model_accuracy[model] = roc_auc_score(yTest,yPred)\n",
    "    print('AUC roc_auc_score:', roc_auc_score(yTest,yPred))\n",
    "    plt.plot([0,1],[0,1],'k--')\n",
    "    #plt.plot(fpr,tpr, label='ROC curve (area = %0.2f)' % roc_auc)\n",
    "    plt.plot(fpr, tpr, color='darkorange',\n",
    "         lw=lw, label='ROC curve (area = %0.2f)' % roc_auc)\n",
    "    plt.xlabel('FPR')\n",
    "    plt.ylabel('TPR')\n",
    "    plt.title(model)\n",
    "    plt.show()\n",
    "    \n",
    "from sklearn.metrics import cohen_kappa_score\n",
    "def getModelReport(modelName, yTest, yPredict) :\n",
    "    accuracy = accuracy_score(yTest, yPredict)\n",
    "    precision = precision_score(yTest, yPredict)\n",
    "    recall = recall_score(yTest, yPredict)\n",
    "    f1 = f1_score(yTest, yPredict)\n",
    "    # Cohen's kappa\n",
    "    cohenKappa = cohen_kappa_score(yTest, yPredict)\n",
    "    conf_matrix = confusion_matrix(yTest, yPredict)\n",
    "    clf_report = classification_report(yTest, yPredict)\n",
    "\n",
    "    print('\\n\\n*************************************************************************************')\n",
    "    print('FOR {0}:'.format(modelName))\n",
    "    print('ACCURACY:', accuracy)\n",
    "    print('F1 SCORE:', f1)\n",
    "    print('CONFUSION MATRIX: ')\n",
    "    print(conf_matrix)\n",
    "    print('CLASSIFICATION REPORT: ')\n",
    "    print(clf_report)\n",
    "    print('COHEN KAPPA SCORE: ')\n",
    "    print (cohenKappa)\n",
    "    #print (\"{0:.3f}\".format(cohenKappa))\n",
    "    print('****************************************************************************************')\n"
   ]
  },
  {
   "cell_type": "code",
   "execution_count": 26,
   "metadata": {
    "colab": {
     "base_uri": "https://localhost:8080/",
     "height": 1000
    },
    "id": "hFeZpfZndqRe",
    "outputId": "2c19d060-2a73-4968-8d76-a0b21b2573a2"
   },
   "outputs": [
    {
     "name": "stderr",
     "output_type": "stream",
     "text": [
      "C:\\Users\\shaaruns.CORPDOM\\AppData\\Local\\Continuum\\anaconda3\\lib\\site-packages\\sklearn\\metrics\\_classification.py:1245: UndefinedMetricWarning: Precision is ill-defined and being set to 0.0 due to no predicted samples. Use `zero_division` parameter to control this behavior.\n",
      "  _warn_prf(average, modifier, msg_start, len(result))\n",
      "C:\\Users\\shaaruns.CORPDOM\\AppData\\Local\\Continuum\\anaconda3\\lib\\site-packages\\sklearn\\metrics\\_classification.py:1245: UndefinedMetricWarning: Precision and F-score are ill-defined and being set to 0.0 in labels with no predicted samples. Use `zero_division` parameter to control this behavior.\n",
      "  _warn_prf(average, modifier, msg_start, len(result))\n",
      "C:\\Users\\shaaruns.CORPDOM\\AppData\\Local\\Continuum\\anaconda3\\lib\\site-packages\\sklearn\\metrics\\_classification.py:1245: UndefinedMetricWarning: Precision and F-score are ill-defined and being set to 0.0 in labels with no predicted samples. Use `zero_division` parameter to control this behavior.\n",
      "  _warn_prf(average, modifier, msg_start, len(result))\n",
      "C:\\Users\\shaaruns.CORPDOM\\AppData\\Local\\Continuum\\anaconda3\\lib\\site-packages\\sklearn\\metrics\\_classification.py:1245: UndefinedMetricWarning: Precision and F-score are ill-defined and being set to 0.0 in labels with no predicted samples. Use `zero_division` parameter to control this behavior.\n",
      "  _warn_prf(average, modifier, msg_start, len(result))\n"
     ]
    },
    {
     "name": "stdout",
     "output_type": "stream",
     "text": [
      "\n",
      "\n",
      "*************************************************************************************\n",
      "FOR LogisticRegression():\n",
      "ACCURACY: 0.6941915331959859\n",
      "F1 SCORE: 0.0\n",
      "CONFUSION MATRIX: \n",
      "[[20891     0]\n",
      " [ 9203     0]]\n",
      "CLASSIFICATION REPORT: \n",
      "              precision    recall  f1-score   support\n",
      "\n",
      "           0       0.69      1.00      0.82     20891\n",
      "           1       0.00      0.00      0.00      9203\n",
      "\n",
      "    accuracy                           0.69     30094\n",
      "   macro avg       0.35      0.50      0.41     30094\n",
      "weighted avg       0.48      0.69      0.57     30094\n",
      "\n",
      "COHEN KAPPA SCORE: \n",
      "0.0\n",
      "****************************************************************************************\n",
      "AUC roc_auc_score: 0.5\n"
     ]
    },
    {
     "data": {
      "image/png": "[encoded data removed]",
      "text/plain": [
       "<Figure size 432x288 with 1 Axes>"
      ]
     },
     "metadata": {
      "needs_background": "light"
     },
     "output_type": "display_data"
    },
    {
     "name": "stdout",
     "output_type": "stream",
     "text": [
      "\n",
      "\n",
      "*************************************************************************************\n",
      "FOR DecisionTreeClassifier():\n",
      "ACCURACY: 0.6088589087525753\n",
      "F1 SCORE: 0.29426224593800593\n",
      "CONFUSION MATRIX: \n",
      "[[15869  5022]\n",
      " [ 6749  2454]]\n",
      "CLASSIFICATION REPORT: \n",
      "              precision    recall  f1-score   support\n",
      "\n",
      "           0       0.70      0.76      0.73     20891\n",
      "           1       0.33      0.27      0.29      9203\n",
      "\n",
      "    accuracy                           0.61     30094\n",
      "   macro avg       0.51      0.51      0.51     30094\n",
      "weighted avg       0.59      0.61      0.60     30094\n",
      "\n",
      "COHEN KAPPA SCORE: \n",
      "0.027716546360121663\n",
      "****************************************************************************************\n",
      "AUC roc_auc_score: 0.5131307899074707\n"
     ]
    },
    {
     "data": {
      "image/png": "[encoded data removed]",
      "text/plain": [
       "<Figure size 432x288 with 1 Axes>"
      ]
     },
     "metadata": {
      "needs_background": "light"
     },
     "output_type": "display_data"
    },
    {
     "name": "stdout",
     "output_type": "stream",
     "text": [
      "\n",
      "\n",
      "*************************************************************************************\n",
      "FOR RandomForestClassifier():\n",
      "ACCURACY: 0.6246095567222703\n",
      "F1 SCORE: 0.28286675553862756\n",
      "CONFUSION MATRIX: \n",
      "[[16569  4322]\n",
      " [ 6975  2228]]\n",
      "CLASSIFICATION REPORT: \n",
      "              precision    recall  f1-score   support\n",
      "\n",
      "           0       0.70      0.79      0.75     20891\n",
      "           1       0.34      0.24      0.28      9203\n",
      "\n",
      "    accuracy                           0.62     30094\n",
      "   macro avg       0.52      0.52      0.51     30094\n",
      "weighted avg       0.59      0.62      0.60     30094\n",
      "\n",
      "COHEN KAPPA SCORE: \n",
      "0.03830021000562578\n",
      "****************************************************************************************\n",
      "AUC roc_auc_score: 0.5176058110680225\n"
     ]
    },
    {
     "data": {
      "image/png": "[encoded data removed]",
      "text/plain": [
       "<Figure size 432x288 with 1 Axes>"
      ]
     },
     "metadata": {
      "needs_background": "light"
     },
     "output_type": "display_data"
    },
    {
     "name": "stdout",
     "output_type": "stream",
     "text": [
      "\n",
      "\n",
      "*************************************************************************************\n",
      "FOR AdaBoostClassifier():\n",
      "ACCURACY: 0.6945238253472453\n",
      "F1 SCORE: 0.008627197239296884\n",
      "CONFUSION MATRIX: \n",
      "[[20861    30]\n",
      " [ 9163    40]]\n",
      "CLASSIFICATION REPORT: \n",
      "              precision    recall  f1-score   support\n",
      "\n",
      "           0       0.69      1.00      0.82     20891\n",
      "           1       0.57      0.00      0.01      9203\n",
      "\n",
      "    accuracy                           0.69     30094\n",
      "   macro avg       0.63      0.50      0.41     30094\n",
      "weighted avg       0.66      0.69      0.57     30094\n",
      "\n",
      "COHEN KAPPA SCORE: \n",
      "0.0040288257858903664\n",
      "****************************************************************************************\n",
      "AUC roc_auc_score: 0.5014551918485871\n"
     ]
    },
    {
     "data": {
      "image/png": "[encoded data removed]",
      "text/plain": [
       "<Figure size 432x288 with 1 Axes>"
      ]
     },
     "metadata": {
      "needs_background": "light"
     },
     "output_type": "display_data"
    },
    {
     "name": "stdout",
     "output_type": "stream",
     "text": [
      "\n",
      "\n",
      "*************************************************************************************\n",
      "FOR GradientBoostingClassifier():\n",
      "ACCURACY: 0.6962185153186682\n",
      "F1 SCORE: 0.018888173427774203\n",
      "CONFUSION MATRIX: \n",
      "[[20864    27]\n",
      " [ 9115    88]]\n",
      "CLASSIFICATION REPORT: \n",
      "              precision    recall  f1-score   support\n",
      "\n",
      "           0       0.70      1.00      0.82     20891\n",
      "           1       0.77      0.01      0.02      9203\n",
      "\n",
      "    accuracy                           0.70     30094\n",
      "   macro avg       0.73      0.50      0.42     30094\n",
      "weighted avg       0.72      0.70      0.58     30094\n",
      "\n",
      "COHEN KAPPA SCORE: \n",
      "0.011426026295253466\n",
      "****************************************************************************************\n",
      "AUC roc_auc_score: 0.5041348383705632\n"
     ]
    },
    {
     "data": {
      "image/png": "[encoded data removed]",
      "text/plain": [
       "<Figure size 432x288 with 1 Axes>"
      ]
     },
     "metadata": {
      "needs_background": "light"
     },
     "output_type": "display_data"
    },
    {
     "name": "stdout",
     "output_type": "stream",
     "text": [
      "\n",
      "\n",
      "*************************************************************************************\n",
      "FOR KNeighborsClassifier():\n",
      "ACCURACY: 0.6399946833255798\n",
      "F1 SCORE: 0.26559110629067245\n",
      "CONFUSION MATRIX: \n",
      "[[17301  3590]\n",
      " [ 7244  1959]]\n",
      "CLASSIFICATION REPORT: \n",
      "              precision    recall  f1-score   support\n",
      "\n",
      "           0       0.70      0.83      0.76     20891\n",
      "           1       0.35      0.21      0.27      9203\n",
      "\n",
      "    accuracy                           0.64     30094\n",
      "   macro avg       0.53      0.52      0.51     30094\n",
      "weighted avg       0.60      0.64      0.61     30094\n",
      "\n",
      "COHEN KAPPA SCORE: \n",
      "0.0461464416292201\n",
      "****************************************************************************************\n",
      "AUC roc_auc_score: 0.5205105175534991\n"
     ]
    },
    {
     "data": {
      "image/png": "[encoded data removed]",
      "text/plain": [
       "<Figure size 432x288 with 1 Axes>"
      ]
     },
     "metadata": {
      "needs_background": "light"
     },
     "output_type": "display_data"
    },
    {
     "name": "stdout",
     "output_type": "stream",
     "text": [
      "\n",
      "\n",
      "*************************************************************************************\n",
      "FOR XGBClassifier(base_score=0.5, booster='gbtree', colsample_bylevel=1,\n",
      "              colsample_bynode=1, colsample_bytree=1, gamma=0, gpu_id=-1,\n",
      "              importance_type='gain', interaction_constraints='',\n",
      "              learning_rate=0.300000012, max_delta_step=0, max_depth=6,\n",
      "              min_child_weight=1, missing=nan, monotone_constraints='()',\n",
      "              n_estimators=100, n_jobs=0, num_parallel_tree=1, random_state=0,\n",
      "              reg_alpha=0, reg_lambda=1, scale_pos_weight=1, subsample=1,\n",
      "              tree_method='exact', validate_parameters=1, verbosity=None):\n",
      "ACCURACY: 0.6920316342127999\n",
      "F1 SCORE: 0.10884615384615384\n",
      "CONFUSION MATRIX: \n",
      "[[20260   631]\n",
      " [ 8637   566]]\n",
      "CLASSIFICATION REPORT: \n",
      "              precision    recall  f1-score   support\n",
      "\n",
      "           0       0.70      0.97      0.81     20891\n",
      "           1       0.47      0.06      0.11      9203\n",
      "\n",
      "    accuracy                           0.69     30094\n",
      "   macro avg       0.59      0.52      0.46     30094\n",
      "weighted avg       0.63      0.69      0.60     30094\n",
      "\n",
      "COHEN KAPPA SCORE: \n",
      "0.04136314574086475\n",
      "****************************************************************************************\n",
      "AUC roc_auc_score: 0.5156486449983247\n"
     ]
    },
    {
     "data": {
      "image/png": "[encoded data removed]",
      "text/plain": [
       "<Figure size 432x288 with 1 Axes>"
      ]
     },
     "metadata": {
      "needs_background": "light"
     },
     "output_type": "display_data"
    },
    {
     "data": {
      "text/html": [
       "<div>\n",
       "<style scoped>\n",
       "    .dataframe tbody tr th:only-of-type {\n",
       "        vertical-align: middle;\n",
       "    }\n",
       "\n",
       "    .dataframe tbody tr th {\n",
       "        vertical-align: top;\n",
       "    }\n",
       "\n",
       "    .dataframe thead th {\n",
       "        text-align: right;\n",
       "    }\n",
       "</style>\n",
       "<table border=\"1\" class=\"dataframe\">\n",
       "  <thead>\n",
       "    <tr style=\"text-align: right;\">\n",
       "      <th></th>\n",
       "      <th>Modelling Algorithm</th>\n",
       "      <th>Train Accuracy</th>\n",
       "      <th>Validation Accuracy</th>\n",
       "      <th>Difference</th>\n",
       "    </tr>\n",
       "  </thead>\n",
       "  <tbody>\n",
       "    <tr>\n",
       "      <td>4</td>\n",
       "      <td>GradientBoostingClassifier</td>\n",
       "      <td>0.697709</td>\n",
       "      <td>0.696219</td>\n",
       "      <td>0.213559</td>\n",
       "    </tr>\n",
       "    <tr>\n",
       "      <td>3</td>\n",
       "      <td>AdaBoostClassifier</td>\n",
       "      <td>0.694931</td>\n",
       "      <td>0.694524</td>\n",
       "      <td>0.058653</td>\n",
       "    </tr>\n",
       "    <tr>\n",
       "      <td>0</td>\n",
       "      <td>LogisticRegression</td>\n",
       "      <td>0.694177</td>\n",
       "      <td>0.694192</td>\n",
       "      <td>0.002148</td>\n",
       "    </tr>\n",
       "    <tr>\n",
       "      <td>6</td>\n",
       "      <td>XGBClassifier</td>\n",
       "      <td>0.725821</td>\n",
       "      <td>0.692032</td>\n",
       "      <td>4.655381</td>\n",
       "    </tr>\n",
       "    <tr>\n",
       "      <td>5</td>\n",
       "      <td>KNeighborsClassifier</td>\n",
       "      <td>0.748124</td>\n",
       "      <td>0.639995</td>\n",
       "      <td>14.453358</td>\n",
       "    </tr>\n",
       "    <tr>\n",
       "      <td>2</td>\n",
       "      <td>RandomForestClassifier</td>\n",
       "      <td>0.884743</td>\n",
       "      <td>0.624610</td>\n",
       "      <td>29.402149</td>\n",
       "    </tr>\n",
       "    <tr>\n",
       "      <td>1</td>\n",
       "      <td>DecisionTreeClassifier</td>\n",
       "      <td>0.884757</td>\n",
       "      <td>0.608859</td>\n",
       "      <td>31.183507</td>\n",
       "    </tr>\n",
       "  </tbody>\n",
       "</table>\n",
       "</div>"
      ],
      "text/plain": [
       "          Modelling Algorithm  Train Accuracy  Validation Accuracy  Difference\n",
       "4  GradientBoostingClassifier        0.697709             0.696219    0.213559\n",
       "3          AdaBoostClassifier        0.694931             0.694524    0.058653\n",
       "0          LogisticRegression        0.694177             0.694192    0.002148\n",
       "6               XGBClassifier        0.725821             0.692032    4.655381\n",
       "5        KNeighborsClassifier        0.748124             0.639995   14.453358\n",
       "2      RandomForestClassifier        0.884743             0.624610   29.402149\n",
       "1      DecisionTreeClassifier        0.884757             0.608859   31.183507"
      ]
     },
     "execution_count": 26,
     "metadata": {},
     "output_type": "execute_result"
    }
   ],
   "source": [
    "### Performance of Different Algorithms\n",
    "Model_accuracy = {}\n",
    "models = [LogisticRegression(), DecisionTreeClassifier(), RandomForestClassifier(), AdaBoostClassifier(), GradientBoostingClassifier(), KNeighborsClassifier(), XGBClassifier()]\n",
    "model_names = ['LogisticRegression', 'DecisionTreeClassifier', 'RandomForestClassifier', 'AdaBoostClassifier', 'GradientBoostingClassifier', 'KNeighborsClassifier', 'XGBClassifier']\n",
    "accuracy_train = []\n",
    "accuracy_val = []\n",
    "for model in models:\n",
    "    mod = model\n",
    "    mod.fit(X_train, y_train)\n",
    "    y_pred_train = mod.predict(X_train)\n",
    "    y_pred_val = mod.predict(X_val)\n",
    "    getModelReport(model, y_val, y_pred_val)\n",
    "    plot_roc_curve(model,y_val, y_pred_val)\n",
    "    accuracy_train.append(accuracy_score(y_train, y_pred_train))\n",
    "    accuracy_val.append(accuracy_score(y_val, y_pred_val))\n",
    "data = {'Modelling Algorithm' : model_names, 'Train Accuracy' : accuracy_train, 'Validation Accuracy' : accuracy_val}\n",
    "data = pd.DataFrame(data)\n",
    "data['Difference'] = ((np.abs(data['Train Accuracy'] - data['Validation Accuracy'])) * 100)/(data['Train Accuracy'])\n",
    "data.sort_values(by = 'Validation Accuracy', ascending = False)"
   ]
  },
  {
   "cell_type": "code",
   "execution_count": null,
   "metadata": {},
   "outputs": [],
   "source": []
  }
 ],
 "metadata": {
  "accelerator": "GPU",
  "colab": {
   "collapsed_sections": [],
   "name": "Grp20_Customer_complain_Step_5_PCA_V2.0.ipynb",
   "provenance": []
  },
  "kernelspec": {
   "display_name": "Python 3",
   "language": "python",
   "name": "python3"
  },
  "language_info": {
   "codemirror_mode": {
    "name": "ipython",
    "version": 3
   },
   "file_extension": ".py",
   "mimetype": "text/x-python",
   "name": "python",
   "nbconvert_exporter": "python",
   "pygments_lexer": "ipython3",
   "version": "3.7.4"
  }
 },
 "nbformat": 4,
 "nbformat_minor": 1
}
