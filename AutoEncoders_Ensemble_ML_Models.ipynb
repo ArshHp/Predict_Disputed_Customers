{
 "cells": [
  {
   "cell_type": "markdown",
   "metadata": {
    "id": "SPvO4HaoPSdT"
   },
   "source": [
    "# Ensemble Techniques\n",
    "Steps Performed : Ensemble Techniques with AutoEncoder dimensionality reduction as pre-processing \n",
    "\n",
    "A collection of several models working together on a single set is called an ensemble. The method is called Ensemble Learning. It is much more useful use all different models rather than any one.\n",
    "\n",
    "Why ensembles?\n",
    "1. Lower error\n",
    "2. Less over-fitting\n",
    "3. Better generalization "
   ]
  },
  {
   "cell_type": "markdown",
   "metadata": {},
   "source": [
    "# Pre-requisite:\n",
    "    Ensure datafolder and required csv datafile is in place before running the code. \n",
    "\tIf you are running this notebook into Jupyter notebook, ensure to mount the drive and file exists on the drive."
   ]
  },
  {
   "cell_type": "code",
   "execution_count": 2,
   "metadata": {},
   "outputs": [],
   "source": [
    "#Modify the directory & File name based on your local paths & file name\n",
    "dataFolder = \"C:/Users/shaaruns.CORPDOM/Documents/BITS_Assignments/Module-7/Gr20_Cap4_Sourcecode/Grp20_Cohert3_Final_Submission\"\n",
    "datafile = \"Output_CSV/Dataset_Step4_Processed_Data_Revised.csv\""
   ]
  },
  {
   "cell_type": "code",
   "execution_count": 3,
   "metadata": {
    "colab": {
     "base_uri": "https://localhost:8080/"
    },
    "id": "sicEQfXaPSdi",
    "outputId": "b8df72f5-0455-4451-a923-739d75872723"
   },
   "outputs": [],
   "source": [
    "#from google.colab import drive\n",
    "#drive.mount('/content/drive', force_remount=True)"
   ]
  },
  {
   "cell_type": "code",
   "execution_count": 4,
   "metadata": {
    "colab": {
     "base_uri": "https://localhost:8080/"
    },
    "id": "C9lKafSmoqnV",
    "outputId": "17bbe6ed-228d-4d6c-d3f2-b6d451cddc66"
   },
   "outputs": [
    {
     "name": "stdout",
     "output_type": "stream",
     "text": [
      "Requirement already satisfied: imblearn in c:\\users\\shaaruns.corpdom\\appdata\\local\\continuum\\anaconda3\\lib\\site-packages (0.0)\n",
      "Requirement already satisfied: imbalanced-learn in c:\\users\\shaaruns.corpdom\\appdata\\local\\continuum\\anaconda3\\lib\\site-packages (from imblearn) (0.8.0)\n",
      "Requirement already satisfied: numpy>=1.13.3 in c:\\users\\shaaruns.corpdom\\appdata\\local\\continuum\\anaconda3\\lib\\site-packages (from imbalanced-learn->imblearn) (1.19.4)\n",
      "Requirement already satisfied: joblib>=0.11 in c:\\users\\shaaruns.corpdom\\appdata\\local\\continuum\\anaconda3\\lib\\site-packages (from imbalanced-learn->imblearn) (0.13.2)\n",
      "Requirement already satisfied: scipy>=0.19.1 in c:\\users\\shaaruns.corpdom\\appdata\\local\\continuum\\anaconda3\\lib\\site-packages (from imbalanced-learn->imblearn) (1.3.1)\n",
      "Requirement already satisfied: scikit-learn>=0.24 in c:\\users\\shaaruns.corpdom\\appdata\\local\\continuum\\anaconda3\\lib\\site-packages (from imbalanced-learn->imblearn) (0.24.1)\n",
      "Requirement already satisfied: threadpoolctl>=2.0.0 in c:\\users\\shaaruns.corpdom\\appdata\\local\\continuum\\anaconda3\\lib\\site-packages (from scikit-learn>=0.24->imbalanced-learn->imblearn) (2.1.0)\n",
      "Note: you may need to restart the kernel to use updated packages.\n"
     ]
    }
   ],
   "source": [
    "pip install imblearn"
   ]
  },
  {
   "cell_type": "code",
   "execution_count": 5,
   "metadata": {
    "colab": {
     "base_uri": "https://localhost:8080/"
    },
    "id": "IhM4O0nsPSdl",
    "outputId": "ec52e668-8064-4beb-9227-fbdaee6227ae"
   },
   "outputs": [
    {
     "name": "stdout",
     "output_type": "stream",
     "text": [
      "pandas  : 0.25.1\n",
      "numpy   : 1.19.4\n"
     ]
    }
   ],
   "source": [
    "import pandas as pd\n",
    "print('pandas  : {}'.format(pd.__version__)) #Rationale \n",
    "import numpy as np\n",
    "print ('numpy   : {}'.format(np.__version__))\n",
    "from sklearn.preprocessing import StandardScaler\n",
    "from sklearn.decomposition import PCA\n",
    "from sklearn.model_selection import train_test_split, GridSearchCV\n",
    "from sklearn.linear_model import LogisticRegression\n",
    "from sklearn.tree import DecisionTreeClassifier\n",
    "from sklearn.ensemble import RandomForestClassifier, AdaBoostClassifier, GradientBoostingClassifier\n",
    "from sklearn.neighbors import KNeighborsClassifier\n",
    "from sklearn.svm import SVC\n",
    "from xgboost import XGBClassifier\n",
    "from sklearn.metrics import confusion_matrix, accuracy_score, precision_score, recall_score, f1_score\n",
    "import seaborn as sns\n"
   ]
  },
  {
   "cell_type": "code",
   "execution_count": 6,
   "metadata": {
    "colab": {
     "base_uri": "https://localhost:8080/",
     "height": 263
    },
    "id": "CKfMoTlSPSdp",
    "outputId": "d2d3e515-b409-433a-8498-2f1673fda105"
   },
   "outputs": [
    {
     "data": {
      "text/html": [
       "<div>\n",
       "<style scoped>\n",
       "    .dataframe tbody tr th:only-of-type {\n",
       "        vertical-align: middle;\n",
       "    }\n",
       "\n",
       "    .dataframe tbody tr th {\n",
       "        vertical-align: top;\n",
       "    }\n",
       "\n",
       "    .dataframe thead th {\n",
       "        text-align: right;\n",
       "    }\n",
       "</style>\n",
       "<table border=\"1\" class=\"dataframe\">\n",
       "  <thead>\n",
       "    <tr style=\"text-align: right;\">\n",
       "      <th></th>\n",
       "      <th>Consumerdisputed</th>\n",
       "      <th>ComplaintID</th>\n",
       "      <th>Month_Received</th>\n",
       "      <th>Year_Sent</th>\n",
       "      <th>Month_Sent</th>\n",
       "      <th>Day_Sent</th>\n",
       "      <th>Week_Received</th>\n",
       "      <th>Product_Consumer Loan</th>\n",
       "      <th>Product_Credit card</th>\n",
       "      <th>Product_Credit reporting</th>\n",
       "      <th>...</th>\n",
       "      <th>Feature109</th>\n",
       "      <th>Feature110</th>\n",
       "      <th>Feature111</th>\n",
       "      <th>Feature112</th>\n",
       "      <th>Feature113</th>\n",
       "      <th>Feature114</th>\n",
       "      <th>Feature115</th>\n",
       "      <th>Feature116</th>\n",
       "      <th>Feature117</th>\n",
       "      <th>Feature118</th>\n",
       "    </tr>\n",
       "  </thead>\n",
       "  <tbody>\n",
       "    <tr>\n",
       "      <td>0</td>\n",
       "      <td>1</td>\n",
       "      <td>1347613</td>\n",
       "      <td>4</td>\n",
       "      <td>2015</td>\n",
       "      <td>4</td>\n",
       "      <td>26</td>\n",
       "      <td>4</td>\n",
       "      <td>0</td>\n",
       "      <td>0</td>\n",
       "      <td>0</td>\n",
       "      <td>...</td>\n",
       "      <td>0.0</td>\n",
       "      <td>0.0</td>\n",
       "      <td>0.0</td>\n",
       "      <td>0.0</td>\n",
       "      <td>0.0</td>\n",
       "      <td>0.0</td>\n",
       "      <td>0.0</td>\n",
       "      <td>0.0</td>\n",
       "      <td>0.707107</td>\n",
       "      <td>0.0</td>\n",
       "    </tr>\n",
       "    <tr>\n",
       "      <td>1</td>\n",
       "      <td>1</td>\n",
       "      <td>1685130</td>\n",
       "      <td>12</td>\n",
       "      <td>2015</td>\n",
       "      <td>12</td>\n",
       "      <td>7</td>\n",
       "      <td>1</td>\n",
       "      <td>0</td>\n",
       "      <td>1</td>\n",
       "      <td>0</td>\n",
       "      <td>...</td>\n",
       "      <td>0.0</td>\n",
       "      <td>0.0</td>\n",
       "      <td>0.0</td>\n",
       "      <td>0.0</td>\n",
       "      <td>0.0</td>\n",
       "      <td>0.0</td>\n",
       "      <td>0.0</td>\n",
       "      <td>0.0</td>\n",
       "      <td>0.000000</td>\n",
       "      <td>0.0</td>\n",
       "    </tr>\n",
       "    <tr>\n",
       "      <td>2</td>\n",
       "      <td>1</td>\n",
       "      <td>10631</td>\n",
       "      <td>1</td>\n",
       "      <td>2012</td>\n",
       "      <td>1</td>\n",
       "      <td>9</td>\n",
       "      <td>1</td>\n",
       "      <td>0</td>\n",
       "      <td>0</td>\n",
       "      <td>0</td>\n",
       "      <td>...</td>\n",
       "      <td>0.0</td>\n",
       "      <td>0.0</td>\n",
       "      <td>0.0</td>\n",
       "      <td>0.0</td>\n",
       "      <td>0.0</td>\n",
       "      <td>0.0</td>\n",
       "      <td>0.0</td>\n",
       "      <td>0.0</td>\n",
       "      <td>0.000000</td>\n",
       "      <td>0.0</td>\n",
       "    </tr>\n",
       "    <tr>\n",
       "      <td>3</td>\n",
       "      <td>1</td>\n",
       "      <td>1489180</td>\n",
       "      <td>7</td>\n",
       "      <td>2015</td>\n",
       "      <td>7</td>\n",
       "      <td>27</td>\n",
       "      <td>4</td>\n",
       "      <td>0</td>\n",
       "      <td>0</td>\n",
       "      <td>0</td>\n",
       "      <td>...</td>\n",
       "      <td>0.0</td>\n",
       "      <td>0.0</td>\n",
       "      <td>0.0</td>\n",
       "      <td>0.0</td>\n",
       "      <td>0.0</td>\n",
       "      <td>0.0</td>\n",
       "      <td>0.0</td>\n",
       "      <td>0.0</td>\n",
       "      <td>0.000000</td>\n",
       "      <td>0.0</td>\n",
       "    </tr>\n",
       "    <tr>\n",
       "      <td>4</td>\n",
       "      <td>1</td>\n",
       "      <td>795636</td>\n",
       "      <td>4</td>\n",
       "      <td>2014</td>\n",
       "      <td>4</td>\n",
       "      <td>6</td>\n",
       "      <td>1</td>\n",
       "      <td>0</td>\n",
       "      <td>0</td>\n",
       "      <td>0</td>\n",
       "      <td>...</td>\n",
       "      <td>0.0</td>\n",
       "      <td>0.0</td>\n",
       "      <td>0.0</td>\n",
       "      <td>0.0</td>\n",
       "      <td>0.0</td>\n",
       "      <td>0.0</td>\n",
       "      <td>0.0</td>\n",
       "      <td>0.0</td>\n",
       "      <td>0.000000</td>\n",
       "      <td>0.0</td>\n",
       "    </tr>\n",
       "  </tbody>\n",
       "</table>\n",
       "<p>5 rows × 142 columns</p>\n",
       "</div>"
      ],
      "text/plain": [
       "   Consumerdisputed  ComplaintID  Month_Received  Year_Sent  Month_Sent  \\\n",
       "0                 1      1347613               4       2015           4   \n",
       "1                 1      1685130              12       2015          12   \n",
       "2                 1        10631               1       2012           1   \n",
       "3                 1      1489180               7       2015           7   \n",
       "4                 1       795636               4       2014           4   \n",
       "\n",
       "   Day_Sent  Week_Received  Product_Consumer Loan  Product_Credit card  \\\n",
       "0        26              4                      0                    0   \n",
       "1         7              1                      0                    1   \n",
       "2         9              1                      0                    0   \n",
       "3        27              4                      0                    0   \n",
       "4         6              1                      0                    0   \n",
       "\n",
       "   Product_Credit reporting  ...  Feature109  Feature110  Feature111  \\\n",
       "0                         0  ...         0.0         0.0         0.0   \n",
       "1                         0  ...         0.0         0.0         0.0   \n",
       "2                         0  ...         0.0         0.0         0.0   \n",
       "3                         0  ...         0.0         0.0         0.0   \n",
       "4                         0  ...         0.0         0.0         0.0   \n",
       "\n",
       "   Feature112  Feature113  Feature114  Feature115  Feature116  Feature117  \\\n",
       "0         0.0         0.0         0.0         0.0         0.0    0.707107   \n",
       "1         0.0         0.0         0.0         0.0         0.0    0.000000   \n",
       "2         0.0         0.0         0.0         0.0         0.0    0.000000   \n",
       "3         0.0         0.0         0.0         0.0         0.0    0.000000   \n",
       "4         0.0         0.0         0.0         0.0         0.0    0.000000   \n",
       "\n",
       "   Feature118  \n",
       "0         0.0  \n",
       "1         0.0  \n",
       "2         0.0  \n",
       "3         0.0  \n",
       "4         0.0  \n",
       "\n",
       "[5 rows x 142 columns]"
      ]
     },
     "execution_count": 6,
     "metadata": {},
     "output_type": "execute_result"
    }
   ],
   "source": [
    "#Read the dataset from clean datafile\n",
    "\n",
    "df_train = pd.read_csv(dataFolder +'/' + datafile)\n",
    "df_train.head()\n",
    "#Read the dataset from GDrive\n",
    "#Inputfile = 'drive/My Drive/Capstone_Files/Dataset_wrangling_Part_4_Post_Review.csv'\n",
    "#df_train = pd.read_csv(Inputfile)\n",
    "#df_train.head()\n",
    "\n"
   ]
  },
  {
   "cell_type": "markdown",
   "metadata": {
    "id": "H5OJ4YZ_PSdr"
   },
   "source": [
    "# Feature Scaling of train Data Sets except Target and Indent variable"
   ]
  },
  {
   "cell_type": "code",
   "execution_count": 7,
   "metadata": {
    "colab": {
     "base_uri": "https://localhost:8080/"
    },
    "id": "yBTj1NwzPSds",
    "outputId": "405c2275-a664-44c0-d011-74f037efe761"
   },
   "outputs": [
    {
     "data": {
      "text/plain": [
       "(100311, 142)"
      ]
     },
     "execution_count": 7,
     "metadata": {},
     "output_type": "execute_result"
    }
   ],
   "source": [
    "df_train.shape"
   ]
  },
  {
   "cell_type": "code",
   "execution_count": 8,
   "metadata": {
    "colab": {
     "base_uri": "https://localhost:8080/"
    },
    "id": "cnZ2FTzXoqnj",
    "outputId": "3f4c9a2d-af26-4ee0-9e03-354e9b3f835d"
   },
   "outputs": [
    {
     "data": {
      "text/plain": [
       "Index(['Consumerdisputed', 'ComplaintID', 'Month_Received', 'Year_Sent',\n",
       "       'Month_Sent', 'Day_Sent', 'Week_Received', 'Product_Consumer Loan',\n",
       "       'Product_Credit card', 'Product_Credit reporting',\n",
       "       ...\n",
       "       'Feature109', 'Feature110', 'Feature111', 'Feature112', 'Feature113',\n",
       "       'Feature114', 'Feature115', 'Feature116', 'Feature117', 'Feature118'],\n",
       "      dtype='object', length=142)"
      ]
     },
     "execution_count": 8,
     "metadata": {},
     "output_type": "execute_result"
    }
   ],
   "source": [
    "df_train.columns"
   ]
  },
  {
   "cell_type": "code",
   "execution_count": 9,
   "metadata": {
    "id": "uloCKkltoqnl"
   },
   "outputs": [],
   "source": [
    "df_train.rename(columns = {'Complaint ID':'ComplaintID'}, inplace = True)"
   ]
  },
  {
   "cell_type": "code",
   "execution_count": 10,
   "metadata": {
    "id": "4jDQUpg2PSdt"
   },
   "outputs": [],
   "source": [
    "temp = df_train.copy()"
   ]
  },
  {
   "cell_type": "code",
   "execution_count": 11,
   "metadata": {
    "colab": {
     "base_uri": "https://localhost:8080/"
    },
    "id": "SaAM0FRUPSdv",
    "outputId": "8b8c703b-b7cd-47d4-aa5e-29d72d759760"
   },
   "outputs": [
    {
     "name": "stdout",
     "output_type": "stream",
     "text": [
      "Index(['Month_Received', 'Year_Sent', 'Month_Sent', 'Day_Sent',\n",
      "       'Week_Received', 'Product_Consumer Loan', 'Product_Credit card',\n",
      "       'Product_Credit reporting', 'Product_Debt collection',\n",
      "       'Product_Mortgage',\n",
      "       ...\n",
      "       'Feature109', 'Feature110', 'Feature111', 'Feature112', 'Feature113',\n",
      "       'Feature114', 'Feature115', 'Feature116', 'Feature117', 'Feature118'],\n",
      "      dtype='object', length=140)\n"
     ]
    }
   ],
   "source": [
    "colsTobedropped = ['Consumerdisputed', \n",
    "                  'ComplaintID'\n",
    "                             ]\n",
    "\n",
    "\n",
    "\n",
    "temp  = temp.drop(colsTobedropped,axis = 1)\n",
    "print(temp.columns)"
   ]
  },
  {
   "cell_type": "code",
   "execution_count": 12,
   "metadata": {
    "colab": {
     "base_uri": "https://localhost:8080/"
    },
    "id": "5bUsz6LvPSdx",
    "outputId": "531639a2-656f-4aa9-a838-176337a8203f"
   },
   "outputs": [
    {
     "data": {
      "text/plain": [
       "(100311, 140)"
      ]
     },
     "execution_count": 12,
     "metadata": {},
     "output_type": "execute_result"
    }
   ],
   "source": [
    "temp.shape"
   ]
  },
  {
   "cell_type": "code",
   "execution_count": 13,
   "metadata": {
    "id": "kKdBRZzIPSdy"
   },
   "outputs": [],
   "source": [
    "scaledCols = temp.columns"
   ]
  },
  {
   "cell_type": "code",
   "execution_count": 14,
   "metadata": {
    "id": "B_bXZ-nEPSdz"
   },
   "outputs": [],
   "source": [
    "from sklearn.preprocessing import MinMaxScaler\n",
    "\n",
    "scaler = MinMaxScaler()\n",
    "df_train[scaledCols] = scaler.fit_transform(df_train[scaledCols])"
   ]
  },
  {
   "cell_type": "code",
   "execution_count": 15,
   "metadata": {
    "colab": {
     "base_uri": "https://localhost:8080/"
    },
    "id": "tHf3jY2sPSdz",
    "outputId": "1c021ba5-50ce-4e9d-863d-f8cf346815cc"
   },
   "outputs": [
    {
     "data": {
      "text/plain": [
       "(100311, 142)"
      ]
     },
     "execution_count": 15,
     "metadata": {},
     "output_type": "execute_result"
    }
   ],
   "source": [
    "df_train.shape"
   ]
  },
  {
   "cell_type": "code",
   "execution_count": 16,
   "metadata": {
    "id": "g8aGiAs7PSd0"
   },
   "outputs": [],
   "source": [
    "#Final X training Data\n",
    "X = df_train.reindex(columns=scaledCols)\n",
    "\n",
    "#Target Y Variable Consumer disputed as 0 or 1\n",
    "y = df_train['Consumerdisputed'].values\n",
    "\n",
    "#Preserving ComplaintID for providing final output results, will not be used for training data\n",
    "p_ComplaintID = df_train['ComplaintID'].values"
   ]
  },
  {
   "cell_type": "code",
   "execution_count": 17,
   "metadata": {
    "id": "zea8dW3Usy2w"
   },
   "outputs": [],
   "source": [
    "# Split the dataframe 80:20 preserve the distribution of class - use stratify\n",
    "\n",
    "X_train, X_test, y_train, y_test , trainComplaintID , valComplaintID = train_test_split(X, y, p_ComplaintID , test_size = 0.2,random_state = 17 , stratify = df_train['Consumerdisputed'])\n"
   ]
  },
  {
   "cell_type": "code",
   "execution_count": 18,
   "metadata": {
    "colab": {
     "base_uri": "https://localhost:8080/"
    },
    "id": "hXeFi8LAsy2y",
    "outputId": "0402fa51-2f4d-4609-87ae-97b1a08308c0"
   },
   "outputs": [
    {
     "name": "stdout",
     "output_type": "stream",
     "text": [
      "y_train distribution of label '1': 24541 \n",
      "\n",
      "y_train distribution of label '0': 55707 \n",
      "\n",
      "y_test distribution of label '1': 6136 \n",
      "\n",
      "y_test distribution of label '0': 13927 \n",
      "\n"
     ]
    }
   ],
   "source": [
    "#checking y_train distribution\n",
    "print(\"y_train distribution of label '1': {} \\n\".format(sum(y_train == 1))) \n",
    "print(\"y_train distribution of label '0': {} \\n\".format(sum(y_train == 0)))\n",
    "\n",
    "\n",
    "#checking y_train distribution\n",
    "print(\"y_test distribution of label '1': {} \\n\".format(sum(y_test == 1))) \n",
    "print(\"y_test distribution of label '0': {} \\n\".format(sum(y_test == 0)))"
   ]
  },
  {
   "cell_type": "markdown",
   "metadata": {
    "id": "qPqJAdW-oqnz"
   },
   "source": [
    "# Dimensional reduction and features selection¶"
   ]
  },
  {
   "cell_type": "code",
   "execution_count": 19,
   "metadata": {
    "colab": {
     "base_uri": "https://localhost:8080/"
    },
    "id": "hNylyKqZqJKb",
    "outputId": "49534159-e3fc-4491-c2f7-7ae0bdc0ea17"
   },
   "outputs": [
    {
     "data": {
      "text/plain": [
       "140"
      ]
     },
     "execution_count": 19,
     "metadata": {},
     "output_type": "execute_result"
    }
   ],
   "source": [
    "totalFeature = X_train.columns\n",
    "len(totalFeature)"
   ]
  },
  {
   "cell_type": "code",
   "execution_count": 20,
   "metadata": {
    "id": "MDImaY4yqcoZ"
   },
   "outputs": [],
   "source": [
    "# Multilayer Perceptron\n",
    "from keras.utils import plot_model\n",
    "from keras.models import Model\n",
    "from keras.layers import Input\n",
    "from keras.layers import Dense\n",
    "from keras.layers import BatchNormalization\n",
    "from keras.layers import LeakyReLU\n",
    "from tensorflow.keras.utils import plot_model\n",
    "from matplotlib import pyplot\n",
    "from tensorflow.keras.models import load_model"
   ]
  },
  {
   "cell_type": "code",
   "execution_count": 21,
   "metadata": {
    "id": "gvO_RTG1qQGP"
   },
   "outputs": [],
   "source": [
    "n_inputs = len(totalFeature)\n",
    "# define encoder\n",
    "visible = Input(shape=(n_inputs,))\n",
    "\n",
    "#We will use batch normalization and leaky ReLU activation.\n",
    "#The encoder to have two hidden layers, \n",
    "#The first with two times the number of inputs \n",
    "#The second with the same number of inputs \n",
    "#The bottleneck layer with the half the number of inputs as the dataset.\n",
    "\n",
    "# encoder level 1\n",
    "e = Dense(n_inputs*2)(visible)\n",
    "\n",
    "#Batch normalization (also known as batch norm) is a method used to make artificial neural networks faster \n",
    "#and more stable through normalization of the input layer by re-centering and re-scaling.\n",
    "e = BatchNormalization()(e)\n",
    "\n",
    "#In the context of artificial neural networks, \n",
    "#the rectifier is an activation function defined as the positive part of its argument:\n",
    "#f(x)=max(0,x) where x is the input to a neuron. \n",
    "e = LeakyReLU()(e)\n",
    "\n",
    "\n",
    "# encoder level 2\n",
    "e = Dense(n_inputs)(e)\n",
    "e = BatchNormalization()(e)\n",
    "e = LeakyReLU()(e)\n",
    "\n",
    "\n",
    "# bottleneck\n",
    "#The bottleneck layer with the half the number of inputs as the dataset.\n",
    "n_bottleneck = round(float(n_inputs) / 2.0) #Half of the input \n",
    "bottleneck = Dense(n_bottleneck)(e)"
   ]
  },
  {
   "cell_type": "code",
   "execution_count": 22,
   "metadata": {
    "id": "xTx0PjaTqjsP"
   },
   "outputs": [],
   "source": [
    "#The decoder will be defined with a similar structure, although in reverse.\n",
    "# define decoder, level 1\n",
    "\n",
    "d = Dense(n_inputs)(bottleneck)\n",
    "d = BatchNormalization()(d)\n",
    "d = LeakyReLU()(d)\n",
    "\n",
    "# decoder level 2\n",
    "d = Dense(n_inputs*2)(d)\n",
    "d = BatchNormalization()(d)\n",
    "d = LeakyReLU()(d)\n",
    "\n",
    "# output layer\n",
    "output = Dense(n_inputs, activation='linear')(d)\n",
    "\n",
    "# define autoencoder model\n",
    "model = Model(inputs=visible, outputs=output)"
   ]
  },
  {
   "cell_type": "code",
   "execution_count": 23,
   "metadata": {
    "id": "SpNn_UZ5qmj-"
   },
   "outputs": [],
   "source": [
    "# compile autoencoder model\n",
    "\n",
    "#The model will be fit using the efficient Adam version of stochastic gradient descent and \n",
    "#minimizes the mean squared error, given that reconstruction is a type of multi-output regression problem.\n",
    "model.compile(optimizer='adam', loss='mse')"
   ]
  },
  {
   "cell_type": "code",
   "execution_count": 24,
   "metadata": {
    "colab": {
     "base_uri": "https://localhost:8080/",
     "height": 1000
    },
    "id": "TMmVpQEbqpWD",
    "outputId": "e5e6bd7c-6561-46ed-f04f-f892e77b7df8"
   },
   "outputs": [
    {
     "data": {
      "image/png": "[encoded data removed]",
      "text/plain": [
       "<IPython.core.display.Image object>"
      ]
     },
     "execution_count": 24,
     "metadata": {},
     "output_type": "execute_result"
    }
   ],
   "source": [
    "# plot the autoencoder\n",
    "plot_model(model, 'autoencoder_compress.png', show_shapes=True)"
   ]
  },
  {
   "cell_type": "code",
   "execution_count": 25,
   "metadata": {
    "colab": {
     "base_uri": "https://localhost:8080/"
    },
    "id": "BEJyfbv4qunB",
    "outputId": "91c20dcc-ab65-416e-ceb5-79cbf3486684"
   },
   "outputs": [
    {
     "name": "stdout",
     "output_type": "stream",
     "text": [
      "Epoch 1/200\n",
      "5016/5016 - 33s - loss: 0.0056 - val_loss: 0.0011\n",
      "Epoch 2/200\n",
      "5016/5016 - 30s - loss: 0.0017 - val_loss: 7.5028e-04\n",
      "Epoch 3/200\n",
      "5016/5016 - 30s - loss: 0.0011 - val_loss: 0.0011\n",
      "Epoch 4/200\n",
      "5016/5016 - 30s - loss: 8.8817e-04 - val_loss: 0.0010\n",
      "Epoch 5/200\n",
      "5016/5016 - 30s - loss: 7.3972e-04 - val_loss: 5.6004e-04\n",
      "Epoch 6/200\n",
      "5016/5016 - 30s - loss: 5.9678e-04 - val_loss: 3.8856e-04\n",
      "Epoch 7/200\n",
      "5016/5016 - 30s - loss: 5.2999e-04 - val_loss: 3.6551e-04\n",
      "Epoch 8/200\n",
      "5016/5016 - 30s - loss: 4.5497e-04 - val_loss: 4.7883e-04\n",
      "Epoch 9/200\n",
      "5016/5016 - 30s - loss: 4.3300e-04 - val_loss: 3.2326e-04\n",
      "Epoch 10/200\n",
      "5016/5016 - 29s - loss: 3.8884e-04 - val_loss: 3.9980e-04\n",
      "Epoch 11/200\n",
      "5016/5016 - 30s - loss: 3.6968e-04 - val_loss: 3.4957e-04\n",
      "Epoch 12/200\n",
      "5016/5016 - 30s - loss: 3.4055e-04 - val_loss: 2.8561e-04\n",
      "Epoch 13/200\n",
      "5016/5016 - 30s - loss: 3.2639e-04 - val_loss: 2.7702e-04\n",
      "Epoch 14/200\n",
      "5016/5016 - 30s - loss: 3.1124e-04 - val_loss: 2.7464e-04\n",
      "Epoch 15/200\n",
      "5016/5016 - 30s - loss: 2.8588e-04 - val_loss: 1.9200e-04\n",
      "Epoch 16/200\n",
      "5016/5016 - 30s - loss: 2.7030e-04 - val_loss: 3.8152e-04\n",
      "Epoch 17/200\n",
      "5016/5016 - 31s - loss: 2.6741e-04 - val_loss: 2.2845e-04\n",
      "Epoch 18/200\n",
      "5016/5016 - 31s - loss: 2.5414e-04 - val_loss: 2.8568e-04\n",
      "Epoch 19/200\n",
      "5016/5016 - 30s - loss: 2.4278e-04 - val_loss: 2.4088e-04\n",
      "Epoch 20/200\n",
      "5016/5016 - 31s - loss: 2.2841e-04 - val_loss: 4.3223e-04\n",
      "Epoch 21/200\n",
      "5016/5016 - 30s - loss: 2.3398e-04 - val_loss: 2.1220e-04\n",
      "Epoch 22/200\n",
      "5016/5016 - 31s - loss: 2.1657e-04 - val_loss: 2.7614e-04\n",
      "Epoch 23/200\n",
      "5016/5016 - 30s - loss: 2.1053e-04 - val_loss: 1.9706e-04\n",
      "Epoch 24/200\n",
      "5016/5016 - 31s - loss: 2.1090e-04 - val_loss: 3.6110e-04\n",
      "Epoch 25/200\n",
      "5016/5016 - 31s - loss: 2.1246e-04 - val_loss: 1.8765e-04\n",
      "Epoch 26/200\n",
      "5016/5016 - 30s - loss: 2.0260e-04 - val_loss: 2.7562e-04\n",
      "Epoch 27/200\n",
      "5016/5016 - 31s - loss: 1.9768e-04 - val_loss: 2.2575e-04\n",
      "Epoch 28/200\n",
      "5016/5016 - 30s - loss: 1.9082e-04 - val_loss: 1.7512e-04\n",
      "Epoch 29/200\n",
      "5016/5016 - 30s - loss: 1.8655e-04 - val_loss: 1.8339e-04\n",
      "Epoch 30/200\n",
      "5016/5016 - 31s - loss: 1.8885e-04 - val_loss: 2.1756e-04\n",
      "Epoch 31/200\n",
      "5016/5016 - 30s - loss: 1.7933e-04 - val_loss: 2.0892e-04\n",
      "Epoch 32/200\n",
      "5016/5016 - 32s - loss: 1.7967e-04 - val_loss: 2.4689e-04\n",
      "Epoch 33/200\n",
      "5016/5016 - 30s - loss: 1.7348e-04 - val_loss: 1.7343e-04\n",
      "Epoch 34/200\n",
      "5016/5016 - 32s - loss: 1.6964e-04 - val_loss: 1.9900e-04\n",
      "Epoch 35/200\n",
      "5016/5016 - 30s - loss: 1.6670e-04 - val_loss: 2.0719e-04\n",
      "Epoch 36/200\n",
      "5016/5016 - 31s - loss: 1.5741e-04 - val_loss: 2.4679e-04\n",
      "Epoch 37/200\n",
      "5016/5016 - 31s - loss: 1.7135e-04 - val_loss: 1.6730e-04\n",
      "Epoch 38/200\n",
      "5016/5016 - 31s - loss: 1.6149e-04 - val_loss: 2.5049e-04\n",
      "Epoch 39/200\n",
      "5016/5016 - 31s - loss: 1.5936e-04 - val_loss: 1.6397e-04\n",
      "Epoch 40/200\n",
      "5016/5016 - 31s - loss: 1.5820e-04 - val_loss: 1.6217e-04\n",
      "Epoch 41/200\n",
      "5016/5016 - 30s - loss: 1.5343e-04 - val_loss: 1.9656e-04\n",
      "Epoch 42/200\n",
      "5016/5016 - 31s - loss: 1.5510e-04 - val_loss: 1.9101e-04\n",
      "Epoch 43/200\n",
      "5016/5016 - 30s - loss: 1.5070e-04 - val_loss: 2.2345e-04\n",
      "Epoch 44/200\n",
      "5016/5016 - 31s - loss: 1.5662e-04 - val_loss: 2.0080e-04\n",
      "Epoch 45/200\n",
      "5016/5016 - 31s - loss: 1.5348e-04 - val_loss: 1.6423e-04\n",
      "Epoch 46/200\n",
      "5016/5016 - 31s - loss: 1.4234e-04 - val_loss: 2.0515e-04\n",
      "Epoch 47/200\n",
      "5016/5016 - 31s - loss: 1.4995e-04 - val_loss: 1.5910e-04\n",
      "Epoch 48/200\n",
      "5016/5016 - 31s - loss: 1.4343e-04 - val_loss: 1.8928e-04\n",
      "Epoch 49/200\n",
      "5016/5016 - 30s - loss: 1.4581e-04 - val_loss: 1.5936e-04\n",
      "Epoch 50/200\n",
      "5016/5016 - 31s - loss: 1.3633e-04 - val_loss: 1.5841e-04\n",
      "Epoch 51/200\n",
      "5016/5016 - 31s - loss: 1.3738e-04 - val_loss: 2.3688e-04\n",
      "Epoch 52/200\n",
      "5016/5016 - 30s - loss: 1.3301e-04 - val_loss: 1.5237e-04\n",
      "Epoch 53/200\n",
      "5016/5016 - 30s - loss: 1.3392e-04 - val_loss: 1.4798e-04\n",
      "Epoch 54/200\n",
      "5016/5016 - 32s - loss: 1.3158e-04 - val_loss: 1.4725e-04\n",
      "Epoch 55/200\n",
      "5016/5016 - 33s - loss: 1.3039e-04 - val_loss: 1.8546e-04\n",
      "Epoch 56/200\n",
      "5016/5016 - 32s - loss: 1.3403e-04 - val_loss: 2.5866e-04\n",
      "Epoch 57/200\n",
      "5016/5016 - 31s - loss: 1.3137e-04 - val_loss: 1.5201e-04\n",
      "Epoch 58/200\n",
      "5016/5016 - 30s - loss: 1.3148e-04 - val_loss: 1.6200e-04\n",
      "Epoch 59/200\n",
      "5016/5016 - 30s - loss: 1.2841e-04 - val_loss: 3.5094e-04\n",
      "Epoch 60/200\n",
      "5016/5016 - 31s - loss: 1.3502e-04 - val_loss: 1.4243e-04\n",
      "Epoch 61/200\n",
      "5016/5016 - 30s - loss: 1.2099e-04 - val_loss: 1.9061e-04\n",
      "Epoch 62/200\n",
      "5016/5016 - 31s - loss: 1.2489e-04 - val_loss: 2.0747e-04\n",
      "Epoch 63/200\n",
      "5016/5016 - 30s - loss: 1.2342e-04 - val_loss: 1.6176e-04\n",
      "Epoch 64/200\n",
      "5016/5016 - 32s - loss: 1.2306e-04 - val_loss: 2.8214e-04\n",
      "Epoch 65/200\n",
      "5016/5016 - 30s - loss: 1.2357e-04 - val_loss: 1.3045e-04\n",
      "Epoch 66/200\n",
      "5016/5016 - 30s - loss: 1.2491e-04 - val_loss: 1.8311e-04\n",
      "Epoch 67/200\n",
      "5016/5016 - 30s - loss: 1.2402e-04 - val_loss: 1.8442e-04\n",
      "Epoch 68/200\n",
      "5016/5016 - 31s - loss: 1.2357e-04 - val_loss: 2.5179e-04\n",
      "Epoch 69/200\n",
      "5016/5016 - 30s - loss: 1.2151e-04 - val_loss: 1.8638e-04\n",
      "Epoch 70/200\n",
      "5016/5016 - 31s - loss: 1.2220e-04 - val_loss: 1.6391e-04\n",
      "Epoch 71/200\n",
      "5016/5016 - 31s - loss: 1.1273e-04 - val_loss: 1.6726e-04\n",
      "Epoch 72/200\n",
      "5016/5016 - 30s - loss: 1.2254e-04 - val_loss: 2.0096e-04\n",
      "Epoch 73/200\n",
      "5016/5016 - 30s - loss: 1.1702e-04 - val_loss: 1.6933e-04\n",
      "Epoch 74/200\n",
      "5016/5016 - 30s - loss: 1.1818e-04 - val_loss: 2.3873e-04\n",
      "Epoch 75/200\n",
      "5016/5016 - 31s - loss: 1.1080e-04 - val_loss: 1.7434e-04\n",
      "Epoch 76/200\n",
      "5016/5016 - 33s - loss: 1.1610e-04 - val_loss: 1.6150e-04\n",
      "Epoch 77/200\n",
      "5016/5016 - 34s - loss: 1.1063e-04 - val_loss: 1.7200e-04\n",
      "Epoch 78/200\n",
      "5016/5016 - 31s - loss: 1.1284e-04 - val_loss: 1.6563e-04\n",
      "Epoch 79/200\n",
      "5016/5016 - 31s - loss: 1.1522e-04 - val_loss: 3.4808e-04\n",
      "Epoch 80/200\n",
      "5016/5016 - 31s - loss: 1.1762e-04 - val_loss: 1.7713e-04\n",
      "Epoch 81/200\n",
      "5016/5016 - 31s - loss: 1.1443e-04 - val_loss: 1.6370e-04\n",
      "Epoch 82/200\n",
      "5016/5016 - 31s - loss: 1.1882e-04 - val_loss: 1.6731e-04\n",
      "Epoch 83/200\n",
      "5016/5016 - 31s - loss: 1.1345e-04 - val_loss: 2.5688e-04\n",
      "Epoch 84/200\n",
      "5016/5016 - 31s - loss: 1.0750e-04 - val_loss: 2.7573e-04\n",
      "Epoch 85/200\n",
      "5016/5016 - 31s - loss: 1.0699e-04 - val_loss: 1.8063e-04\n",
      "Epoch 86/200\n",
      "5016/5016 - 31s - loss: 1.1022e-04 - val_loss: 1.9309e-04\n",
      "Epoch 87/200\n",
      "5016/5016 - 31s - loss: 1.1303e-04 - val_loss: 1.3692e-04\n",
      "Epoch 88/200\n",
      "5016/5016 - 31s - loss: 1.0978e-04 - val_loss: 2.1865e-04\n",
      "Epoch 89/200\n",
      "5016/5016 - 32s - loss: 1.0371e-04 - val_loss: 1.5566e-04\n",
      "Epoch 90/200\n",
      "5016/5016 - 32s - loss: 1.0297e-04 - val_loss: 2.0311e-04\n",
      "Epoch 91/200\n",
      "5016/5016 - 31s - loss: 1.0430e-04 - val_loss: 2.3772e-04\n",
      "Epoch 92/200\n",
      "5016/5016 - 32s - loss: 1.1177e-04 - val_loss: 2.2155e-04\n",
      "Epoch 93/200\n",
      "5016/5016 - 31s - loss: 1.0912e-04 - val_loss: 1.8419e-04\n",
      "Epoch 94/200\n",
      "5016/5016 - 32s - loss: 1.0492e-04 - val_loss: 2.3833e-04\n",
      "Epoch 95/200\n",
      "5016/5016 - 31s - loss: 1.1220e-04 - val_loss: 1.4731e-04\n",
      "Epoch 96/200\n",
      "5016/5016 - 32s - loss: 1.0755e-04 - val_loss: 3.9934e-04\n",
      "Epoch 97/200\n",
      "5016/5016 - 31s - loss: 9.8142e-05 - val_loss: 2.4752e-04\n",
      "Epoch 98/200\n",
      "5016/5016 - 32s - loss: 1.0117e-04 - val_loss: 1.4482e-04\n",
      "Epoch 99/200\n",
      "5016/5016 - 31s - loss: 9.8956e-05 - val_loss: 2.1478e-04\n",
      "Epoch 100/200\n",
      "5016/5016 - 32s - loss: 1.0432e-04 - val_loss: 1.6373e-04\n",
      "Epoch 101/200\n",
      "5016/5016 - 32s - loss: 1.0599e-04 - val_loss: 1.9642e-04\n",
      "Epoch 102/200\n",
      "5016/5016 - 34s - loss: 1.0003e-04 - val_loss: 1.5761e-04\n",
      "Epoch 103/200\n",
      "5016/5016 - 34s - loss: 1.0095e-04 - val_loss: 1.6398e-04\n",
      "Epoch 104/200\n",
      "5016/5016 - 34s - loss: 1.0010e-04 - val_loss: 2.1348e-04\n",
      "Epoch 105/200\n",
      "5016/5016 - 32s - loss: 1.0211e-04 - val_loss: 2.5175e-04\n",
      "Epoch 106/200\n",
      "5016/5016 - 33s - loss: 1.1313e-04 - val_loss: 2.4578e-04\n",
      "Epoch 107/200\n",
      "5016/5016 - 32s - loss: 9.7829e-05 - val_loss: 2.0191e-04\n",
      "Epoch 108/200\n",
      "5016/5016 - 33s - loss: 9.9516e-05 - val_loss: 1.5440e-04\n",
      "Epoch 109/200\n",
      "5016/5016 - 32s - loss: 9.5898e-05 - val_loss: 1.7049e-04\n",
      "Epoch 110/200\n",
      "5016/5016 - 36s - loss: 1.0710e-04 - val_loss: 1.6235e-04\n",
      "Epoch 111/200\n",
      "5016/5016 - 33s - loss: 9.8000e-05 - val_loss: 2.0408e-04\n",
      "Epoch 112/200\n",
      "5016/5016 - 32s - loss: 1.0003e-04 - val_loss: 1.5145e-04\n",
      "Epoch 113/200\n",
      "5016/5016 - 31s - loss: 9.8850e-05 - val_loss: 1.5772e-04\n",
      "Epoch 114/200\n",
      "5016/5016 - 32s - loss: 9.6266e-05 - val_loss: 1.7146e-04\n",
      "Epoch 115/200\n",
      "5016/5016 - 32s - loss: 9.9906e-05 - val_loss: 1.7886e-04\n",
      "Epoch 116/200\n",
      "5016/5016 - 32s - loss: 9.5546e-05 - val_loss: 1.5338e-04\n"
     ]
    },
    {
     "name": "stdout",
     "output_type": "stream",
     "text": [
      "Epoch 117/200\n",
      "5016/5016 - 31s - loss: 9.4218e-05 - val_loss: 1.4570e-04\n",
      "Epoch 118/200\n",
      "5016/5016 - 32s - loss: 9.5269e-05 - val_loss: 1.4727e-04\n",
      "Epoch 119/200\n",
      "5016/5016 - 31s - loss: 1.0127e-04 - val_loss: 1.5013e-04\n",
      "Epoch 120/200\n",
      "5016/5016 - 32s - loss: 9.2175e-05 - val_loss: 1.2786e-04\n",
      "Epoch 121/200\n",
      "5016/5016 - 31s - loss: 9.5750e-05 - val_loss: 2.1835e-04\n",
      "Epoch 122/200\n",
      "5016/5016 - 31s - loss: 9.4341e-05 - val_loss: 1.7302e-04\n",
      "Epoch 123/200\n",
      "5016/5016 - 32s - loss: 1.0235e-04 - val_loss: 1.3021e-04\n",
      "Epoch 124/200\n",
      "5016/5016 - 32s - loss: 9.8460e-05 - val_loss: 1.6705e-04\n",
      "Epoch 125/200\n",
      "5016/5016 - 32s - loss: 9.4799e-05 - val_loss: 1.4972e-04\n",
      "Epoch 126/200\n",
      "5016/5016 - 31s - loss: 9.6622e-05 - val_loss: 1.7654e-04\n",
      "Epoch 127/200\n",
      "5016/5016 - 31s - loss: 9.6662e-05 - val_loss: 2.3548e-04\n",
      "Epoch 128/200\n",
      "5016/5016 - 31s - loss: 9.1532e-05 - val_loss: 1.5263e-04\n",
      "Epoch 129/200\n",
      "5016/5016 - 32s - loss: 9.5354e-05 - val_loss: 1.4872e-04\n",
      "Epoch 130/200\n",
      "5016/5016 - 31s - loss: 9.1577e-05 - val_loss: 1.5223e-04\n",
      "Epoch 131/200\n",
      "5016/5016 - 32s - loss: 9.5668e-05 - val_loss: 1.8526e-04\n",
      "Epoch 132/200\n",
      "5016/5016 - 31s - loss: 8.9058e-05 - val_loss: 1.4809e-04\n",
      "Epoch 133/200\n",
      "5016/5016 - 33s - loss: 9.2453e-05 - val_loss: 1.3588e-04\n",
      "Epoch 134/200\n",
      "5016/5016 - 31s - loss: 8.9696e-05 - val_loss: 1.5158e-04\n",
      "Epoch 135/200\n",
      "5016/5016 - 32s - loss: 9.1147e-05 - val_loss: 1.3253e-04\n",
      "Epoch 136/200\n",
      "5016/5016 - 31s - loss: 9.5387e-05 - val_loss: 1.4063e-04\n",
      "Epoch 137/200\n",
      "5016/5016 - 32s - loss: 8.7659e-05 - val_loss: 1.3262e-04\n",
      "Epoch 138/200\n",
      "5016/5016 - 31s - loss: 9.4850e-05 - val_loss: 1.4046e-04\n",
      "Epoch 139/200\n",
      "5016/5016 - 31s - loss: 9.2220e-05 - val_loss: 1.3998e-04\n",
      "Epoch 140/200\n",
      "5016/5016 - 31s - loss: 9.3537e-05 - val_loss: 1.6331e-04\n",
      "Epoch 141/200\n",
      "5016/5016 - 31s - loss: 8.8705e-05 - val_loss: 2.3029e-04\n",
      "Epoch 142/200\n",
      "5016/5016 - 31s - loss: 9.6380e-05 - val_loss: 1.4433e-04\n",
      "Epoch 143/200\n",
      "5016/5016 - 31s - loss: 8.6090e-05 - val_loss: 1.4411e-04\n",
      "Epoch 144/200\n",
      "5016/5016 - 31s - loss: 8.9228e-05 - val_loss: 1.9455e-04\n",
      "Epoch 145/200\n",
      "5016/5016 - 32s - loss: 8.8561e-05 - val_loss: 4.6359e-04\n",
      "Epoch 146/200\n",
      "5016/5016 - 32s - loss: 8.5504e-05 - val_loss: 2.2241e-04\n",
      "Epoch 147/200\n",
      "5016/5016 - 32s - loss: 8.7106e-05 - val_loss: 1.4395e-04\n",
      "Epoch 148/200\n",
      "5016/5016 - 31s - loss: 9.2647e-05 - val_loss: 2.9482e-04\n",
      "Epoch 149/200\n",
      "5016/5016 - 31s - loss: 1.0576e-04 - val_loss: 1.3768e-04\n",
      "Epoch 150/200\n",
      "5016/5016 - 32s - loss: 8.5411e-05 - val_loss: 1.9005e-04\n",
      "Epoch 151/200\n",
      "5016/5016 - 31s - loss: 8.9839e-05 - val_loss: 1.7601e-04\n",
      "Epoch 152/200\n",
      "5016/5016 - 31s - loss: 8.8242e-05 - val_loss: 1.6175e-04\n",
      "Epoch 153/200\n",
      "5016/5016 - 32s - loss: 9.2214e-05 - val_loss: 4.8764e-04\n",
      "Epoch 154/200\n",
      "5016/5016 - 31s - loss: 9.2409e-05 - val_loss: 2.0028e-04\n",
      "Epoch 155/200\n",
      "5016/5016 - 31s - loss: 9.1629e-05 - val_loss: 1.6116e-04\n",
      "Epoch 156/200\n",
      "5016/5016 - 31s - loss: 8.6760e-05 - val_loss: 3.2481e-04\n",
      "Epoch 157/200\n",
      "5016/5016 - 31s - loss: 8.7631e-05 - val_loss: 1.3800e-04\n",
      "Epoch 158/200\n",
      "5016/5016 - 31s - loss: 9.0496e-05 - val_loss: 1.5397e-04\n",
      "Epoch 159/200\n",
      "5016/5016 - 32s - loss: 8.4816e-05 - val_loss: 1.2557e-04\n",
      "Epoch 160/200\n",
      "5016/5016 - 31s - loss: 8.5868e-05 - val_loss: 1.9900e-04\n",
      "Epoch 161/200\n",
      "5016/5016 - 33s - loss: 8.9065e-05 - val_loss: 1.2583e-04\n",
      "Epoch 162/200\n",
      "5016/5016 - 31s - loss: 8.7217e-05 - val_loss: 1.5075e-04\n",
      "Epoch 163/200\n",
      "5016/5016 - 32s - loss: 8.2568e-05 - val_loss: 1.4888e-04\n",
      "Epoch 164/200\n",
      "5016/5016 - 31s - loss: 9.0741e-05 - val_loss: 3.3370e-04\n",
      "Epoch 165/200\n",
      "5016/5016 - 32s - loss: 8.4976e-05 - val_loss: 1.8432e-04\n",
      "Epoch 166/200\n",
      "5016/5016 - 31s - loss: 8.2145e-05 - val_loss: 1.5145e-04\n",
      "Epoch 167/200\n",
      "5016/5016 - 32s - loss: 8.3994e-05 - val_loss: 1.3775e-04\n",
      "Epoch 168/200\n",
      "5016/5016 - 31s - loss: 8.2799e-05 - val_loss: 1.5628e-04\n",
      "Epoch 169/200\n",
      "5016/5016 - 32s - loss: 8.1262e-05 - val_loss: 1.3367e-04\n",
      "Epoch 170/200\n",
      "5016/5016 - 32s - loss: 8.4751e-05 - val_loss: 1.5972e-04\n",
      "Epoch 171/200\n",
      "5016/5016 - 31s - loss: 8.2971e-05 - val_loss: 6.5650e-04\n",
      "Epoch 172/200\n",
      "5016/5016 - 32s - loss: 8.8912e-05 - val_loss: 1.5973e-04\n",
      "Epoch 173/200\n",
      "5016/5016 - 32s - loss: 8.0026e-05 - val_loss: 1.6135e-04\n",
      "Epoch 174/200\n",
      "5016/5016 - 31s - loss: 9.0100e-05 - val_loss: 1.5419e-04\n",
      "Epoch 175/200\n",
      "5016/5016 - 32s - loss: 8.9099e-05 - val_loss: 3.1762e-04\n",
      "Epoch 176/200\n",
      "5016/5016 - 31s - loss: 8.3052e-05 - val_loss: 1.9630e-04\n",
      "Epoch 177/200\n",
      "5016/5016 - 32s - loss: 8.4695e-05 - val_loss: 4.4023e-04\n",
      "Epoch 178/200\n",
      "5016/5016 - 31s - loss: 8.3938e-05 - val_loss: 1.9406e-04\n",
      "Epoch 179/200\n",
      "5016/5016 - 32s - loss: 8.4463e-05 - val_loss: 1.6657e-04\n",
      "Epoch 180/200\n",
      "5016/5016 - 31s - loss: 7.7726e-05 - val_loss: 1.5617e-04\n",
      "Epoch 181/200\n",
      "5016/5016 - 32s - loss: 9.3353e-05 - val_loss: 1.4458e-04\n",
      "Epoch 182/200\n",
      "5016/5016 - 31s - loss: 8.0676e-05 - val_loss: 1.3947e-04\n",
      "Epoch 183/200\n",
      "5016/5016 - 31s - loss: 8.3613e-05 - val_loss: 1.4928e-04\n",
      "Epoch 184/200\n",
      "5016/5016 - 31s - loss: 8.9988e-05 - val_loss: 1.4102e-04\n",
      "Epoch 185/200\n",
      "5016/5016 - 31s - loss: 7.9865e-05 - val_loss: 1.5217e-04\n",
      "Epoch 186/200\n",
      "5016/5016 - 31s - loss: 8.8815e-05 - val_loss: 1.5562e-04\n",
      "Epoch 187/200\n",
      "5016/5016 - 31s - loss: 8.2290e-05 - val_loss: 1.3842e-04\n",
      "Epoch 188/200\n",
      "5016/5016 - 31s - loss: 7.8563e-05 - val_loss: 1.5392e-04\n",
      "Epoch 189/200\n",
      "5016/5016 - 32s - loss: 8.3510e-05 - val_loss: 2.8380e-04\n",
      "Epoch 190/200\n",
      "5016/5016 - 32s - loss: 8.0146e-05 - val_loss: 1.4706e-04\n",
      "Epoch 191/200\n",
      "5016/5016 - 32s - loss: 8.0735e-05 - val_loss: 3.5065e-04\n",
      "Epoch 192/200\n",
      "5016/5016 - 31s - loss: 8.3967e-05 - val_loss: 1.3156e-04\n",
      "Epoch 193/200\n",
      "5016/5016 - 31s - loss: 8.3727e-05 - val_loss: 1.8608e-04\n",
      "Epoch 194/200\n",
      "5016/5016 - 31s - loss: 8.0076e-05 - val_loss: 1.4933e-04\n",
      "Epoch 195/200\n",
      "5016/5016 - 32s - loss: 8.1412e-05 - val_loss: 1.8463e-04\n",
      "Epoch 196/200\n",
      "5016/5016 - 31s - loss: 7.6426e-05 - val_loss: 1.6575e-04\n",
      "Epoch 197/200\n",
      "5016/5016 - 32s - loss: 8.2746e-05 - val_loss: 1.4189e-04\n",
      "Epoch 198/200\n",
      "5016/5016 - 31s - loss: 8.3946e-05 - val_loss: 1.8488e-04\n",
      "Epoch 199/200\n",
      "5016/5016 - 32s - loss: 7.5631e-05 - val_loss: 1.6878e-04\n",
      "Epoch 200/200\n",
      "5016/5016 - 30s - loss: 8.1961e-05 - val_loss: 1.5881e-04\n"
     ]
    }
   ],
   "source": [
    "# fit the autoencoder model to reconstruct input\n",
    "history = model.fit(X_train, X_train, epochs=200, batch_size=16, verbose=2, validation_data=(X_test,X_test))"
   ]
  },
  {
   "cell_type": "code",
   "execution_count": 26,
   "metadata": {
    "colab": {
     "base_uri": "https://localhost:8080/",
     "height": 276
    },
    "id": "yMisfNh9q-pl",
    "outputId": "94f67519-852f-4a04-b849-13986b6f87f9"
   },
   "outputs": [
    {
     "data": {
      "image/png": "[encoded data removed]",
      "text/plain": [
       "<Figure size 432x288 with 1 Axes>"
      ]
     },
     "metadata": {
      "needs_background": "light"
     },
     "output_type": "display_data"
    }
   ],
   "source": [
    "#After training, we can plot the learning curves for the train and test sets to confirm the model learned the \n",
    "#reconstruction problem well\n",
    "\n",
    "pyplot.plot(history.history['loss'], label='train')\n",
    "pyplot.plot(history.history['val_loss'], label='test')\n",
    "pyplot.legend()\n",
    "pyplot.show()"
   ]
  },
  {
   "cell_type": "code",
   "execution_count": 27,
   "metadata": {
    "id": "OFxCHxJgrBcy"
   },
   "outputs": [],
   "source": [
    "# define an encoder model (without the decoder)\n",
    "encoder = Model(inputs=visible, outputs=bottleneck)\n",
    "plot_model(encoder, 'encoder_no_compress.png', show_shapes=True)\n",
    "\n",
    "# save the encoder to file\n",
    "encoder.save('encoder.h5')"
   ]
  },
  {
   "cell_type": "code",
   "execution_count": 28,
   "metadata": {
    "colab": {
     "base_uri": "https://localhost:8080/"
    },
    "id": "JdoTpBcYrEVA",
    "outputId": "97345209-2a68-4f09-8441-3fdd957e0e55"
   },
   "outputs": [
    {
     "name": "stdout",
     "output_type": "stream",
     "text": [
      "WARNING:tensorflow:No training configuration found in the save file, so the model was *not* compiled. Compile it manually.\n"
     ]
    }
   ],
   "source": [
    "# load the model from file\n",
    "encoder = load_model('encoder.h5')"
   ]
  },
  {
   "cell_type": "code",
   "execution_count": 29,
   "metadata": {
    "id": "NwqfoIdXrIs6"
   },
   "outputs": [],
   "source": [
    "# encode the train data\n",
    "X_train_encode = encoder.predict(X_train)\n",
    "# encode the test data\n",
    "X_test_encode = encoder.predict(X_test)"
   ]
  },
  {
   "cell_type": "code",
   "execution_count": 30,
   "metadata": {},
   "outputs": [
    {
     "data": {
      "image/png": "[encoded data removed]",
      "text/plain": [
       "<Figure size 432x288 with 1 Axes>"
      ]
     },
     "metadata": {
      "needs_background": "light"
     },
     "output_type": "display_data"
    }
   ],
   "source": [
    "from imblearn.over_sampling import ADASYN\n",
    "oversample = ADASYN()\n",
    "x_train_res, y_train_res = oversample.fit_resample(X_train_encode, y_train)\n",
    "sns.countplot(x=y_train_res, palette='seismic');"
   ]
  },
  {
   "cell_type": "code",
   "execution_count": 31,
   "metadata": {
    "id": "gblo-9TyoqoQ"
   },
   "outputs": [],
   "source": [
    "#Import Random Forest Model\n",
    "from sklearn.ensemble import RandomForestClassifier\n",
    "from xgboost import XGBClassifier\n",
    "from sklearn.tree import DecisionTreeClassifier \n",
    "from sklearn import svm\n",
    "from sklearn.svm import LinearSVC\n",
    "from sklearn.model_selection import train_test_split, GridSearchCV\n",
    "from sklearn.metrics import precision_score, recall_score, f1_score, confusion_matrix, accuracy_score, classification_report\n",
    "from sklearn.metrics import roc_curve, auc\n",
    "from sklearn.metrics import roc_auc_score\n",
    "import matplotlib.pyplot as plt\n"
   ]
  },
  {
   "cell_type": "code",
   "execution_count": 32,
   "metadata": {
    "id": "V_Vgdbr-oqoR"
   },
   "outputs": [],
   "source": [
    "def plot_roc_curve(model, yTest, yPred):\n",
    "    fpr, tpr, thresholds = roc_curve(yTest, yPred)\n",
    "    roc_auc = auc(fpr, tpr)\n",
    "    lw = 2\n",
    "    #print('AUC area:', roc_auc)\n",
    "    Model_accuracy[model] = roc_auc_score(yTest,yPred)\n",
    "    print('AUC roc_auc_score:', roc_auc_score(yTest,yPred))\n",
    "    plt.plot([0,1],[0,1],'k--')\n",
    "    #plt.plot(fpr,tpr, label='ROC curve (area = %0.2f)' % roc_auc)\n",
    "    plt.plot(fpr, tpr, color='darkorange',\n",
    "         lw=lw, label='ROC curve (area = %0.2f)' % roc_auc)\n",
    "    plt.xlabel('fpr')\n",
    "    plt.ylabel('tpr')\n",
    "    plt.title(model)\n",
    "    plt.show()\n",
    "\n",
    "def getModelReport(modelName, yTest, yPredict) :\n",
    "    accuracy = accuracy_score(yTest, yPredict)\n",
    "    precision = precision_score(yTest, yPredict)\n",
    "    recall = recall_score(yTest, yPredict)\n",
    "    f1 = f1_score(yTest, yPredict)\n",
    "    conf_matrix = confusion_matrix(yTest, yPredict)\n",
    "    clf_report = classification_report(yTest, yPredict)\n",
    "\n",
    "    print('\\n\\n*************************************************************************************')\n",
    "    print('FOR {0}:'.format(modelName))\n",
    "    print('ACCURACY:', accuracy)\n",
    "    print('F1 SCORE:', f1)\n",
    "    print('CONFUSION MATRIX: ')\n",
    "    print(conf_matrix)\n",
    "    print('CLASSIFICATION REPORT: ')\n",
    "    print(clf_report)\n",
    "    print('****************************************************************************************')\n"
   ]
  },
  {
   "cell_type": "code",
   "execution_count": 33,
   "metadata": {
    "id": "lXqASjM8oqoT"
   },
   "outputs": [],
   "source": [
    " \n",
    "def write_predictions_to_csv(dataToWrite, file):\n",
    "    fullAttrList = dataToWrite.keys()\n",
    "    dfToWrite = pd.DataFrame( columns = fullAttrList)\n",
    "    for key,val in dataToWrite.items():\n",
    "        dfToWrite[key] = val\n",
    "    dfToWrite.to_csv(file, index=False)    "
   ]
  },
  {
   "cell_type": "code",
   "execution_count": 34,
   "metadata": {
    "id": "SY_JmhQfoqoV"
   },
   "outputs": [],
   "source": [
    "SKLearn_Model_Data = {}\n",
    "Model_accuracy = {}"
   ]
  },
  {
   "cell_type": "code",
   "execution_count": 35,
   "metadata": {
    "colab": {
     "base_uri": "https://localhost:8080/"
    },
    "id": "2TNm8gIroqoe",
    "outputId": "19679e94-8752-4350-986e-19c6766258f0"
   },
   "outputs": [
    {
     "name": "stdout",
     "output_type": "stream",
     "text": [
      "(109464, 63)\n",
      "(20063, 63)\n",
      "(109464,)\n",
      "(20063,)\n"
     ]
    }
   ],
   "source": [
    "print (x_train_res.shape)\n",
    "print (X_test_encode.shape)\n",
    "print (y_train_res.shape)\n",
    "print (y_test.shape)"
   ]
  },
  {
   "cell_type": "code",
   "execution_count": 36,
   "metadata": {},
   "outputs": [],
   "source": [
    "def classification_report_csv(algo_name,y_test, y_predicted):\n",
    "    #df_header = header_line_csv(algo_name)\n",
    "    report = classification_report(y_test, y_predicted, output_dict=True,target_names=['Consumer Not Disputed', 'Consumer Disputed'])\n",
    "    df = pd.DataFrame(report).transpose()\n",
    "    df.insert(loc=0, column='Algorithm Name', value=algo_name)\n",
    "    return df"
   ]
  },
  {
   "cell_type": "code",
   "execution_count": 37,
   "metadata": {
    "colab": {
     "base_uri": "https://localhost:8080/",
     "height": 474
    },
    "id": "b5WzMhwWoqof",
    "outputId": "0c12dd09-6193-4e4b-c062-51706bf3ec20"
   },
   "outputs": [
    {
     "name": "stdout",
     "output_type": "stream",
     "text": [
      "Training Accuracy:  0.5767466929766863\n",
      "Testing Accuarcy:  0.4938942331655286\n",
      "              precision    recall  f1-score   support\n",
      "\n",
      "           0       0.74      0.42      0.54     13927\n",
      "           1       0.33      0.66      0.44      6136\n",
      "\n",
      "    accuracy                           0.49     20063\n",
      "   macro avg       0.53      0.54      0.49     20063\n",
      "weighted avg       0.61      0.49      0.51     20063\n",
      "\n"
     ]
    },
    {
     "data": {
      "image/png": "[encoded data removed]",
      "text/plain": [
       "<Figure size 360x360 with 2 Axes>"
      ]
     },
     "metadata": {
      "needs_background": "light"
     },
     "output_type": "display_data"
    }
   ],
   "source": [
    "# Random Forest Classifier\n",
    "\n",
    "from imblearn.ensemble import BalancedRandomForestClassifier \n",
    "from sklearn.metrics import classification_report\n",
    "from sklearn.metrics import confusion_matrix\n",
    "                 \n",
    "df_final = pd.DataFrame()\n",
    "\n",
    "model = BalancedRandomForestClassifier(n_estimators = 100, random_state = 0)\n",
    "model.fit(x_train_res, y_train_res)\n",
    "y_pred_rf = model.predict(X_test_encode)\n",
    "\n",
    "print(\"Training Accuracy: \", model.score(x_train_res, y_train_res))\n",
    "print('Testing Accuarcy: ', model.score(X_test_encode, y_test))\n",
    "\n",
    "# making a classification report\n",
    "cr = classification_report(y_test,  y_pred_rf)\n",
    "print(cr)\n",
    "\n",
    "# making a confusion matrix\n",
    "plt.rcParams['figure.figsize'] = (5, 5)\n",
    "cm = confusion_matrix(y_test, y_pred_rf)\n",
    "sns.heatmap(cm, annot = True, cmap = 'spring')\n",
    "plt.xticks([0,1],labels=[1,0])\n",
    "plt.yticks([-0.5,2.0],labels=[1,0])\n",
    "plt.show()\n",
    "\n",
    "df = classification_report_csv(\"BalancedRandomForestClassifier\",y_test,  y_pred_rf)\n",
    "df_final= pd.concat([df_final,df])"
   ]
  },
  {
   "cell_type": "code",
   "execution_count": 38,
   "metadata": {},
   "outputs": [
    {
     "name": "stdout",
     "output_type": "stream",
     "text": [
      "AUC roc_auc_score: 0.5390444051769663\n"
     ]
    },
    {
     "data": {
      "image/png": "[encoded data removed]",
      "text/plain": [
       "<Figure size 360x360 with 1 Axes>"
      ]
     },
     "metadata": {
      "needs_background": "light"
     },
     "output_type": "display_data"
    }
   ],
   "source": [
    "plot_roc_curve(\"BalancedRandomForestClassifier \",y_test,  y_pred_rf)"
   ]
  },
  {
   "cell_type": "code",
   "execution_count": 39,
   "metadata": {
    "id": "ZAMkUKVNoqoh"
   },
   "outputs": [
    {
     "name": "stdout",
     "output_type": "stream",
     "text": [
      "Training Accuracy:  0.574855660308412\n",
      "Testing Accuarcy:  0.49663559786671985\n",
      "              precision    recall  f1-score   support\n",
      "\n",
      "           0       0.73      0.43      0.54     13927\n",
      "           1       0.33      0.65      0.44      6136\n",
      "\n",
      "    accuracy                           0.50     20063\n",
      "   macro avg       0.53      0.54      0.49     20063\n",
      "weighted avg       0.61      0.50      0.51     20063\n",
      "\n"
     ]
    },
    {
     "data": {
      "image/png": "[encoded data removed]",
      "text/plain": [
       "<Figure size 360x360 with 2 Axes>"
      ]
     },
     "metadata": {
      "needs_background": "light"
     },
     "output_type": "display_data"
    }
   ],
   "source": [
    "# Random Forest with Bagging Classifier\n",
    "\n",
    "from imblearn.ensemble import BalancedBaggingClassifier \n",
    "from sklearn.metrics import classification_report\n",
    "from sklearn.metrics import confusion_matrix\n",
    "from sklearn.ensemble import RandomForestClassifier\n",
    "                 \n",
    "\n",
    "model2 = BalancedBaggingClassifier(base_estimator = RandomForestClassifier(),\n",
    "                                 sampling_strategy = 'auto',\n",
    "                                 replacement = False,\n",
    "                                 random_state = 0)\n",
    "\n",
    "model2.fit(x_train_res, y_train_res)\n",
    "\n",
    "\n",
    "print(\"Training Accuracy: \", model2.score(x_train_res, y_train_res))\n",
    "\n",
    "print('Testing Accuarcy: ', model2.score(X_test_encode, y_test))\n",
    "\n",
    "y_pred_bc = model2.predict(X_test_encode)\n",
    "# making a classification report\n",
    "cr = classification_report(y_test,  y_pred_bc)\n",
    "print(cr)\n",
    "df = classification_report_csv(\"BalancedBaggingClassifier\",y_test,  y_pred_bc)\n",
    "df_final= pd.concat([df_final,df])\n",
    "# making a confusion matrix\n",
    "cm = confusion_matrix(y_test, y_pred_bc)\n",
    "sns.heatmap(cm, annot = True, cmap = 'Purples')\n",
    "plt.xticks([0,1],labels=[1,0])\n",
    "plt.yticks([-0.5,2.0],labels=[1,0])\n",
    "plt.show()\n"
   ]
  },
  {
   "cell_type": "code",
   "execution_count": 40,
   "metadata": {},
   "outputs": [
    {
     "name": "stdout",
     "output_type": "stream",
     "text": [
      "AUC roc_auc_score: 0.5389220850216472\n"
     ]
    },
    {
     "data": {
      "image/png": "[encoded data removed]",
      "text/plain": [
       "<Figure size 360x360 with 1 Axes>"
      ]
     },
     "metadata": {
      "needs_background": "light"
     },
     "output_type": "display_data"
    }
   ],
   "source": [
    "plot_roc_curve(\"BalancedBaggingClassifier\",y_test,  y_pred_bc)"
   ]
  },
  {
   "cell_type": "code",
   "execution_count": 41,
   "metadata": {
    "id": "j4LNOnOqoqok"
   },
   "outputs": [
    {
     "name": "stdout",
     "output_type": "stream",
     "text": [
      "Training Accuracy:  0.551624278301542\n",
      "Testing Accuarcy:  0.5241489308677665\n",
      "              precision    recall  f1-score   support\n",
      "\n",
      "           0       0.73      0.50      0.59     13927\n",
      "           1       0.34      0.59      0.43      6136\n",
      "\n",
      "    accuracy                           0.52     20063\n",
      "   macro avg       0.54      0.54      0.51     20063\n",
      "weighted avg       0.61      0.52      0.54     20063\n",
      "\n"
     ]
    },
    {
     "data": {
      "image/png": "[encoded data removed]",
      "text/plain": [
       "<Figure size 360x360 with 2 Axes>"
      ]
     },
     "metadata": {
      "needs_background": "light"
     },
     "output_type": "display_data"
    }
   ],
   "source": [
    "# Easy Ensemble Classifier\n",
    "\n",
    "from imblearn.ensemble import EasyEnsembleClassifier \n",
    "from sklearn.metrics import classification_report\n",
    "from sklearn.metrics import confusion_matrix\n",
    "                 \n",
    "\n",
    "model1 = EasyEnsembleClassifier(n_estimators = 100, random_state = 0)\n",
    "\n",
    "model1.fit(x_train_res, y_train_res)\n",
    "y_pred_ef = model1.predict(X_test_encode)\n",
    "\n",
    "print(\"Training Accuracy: \", model1.score(x_train_res, y_train_res))\n",
    "print('Testing Accuarcy: ', model1.score(X_test_encode, y_test))\n",
    "\n",
    "# making a classification report\n",
    "cr = classification_report(y_test,  y_pred_ef)\n",
    "print(cr)\n",
    "df = classification_report_csv(\"EasyEnsembleClassifier\",y_test,  y_pred_ef)\n",
    "df_final= pd.concat([df_final,df])\n",
    "\n",
    "# making a confusion matrix\n",
    "cm = confusion_matrix(y_test, y_pred_ef)\n",
    "sns.heatmap(cm, annot = True, cmap = 'copper')\n",
    "plt.xticks([0,1],labels=[1,0])\n",
    "plt.yticks([-0.5,2.0],labels=[1,0])\n",
    "plt.show()"
   ]
  },
  {
   "cell_type": "code",
   "execution_count": 42,
   "metadata": {},
   "outputs": [
    {
     "name": "stdout",
     "output_type": "stream",
     "text": [
      "AUC roc_auc_score: 0.5421012447190412\n"
     ]
    },
    {
     "data": {
      "image/png": "[encoded data removed]",
      "text/plain": [
       "<Figure size 360x360 with 1 Axes>"
      ]
     },
     "metadata": {
      "needs_background": "light"
     },
     "output_type": "display_data"
    }
   ],
   "source": [
    "plot_roc_curve(\"EasyEnsembleClassifier \",y_test,  y_pred_ef)"
   ]
  },
  {
   "cell_type": "code",
   "execution_count": 43,
   "metadata": {
    "id": "sUr1Fm4Hoqom"
   },
   "outputs": [
    {
     "name": "stdout",
     "output_type": "stream",
     "text": [
      "(20063,)\n",
      "(20063,)\n",
      "              precision    recall  f1-score   support\n",
      "\n",
      "           0       0.73      0.43      0.54     13927\n",
      "           1       0.33      0.65      0.44      6136\n",
      "\n",
      "    accuracy                           0.50     20063\n",
      "   macro avg       0.53      0.54      0.49     20063\n",
      "weighted avg       0.61      0.50      0.51     20063\n",
      "\n"
     ]
    },
    {
     "data": {
      "image/png": "[encoded data removed]",
      "text/plain": [
       "<Figure size 360x360 with 2 Axes>"
      ]
     },
     "metadata": {
      "needs_background": "light"
     },
     "output_type": "display_data"
    }
   ],
   "source": [
    "# boosting\n",
    "\n",
    "y_pred = y_pred_rf*0.5 + y_pred_ef*0.2 + y_pred_bc*0.3\n",
    "\n",
    "y_pred[y_pred > 0.5] = 1\n",
    "y_pred[y_pred <= 0.5] = 0\n",
    "\n",
    "# making a classification report\n",
    "print (y_test.shape)\n",
    "print (y_pred.shape)\n",
    "cr = classification_report(y_test,  y_pred)\n",
    "print(cr)\n",
    "df = classification_report_csv(\"Boosting\",y_test,  y_pred)\n",
    "df_final= pd.concat([df_final,df])\n",
    "# making a confusion matrix\n",
    "cm = confusion_matrix(y_test, y_pred)\n",
    "sns.heatmap(cm, annot = True, cmap = 'Reds')\n",
    "plt.xticks([0,1],labels=[1,0])\n",
    "plt.yticks([-0.5,2.0],labels=[1,0])\n",
    "plt.show()"
   ]
  },
  {
   "cell_type": "code",
   "execution_count": 44,
   "metadata": {},
   "outputs": [
    {
     "name": "stdout",
     "output_type": "stream",
     "text": [
      "AUC roc_auc_score: 0.5386622790244794\n"
     ]
    },
    {
     "data": {
      "image/png": "[encoded data removed]",
      "text/plain": [
       "<Figure size 360x360 with 1 Axes>"
      ]
     },
     "metadata": {
      "needs_background": "light"
     },
     "output_type": "display_data"
    }
   ],
   "source": [
    "plot_roc_curve(\"Boosting \",y_test,y_pred)"
   ]
  },
  {
   "cell_type": "code",
   "execution_count": 45,
   "metadata": {},
   "outputs": [
    {
     "name": "stdout",
     "output_type": "stream",
     "text": [
      "(20063,)\n",
      "(20063,)\n"
     ]
    }
   ],
   "source": [
    "print (y_test.shape)\n",
    "print (y_pred.shape)"
   ]
  },
  {
   "cell_type": "markdown",
   "metadata": {
    "id": "DrzCNq6aoqop"
   },
   "source": [
    "# Voting Classifier\n",
    "Voting is one of the simplest way of combining the predictions from multiple machine learning algorithms. Voting classifier isn’t an actual classifier but a wrapper for set of different ones that are trained and valuated in parallel in order to exploit the different peculiarities of each algorithm.\n",
    "\n",
    "Hard voting : The simplest case of majority voting. In this case, the class that received the highest number of votes Nc​(y​​t) will be chosen. Here we predict the class label y^ via majority voting of each classifier.\n",
    "\n",
    "Soft voting : In this case, the probability vector for each predicted class (for all classifiers) are summed up &averaged. The winning class is the one corresponding to the highest value (only recommended if the classifiers are well calibrated).\n"
   ]
  },
  {
   "cell_type": "code",
   "execution_count": 46,
   "metadata": {
    "id": "0ycOHA4Eoqoq",
    "outputId": "a546d572-15cd-4832-9639-b2858d9370b9"
   },
   "outputs": [],
   "source": [
    "from sklearn.ensemble import VotingClassifier\n",
    "from imblearn.ensemble import BalancedBaggingClassifier \n",
    "from sklearn.metrics import classification_report\n",
    "from sklearn.metrics import confusion_matrix\n",
    "from sklearn.ensemble import RandomForestClassifier\n",
    "from imblearn.ensemble import BalancedRandomForestClassifier \n",
    "from imblearn.ensemble import EasyEnsembleClassifier \n",
    "\n",
    "vote_est = [ \n",
    "    ('brf', BalancedRandomForestClassifier()),\n",
    "    ('bc', BalancedBaggingClassifier()),\n",
    "    ('eec',EasyEnsembleClassifier())]\n",
    "\n",
    "voting = VotingClassifier(estimators = vote_est , voting = 'soft')\n",
    "\n",
    "\n",
    "voting.fit(x_train_res, y_train_res)\n",
    "\n",
    "y_pred = voting.predict(X_test_encode).astype(int)\n",
    "\n"
   ]
  },
  {
   "cell_type": "code",
   "execution_count": 47,
   "metadata": {},
   "outputs": [
    {
     "name": "stdout",
     "output_type": "stream",
     "text": [
      "              precision    recall  f1-score   support\n",
      "\n",
      "           0       0.73      0.43      0.54     13927\n",
      "           1       0.33      0.65      0.44      6136\n",
      "\n",
      "    accuracy                           0.50     20063\n",
      "   macro avg       0.53      0.54      0.49     20063\n",
      "weighted avg       0.61      0.50      0.51     20063\n",
      "\n"
     ]
    },
    {
     "data": {
      "image/png": "[encoded data removed]",
      "text/plain": [
       "<Figure size 360x360 with 2 Axes>"
      ]
     },
     "metadata": {
      "needs_background": "light"
     },
     "output_type": "display_data"
    }
   ],
   "source": [
    "import matplotlib.pyplot as plt\n",
    "# making a classification report\n",
    "cr = classification_report(y_test,y_pred)\n",
    "print(cr)\n",
    "df = classification_report_csv(\"VotingClassifier\",y_test,y_pred)\n",
    "df_final= pd.concat([df_final,df])\n",
    "\n",
    "# making a confusion matrix\n",
    "cm = confusion_matrix(y_test, y_pred)\n",
    "sns.heatmap(cm, annot = True, cmap = 'magma')\n",
    "plt.xticks([0,1],labels=[1,0])\n",
    "plt.yticks([-0.5,2.0],labels=[1,0])\n",
    "plt.show()"
   ]
  },
  {
   "cell_type": "code",
   "execution_count": 48,
   "metadata": {},
   "outputs": [
    {
     "name": "stdout",
     "output_type": "stream",
     "text": [
      "AUC roc_auc_score: 0.5384468701065501\n"
     ]
    },
    {
     "data": {
      "image/png": "[encoded data removed]",
      "text/plain": [
       "<Figure size 360x360 with 1 Axes>"
      ]
     },
     "metadata": {
      "needs_background": "light"
     },
     "output_type": "display_data"
    }
   ],
   "source": [
    "plot_roc_curve(\"VotingClassifier \",y_test,y_pred)"
   ]
  },
  {
   "cell_type": "code",
   "execution_count": 49,
   "metadata": {},
   "outputs": [],
   "source": [
    "# Create a Pandas Excel writer using XlsxWriter as the engine.\n",
    "writer = pd.ExcelWriter(\"AutoEncoder_Ensemble_Output.xlsx\", engine='xlsxwriter')\n",
    "\n",
    "# Convert the dataframe to an XlsxWriter Excel object.\n",
    "df_final.to_excel(writer, sheet_name=\"AutoEncoder_Ensemble_Output\")\n",
    "\n",
    "# Close the Pandas Excel writer and output the Excel file.\n",
    "writer.save()"
   ]
  },
  {
   "cell_type": "code",
   "execution_count": null,
   "metadata": {},
   "outputs": [],
   "source": []
  }
 ],
 "metadata": {
  "accelerator": "GPU",
  "colab": {
   "name": "GR20_Step_9_Ensemble_ML_Algorithms_V1.0_With_AutoEncoders.ipynb",
   "provenance": []
  },
  "kernelspec": {
   "display_name": "Python 3",
   "language": "python",
   "name": "python3"
  },
  "language_info": {
   "codemirror_mode": {
    "name": "ipython",
    "version": 3
   },
   "file_extension": ".py",
   "mimetype": "text/x-python",
   "name": "python",
   "nbconvert_exporter": "python",
   "pygments_lexer": "ipython3",
   "version": "3.7.4"
  }
 },
 "nbformat": 4,
 "nbformat_minor": 1
}
